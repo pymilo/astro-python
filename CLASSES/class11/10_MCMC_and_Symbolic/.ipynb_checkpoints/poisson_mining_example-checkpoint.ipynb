{
 "cells": [
  {
   "cell_type": "markdown",
   "metadata": {},
   "source": [
    "# Bayesian Inference for the Mining Disaster Data Set\n",
    "\n",
    "A model for annual coal mining disaster rates with a changepoint $\\tau$:\n",
    "\n",
    "$$D_t \\sim \\text{Poisson}\\left(\\begin{cases}\n",
    "\\mu_1 & t \\leq \\tau \\\\\n",
    "\\mu_2 & t > \\tau\n",
    "\\end{cases}\n",
    "\\right)$$"
   ]
  },
  {
   "cell_type": "code",
   "execution_count": null,
   "metadata": {
    "collapsed": false
   },
   "outputs": [],
   "source": [
    "import pymc3 as pm\n",
    "import numpy as np\n",
    "import matplotlib.pyplot as plt\n",
    "%matplotlib inline\n",
    "import seaborn as sns"
   ]
  },
  {
   "cell_type": "code",
   "execution_count": null,
   "metadata": {
    "collapsed": false
   },
   "outputs": [],
   "source": [
    "# Disasters/year from 1850-1960\n",
    "disasters = np.array([4, 5, 4, 0, 1, 4, 3, 4, 0, 6, 3, 3, 4, 0, 2, 6, 3, 3, 5,\n",
    "                      4, 5, 3, 1, 4, 4, 1, 5, 5, 3, 4, 2, 5, 2, 2, 3, 4, 2, 1,\n",
    "                      3, 2, 2, 1, 1, 1, 1, 3, 0, 0, 1, 0, 1, 1, 0, 0, 3, 1, 0,\n",
    "                      3, 2, 2, 0, 1, 1, 1, 0, 1, 0, 1, 0, 0, 0, 2, 1, 0, 0, 0,\n",
    "                      1, 1, 0, 2, 3, 3, 1, 1, 2, 1, 1, 1, 1, 2, 4, 2, 0, 0, 1,\n",
    "                      4, 0, 0, 0, 1, 0, 0, 0, 0, 0, 1, 0, 0, 1, 0, 1])\n",
    "N = len(disasters)\n",
    "t = np.arange(1850, 1850 + N)\n",
    "# Generate random test data for comparison\n",
    "#disasters = np.random.poisson(size=N, lam=2.)\n",
    "plt.plot(t, disasters);"
   ]
  },
  {
   "cell_type": "code",
   "execution_count": null,
   "metadata": {
    "collapsed": false
   },
   "outputs": [],
   "source": [
    "with pm.Model() as model:\n",
    "    # Specify priors for tau, mu_1, mu_2\n",
    "    tau = ...\n",
    "    mu = ...\n",
    "\n",
    "    # Poisson likelihood function for observed data\n",
    "    # pm.math.switch\n",
    "    mu_1_or_2 = ...\n",
    "    D = ..."
   ]
  },
  {
   "cell_type": "code",
   "execution_count": null,
   "metadata": {
    "collapsed": false
   },
   "outputs": [],
   "source": [
    "with model:\n",
    "    ..."
   ]
  },
  {
   "cell_type": "markdown",
   "metadata": {},
   "source": [
    "## Analyzing the posterior\n",
    "We can get an idea of the behavior of our Markov chain by viewing the trace of one of the variables:"
   ]
  },
  {
   "cell_type": "code",
   "execution_count": null,
   "metadata": {
    "collapsed": false
   },
   "outputs": [],
   "source": [
    "plt.plot(thinned['tau']);"
   ]
  },
  {
   "cell_type": "markdown",
   "metadata": {},
   "source": [
    "`pymc3` also has its own built-in plotting functionality which helps quickly visualize the distribution of the variables of interest:"
   ]
  },
  {
   "cell_type": "code",
   "execution_count": null,
   "metadata": {
    "collapsed": false
   },
   "outputs": [],
   "source": [
    "# Variable trace summary plots\n",
    "pm.plots.traceplot(..., figsize=(12, 4))\n",
    "plt.legend(['mu_1', 'mu_2'])\n",
    "\n",
    "pm.plots.traceplot(...)\n",
    "plt.legend(['tau']);"
   ]
  },
  {
   "cell_type": "code",
   "execution_count": null,
   "metadata": {
    "collapsed": false
   },
   "outputs": [],
   "source": [
    "# Detailed posterior distribution plots\n",
    "pm.plots.plot_posterior(...);\n",
    "pm.plots.plot_posterior(...);"
   ]
  },
  {
   "cell_type": "markdown",
   "metadata": {},
   "source": [
    "Autocorrelation plots give a rough idea of how close to i.i.d the samples from our posterior distribution are:"
   ]
  },
  {
   "cell_type": "code",
   "execution_count": null,
   "metadata": {
    "collapsed": false
   },
   "outputs": [],
   "source": [
    "pm.plots.autocorrplot(...);"
   ]
  },
  {
   "cell_type": "markdown",
   "metadata": {},
   "source": [
    "We can also make inferences about the values of other functions/transformations of the parameters:"
   ]
  },
  {
   "cell_type": "code",
   "execution_count": null,
   "metadata": {
    "collapsed": false
   },
   "outputs": [],
   "source": [
    "# Posterior distribution of change in mean (mu_2 - mu_1)\n",
    "change = ...\n",
    "ci = ...\n",
    "plt.hist(change);\n",
    "plt.title('Change in means: {:1.3f} (± {:1.3f})'.format(\n",
    "          np.mean(change), np.abs(np.percentile(change, 2.5) - np.percentile(change, 97.5)) / 2));"
   ]
  },
  {
   "cell_type": "code",
   "execution_count": null,
   "metadata": {
    "collapsed": false
   },
   "outputs": [],
   "source": [
    "# and we can also plot realizations of the model from the posterior!\n",
    "plt.figure(figsize=(12, 10))\n",
    "realizations = pm.sample_ppc(...)\n",
    "for D_i in realizations['D']:\n",
    "    plt.plot(t, D_i, '-o')"
   ]
  },
  {
   "cell_type": "markdown",
   "metadata": {},
   "source": [
    "## Convergence Diagnostics\n",
    "\n",
    "Several metrics of convergence are available in `pm.diagnostics`, e.g.:\n",
    "- Geweke score: compares mean of beginning of chain with mean of end\n",
    "- Gelman-Rubin: compare variance between chains to variance of single chain"
   ]
  },
  {
   "cell_type": "code",
   "execution_count": null,
   "metadata": {
    "collapsed": false
   },
   "outputs": [],
   "source": [
    "# Plot Geweke score for tau: should lie between -1 and 1\n",
    "plt.plot(pm.geweke(trace['tau'])[:, 1], 'o')\n",
    "plt.axhline(1, c='red')\n",
    "plt.axhline(-1, c='red')\n",
    "plt.gca().margins(0.05)"
   ]
  }
 ],
 "metadata": {
  "anaconda-cloud": {},
  "kernelspec": {
   "display_name": "Python [ay250]",
   "language": "python",
   "name": "Python [ay250]"
  },
  "language_info": {
   "codemirror_mode": {
    "name": "ipython",
    "version": 3
   },
   "file_extension": ".py",
   "mimetype": "text/x-python",
   "name": "python",
   "nbconvert_exporter": "python",
   "pygments_lexer": "ipython3",
   "version": "3.5.2"
  }
 },
 "nbformat": 4,
 "nbformat_minor": 0
}
