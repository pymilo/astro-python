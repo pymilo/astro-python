{
 "metadata": {
  "name": ""
 },
 "nbformat": 3,
 "nbformat_minor": 0,
 "worksheets": [
  {
   "cells": [
    {
     "cell_type": "heading",
     "level": 1,
     "metadata": {},
     "source": [
      "A brief introduction to SciPy"
     ]
    },
    {
     "cell_type": "markdown",
     "metadata": {},
     "source": [
      "Scipy is a collection of packages, these typically need to be imported separately:\n",
      "\n",
      "     cluster                      : Vector Quantization / Kmeans\n",
      "     fftpack                      : Discrete Fourier Transform algorithms\n",
      "     integrate                    : Integration routines\n",
      "     interpolate                  : Interpolation Tools\n",
      "     io                           : Data input and output\n",
      "     lib                          : Python wrappers to external libraries\n",
      "     lib.blas                     : Wrappers to BLAS library\n",
      "     lib.lapack                   : Wrappers to LAPACK library\n",
      "     linalg                       : Linear algebra routines\n",
      "     misc                         : Various utilities that don't have another home.\n",
      "     ndimage                      : n-dimensional image package\n",
      "     odr                          : Orthogonal Distance Regression\n",
      "     optimize                     : Optimization Tools\n",
      "     signal                       : Signal Processing Tools\n",
      "     sparse                       : Sparse Matrices\n",
      "     sparse.linalg                : Sparse Linear Algebra\n",
      "     sparse.linalg.dsolve         : Linear Solvers\n",
      "     sparse.linalg.dsolve.umfpack : :Interface to the UMFPACK library:\n",
      "     sparse.linalg.eigen          : Sparse Eigenvalue Solvers\n",
      "     sparse.linalg.eigen.arpack   : Eigenvalue solver using iterative methods.\n",
      "     sparse.linalg.eigen.lobpcg   : Locally Optimal Block Preconditioned\n",
      "                                      Conjugate Gradient Method (LOBPCG)     \n",
      "     spatial                      : Spatial data structures and algorithms\n",
      "     special                      : Airy Functions\n",
      "     stats                        : Statistical Functions"
     ]
    },
    {
     "cell_type": "heading",
     "level": 2,
     "metadata": {},
     "source": [
      "Vectorizing for speed"
     ]
    },
    {
     "cell_type": "markdown",
     "metadata": {},
     "source": [
      "This is silly:"
     ]
    },
    {
     "cell_type": "code",
     "collapsed": false,
     "input": [
      "import numpy as np\n",
      "\n",
      "def dumb_myfun(a, b):\n",
      "    return np.array([a[i] if a[i] < b else 2*b for i in xrange(len(a))])"
     ],
     "language": "python",
     "metadata": {},
     "outputs": [],
     "prompt_number": 3
    },
    {
     "cell_type": "code",
     "collapsed": false,
     "input": [
      "x = np.arange(1.e6)/1.e6\n",
      "x"
     ],
     "language": "python",
     "metadata": {},
     "outputs": [
      {
       "metadata": {},
       "output_type": "pyout",
       "prompt_number": 4,
       "text": [
        "array([  0.00000000e+00,   1.00000000e-06,   2.00000000e-06, ...,\n",
        "         9.99997000e-01,   9.99998000e-01,   9.99999000e-01])"
       ]
      }
     ],
     "prompt_number": 4
    },
    {
     "cell_type": "code",
     "collapsed": false,
     "input": [
      "%timeit dumb_myfun(x, 0.5)"
     ],
     "language": "python",
     "metadata": {},
     "outputs": [
      {
       "output_type": "stream",
       "stream": "stdout",
       "text": [
        "1 loops, best of 3: 3.02 s per loop\n"
       ]
      }
     ],
     "prompt_number": 5
    },
    {
     "cell_type": "markdown",
     "metadata": {},
     "source": [
      "We can use `scipy.vectorize`, which is similar to `map` but operates fast on numpy arrays:"
     ]
    },
    {
     "cell_type": "code",
     "collapsed": false,
     "input": [
      "import scipy as sp\n",
      "myfun = lambda a,b: a if a < b else 2*b\n",
      "vec_myfun = sp.vectorize(myfun)\n",
      "vec_myfun"
     ],
     "language": "python",
     "metadata": {},
     "outputs": [
      {
       "metadata": {},
       "output_type": "pyout",
       "prompt_number": 6,
       "text": [
        "<numpy.lib.function_base.vectorize at 0x36b6bd0>"
       ]
      }
     ],
     "prompt_number": 6
    },
    {
     "cell_type": "code",
     "collapsed": false,
     "input": [
      "%timeit vec_myfun(x, 0.5)"
     ],
     "language": "python",
     "metadata": {},
     "outputs": [
      {
       "output_type": "stream",
       "stream": "stdout",
       "text": [
        "1 loops, best of 3: 669 ms per loop\n"
       ]
      }
     ],
     "prompt_number": 7
    },
    {
     "cell_type": "markdown",
     "metadata": {},
     "source": [
      "Let's not forget `numexpr` we saw earlier:"
     ]
    },
    {
     "cell_type": "code",
     "collapsed": false,
     "input": [
      "import numexpr as ne\n",
      "b = 0.5\n",
      "%timeit ne.evaluate(\"where(x < %f, x, %f)\" % (b, b*2))"
     ],
     "language": "python",
     "metadata": {},
     "outputs": [
      {
       "output_type": "stream",
       "stream": "stdout",
       "text": [
        "100 loops, best of 3: 4.35 ms per loop\n"
       ]
      }
     ],
     "prompt_number": 8
    },
    {
     "cell_type": "heading",
     "level": 1,
     "metadata": {},
     "source": [
      "Scipy constants"
     ]
    },
    {
     "cell_type": "markdown",
     "metadata": {},
     "source": [
      "`scipy.constants` is a convenient compilation of the [2010 CODATA constants](http://www.codata.org)."
     ]
    },
    {
     "cell_type": "code",
     "collapsed": false,
     "input": [
      "from scipy import constants as cons\n",
      "print (cons.milli, cons.eV, cons.c)"
     ],
     "language": "python",
     "metadata": {},
     "outputs": [
      {
       "output_type": "stream",
       "stream": "stdout",
       "text": [
        "(0.001, 1.602176565e-19, 299792458.0)\n"
       ]
      }
     ],
     "prompt_number": 9
    },
    {
     "cell_type": "code",
     "collapsed": false,
     "input": [
      "cons.physical_constants"
     ],
     "language": "python",
     "metadata": {},
     "outputs": [
      {
       "metadata": {},
       "output_type": "pyout",
       "prompt_number": 10,
       "text": [
        "{'Angstrom star': (1.00001495e-10, 'm', 9e-17),\n",
        " 'Avogadro constant': (6.02214129e+23, 'mol^-1', 2.7e+16),\n",
        " 'Bohr magneton': (9.27400968e-24, 'J T^-1', 2e-31),\n",
        " 'Bohr magneton in Hz/T': (13996245550.0, 'Hz T^-1', 310.0),\n",
        " 'Bohr magneton in K/T': (0.67171388, 'K T^-1', 6.1e-07),\n",
        " 'Bohr magneton in eV/T': (5.7883818066e-05, 'eV T^-1', 3.8e-14),\n",
        " 'Bohr magneton in inverse meters per tesla': (46.6864498, 'm^-1 T^-1', 1e-06),\n",
        " 'Bohr radius': (5.2917721092e-11, 'm', 1.7e-20),\n",
        " 'Boltzmann constant': (1.3806488e-23, 'J K^-1', 1.3e-29),\n",
        " 'Boltzmann constant in Hz/K': (20836618000.0, 'Hz K^-1', 19000.0),\n",
        " 'Boltzmann constant in eV/K': (8.6173324e-05, 'eV K^-1', 7.8e-11),\n",
        " 'Boltzmann constant in inverse meters per kelvin': (69.503476,\n",
        "  'm^-1 K^-1',\n",
        "  6.3e-05),\n",
        " 'Compton wavelength': (2.4263102389e-12, 'm', 1.6e-21),\n",
        " 'Compton wavelength over 2 pi': (3.86159268e-13, 'm', 2.5e-22),\n",
        " 'Cu x unit': (1.00207697e-13, 'm', 2.8e-20),\n",
        " 'Faraday constant': (96485.3365, 'C mol^-1', 0.0021),\n",
        " 'Faraday constant for conventional electric current': (96485.3321,\n",
        "  'C_90 mol^-1',\n",
        "  0.0043),\n",
        " 'Fermi coupling constant': (1.166364e-05, 'GeV^-2', 5e-11),\n",
        " 'Hartree energy': (4.35974434e-18, 'J', 1.9e-25),\n",
        " 'Hartree energy in eV': (27.21138505, 'eV', 6e-07),\n",
        " 'Josephson constant': (483597870000000.0, 'Hz V^-1', 11000000.0),\n",
        " 'Loschmidt constant (273.15 K, 100 kPa)': (2.6516462e+25, 'm^-3', 2.4e+19),\n",
        " 'Loschmidt constant (273.15 K, 101.325 kPa)': (2.6867805e+25,\n",
        "  'm^-3',\n",
        "  2.4e+19),\n",
        " 'Mo x unit': (1.00209952e-13, 'm', 5.3e-20),\n",
        " 'Newtonian constant of gravitation': (6.67384e-11, 'm^3 kg^-1 s^-2', 8e-15),\n",
        " 'Newtonian constant of gravitation over h-bar c': (6.70837e-39,\n",
        "  '(GeV/c^2)^-2',\n",
        "  8e-43),\n",
        " 'Planck constant': (6.62606957e-34, 'J s', 2.9e-41),\n",
        " 'Planck constant in eV s': (4.135667516e-15, 'eV s', 9.1e-23),\n",
        " 'Planck constant over 2 pi': (1.054571726e-34, 'J s', 4.7e-42),\n",
        " 'Planck constant over 2 pi in eV s': (6.58211928e-16, 'eV s', 1.5e-23),\n",
        " 'Planck constant over 2 pi times c in MeV fm': (197.3269718,\n",
        "  'MeV fm',\n",
        "  4.4e-06),\n",
        " 'Planck length': (1.616199e-35, 'm', 9.7e-40),\n",
        " 'Planck mass': (2.17651e-08, 'kg', 1.3e-12),\n",
        " 'Planck mass energy equivalent in GeV': (1.220932e+19,\n",
        "  'GeV',\n",
        "  730000000000000.0),\n",
        " 'Planck temperature': (1.416833e+32, 'K', 8.5e+27),\n",
        " 'Planck time': (5.39106e-44, 's', 3.2e-48),\n",
        " 'Rydberg constant': (10973731.568539, 'm^-1', 5.5e-05),\n",
        " 'Rydberg constant times c in Hz': (3289841960364000.0, 'Hz', 17000.0),\n",
        " 'Rydberg constant times hc in J': (2.179872171e-18, 'J', 9.6e-26),\n",
        " 'Rydberg constant times hc in eV': (13.60569253, 'eV', 3e-07),\n",
        " 'Sackur-Tetrode constant (1 K, 100 kPa)': (-1.1517078, '', 2.3e-06),\n",
        " 'Sackur-Tetrode constant (1 K, 101.325 kPa)': (-1.1648708, '', 2.3e-06),\n",
        " 'Stefan-Boltzmann constant': (5.670373e-08, 'W m^-2 K^-4', 2.1e-13),\n",
        " 'Thomson cross section': (6.652458734e-29, 'm^2', 1.3e-37),\n",
        " 'Wien displacement law constant': (0.0028977685, 'm K', 5.1e-09),\n",
        " 'Wien frequency displacement law constant': (58789254000.0,\n",
        "  'Hz K^-1',\n",
        "  53000.0),\n",
        " 'Wien wavelength displacement law constant': (0.0028977721, 'm K', 2.6e-09),\n",
        " 'alpha particle mass': (6.64465675e-27, 'kg', 2.9e-34),\n",
        " 'alpha particle mass energy equivalent': (5.97191967e-10, 'J', 2.6e-17),\n",
        " 'alpha particle mass energy equivalent in MeV': (3727.37924, 'MeV', 8.2e-05),\n",
        " 'alpha particle mass in u': (4.001506179125, 'u', 6.2e-11),\n",
        " 'alpha particle molar mass': (0.004001506179125, 'kg mol^-1', 6.2e-14),\n",
        " 'alpha particle-electron mass ratio': (7294.2995361, '', 2.9e-06),\n",
        " 'alpha particle-proton mass ratio': (3.97259968933, '', 3.6e-10),\n",
        " 'atomic mass constant': (1.660538921e-27, 'kg', 7.3e-35),\n",
        " 'atomic mass constant energy equivalent': (1.492417954e-10, 'J', 6.6e-18),\n",
        " 'atomic mass constant energy equivalent in MeV': (931.494061, 'MeV', 2.1e-05),\n",
        " 'atomic mass unit-electron volt relationship': (931494061.0, 'eV', 21.0),\n",
        " 'atomic mass unit-hartree relationship': (34231776.845, 'E_h', 0.024),\n",
        " 'atomic mass unit-hertz relationship': (2.2523427168e+23,\n",
        "  'Hz',\n",
        "  160000000000000.0),\n",
        " 'atomic mass unit-inverse meter relationship': (751300660420000.0,\n",
        "  'm^-1',\n",
        "  530000.0),\n",
        " 'atomic mass unit-joule relationship': (1.492417954e-10, 'J', 6.6e-18),\n",
        " 'atomic mass unit-kelvin relationship': (10809540800000.0, 'K', 9800000.0),\n",
        " 'atomic mass unit-kilogram relationship': (1.660538921e-27, 'kg', 7.3e-35),\n",
        " 'atomic unit of 1st hyperpolarizability': (3.206361449e-53,\n",
        "  'C^3 m^3 J^-2',\n",
        "  7.1e-61),\n",
        " 'atomic unit of 1st hyperpolarizablity': (3.20636151e-53,\n",
        "  'C^3 m^3 J^-2',\n",
        "  2.8e-60),\n",
        " 'atomic unit of 2nd hyperpolarizability': (6.23538054e-65,\n",
        "  'C^4 m^4 J^-3',\n",
        "  2.8e-72),\n",
        " 'atomic unit of 2nd hyperpolarizablity': (6.2353808e-65,\n",
        "  'C^4 m^4 J^-3',\n",
        "  1.1e-71),\n",
        " 'atomic unit of action': (1.054571726e-34, 'J s', 4.7e-42),\n",
        " 'atomic unit of charge': (1.602176565e-19, 'C', 3.5e-27),\n",
        " 'atomic unit of charge density': (1081202338000.0, 'C m^-3', 24000.0),\n",
        " 'atomic unit of current': (0.00662361795, 'A', 1.5e-10),\n",
        " 'atomic unit of electric dipole mom.': (8.47835326e-30, 'C m', 1.9e-37),\n",
        " 'atomic unit of electric dipole moment': (8.47835309e-30, 'C m', 7.3e-37),\n",
        " 'atomic unit of electric field': (514220652000.0, 'V m^-1', 11000.0),\n",
        " 'atomic unit of electric field gradient': (9.717362e+21,\n",
        "  'V m^-2',\n",
        "  210000000000000.0),\n",
        " 'atomic unit of electric polarizability': (1.6487772754e-41,\n",
        "  'C^2 m^2 J^-1',\n",
        "  1.6e-50),\n",
        " 'atomic unit of electric polarizablity': (1.648777274e-41,\n",
        "  'C^2 m^2 J^-1',\n",
        "  1.6e-49),\n",
        " 'atomic unit of electric potential': (27.21138505, 'V', 6e-07),\n",
        " 'atomic unit of electric quadrupole mom.': (4.486551331e-40,\n",
        "  'C m^2',\n",
        "  9.9e-48),\n",
        " 'atomic unit of electric quadrupole moment': (4.48655124e-40,\n",
        "  'C m^2',\n",
        "  3.9e-47),\n",
        " 'atomic unit of energy': (4.35974434e-18, 'J', 1.9e-25),\n",
        " 'atomic unit of force': (8.23872278e-08, 'N', 3.6e-15),\n",
        " 'atomic unit of length': (5.2917721092e-11, 'm', 1.7e-20),\n",
        " 'atomic unit of mag. dipole mom.': (1.854801936e-23, 'J T^-1', 4.1e-31),\n",
        " 'atomic unit of mag. flux density': (235051.7464, 'T', 0.0052),\n",
        " 'atomic unit of magn. dipole moment': (1.8548019e-23, 'J T^-1', 1.6e-30),\n",
        " 'atomic unit of magn. flux density': (235051.7464, 'T', 0.0052),\n",
        " 'atomic unit of magnetizability': (7.891036607e-29, 'J T^-2', 1.3e-37),\n",
        " 'atomic unit of mass': (9.10938291e-31, 'kg', 4e-38),\n",
        " 'atomic unit of mom.um': (1.99285174e-24, 'kg m s^-1', 8.8e-32),\n",
        " 'atomic unit of momentum': (1.99285174e-24, 'kg m s^-1', 8.8e-32),\n",
        " 'atomic unit of permittivity': (1.1126500560536183e-10, 'F m^-1', 0.0),\n",
        " 'atomic unit of time': (2.418884326502e-17, 's', 1.2e-28),\n",
        " 'atomic unit of velocity': (2187691.26379, 'm s^-1', 0.00071),\n",
        " 'characteristic impedance of vacuum': (376.73031346177066, 'ohm', 0.0),\n",
        " 'classical electron radius': (2.8179403267e-15, 'm', 2.7e-24),\n",
        " 'conductance quantum': (7.7480917346e-05, 'S', 2.5e-14),\n",
        " 'conventional value of Josephson constant': (483597900000000.0,\n",
        "  'Hz V^-1',\n",
        "  0.0),\n",
        " 'conventional value of von Klitzing constant': (25812.807, 'ohm', 0.0),\n",
        " 'deuteron g factor': (0.8574382308, '', 7.2e-09),\n",
        " 'deuteron mag. mom.': (4.33073489e-27, 'J T^-1', 1e-34),\n",
        " 'deuteron mag. mom. to Bohr magneton ratio': (0.0004669754556, '', 3.9e-12),\n",
        " 'deuteron mag. mom. to nuclear magneton ratio': (0.8574382308, '', 7.2e-09),\n",
        " 'deuteron magn. moment': (4.33073482e-27, 'J T^-1', 3.8e-34),\n",
        " 'deuteron magn. moment to Bohr magneton ratio': (0.0004669754567, '', 5e-12),\n",
        " 'deuteron magn. moment to nuclear magneton ratio': (0.8574382329,\n",
        "  '',\n",
        "  9.2e-09),\n",
        " 'deuteron mass': (3.34358348e-27, 'kg', 1.5e-34),\n",
        " 'deuteron mass energy equivalent': (3.00506297e-10, 'J', 1.3e-17),\n",
        " 'deuteron mass energy equivalent in MeV': (1875.612859, 'MeV', 4.1e-05),\n",
        " 'deuteron mass in u': (2.013553212712, 'u', 7.7e-11),\n",
        " 'deuteron molar mass': (0.002013553212712, 'kg mol^-1', 7.7e-14),\n",
        " 'deuteron rms charge radius': (2.1424e-15, 'm', 2.1e-18),\n",
        " 'deuteron-electron mag. mom. ratio': (-0.0004664345537, '', 3.9e-12),\n",
        " 'deuteron-electron magn. moment ratio': (-0.0004664345548, '', 5e-12),\n",
        " 'deuteron-electron mass ratio': (3670.4829652, '', 1.5e-06),\n",
        " 'deuteron-neutron mag. mom. ratio': (-0.44820652, '', 1.1e-07),\n",
        " 'deuteron-neutron magn. moment ratio': (-0.44820652, '', 1.1e-07),\n",
        " 'deuteron-proton mag. mom. ratio': (0.307012207, '', 2.4e-09),\n",
        " 'deuteron-proton magn. moment ratio': (0.3070122084, '', 4.5e-09),\n",
        " 'deuteron-proton mass ratio': (1.99900750097, '', 1.8e-10),\n",
        " 'electric constant': (8.854187817620389e-12, 'F m^-1', 0.0),\n",
        " 'electron charge to mass quotient': (-175882008800.0, 'C kg^-1', 3900.0),\n",
        " 'electron g factor': (-2.00231930436153, '', 5.3e-13),\n",
        " 'electron gyromag. ratio': (176085970800.0, 's^-1 T^-1', 3900.0),\n",
        " 'electron gyromag. ratio over 2 pi': (28024.95266, 'MHz T^-1', 0.00062),\n",
        " 'electron gyromagn. ratio': (176085970800.0, 's^-1 T^-1', 3900.0),\n",
        " 'electron gyromagn. ratio over 2 pi': (28024.95266, 'MHz T^-1', 0.00062),\n",
        " 'electron mag. mom.': (-9.2847643e-24, 'J T^-1', 2.1e-31),\n",
        " 'electron mag. mom. anomaly': (0.00115965218076, '', 2.7e-13),\n",
        " 'electron mag. mom. to Bohr magneton ratio': (-1.00115965218076, '', 2.7e-13),\n",
        " 'electron mag. mom. to nuclear magneton ratio': (-1838.2819709, '', 7.5e-07),\n",
        " 'electron magn. moment': (-9.28476412e-24, 'J T^-1', 8e-31),\n",
        " 'electron magn. moment anomaly': (0.0011596521859, '', 3.8e-12),\n",
        " 'electron magn. moment to Bohr magneton ratio': (-1.0011596521859,\n",
        "  '',\n",
        "  3.8e-12),\n",
        " 'electron magn. moment to nuclear magneton ratio': (-1838.28197107,\n",
        "  '',\n",
        "  8.5e-07),\n",
        " 'electron mass': (9.10938291e-31, 'kg', 4e-38),\n",
        " 'electron mass energy equivalent': (8.18710506e-14, 'J', 3.6e-21),\n",
        " 'electron mass energy equivalent in MeV': (0.510998928, 'MeV', 1.1e-08),\n",
        " 'electron mass in u': (0.00054857990946, 'u', 2.2e-13),\n",
        " 'electron molar mass': (5.4857990946e-07, 'kg mol^-1', 2.2e-16),\n",
        " 'electron to alpha particle mass ratio': (0.000137093355578, '', 5.5e-14),\n",
        " 'electron to shielded helion mag. mom. ratio': (864.058257, '', 1e-05),\n",
        " 'electron to shielded helion magn. moment ratio': (864.058255, '', 1e-05),\n",
        " 'electron to shielded proton mag. mom. ratio': (-658.2275971, '', 7.2e-06),\n",
        " 'electron to shielded proton magn. moment ratio': (-658.2275956, '', 7.1e-06),\n",
        " 'electron volt': (1.602176565e-19, 'J', 3.5e-27),\n",
        " 'electron volt-atomic mass unit relationship': (1.07354415e-09, 'u', 2.4e-17),\n",
        " 'electron volt-hartree relationship': (0.03674932379, 'E_h', 8.1e-10),\n",
        " 'electron volt-hertz relationship': (241798934800000.0, 'Hz', 5300000.0),\n",
        " 'electron volt-inverse meter relationship': (806554.429, 'm^-1', 0.018),\n",
        " 'electron volt-joule relationship': (1.602176565e-19, 'J', 3.5e-27),\n",
        " 'electron volt-kelvin relationship': (11604.519, 'K', 0.011),\n",
        " 'electron volt-kilogram relationship': (1.782661845e-36, 'kg', 3.9e-44),\n",
        " 'electron-deuteron mag. mom. ratio': (-2143.923498, '', 1.8e-05),\n",
        " 'electron-deuteron magn. moment ratio': (-2143.923493, '', 2.3e-05),\n",
        " 'electron-deuteron mass ratio': (0.00027244371095, '', 1.1e-13),\n",
        " 'electron-helion mass ratio': (0.00018195430761, '', 1.7e-13),\n",
        " 'electron-muon mag. mom. ratio': (206.7669896, '', 5.2e-06),\n",
        " 'electron-muon magn. moment ratio': (206.7669894, '', 5.4e-06),\n",
        " 'electron-muon mass ratio': (0.00483633166, '', 1.2e-10),\n",
        " 'electron-neutron mag. mom. ratio': (960.9205, '', 0.00023),\n",
        " 'electron-neutron magn. moment ratio': (960.9205, '', 0.00023),\n",
        " 'electron-neutron mass ratio': (0.00054386734461, '', 3.2e-13),\n",
        " 'electron-proton mag. mom. ratio': (-658.2106848, '', 5.4e-06),\n",
        " 'electron-proton magn. moment ratio': (-658.2106862, '', 6.6e-06),\n",
        " 'electron-proton mass ratio': (0.00054461702178, '', 2.2e-13),\n",
        " 'electron-tau mass ratio': (0.000287592, '', 2.6e-08),\n",
        " 'electron-triton mass ratio': (0.00018192000653, '', 1.7e-13),\n",
        " 'elementary charge': (1.602176565e-19, 'C', 3.5e-27),\n",
        " 'elementary charge over h': (241798934800000.0, 'A J^-1', 5300000.0),\n",
        " 'fine-structure constant': (0.0072973525698, '', 2.4e-12),\n",
        " 'first radiation constant': (3.74177153e-16, 'W m^2', 1.7e-23),\n",
        " 'first radiation constant for spectral radiance': (1.191042869e-16,\n",
        "  'W m^2 sr^-1',\n",
        "  5.3e-24),\n",
        " 'hartree-atomic mass unit relationship': (2.9212623246e-08, 'u', 2.1e-17),\n",
        " 'hartree-electron volt relationship': (27.21138505, 'eV', 6e-07),\n",
        " 'hartree-hertz relationship': (6579683920729000.0, 'Hz', 33000.0),\n",
        " 'hartree-inverse meter relationship': (21947463.13708, 'm^-1', 0.00011),\n",
        " 'hartree-joule relationship': (4.35974434e-18, 'J', 1.9e-25),\n",
        " 'hartree-kelvin relationship': (315775.04, 'K', 0.29),\n",
        " 'hartree-kilogram relationship': (4.85086979e-35, 'kg', 2.1e-42),\n",
        " 'helion g factor': (-4.255250613, '', 5e-08),\n",
        " 'helion mag. mom.': (-1.074617486e-26, 'J T^-1', 2.7e-34),\n",
        " 'helion mag. mom. to Bohr magneton ratio': (-0.001158740958, '', 1.4e-11),\n",
        " 'helion mag. mom. to nuclear magneton ratio': (-2.127625306, '', 2.5e-08),\n",
        " 'helion mass': (5.00641234e-27, 'kg', 2.2e-34),\n",
        " 'helion mass energy equivalent': (4.49953902e-10, 'J', 2e-17),\n",
        " 'helion mass energy equivalent in MeV': (2808.391482, 'MeV', 6.2e-05),\n",
        " 'helion mass in u': (3.0149322468, 'u', 2.5e-09),\n",
        " 'helion molar mass': (0.0030149322468, 'kg mol^-1', 2.5e-12),\n",
        " 'helion-electron mass ratio': (5495.8852754, '', 5e-06),\n",
        " 'helion-proton mass ratio': (2.9931526707, '', 2.5e-09),\n",
        " 'hertz-atomic mass unit relationship': (4.4398216689e-24, 'u', 3.1e-33),\n",
        " 'hertz-electron volt relationship': (4.135667516e-15, 'eV', 9.1e-23),\n",
        " 'hertz-hartree relationship': (1.5198298460045e-16, 'E_h', 7.6e-28),\n",
        " 'hertz-inverse meter relationship': (3.3356409519815204e-09, 'm^-1', 0.0),\n",
        " 'hertz-joule relationship': (6.62606957e-34, 'J', 2.9e-41),\n",
        " 'hertz-kelvin relationship': (4.7992434e-11, 'K', 4.4e-17),\n",
        " 'hertz-kilogram relationship': (7.37249668e-51, 'kg', 3.3e-58),\n",
        " 'inverse fine-structure constant': (137.035999074, '', 4.4e-08),\n",
        " 'inverse meter-atomic mass unit relationship': (1.3310250512e-15,\n",
        "  'u',\n",
        "  9.4e-25),\n",
        " 'inverse meter-electron volt relationship': (1.23984193e-06, 'eV', 2.7e-14),\n",
        " 'inverse meter-hartree relationship': (4.556335252755e-08, 'E_h', 2.3e-19),\n",
        " 'inverse meter-hertz relationship': (299792458.0, 'Hz', 0.0),\n",
        " 'inverse meter-joule relationship': (1.986445684e-25, 'J', 8.8e-33),\n",
        " 'inverse meter-kelvin relationship': (0.01438777, 'K', 1.3e-08),\n",
        " 'inverse meter-kilogram relationship': (2.210218902e-42, 'kg', 9.8e-50),\n",
        " 'inverse of conductance quantum': (12906.4037217, 'ohm', 4.2e-06),\n",
        " 'joule-atomic mass unit relationship': (6700535850.0, 'u', 300.0),\n",
        " 'joule-electron volt relationship': (6.24150934e+18, 'eV', 140000000000.0),\n",
        " 'joule-hartree relationship': (2.29371248e+17, 'E_h', 10000000000.0),\n",
        " 'joule-hertz relationship': (1.509190311e+33, 'Hz', 6.7e+25),\n",
        " 'joule-inverse meter relationship': (5.03411701e+24, 'm^-1', 2.2e+17),\n",
        " 'joule-kelvin relationship': (7.2429716e+22, 'K', 6.6e+16),\n",
        " 'joule-kilogram relationship': (1.1126500560536185e-17, 'kg', 0.0),\n",
        " 'kelvin-atomic mass unit relationship': (9.2510868e-14, 'u', 8.4e-20),\n",
        " 'kelvin-electron volt relationship': (8.6173324e-05, 'eV', 7.8e-11),\n",
        " 'kelvin-hartree relationship': (3.1668114e-06, 'E_h', 2.9e-12),\n",
        " 'kelvin-hertz relationship': (20836618000.0, 'Hz', 19000.0),\n",
        " 'kelvin-inverse meter relationship': (69.503476, 'm^-1', 6.3e-05),\n",
        " 'kelvin-joule relationship': (1.3806488e-23, 'J', 1.3e-29),\n",
        " 'kelvin-kilogram relationship': (1.536179e-40, 'kg', 1.4e-46),\n",
        " 'kilogram-atomic mass unit relationship': (6.02214129e+26, 'u', 2.7e+19),\n",
        " 'kilogram-electron volt relationship': (5.60958885e+35, 'eV', 1.2e+28),\n",
        " 'kilogram-hartree relationship': (2.061485968e+34, 'E_h', 9.1e+26),\n",
        " 'kilogram-hertz relationship': (1.356392608e+50, 'Hz', 6e+42),\n",
        " 'kilogram-inverse meter relationship': (4.52443873e+41, 'm^-1', 2e+34),\n",
        " 'kilogram-joule relationship': (8.987551787368176e+16, 'J', 0.0),\n",
        " 'kilogram-kelvin relationship': (6.5096582e+39, 'K', 5.9e+33),\n",
        " 'lattice parameter of silicon': (5.431020504e-10, 'm', 8.9e-18),\n",
        " 'lattice spacing of silicon': (1.920155762e-10, 'm', 5e-18),\n",
        " 'mag. constant': (1.2566370614359173e-06, 'N A^-2', 0.0),\n",
        " 'mag. flux quantum': (2.067833758e-15, 'Wb', 4.6e-23),\n",
        " 'magn. constant': (1.2566370614359173e-06, 'N A^-2', 0.0),\n",
        " 'magn. flux quantum': (2.067833758e-15, 'Wb', 4.6e-23),\n",
        " 'molar Planck constant': (3.9903127176e-10, 'J s mol^-1', 2.8e-19),\n",
        " 'molar Planck constant times c': (0.119626565779, 'J m mol^-1', 8.4e-11),\n",
        " 'molar gas constant': (8.3144621, 'J mol^-1 K^-1', 7.5e-06),\n",
        " 'molar mass constant': (0.001, 'kg mol^-1', 0.0),\n",
        " 'molar mass of carbon-12': (0.012, 'kg mol^-1', 0.0),\n",
        " 'molar volume of ideal gas (273.15 K, 100 kPa)': (0.022710953,\n",
        "  'm^3 mol^-1',\n",
        "  2.1e-08),\n",
        " 'molar volume of ideal gas (273.15 K, 101.325 kPa)': (0.022413968,\n",
        "  'm^3 mol^-1',\n",
        "  2e-08),\n",
        " 'molar volume of silicon': (1.205883301e-05, 'm^3 mol^-1', 8e-13),\n",
        " 'muon Compton wavelength': (1.173444103e-14, 'm', 3e-22),\n",
        " 'muon Compton wavelength over 2 pi': (1.867594294e-15, 'm', 4.7e-23),\n",
        " 'muon g factor': (-2.0023318418, '', 1.3e-09),\n",
        " 'muon mag. mom.': (-4.49044807e-26, 'J T^-1', 1.5e-33),\n",
        " 'muon mag. mom. anomaly': (0.00116592091, '', 6.3e-10),\n",
        " 'muon mag. mom. to Bohr magneton ratio': (-0.00484197044, '', 1.2e-10),\n",
        " 'muon mag. mom. to nuclear magneton ratio': (-8.89059697, '', 2.2e-07),\n",
        " 'muon magn. moment': (-4.49044799e-26, 'J T^-1', 4e-33),\n",
        " 'muon magn. moment to Bohr magneton ratio': (-0.00484197045, '', 1.3e-10),\n",
        " 'muon magn. moment to nuclear magneton ratio': (-8.89059698, '', 2.3e-07),\n",
        " 'muon mass': (1.883531475e-28, 'kg', 9.6e-36),\n",
        " 'muon mass energy equivalent': (1.692833667e-11, 'J', 8.6e-19),\n",
        " 'muon mass energy equivalent in MeV': (105.6583715, 'MeV', 3.5e-06),\n",
        " 'muon mass in u': (0.1134289267, 'u', 2.9e-09),\n",
        " 'muon molar mass': (0.0001134289267, 'kg mol^-1', 2.9e-12),\n",
        " 'muon-electron mass ratio': (206.7682843, '', 5.2e-06),\n",
        " 'muon-neutron mass ratio': (0.1124545177, '', 2.8e-09),\n",
        " 'muon-proton mag. mom. ratio': (-3.183345107, '', 8.4e-08),\n",
        " 'muon-proton magn. moment ratio': (-3.183345118, '', 8.9e-08),\n",
        " 'muon-proton mass ratio': (0.1126095272, '', 2.8e-09),\n",
        " 'muon-tau mass ratio': (0.0594649, '', 5.4e-06),\n",
        " 'natural unit of action': (1.054571726e-34, 'J s', 4.7e-42),\n",
        " 'natural unit of action in eV s': (6.58211928e-16, 'eV s', 1.5e-23),\n",
        " 'natural unit of energy': (8.18710506e-14, 'J', 3.6e-21),\n",
        " 'natural unit of energy in MeV': (0.510998928, 'MeV', 1.1e-08),\n",
        " 'natural unit of length': (3.86159268e-13, 'm', 2.5e-22),\n",
        " 'natural unit of mass': (9.10938291e-31, 'kg', 4e-38),\n",
        " 'natural unit of mom.um': (2.73092429e-22, 'kg m s^-1', 1.2e-29),\n",
        " 'natural unit of mom.um in MeV/c': (0.510998928, 'MeV/c', 1.1e-08),\n",
        " 'natural unit of momentum': (2.73092429e-22, 'kg m s^-1', 1.2e-29),\n",
        " 'natural unit of momentum in MeV/c': (0.510998928, 'MeV/c', 1.1e-08),\n",
        " 'natural unit of time': (1.28808866833e-21, 's', 8.3e-31),\n",
        " 'natural unit of velocity': (299792458.0, 'm s^-1', 0.0),\n",
        " 'neutron Compton wavelength': (1.3195909068e-15, 'm', 1.1e-24),\n",
        " 'neutron Compton wavelength over 2 pi': (2.1001941568e-16, 'm', 1.7e-25),\n",
        " 'neutron g factor': (-3.82608545, '', 9e-07),\n",
        " 'neutron gyromag. ratio': (183247179.0, 's^-1 T^-1', 43.0),\n",
        " 'neutron gyromag. ratio over 2 pi': (29.1646943, 'MHz T^-1', 6.9e-06),\n",
        " 'neutron gyromagn. ratio': (183247179.0, 's^-1 T^-1', 43.0),\n",
        " 'neutron gyromagn. ratio over 2 pi': (29.1646943, 'MHz T^-1', 6.9e-06),\n",
        " 'neutron mag. mom.': (-9.6623647e-27, 'J T^-1', 2.3e-33),\n",
        " 'neutron mag. mom. to Bohr magneton ratio': (-0.00104187563, '', 2.5e-10),\n",
        " 'neutron mag. mom. to nuclear magneton ratio': (-1.91304272, '', 4.5e-07),\n",
        " 'neutron magn. moment': (-9.6623645e-27, 'J T^-1', 2.4e-33),\n",
        " 'neutron magn. moment to Bohr magneton ratio': (-0.00104187563, '', 2.5e-10),\n",
        " 'neutron magn. moment to nuclear magneton ratio': (-1.91304273, '', 4.5e-07),\n",
        " 'neutron mass': (1.674927351e-27, 'kg', 7.4e-35),\n",
        " 'neutron mass energy equivalent': (1.505349631e-10, 'J', 6.6e-18),\n",
        " 'neutron mass energy equivalent in MeV': (939.565379, 'MeV', 2.1e-05),\n",
        " 'neutron mass in u': (1.008664916, 'u', 4.3e-10),\n",
        " 'neutron molar mass': (0.001008664916, 'kg mol^-1', 4.3e-13),\n",
        " 'neutron to shielded proton mag. mom. ratio': (-0.68499694, '', 1.6e-07),\n",
        " 'neutron to shielded proton magn. moment ratio': (-0.68499694, '', 1.6e-07),\n",
        " 'neutron-electron mag. mom. ratio': (0.00104066882, '', 2.5e-10),\n",
        " 'neutron-electron magn. moment ratio': (0.00104066882, '', 2.5e-10),\n",
        " 'neutron-electron mass ratio': (1838.6836605, '', 1.1e-06),\n",
        " 'neutron-muon mass ratio': (8.892484, '', 2.2e-07),\n",
        " 'neutron-proton mag. mom. ratio': (-0.68497934, '', 1.6e-07),\n",
        " 'neutron-proton magn. moment ratio': (-0.68497934, '', 1.6e-07),\n",
        " 'neutron-proton mass difference': (2.30557392e-30, '', 7.6e-37),\n",
        " 'neutron-proton mass difference energy equivalent': (2.0721465e-13,\n",
        "  '',\n",
        "  6.8e-20),\n",
        " 'neutron-proton mass difference energy equivalent in MeV': (1.29333217,\n",
        "  '',\n",
        "  4.2e-07),\n",
        " 'neutron-proton mass difference in u': (0.00138844919, '', 4.5e-10),\n",
        " 'neutron-proton mass ratio': (1.00137841917, '', 4.5e-10),\n",
        " 'neutron-tau mass ratio': (0.52879, '', 4.8e-05),\n",
        " 'nuclear magneton': (5.05078353e-27, 'J T^-1', 1.1e-34),\n",
        " 'nuclear magneton in K/T': (0.00036582682, 'K T^-1', 3.3e-10),\n",
        " 'nuclear magneton in MHz/T': (7.62259357, 'MHz T^-1', 1.7e-07),\n",
        " 'nuclear magneton in eV/T': (3.1524512605e-08, 'eV T^-1', 2.2e-17),\n",
        " 'nuclear magneton in inverse meters per tesla': (0.02542623527,\n",
        "  'm^-1 T^-1',\n",
        "  5.6e-10),\n",
        " 'proton Compton wavelength': (1.32140985623e-15, 'm', 9.4e-25),\n",
        " 'proton Compton wavelength over 2 pi': (2.1030891047e-16, 'm', 1.5e-25),\n",
        " 'proton charge to mass quotient': (95788335.8, 'C kg^-1', 2.1),\n",
        " 'proton g factor': (5.585694713, '', 4.6e-08),\n",
        " 'proton gyromag. ratio': (267522200.5, 's^-1 T^-1', 6.3),\n",
        " 'proton gyromag. ratio over 2 pi': (42.5774806, 'MHz T^-1', 1e-06),\n",
        " 'proton gyromagn. ratio': (267522200.5, 's^-1 T^-1', 6.3),\n",
        " 'proton gyromagn. ratio over 2 pi': (42.5774806, 'MHz T^-1', 1e-06),\n",
        " 'proton mag. mom.': (1.410606743e-26, 'J T^-1', 3.3e-34),\n",
        " 'proton mag. mom. to Bohr magneton ratio': (0.00152103221, '', 1.2e-11),\n",
        " 'proton mag. mom. to nuclear magneton ratio': (2.792847356, '', 2.3e-08),\n",
        " 'proton mag. shielding correction': (2.5694e-05, '', 1.4e-08),\n",
        " 'proton magn. moment': (1.41060671e-26, 'J T^-1', 1.2e-33),\n",
        " 'proton magn. moment to Bohr magneton ratio': (0.001521032206, '', 1.5e-11),\n",
        " 'proton magn. moment to nuclear magneton ratio': (2.792847351, '', 2.8e-08),\n",
        " 'proton magn. shielding correction': (2.5694e-05, '', 1.4e-08),\n",
        " 'proton mass': (1.672621777e-27, 'kg', 7.4e-35),\n",
        " 'proton mass energy equivalent': (1.503277484e-10, 'J', 6.6e-18),\n",
        " 'proton mass energy equivalent in MeV': (938.272046, 'MeV', 2.1e-05),\n",
        " 'proton mass in u': (1.007276466812, 'u', 9e-11),\n",
        " 'proton molar mass': (0.001007276466812, 'kg mol^-1', 9e-14),\n",
        " 'proton rms charge radius': (8.775e-16, 'm', 5.1e-18),\n",
        " 'proton-electron mass ratio': (1836.15267245, '', 7.5e-07),\n",
        " 'proton-muon mass ratio': (8.88024331, '', 2.2e-07),\n",
        " 'proton-neutron mag. mom. ratio': (-1.45989806, '', 3.4e-07),\n",
        " 'proton-neutron magn. moment ratio': (-1.45989805, '', 3.4e-07),\n",
        " 'proton-neutron mass ratio': (0.99862347826, '', 4.5e-10),\n",
        " 'proton-tau mass ratio': (0.528063, '', 4.8e-05),\n",
        " 'quantum of circulation': (0.0003636947552, 'm^2 s^-1', 2.4e-13),\n",
        " 'quantum of circulation times 2': (0.0007273895104, 'm^2 s^-1', 4.7e-13),\n",
        " 'second radiation constant': (0.01438777, 'm K', 1.3e-08),\n",
        " 'shielded helion gyromag. ratio': (203789465.9, 's^-1 T^-1', 5.1),\n",
        " 'shielded helion gyromag. ratio over 2 pi': (32.43410084,\n",
        "  'MHz T^-1',\n",
        "  8.1e-07),\n",
        " 'shielded helion gyromagn. ratio': (203789465.9, 's^-1 T^-1', 5.1),\n",
        " 'shielded helion gyromagn. ratio over 2 pi': (32.43410084,\n",
        "  'MHz T^-1',\n",
        "  8.1e-07),\n",
        " 'shielded helion mag. mom.': (-1.074553044e-26, 'J T^-1', 2.7e-34),\n",
        " 'shielded helion mag. mom. to Bohr magneton ratio': (-0.001158671471,\n",
        "  '',\n",
        "  1.4e-11),\n",
        " 'shielded helion mag. mom. to nuclear magneton ratio': (-2.127497718,\n",
        "  '',\n",
        "  2.5e-08),\n",
        " 'shielded helion magn. moment': (-1.074553024e-26, 'J T^-1', 9.3e-34),\n",
        " 'shielded helion magn. moment to Bohr magneton ratio': (-0.001158671474,\n",
        "  '',\n",
        "  1.4e-11),\n",
        " 'shielded helion magn. moment to nuclear magneton ratio': (-2.127497723,\n",
        "  '',\n",
        "  2.5e-08),\n",
        " 'shielded helion to proton mag. mom. ratio': (-0.761766558, '', 1.1e-08),\n",
        " 'shielded helion to proton magn. moment ratio': (-0.761766562, '', 1.2e-08),\n",
        " 'shielded helion to shielded proton mag. mom. ratio': (-0.7617861313,\n",
        "  '',\n",
        "  3.3e-09),\n",
        " 'shielded helion to shielded proton magn. moment ratio': (-0.7617861313,\n",
        "  '',\n",
        "  3.3e-09),\n",
        " 'shielded proton gyromag. ratio': (267515326.8, 's^-1 T^-1', 6.6),\n",
        " 'shielded proton gyromag. ratio over 2 pi': (42.5763866, 'MHz T^-1', 1e-06),\n",
        " 'shielded proton mag. mom.': (1.410570499e-26, 'J T^-1', 3.5e-34),\n",
        " 'shielded proton mag. mom. to Bohr magneton ratio': (0.001520993128,\n",
        "  '',\n",
        "  1.7e-11),\n",
        " 'shielded proton mag. mom. to nuclear magneton ratio': (2.792775598,\n",
        "  '',\n",
        "  3e-08),\n",
        " 'shielded proton magn. moment': (1.41057047e-26, 'J T^-1', 1.2e-33),\n",
        " 'shielded proton magn. moment to Bohr magneton ratio': (0.001520993132,\n",
        "  '',\n",
        "  1.6e-11),\n",
        " 'shielded proton magn. moment to nuclear magneton ratio': (2.792775604,\n",
        "  '',\n",
        "  3e-08),\n",
        " 'speed of light in vacuum': (299792458.0, 'm s^-1', 0.0),\n",
        " 'standard acceleration of gravity': (9.80665, 'm s^-2', 0.0),\n",
        " 'standard atmosphere': (101325.0, 'Pa', 0.0),\n",
        " 'standard-state pressure': (100000.0, 'Pa', 0.0),\n",
        " 'tau Compton wavelength': (6.97787e-16, 'm', 6.3e-20),\n",
        " 'tau Compton wavelength over 2 pi': (1.11056e-16, 'm', 1e-20),\n",
        " 'tau mass': (3.16747e-27, 'kg', 2.9e-31),\n",
        " 'tau mass energy equivalent': (2.84678e-10, 'J', 2.6e-14),\n",
        " 'tau mass energy equivalent in MeV': (1776.82, 'MeV', 0.16),\n",
        " 'tau mass in u': (1.90749, 'u', 0.00017),\n",
        " 'tau molar mass': (0.00190749, 'kg mol^-1', 1.7e-07),\n",
        " 'tau-electron mass ratio': (3477.15, '', 0.31),\n",
        " 'tau-muon mass ratio': (16.8167, '', 0.0015),\n",
        " 'tau-neutron mass ratio': (1.89111, '', 0.00017),\n",
        " 'tau-proton mass ratio': (1.89372, '', 0.00017),\n",
        " 'triton g factor': (5.957924896, '', 7.6e-08),\n",
        " 'triton mag. mom.': (1.504609447e-26, 'J T^-1', 3.8e-34),\n",
        " 'triton mag. mom. to Bohr magneton ratio': (0.001622393657, '', 2.1e-11),\n",
        " 'triton mag. mom. to nuclear magneton ratio': (2.978962448, '', 3.8e-08),\n",
        " 'triton mass': (5.0073563e-27, 'kg', 2.2e-34),\n",
        " 'triton mass energy equivalent': (4.50038741e-10, 'J', 2e-17),\n",
        " 'triton mass energy equivalent in MeV': (2808.921005, 'MeV', 6.2e-05),\n",
        " 'triton mass in u': (3.0155007134, 'u', 2.5e-09),\n",
        " 'triton molar mass': (0.0030155007134, 'kg mol^-1', 2.5e-12),\n",
        " 'triton-electron mag. mom. ratio': (-0.001620514423, '', 2.1e-11),\n",
        " 'triton-electron mass ratio': (5496.9215267, '', 5e-06),\n",
        " 'triton-neutron mag. mom. ratio': (-1.55718553, '', 3.7e-07),\n",
        " 'triton-proton mag. mom. ratio': (1.066639908, '', 1e-08),\n",
        " 'triton-proton mass ratio': (2.9937170308, '', 2.5e-09),\n",
        " 'unified atomic mass unit': (1.660538921e-27, 'kg', 7.3e-35),\n",
        " 'von Klitzing constant': (25812.8074434, 'ohm', 8.4e-06),\n",
        " 'weak mixing angle': (0.2223, '', 0.0021),\n",
        " '{220} lattice spacing of silicon': (1.920155714e-10, 'm', 3.2e-18)}"
       ]
      }
     ],
     "prompt_number": 10
    },
    {
     "cell_type": "code",
     "collapsed": false,
     "input": [
      "len( cons.physical_constants )"
     ],
     "language": "python",
     "metadata": {},
     "outputs": [
      {
       "metadata": {},
       "output_type": "pyout",
       "prompt_number": 11,
       "text": [
        "399"
       ]
      }
     ],
     "prompt_number": 11
    },
    {
     "cell_type": "markdown",
     "metadata": {},
     "source": [
      "We can even search it like a little database:"
     ]
    },
    {
     "cell_type": "code",
     "collapsed": false,
     "input": [
      "cons.find('Newton')"
     ],
     "language": "python",
     "metadata": {},
     "outputs": [
      {
       "metadata": {},
       "output_type": "pyout",
       "prompt_number": 12,
       "text": [
        "['Newtonian constant of gravitation',\n",
        " 'Newtonian constant of gravitation over h-bar c']"
       ]
      }
     ],
     "prompt_number": 12
    },
    {
     "cell_type": "code",
     "collapsed": false,
     "input": [
      "G = cons.value('Newtonian constant of gravitation')\n",
      "G_u = cons.unit('Newtonian constant of gravitation')\n",
      "G_e = cons.precision('Newtonian constant of gravitation')\n",
      "print 'G = ', G, '+/-', G_e, G_u"
     ],
     "language": "python",
     "metadata": {},
     "outputs": [
      {
       "output_type": "stream",
       "stream": "stdout",
       "text": [
        "G =  6.67384e-11 +/- 0.000119871018784 m^3 kg^-1 s^-2\n"
       ]
      }
     ],
     "prompt_number": 13
    },
    {
     "cell_type": "markdown",
     "metadata": {},
     "source": [
      "It also provides some handy unit conversions:"
     ]
    },
    {
     "cell_type": "code",
     "collapsed": false,
     "input": [
      "print '32 F in K:', cons.F2K(32)\n",
      "print '32 F in C:', cons.F2C(32)"
     ],
     "language": "python",
     "metadata": {},
     "outputs": [
      {
       "output_type": "stream",
       "stream": "stdout",
       "text": [
        "32 F in K: 273.15\n",
        "32 F in C: 0.0\n"
       ]
      }
     ],
     "prompt_number": 14
    },
    {
     "cell_type": "heading",
     "level": 1,
     "metadata": {},
     "source": [
      "Interpolation"
     ]
    },
    {
     "cell_type": "code",
     "collapsed": true,
     "input": [
      "from scipy.interpolate import interp1d, UnivariateSpline\n",
      "from scipy import constants as cons"
     ],
     "language": "python",
     "metadata": {},
     "outputs": [],
     "prompt_number": 16
    },
    {
     "cell_type": "code",
     "collapsed": false,
     "input": [
      "# set up some fake data, listing locations versus time\n",
      "M = 5.98e24  # mass and radius of Earth\n",
      "R = 6.38e6\n",
      "accel = cons.G*M/R**2 # Earth's grav acceleration\n",
      "times = np.arange(0,10,0.5) # seconds\n",
      "locations = 0.5*accel*times**2 + 50*np.random.random(len(times))\n",
      "\n",
      "# now interpolate onto a much finer grid, using both iterp1d and UnivariateSpline\n",
      "i_times = np.arange(0.5,9,0.1)\n",
      "# list of interpolated values of location at i_times\n",
      "i_locs = interp1d(times, locations, kind=\"cubic\")\n",
      "s = UnivariateSpline(times, locations) # a function that will return interpolated values"
     ],
     "language": "python",
     "metadata": {},
     "outputs": [],
     "prompt_number": 17
    },
    {
     "cell_type": "code",
     "collapsed": false,
     "input": [
      "%pylab inline"
     ],
     "language": "python",
     "metadata": {},
     "outputs": [
      {
       "output_type": "stream",
       "stream": "stdout",
       "text": [
        "Populating the interactive namespace from numpy and matplotlib\n"
       ]
      }
     ],
     "prompt_number": 19
    },
    {
     "cell_type": "code",
     "collapsed": false,
     "input": [
      "# plot up several different views of this example\n",
      "plt.errorbar(times, locations, yerr=50/2.35, linestyle='None', marker=\".\", label='data')\n",
      "plt.plot(i_times, s(i_times), c=\"g\", lw=10, alpha=0.3, label='UnivariateSpline')\n",
      "plt.plot(i_times, i_locs(i_times), c=\"black\", lw=1, alpha=0.9, label='interp1d')\n",
      "plt.ylabel('locations')\n",
      "plt.xlabel('times (s)')\n",
      "plt.legend(loc='best');"
     ],
     "language": "python",
     "metadata": {},
     "outputs": [
      {
       "metadata": {},
       "output_type": "display_data",
       "png": "[encoded data removed]",
       "text": [
        "<matplotlib.figure.Figure at 0x56b7e50>"
       ]
      }
     ],
     "prompt_number": 20
    },
    {
     "cell_type": "heading",
     "level": 2,
     "metadata": {},
     "source": [
      "Numerical Integration"
     ]
    },
    {
     "cell_type": "code",
     "collapsed": false,
     "input": [
      "from scipy.integrate import quad\n",
      "val, err =quad( lambda x: sin(x) , 0 , np.pi, full_output=False)\n",
      "print val, err"
     ],
     "language": "python",
     "metadata": {},
     "outputs": [
      {
       "output_type": "stream",
       "stream": "stdout",
       "text": [
        "2.0 2.22044604925e-14\n"
       ]
      }
     ],
     "prompt_number": 21
    },
    {
     "cell_type": "code",
     "collapsed": false,
     "input": [
      "from scipy.integrate import ode\n",
      "ode?"
     ],
     "language": "python",
     "metadata": {},
     "outputs": [],
     "prompt_number": 22
    },
    {
     "cell_type": "heading",
     "level": 2,
     "metadata": {},
     "source": [
      "Special functions"
     ]
    },
    {
     "cell_type": "code",
     "collapsed": false,
     "input": [
      "from scipy import special\n",
      "special?"
     ],
     "language": "python",
     "metadata": {},
     "outputs": [],
     "prompt_number": 23
    },
    {
     "cell_type": "code",
     "collapsed": false,
     "input": [
      "from scipy.special import betainc\n",
      "betainc(10, 10, 0.2)"
     ],
     "language": "python",
     "metadata": {},
     "outputs": [
      {
       "metadata": {},
       "output_type": "pyout",
       "prompt_number": 25,
       "text": [
        "0.0015791205491671057"
       ]
      }
     ],
     "prompt_number": 25
    },
    {
     "cell_type": "heading",
     "level": 2,
     "metadata": {},
     "source": [
      "Polynomial Fitting"
     ]
    },
    {
     "cell_type": "markdown",
     "metadata": {},
     "source": [
      "Basic (least squares) polynomial fitting can be performed using the polyfit routine. More complicated fitting tasks require scipy."
     ]
    },
    {
     "cell_type": "code",
     "collapsed": false,
     "input": [
      "x = np.array([0.0, 1.0, 2.0, 3.0, 4.0, 5.0])\n",
      "y = np.array([0.0, 0.8, 0.9, 0.1, -0.8, -1.0])\n",
      "\n",
      "f, ax = plt.subplots()\n",
      "ax.plot(x, y, 'o', label='data');\n",
      "ax.legend();"
     ],
     "language": "python",
     "metadata": {},
     "outputs": [
      {
       "metadata": {},
       "output_type": "display_data",
       "png": "[encoded data removed]",
       "text": [
        "<matplotlib.figure.Figure at 0x56b7550>"
       ]
      }
     ],
     "prompt_number": 35
    },
    {
     "cell_type": "markdown",
     "metadata": {},
     "source": [
      "Let's fit this data with a cubic polynomial"
     ]
    },
    {
     "cell_type": "code",
     "collapsed": false,
     "input": [
      "z = np.polyfit(x, y, 3)\n",
      "p = np.poly1d(z)\n",
      "ax.plot(xp, p(xp), '-', lw=2, label='$p_3(x)$')\n",
      "ax.set_ylim(-2, 2)\n",
      "ax.legend()\n",
      "f"
     ],
     "language": "python",
     "metadata": {},
     "outputs": [
      {
       "metadata": {},
       "output_type": "pyout",
       "png": "[encoded data removed]",
       "prompt_number": 36,
       "text": [
        "<matplotlib.figure.Figure at 0x56b7550>"
       ]
      }
     ],
     "prompt_number": 36
    },
    {
     "cell_type": "markdown",
     "metadata": {},
     "source": [
      "And now let' try to fit it with a degree *30* one:"
     ]
    },
    {
     "cell_type": "code",
     "collapsed": false,
     "input": [
      "p30 = np.poly1d(np.polyfit(x, y, 30))\n",
      "xp = np.linspace(-2, 6, 100)\n",
      "ax.plot(xp, p30(xp), '--', lw=2, label='$p_{30}(x)$')\n",
      "ax.legend()\n",
      "f"
     ],
     "language": "python",
     "metadata": {},
     "outputs": [
      {
       "output_type": "stream",
       "stream": "stderr",
       "text": [
        "/home/fperez/usr/opt/lib/python2.7/site-packages/numpy/lib/polynomial.py:587: RankWarning: Polyfit may be poorly conditioned\n",
        "  warnings.warn(msg, RankWarning)\n"
       ]
      },
      {
       "metadata": {},
       "output_type": "pyout",
       "png": "[encoded data removed]",
       "prompt_number": 38,
       "text": [
        "<matplotlib.figure.Figure at 0x56b7550>"
       ]
      }
     ],
     "prompt_number": 38
    },
    {
     "cell_type": "heading",
     "level": 2,
     "metadata": {},
     "source": [
      "Optimization"
     ]
    },
    {
     "cell_type": "markdown",
     "metadata": {},
     "source": [
      "A simple Least Squares Fitting example. Note that in practice, you may want to choose `fmin` which provides finer control than `leastsq`.  But for simple cases `leastsq` is sufficient: "
     ]
    },
    {
     "cell_type": "code",
     "collapsed": false,
     "input": [
      "from scipy.optimize import leastsq\n",
      "from numpy import sin, cos, pi, sqrt\n",
      "\n",
      "# Define a simple signal model\n",
      "def model(par):\n",
      "    p = 1.0 # constant frequency\n",
      "    return par[0] + par[1]*sin(2*pi*t/p) + par[2]*cos(2*pi*t/p)\n",
      "\n",
      "# Create some data with this model\n",
      "par = [0.1, 1.5, 2]\n",
      "t = np.linspace(0, pi, 300)\n",
      "y = model(par)\n",
      "\n",
      "# Add a bit of gaussian noise\n",
      "dy = 0.5*np.random.rand(y.shape[0])\n",
      "y += dy\n",
      "\n",
      "# Define the residual function we minimize, simply the squared error\n",
      "def resid(par):\n",
      "    return (model(par)-y)**2\n",
      "\n",
      "# And call leastsq for the fit (note that it returns a tuple whose first\n",
      "# element is the parameter fit, what we actually want):\n",
      "rez = leastsq(resid, [y.mean(), 1, 1] )[0]\n",
      "\n",
      "print 'Exact parameters: ', par\n",
      "print 'Fitted parameters:', rez"
     ],
     "language": "python",
     "metadata": {},
     "outputs": [
      {
       "output_type": "stream",
       "stream": "stdout",
       "text": [
        "Exact parameters:  [0.1, 1.5, 2]\n",
        "Fitted parameters: [ 0.35172462  1.49874967  2.00467209]\n"
       ]
      }
     ],
     "prompt_number": 39
    },
    {
     "cell_type": "markdown",
     "metadata": {},
     "source": [
      "A quick visual verification:"
     ]
    },
    {
     "cell_type": "code",
     "collapsed": false,
     "input": [
      "plt.plot(t, y, label='data')\n",
      "plt.plot(t, model(rez), label='model')\n",
      "plt.legend();"
     ],
     "language": "python",
     "metadata": {},
     "outputs": [
      {
       "metadata": {},
       "output_type": "display_data",
       "png": "[encoded data removed]",
       "text": [
        "<matplotlib.figure.Figure at 0x3cf7950>"
       ]
      }
     ],
     "prompt_number": 40
    },
    {
     "cell_type": "heading",
     "level": 2,
     "metadata": {},
     "source": [
      "Breakout: Amateur Astronomer"
     ]
    },
    {
     "cell_type": "markdown",
     "metadata": {},
     "source": [
      "1) use `np.loadtxt` to load `astro.csv`\n",
      "\n",
      "*Hint:* use the `converters` argument to handle the date string and percentages.\n",
      "\n",
      "2) approximately what is the lunar period (in days)?\n",
      "\n",
      "*Hint:*\n",
      "\n",
      "    from scipy.signal.spectral import lombscargle"
     ]
    },
    {
     "cell_type": "code",
     "collapsed": false,
     "input": [],
     "language": "python",
     "metadata": {},
     "outputs": []
    }
   ],
   "metadata": {}
  }
 ]
}