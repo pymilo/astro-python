{
 "cells": [
  {
   "cell_type": "code",
   "execution_count": 9,
   "metadata": {
    "collapsed": false
   },
   "outputs": [
    {
     "data": {
      "text/html": [
       "<style>\n",
       "\n",
       ".rendered_html\n",
       "{\n",
       "  color: #2C5494;\n",
       "  font-family: Ubuntu;\n",
       "  font-size: 140%;\n",
       "  line-height: 1.1;\n",
       "  margin: 0.5em 0;\n",
       "  }\n",
       "\n",
       ".talk_title\n",
       "{\n",
       "  color: #498AF3;\n",
       "  font-size: 250%;\n",
       "  font-weight:bold;\n",
       "  line-height: 1.2; \n",
       "  margin: 10px 50px 10px;\n",
       "  }\n",
       "\n",
       ".subtitle\n",
       "{\n",
       "  color: #386BBC;\n",
       "  font-size: 180%;\n",
       "  font-weight:bold;\n",
       "  line-height: 1.2; \n",
       "  margin: 20px 50px 20px;\n",
       "  }\n",
       "\n",
       ".slide-header, p.slide-header\n",
       "{\n",
       "  color: #498AF3;\n",
       "  font-size: 200%;\n",
       "  font-weight:bold;\n",
       "  margin: 0px 20px 10px;\n",
       "  page-break-before: always;\n",
       "  text-align: center;\n",
       "  }\n",
       "\n",
       ".rendered_html h1\n",
       "{\n",
       "  color: #498AF3;\n",
       "  line-height: 1.2; \n",
       "  margin: 0.15em 0em 0.5em;\n",
       "  page-break-before: always;\n",
       "  text-align: center;\n",
       "  }\n",
       "\n",
       "\n",
       ".rendered_html h2\n",
       "{ \n",
       "  color: #386BBC;\n",
       "  line-height: 1.2;\n",
       "  margin: 1.1em 0em 0.5em;\n",
       "  }\n",
       "\n",
       ".rendered_html h3\n",
       "{ \n",
       "  font-size: 100%;\n",
       "  line-height: 1.2;\n",
       "  margin: 1.1em 0em 0.5em;\n",
       "  }\n",
       "\n",
       ".rendered_html li\n",
       "{\n",
       "  line-height: 1.8;\n",
       "  }\n",
       "\n",
       ".input_prompt, .CodeMirror-lines, .output_area\n",
       "{\n",
       "  font-family: Consolas;\n",
       "  font-size: 120%;\n",
       "  }\n",
       "\n",
       ".gap-above\n",
       "{\n",
       "  padding-top: 200px;\n",
       "  }\n",
       "\n",
       ".gap01\n",
       "{\n",
       "  padding-top: 10px;\n",
       "  }\n",
       "\n",
       ".gap05\n",
       "{\n",
       "  padding-top: 50px;\n",
       "  }\n",
       "\n",
       ".gap1\n",
       "{\n",
       "  padding-top: 100px;\n",
       "  }\n",
       "\n",
       ".gap2\n",
       "{\n",
       "  padding-top: 200px;\n",
       "  }\n",
       "\n",
       ".gap3\n",
       "{\n",
       "  padding-top: 300px;\n",
       "  }\n",
       "\n",
       ".emph\n",
       "{\n",
       "  color: #386BBC;\n",
       "  }\n",
       "\n",
       ".warn\n",
       "{\n",
       "  color: red;\n",
       "  }\n",
       "\n",
       ".center\n",
       "{\n",
       "  text-align: center;\n",
       "  }\n",
       "\n",
       ".nb_link\n",
       "{\n",
       "    padding-bottom: 0.5em;\n",
       "}\n",
       "\n",
       "</style>\n"
      ],
      "text/plain": [
       "<IPython.core.display.HTML object>"
      ]
     },
     "metadata": {},
     "output_type": "display_data"
    }
   ],
   "source": [
    "%run talktools.py\n",
    "#This sets tools to style a talk\n",
    "#it needs the file style.css"
   ]
  },
  {
   "cell_type": "markdown",
   "metadata": {
    "collapsed": true
   },
   "source": [
    "# Lecture 00: Advance Language  concepts\n",
    "\n",
    "We're using Python 3.5.X... You should be at least at IPython v5.0.0 for this.\n",
    "\n",
    "If not:\n",
    "<code bash>\n",
    "conda update conda\n",
    "conda update ipython jupyter\n",
    "</code>\n",
    "\n",
    "Then fire up the notebook\n",
    "<code>\n",
    "$ cd DataFiles_and_Notebooks/00_AdvancedPythonConcepts/\n",
    "$ Jupyter notebook\n",
    "</code>\n",
    "\n",
    "**Mr. Robot uses the CLI, but we'll use the Jupyter notebook**\n",
    "\n",
    "<img src=\"https://learnpythonthehardway.org/book/_static/python/osx_terminal_ex1.png\" width=\"50%\">\n",
    "\n",
    "https://www.reddit.com/r/Python/comments/3uxclx/noticed_some_python_code_in_the_tv_show_mr_robot/\n"
   ]
  },
  {
   "cell_type": "markdown",
   "metadata": {},
   "source": [
    "<center>\n",
    "<p class=\"gap08\" /p>\n",
    "<p class=\"talk_title\">Useful Advance Concepts</p>\n",
    "<p class=\"gap03\">\n",
    "</center>\n",
    "<ul>\n",
    " <li> ``OrderedDict``, ``nametuple``\n",
    " <li> building iterators (Classes & generating functions)\n",
    " <li> ``with`` statements (Context managers)\n",
    " <li> decorators\n",
    "</ul>"
   ]
  },
  {
   "cell_type": "markdown",
   "metadata": {
    "collapsed": true
   },
   "source": [
    "##  OrderedDirect\n",
    "\n",
    "not a core type like ``set``, ``dict``, ``list``, ``tuple``...\n",
    "but still very useful."
   ]
  },
  {
   "cell_type": "code",
   "execution_count": 40,
   "metadata": {
    "collapsed": true
   },
   "outputs": [],
   "source": [
    "a = {\"cal\": \"wow\",\"stanford\": \"meh\"}\n",
    "b = {\"stanford\": \"meh\", \"cal\": \"wow\"}\n",
    "# These are Dictionaries"
   ]
  },
  {
   "cell_type": "code",
   "execution_count": 41,
   "metadata": {
    "collapsed": false
   },
   "outputs": [
    {
     "data": {
      "text/plain": [
       "True"
      ]
     },
     "execution_count": 41,
     "metadata": {},
     "output_type": "execute_result"
    }
   ],
   "source": [
    "a == b\n",
    "# no matter how you ordered was a and b when\n",
    "# you created them, a is ordered like b."
   ]
  },
  {
   "cell_type": "code",
   "execution_count": 42,
   "metadata": {
    "collapsed": false
   },
   "outputs": [
    {
     "name": "stdout",
     "output_type": "stream",
     "text": [
      "stanford\n",
      "cal\n",
      "\n",
      "**********\n",
      "meh\n",
      "wow\n",
      "\n",
      "**********\n",
      "stanford meh\n",
      "cal wow\n"
     ]
    }
   ],
   "source": [
    "for k in a.keys(): print(k,)\n",
    "print(\"\\n\" + \"*\"*10)\n",
    "for v in a.values(): print(v,)\n",
    "print(\"\\n\" + \"*\"*10)\n",
    "for k,v in a.items(): print(k,v)"
   ]
  },
  {
   "cell_type": "code",
   "execution_count": 43,
   "metadata": {
    "collapsed": true
   },
   "outputs": [],
   "source": [
    "from collections import OrderedDict"
   ]
  },
  {
   "cell_type": "code",
   "execution_count": 44,
   "metadata": {
    "collapsed": true
   },
   "outputs": [],
   "source": [
    "c = OrderedDict()"
   ]
  },
  {
   "cell_type": "code",
   "execution_count": 45,
   "metadata": {
    "collapsed": false
   },
   "outputs": [
    {
     "data": {
      "text/plain": [
       "collections.OrderedDict"
      ]
     },
     "execution_count": 45,
     "metadata": {},
     "output_type": "execute_result"
    }
   ],
   "source": [
    "type(c)"
   ]
  },
  {
   "cell_type": "code",
   "execution_count": 46,
   "metadata": {
    "collapsed": false
   },
   "outputs": [
    {
     "name": "stdout",
     "output_type": "stream",
     "text": [
      "OrderedDict()\n"
     ]
    }
   ],
   "source": [
    "print(c)\n",
    "# So far there is nothing stored in c"
   ]
  },
  {
   "cell_type": "code",
   "execution_count": 47,
   "metadata": {
    "collapsed": true
   },
   "outputs": [],
   "source": [
    "c.update({\"best school\": \"cal\"})\n",
    "c.update({\"worst school\": \"you know\"})\n",
    "d = OrderedDict({\"worst school\": \"you know\"})\n",
    "d.update({\"best school\": \"cal\"})"
   ]
  },
  {
   "cell_type": "code",
   "execution_count": 48,
   "metadata": {
    "collapsed": false
   },
   "outputs": [
    {
     "data": {
      "text/plain": [
       "False"
      ]
     },
     "execution_count": 48,
     "metadata": {},
     "output_type": "execute_result"
    }
   ],
   "source": [
    "c == d\n",
    "#False"
   ]
  },
  {
   "cell_type": "code",
   "execution_count": 49,
   "metadata": {
    "collapsed": false
   },
   "outputs": [
    {
     "name": "stdout",
     "output_type": "stream",
     "text": [
      "OrderedDict([('best school', 'cal'), ('worst school', 'you know')])\n",
      "OrderedDict([('worst school', 'you know'), ('best school', 'cal')])\n"
     ]
    }
   ],
   "source": [
    "print(c)\n",
    "print(d)"
   ]
  },
  {
   "cell_type": "code",
   "execution_count": 50,
   "metadata": {
    "collapsed": false
   },
   "outputs": [
    {
     "data": {
      "text/plain": [
       "{1: 'a', 'n': 'cat'}"
      ]
     },
     "execution_count": 50,
     "metadata": {},
     "output_type": "execute_result"
    }
   ],
   "source": [
    "{1: \"a\", \"n\": \"cat\"}"
   ]
  },
  {
   "cell_type": "code",
   "execution_count": 51,
   "metadata": {
    "collapsed": false
   },
   "outputs": [
    {
     "data": {
      "text/plain": [
       "('worst school', 'you know')"
      ]
     },
     "execution_count": 51,
     "metadata": {},
     "output_type": "execute_result"
    }
   ],
   "source": [
    "c.popitem()"
   ]
  },
  {
   "cell_type": "code",
   "execution_count": 52,
   "metadata": {
    "collapsed": false
   },
   "outputs": [
    {
     "data": {
      "text/plain": [
       "('best school', 'cal')"
      ]
     },
     "execution_count": 52,
     "metadata": {},
     "output_type": "execute_result"
    }
   ],
   "source": [
    "d.popitem()"
   ]
  },
  {
   "cell_type": "code",
   "execution_count": 53,
   "metadata": {
    "collapsed": false
   },
   "outputs": [
    {
     "name": "stdout",
     "output_type": "stream",
     "text": [
      "c= OrderedDict([('best school', 'cal')])\n",
      "d= OrderedDict([('worst school', 'you know')])\n"
     ]
    }
   ],
   "source": [
    "print(\"c=\", c)\n",
    "print(\"d=\", d)"
   ]
  },
  {
   "cell_type": "code",
   "execution_count": 56,
   "metadata": {
    "collapsed": true
   },
   "outputs": [],
   "source": [
    "d = OrderedDict()\n",
    "d.update({\"best school\": \"cal\",\n",
    "          \"worst school\": \"you know\"})\n",
    "e = OrderedDict({\"worst school\": \"you know\",\n",
    "                 \"best school\": \"cal\"})"
   ]
  },
  {
   "cell_type": "code",
   "execution_count": 57,
   "metadata": {
    "collapsed": false
   },
   "outputs": [
    {
     "data": {
      "text/plain": [
       "True"
      ]
     },
     "execution_count": 57,
     "metadata": {},
     "output_type": "execute_result"
    }
   ],
   "source": [
    "d == e"
   ]
  },
  {
   "cell_type": "code",
   "execution_count": 59,
   "metadata": {
    "collapsed": false
   },
   "outputs": [
    {
     "name": "stdout",
     "output_type": "stream",
     "text": [
      "OrderedDict([('best school', 'cal'), ('worst school', 'you know')])\n",
      "OrderedDict([('best school', 'cal'), ('worst school', 'you know')])\n"
     ]
    }
   ],
   "source": [
    "print(d)\n",
    "print(e)"
   ]
  },
  {
   "cell_type": "markdown",
   "metadata": {},
   "source": [
    "\"The `OrderedDirect`constructor and `update()` method both accept keyword arguments, but their order is lost because Python's function call semantics pass-in keyword arguments using a regu;ar unordered dictionary.\"\n",
    "\n",
    "https://docs.python.org/3/library/collections.html#collections.OrderedDict"
   ]
  },
  {
   "cell_type": "code",
   "execution_count": 63,
   "metadata": {
    "collapsed": false
   },
   "outputs": [
    {
     "name": "stdout",
     "output_type": "stream",
     "text": [
      "OrderedDict([('best school', 'cal'), ('worst school', 'you know'), ('stanford', \"what's French for 'meh'?\"), ('cal', 'I mean wow'), ('Famous Trumps', ['Donald', 'Card'])])\n"
     ]
    }
   ],
   "source": [
    "# Other ways to update OrderedDict\n",
    "d.update(cal=\"I mean wow\", stanford=\"what's French for 'meh'?\")\n",
    "d.update([(\"Famous Trumps\",[\"Donald\",\"Card\"])])\n",
    "print(d)"
   ]
  },
  {
   "cell_type": "code",
   "execution_count": 64,
   "metadata": {
    "collapsed": false
   },
   "outputs": [
    {
     "name": "stdout",
     "output_type": "stream",
     "text": [
      "best school = cal\n",
      "worst school = you know\n",
      "stanford = what's French for 'meh'?\n",
      "cal = I mean wow\n",
      "Famous Trumps = ['Donald', 'Card']\n"
     ]
    }
   ],
   "source": [
    "## unlike with a dict, the ordereing of each pair in the\n",
    "## iteartion is guaranteed accross platforms. Hurray!\n",
    "for k,v in d.items():\n",
    "    print(k, \"=\", v)"
   ]
  },
  {
   "cell_type": "markdown",
   "metadata": {},
   "source": [
    "## namedtuple\n",
    "\n",
    "\"assign meaning to each position in a tuple and allow for more readable, *self-documenting code*\"\n",
    "\n",
    "https://docs.python.org/3/library/collections.html#collections.namedtuple"
   ]
  },
  {
   "cell_type": "code",
   "execution_count": 65,
   "metadata": {
    "collapsed": true
   },
   "outputs": [],
   "source": [
    "from collections import namedtuple"
   ]
  },
  {
   "cell_type": "code",
   "execution_count": 66,
   "metadata": {
    "collapsed": true
   },
   "outputs": [],
   "source": [
    "Candidate = namedtuple('Candidate',\n",
    "                       ['office','name','party','tax_return'])"
   ]
  },
  {
   "cell_type": "code",
   "execution_count": 67,
   "metadata": {
    "collapsed": false
   },
   "outputs": [
    {
     "data": {
      "text/plain": [
       "('office', 'name', 'party', 'tax_return')"
      ]
     },
     "execution_count": 67,
     "metadata": {},
     "output_type": "execute_result"
    }
   ],
   "source": [
    "Candidate._fields"
   ]
  },
  {
   "cell_type": "code",
   "execution_count": 68,
   "metadata": {
    "collapsed": true
   },
   "outputs": [],
   "source": [
    "Candidate.tax_return.__doc__ = \\\n",
    "    'has the candidate release their tax returns?'"
   ]
  },
  {
   "cell_type": "code",
   "execution_count": 69,
   "metadata": {
    "collapsed": true
   },
   "outputs": [],
   "source": [
    "h = Candidate(\"president\",\"Hillary\",\"Dem\",True)\n",
    "d = Candidate(\"president\",\"Donald\",\"Rep\",False)\n",
    "k = Candidate(\"senate\",\"Kamala\",\"Dem\",True)"
   ]
  },
  {
   "cell_type": "code",
   "execution_count": 70,
   "metadata": {
    "collapsed": false
   },
   "outputs": [
    {
     "data": {
      "text/plain": [
       "'Dem'"
      ]
     },
     "execution_count": 70,
     "metadata": {},
     "output_type": "execute_result"
    }
   ],
   "source": [
    "k.party"
   ]
  },
  {
   "cell_type": "code",
   "execution_count": 71,
   "metadata": {
    "collapsed": false
   },
   "outputs": [
    {
     "data": {
      "text/plain": [
       "OrderedDict([('office', 'president'),\n",
       "             ('name', 'Hillary'),\n",
       "             ('party', 'Dem'),\n",
       "             ('tax_return', True)])"
      ]
     },
     "execution_count": 71,
     "metadata": {},
     "output_type": "execute_result"
    }
   ],
   "source": [
    "h._asdict()\n",
    "# _asdict() Returns a new OrderedDict which maps field names \n",
    "#           to their values"
   ]
  },
  {
   "cell_type": "code",
   "execution_count": 72,
   "metadata": {
    "collapsed": false
   },
   "outputs": [
    {
     "data": {
      "text/plain": [
       "odict_keys(['office', 'name', 'party', 'tax_return'])"
      ]
     },
     "execution_count": 72,
     "metadata": {},
     "output_type": "execute_result"
    }
   ],
   "source": [
    "h._asdict().keys()"
   ]
  },
  {
   "cell_type": "code",
   "execution_count": 75,
   "metadata": {
    "collapsed": false
   },
   "outputs": [
    {
     "name": "stdout",
     "output_type": "stream",
     "text": [
      "Hillary (Dem): shown tax returns? True\n",
      "Donald (Rep): shown tax returns? False\n",
      "Kamala (Dem): shown tax returns? True\n"
     ]
    }
   ],
   "source": [
    "for cand in [h,d,k]:\n",
    "    print(\"{0} ({1}): shown tax returns? {2}\" \\\n",
    "         .format(cand.name,cand.party,cand.tax_return))"
   ]
  },
  {
   "cell_type": "code",
   "execution_count": 76,
   "metadata": {
    "collapsed": false
   },
   "outputs": [
    {
     "name": "stdout",
     "output_type": "stream",
     "text": [
      "from builtins import property as _property, tuple as _tuple\n",
      "from operator import itemgetter as _itemgetter\n",
      "from collections import OrderedDict\n",
      "\n",
      "class Candidate(tuple):\n",
      "    'Candidate(office, name, party, tax_return)'\n",
      "\n",
      "    __slots__ = ()\n",
      "\n",
      "    _fields = ('office', 'name', 'party', 'tax_return')\n",
      "\n",
      "    def __new__(_cls, office, name, party, tax_return):\n",
      "        'Create new instance of Candidate(office, name, party, tax_return)'\n",
      "        return _tuple.__new__(_cls, (office, name, party, tax_return))\n",
      "\n",
      "    @classmethod\n",
      "    def _make(cls, iterable, new=tuple.__new__, len=len):\n",
      "        'Make a new Candidate object from a sequence or iterable'\n",
      "        result = new(cls, iterable)\n",
      "        if len(result) != 4:\n",
      "            raise TypeError('Expected 4 arguments, got %d' % len(result))\n",
      "        return result\n",
      "\n",
      "    def _replace(_self, **kwds):\n",
      "        'Return a new Candidate object replacing specified fields with new values'\n",
      "        result = _self._make(map(kwds.pop, ('office', 'name', 'party', 'tax_return'), _self))\n",
      "        if kwds:\n",
      "            raise ValueError('Got unexpected field names: %r' % list(kwds))\n",
      "        return result\n",
      "\n",
      "    def __repr__(self):\n",
      "        'Return a nicely formatted representation string'\n",
      "        return self.__class__.__name__ + '(office=%r, name=%r, party=%r, tax_return=%r)' % self\n",
      "\n",
      "    def _asdict(self):\n",
      "        'Return a new OrderedDict which maps field names to their values.'\n",
      "        return OrderedDict(zip(self._fields, self))\n",
      "\n",
      "    def __getnewargs__(self):\n",
      "        'Return self as a plain tuple.  Used by copy and pickle.'\n",
      "        return tuple(self)\n",
      "\n",
      "    office = _property(_itemgetter(0), doc='Alias for field number 0')\n",
      "\n",
      "    name = _property(_itemgetter(1), doc='Alias for field number 1')\n",
      "\n",
      "    party = _property(_itemgetter(2), doc='Alias for field number 2')\n",
      "\n",
      "    tax_return = _property(_itemgetter(3), doc='Alias for field number 3')\n",
      "\n",
      "\n"
     ]
    }
   ],
   "source": [
    "print(Candidate._source)"
   ]
  },
  {
   "cell_type": "markdown",
   "metadata": {},
   "source": [
    "# Making Iterables #\n",
    "\n",
    "<center>\n",
    "Python can loop over many different types\n",
    "</center>"
   ]
  },
  {
   "cell_type": "markdown",
   "metadata": {},
   "source": [
    "```python\n",
    "    >>> for element in [1, 2, 3]:\n",
    "        print(element, end=\" \")\n",
    "    1 2 3\n",
    "    >>> for element in (1, 2, 3):\n",
    "        print(element, end=\" \")\n",
    "    1 2 3\n",
    "    >>> for key in {'one':1, 'two':2}:\n",
    "        print(key, end=\" \")\n",
    "    one two\n",
    "    >>> for char in \"123\":\n",
    "        print(char, end=\" \")\n",
    "    1 2 3\n",
    "    >>> for a in {4,1,3,4,2}:\n",
    "        print(a, end=\" \")\n",
    "    1 2 3 4\n",
    "    >>> print({4,1,3,4,2,\"a\",0j})\n",
    "        set([0j, 'a', 2, 3, 4, 1])\n",
    "    \n",
    "```"
   ]
  },
  {
   "cell_type": "markdown",
   "metadata": {},
   "source": [
    "# Making Iterables #\n",
    "<center>\n",
    "Each of those above types have built-in methods. So do, even, file, objects:\n",
    "</center>"
   ]
  },
  {
   "cell_type": "code",
   "execution_count": 82,
   "metadata": {
    "collapsed": false
   },
   "outputs": [
    {
     "name": "stdout",
     "output_type": "stream",
     "text": [
      "# here's some passwords I cracked\n",
      "\n",
      "guido  Monty\n",
      "\n",
      "cleese Python\n",
      "\n"
     ]
    }
   ],
   "source": [
    "for l in open(\"password.txt\",\"r\"):\n",
    "    print(l)\n",
    "   "
   ]
  },
  {
   "cell_type": "code",
   "execution_count": 84,
   "metadata": {
    "collapsed": false
   },
   "outputs": [
    {
     "name": "stdout",
     "output_type": "stream",
     "text": [
      "dog cat chess "
     ]
    }
   ],
   "source": [
    "for x in [\"dog\",\"cat\",\"chess\"]:\n",
    "    print(x, end=\" \")"
   ]
  },
  {
   "cell_type": "code",
   "execution_count": 85,
   "metadata": {
    "collapsed": true
   },
   "outputs": [],
   "source": [
    "# this is what actually getting call by `for` call\n",
    "# for x in a\n",
    "a = {\"cal\": \"wow\", \"stanford\": \"meh\"}\n",
    "b = iter(a)"
   ]
  },
  {
   "cell_type": "code",
   "execution_count": 86,
   "metadata": {
    "collapsed": false
   },
   "outputs": [
    {
     "data": {
      "text/plain": [
       "<dict_keyiterator at 0x104e3df48>"
      ]
     },
     "execution_count": 86,
     "metadata": {},
     "output_type": "execute_result"
    }
   ],
   "source": [
    "b"
   ]
  },
  {
   "cell_type": "code",
   "execution_count": 87,
   "metadata": {
    "collapsed": false
   },
   "outputs": [
    {
     "data": {
      "text/plain": [
       "'stanford'"
      ]
     },
     "execution_count": 87,
     "metadata": {},
     "output_type": "execute_result"
    }
   ],
   "source": [
    "next(b)"
   ]
  },
  {
   "cell_type": "code",
   "execution_count": 88,
   "metadata": {
    "collapsed": false
   },
   "outputs": [
    {
     "data": {
      "text/plain": [
       "'cal'"
      ]
     },
     "execution_count": 88,
     "metadata": {},
     "output_type": "execute_result"
    }
   ],
   "source": [
    "next(b)"
   ]
  },
  {
   "cell_type": "code",
   "execution_count": 89,
   "metadata": {
    "collapsed": false
   },
   "outputs": [
    {
     "ename": "StopIteration",
     "evalue": "",
     "output_type": "error",
     "traceback": [
      "\u001b[0;31m------------------------------------------------------------------\u001b[0m",
      "\u001b[0;31mStopIteration\u001b[0m                    Traceback (most recent call last)",
      "\u001b[0;32m<ipython-input-89-641a931447e8>\u001b[0m in \u001b[0;36m<module>\u001b[0;34m()\u001b[0m\n\u001b[0;32m----> 1\u001b[0;31m \u001b[0mnext\u001b[0m\u001b[0;34m(\u001b[0m\u001b[0mb\u001b[0m\u001b[0;34m)\u001b[0m\u001b[0;34m\u001b[0m\u001b[0m\n\u001b[0m",
      "\u001b[0;31mStopIteration\u001b[0m: "
     ]
    }
   ],
   "source": [
    "next(b)"
   ]
  },
  {
   "cell_type": "code",
   "execution_count": 90,
   "metadata": {
    "collapsed": true
   },
   "outputs": [],
   "source": [
    "b.__next__?"
   ]
  },
  {
   "cell_type": "markdown",
   "metadata": {},
   "source": [
    "<div class=\"alert alert-success\">\n",
    "note the consistency with `str()` and `__str__`, `len()` and `__len()__`, ...\n",
    "</div>"
   ]
  },
  {
   "cell_type": "markdown",
   "metadata": {},
   "source": [
    "# Making iterables #\n",
    "\n",
    "<p class=\"gap05\"</p>\n",
    "\n",
    "We can make classes that know how to iterate, becoming new iterables types. The key is to build to special methods: ``.__iter__()`` and ``.__next__()``\n",
    "\n",
    "<p class=\"gap03\"</p>\n",
    "\n",
    " * `.__iter__()` : return an iterator object (usually just self) \n",
    " \n",
    " * `.__next__()` : return the next element in the iterator. raise a `StopIteration` exception if there is nothing left\n",
    " \n",
    "<p class=\"gap05\"</p>\n",
    "\n",
    "https://docs.python.org/3/library/stdtypes.html#typeite"
   ]
  },
  {
   "cell_type": "code",
   "execution_count": 93,
   "metadata": {
    "collapsed": false
   },
   "outputs": [
    {
     "name": "stdout",
     "output_type": "stream",
     "text": [
      "Writing myits1.py\n"
     ]
    }
   ],
   "source": [
    "%%file myits1.py\n",
    "\n",
    "\"\"\"Let's make an iterator\"\"\"\n",
    "class Reverse(object):\n",
    "    \"\"\"Iterator class for looping over a sequence backwards\"\"\"\n",
    "    def __init__(self,data):\n",
    "        self.data = data\n",
    "        self.index = len(data)\n",
    "        \n",
    "    def __iter__(self):\n",
    "        #this is a required of an iterating class\n",
    "        return self\n",
    "    \n",
    "    def __next__(self):\n",
    "        #we got to the front of the array\n",
    "        if self.index == 0:\n",
    "            raise StopIteration\n",
    "            \n",
    "        self.index = self.index - 1\n",
    "        return self.data[self.index]\n",
    "    "
   ]
  },
  {
   "cell_type": "code",
   "execution_count": 94,
   "metadata": {
    "collapsed": true
   },
   "outputs": [],
   "source": [
    "%run myits1.py"
   ]
  },
  {
   "cell_type": "code",
   "execution_count": 96,
   "metadata": {
    "collapsed": false
   },
   "outputs": [
    {
     "name": "stdout",
     "output_type": "stream",
     "text": [
      "<__main__.Reverse object at 0x104e45240>\n"
     ]
    }
   ],
   "source": [
    "r = Reverse(\"god\")\n",
    "print(r)"
   ]
  },
  {
   "cell_type": "code",
   "execution_count": 97,
   "metadata": {
    "collapsed": false
   },
   "outputs": [
    {
     "name": "stdout",
     "output_type": "stream",
     "text": [
      "d o g "
     ]
    }
   ],
   "source": [
    "for c in r: print(c,end=\" \")"
   ]
  },
  {
   "cell_type": "markdown",
   "metadata": {},
   "source": [
    "<img src=\"http://s2.quickmeme.com/img/2f/2fc026b7f8b0b6a73f4029eb249346861459e1428d11485edf6558f75e48a7bb.jpg\", width=\"50%\">"
   ]
  },
  {
   "cell_type": "code",
   "execution_count": 113,
   "metadata": {
    "collapsed": false
   },
   "outputs": [
    {
     "data": {
      "text/plain": [
       "'l'"
      ]
     },
     "execution_count": 113,
     "metadata": {},
     "output_type": "execute_result"
    }
   ],
   "source": [
    "next(r)"
   ]
  },
  {
   "cell_type": "code",
   "execution_count": 109,
   "metadata": {
    "collapsed": true
   },
   "outputs": [],
   "source": [
    "r.index = 10"
   ]
  },
  {
   "cell_type": "code",
   "execution_count": 102,
   "metadata": {
    "collapsed": false
   },
   "outputs": [
    {
     "name": "stdout",
     "output_type": "stream",
     "text": [
      "a m a n a p l a n a c a n a l p a n a m a "
     ]
    }
   ],
   "source": [
    "r = Reverse(\"amanaplanacanalpanama\")\n",
    "for c in r: print(c,end=\" \")"
   ]
  },
  {
   "cell_type": "markdown",
   "metadata": {},
   "source": [
    "## Generators ##\n",
    "\n",
    "<p class=\"gap03\" </p>\n",
    "Create a `generator` expression, something that is iterable\n",
    "<p class=\"gap03\" </p>\n",
    "\n",
    "> e.g., (x**2 for x in range(3))\n",
    "\n",
    "<p class=\"gap03\"</p>\n",
    "Like this comprehension [] and set comprenhension {}"
   ]
  },
  {
   "cell_type": "code",
   "execution_count": 114,
   "metadata": {
    "collapsed": true
   },
   "outputs": [],
   "source": [
    "a = ((x,x**2) for x in range(3))"
   ]
  },
  {
   "cell_type": "code",
   "execution_count": 117,
   "metadata": {
    "collapsed": false
   },
   "outputs": [
    {
     "data": {
      "text/plain": [
       "{0: 0, 1: 1, 2: 4}"
      ]
     },
     "execution_count": 117,
     "metadata": {},
     "output_type": "execute_result"
    }
   ],
   "source": [
    "dict([(x,x**2) for x in range(3)])"
   ]
  },
  {
   "cell_type": "code",
   "execution_count": 118,
   "metadata": {
    "collapsed": false
   },
   "outputs": [
    {
     "name": "stdout",
     "output_type": "stream",
     "text": [
      "0 1 4 "
     ]
    }
   ],
   "source": [
    "for i in (x**2 for x in range(3)):\n",
    "    print(i,end=\" \")"
   ]
  },
  {
   "cell_type": "code",
   "execution_count": 119,
   "metadata": {
    "collapsed": false
   },
   "outputs": [
    {
     "data": {
      "text/plain": [
       "55"
      ]
     },
     "execution_count": 119,
     "metadata": {},
     "output_type": "execute_result"
    }
   ],
   "source": [
    "sum((x for x in range(11)))"
   ]
  },
  {
   "cell_type": "markdown",
   "metadata": {},
   "source": [
    "## Making generators ##\n",
    "\n",
    "<p class=\"gap03\"</p>\n",
    "we can also make iterables using generating functions\n",
    "<p class=\"gap03\"</p>\n",
    "\n",
    "<div class=\"alert ater-success\"> \n",
    "Generators are iterators, but you can only iterate over them once. It's because they don't store all the values in memory, they generate the values on the fly\n",
    "</div>\n",
    "\n",
    "<font color=\"red\"><b>yield</b></font>\n",
    "inside of a function acts like a \"temporary return\" but saves the entire state of the local variables for further use\n"
   ]
  },
  {
   "cell_type": "code",
   "execution_count": 120,
   "metadata": {
    "collapsed": false
   },
   "outputs": [
    {
     "name": "stdout",
     "output_type": "stream",
     "text": [
      "Writing first_its.py\n"
     ]
    }
   ],
   "source": [
    "%%file first_its.py\n",
    "def integers():\n",
    "    \"\"\"Infinite sequence of integers.\"\"\"\n",
    "    i = 1\n",
    "    while True:\n",
    "        yield i\n",
    "        i = i + 1\n",
    "        \n",
    "def squares():\n",
    "    for i in integers():\n",
    "        yield i*i"
   ]
  },
  {
   "cell_type": "code",
   "execution_count": 121,
   "metadata": {
    "collapsed": true
   },
   "outputs": [],
   "source": [
    "%run first_its.py"
   ]
  },
  {
   "cell_type": "code",
   "execution_count": 122,
   "metadata": {
    "collapsed": false
   },
   "outputs": [
    {
     "name": "stdout",
     "output_type": "stream",
     "text": [
      "1\n",
      "4\n",
      "9\n"
     ]
    }
   ],
   "source": [
    "for x in squares():\n",
    "    if x > 10: break\n",
    "    print(x)"
   ]
  },
  {
   "cell_type": "code",
   "execution_count": 123,
   "metadata": {
    "collapsed": false
   },
   "outputs": [
    {
     "name": "stdout",
     "output_type": "stream",
     "text": [
      "Writing myits2.py\n"
     ]
    }
   ],
   "source": [
    "%%file myits2.py\n",
    "\n",
    "def countdown(start,end=0,step=1):\n",
    "    i = start\n",
    "    while (i >= end) or end ==None:\n",
    "        yield i\n",
    "        i -= step"
   ]
  },
  {
   "cell_type": "markdown",
   "metadata": {},
   "source": [
    "when the function stops yielding, `StopIteration` is raised (implicitly)"
   ]
  },
  {
   "cell_type": "code",
   "execution_count": 124,
   "metadata": {
    "collapsed": true
   },
   "outputs": [],
   "source": [
    "%run myits2.py"
   ]
  },
  {
   "cell_type": "code",
   "execution_count": 125,
   "metadata": {
    "collapsed": true
   },
   "outputs": [],
   "source": [
    "c = countdown(3)"
   ]
  },
  {
   "cell_type": "code",
   "execution_count": 126,
   "metadata": {
    "collapsed": false
   },
   "outputs": [
    {
     "data": {
      "text/plain": [
       "<generator object countdown at 0x104eb74c0>"
      ]
     },
     "execution_count": 126,
     "metadata": {},
     "output_type": "execute_result"
    }
   ],
   "source": [
    "c"
   ]
  },
  {
   "cell_type": "code",
   "execution_count": 127,
   "metadata": {
    "collapsed": false
   },
   "outputs": [
    {
     "data": {
      "text/plain": [
       "3"
      ]
     },
     "execution_count": 127,
     "metadata": {},
     "output_type": "execute_result"
    }
   ],
   "source": [
    "next(c)"
   ]
  },
  {
   "cell_type": "code",
   "execution_count": 128,
   "metadata": {
    "collapsed": false
   },
   "outputs": [
    {
     "data": {
      "text/plain": [
       "2"
      ]
     },
     "execution_count": 128,
     "metadata": {},
     "output_type": "execute_result"
    }
   ],
   "source": [
    "next(c)"
   ]
  },
  {
   "cell_type": "code",
   "execution_count": 129,
   "metadata": {
    "collapsed": false
   },
   "outputs": [
    {
     "data": {
      "text/plain": [
       "1"
      ]
     },
     "execution_count": 129,
     "metadata": {},
     "output_type": "execute_result"
    }
   ],
   "source": [
    "next(c)"
   ]
  },
  {
   "cell_type": "code",
   "execution_count": 130,
   "metadata": {
    "collapsed": false
   },
   "outputs": [
    {
     "data": {
      "text/plain": [
       "0"
      ]
     },
     "execution_count": 130,
     "metadata": {},
     "output_type": "execute_result"
    }
   ],
   "source": [
    "next(c)"
   ]
  },
  {
   "cell_type": "code",
   "execution_count": 131,
   "metadata": {
    "collapsed": false
   },
   "outputs": [
    {
     "ename": "StopIteration",
     "evalue": "",
     "output_type": "error",
     "traceback": [
      "\u001b[0;31m------------------------------------------------------------------\u001b[0m",
      "\u001b[0;31mStopIteration\u001b[0m                    Traceback (most recent call last)",
      "\u001b[0;32m<ipython-input-131-73b012f9653f>\u001b[0m in \u001b[0;36m<module>\u001b[0;34m()\u001b[0m\n\u001b[0;32m----> 1\u001b[0;31m \u001b[0mnext\u001b[0m\u001b[0;34m(\u001b[0m\u001b[0mc\u001b[0m\u001b[0;34m)\u001b[0m\u001b[0;34m\u001b[0m\u001b[0m\n\u001b[0m",
      "\u001b[0;31mStopIteration\u001b[0m: "
     ]
    }
   ],
   "source": [
    "next(c)"
   ]
  },
  {
   "cell_type": "markdown",
   "metadata": {},
   "source": [
    "\"iteration on list: `next()` returns the next element o the list iteration generator; `next()` will compute the next element on the fly\"\n",
    "\n",
    "http://stackoverflow.com/questions/231767/the-python-yield-keyword-explained"
   ]
  },
  {
   "cell_type": "markdown",
   "metadata": {},
   "source": [
    "# Example: Fibonacci sequence #\n",
    "\n",
    "$$\n",
    "F(n) = \\left\\{ \\begin{array}{rl}\n",
    "  0 &\\mbox{ if $n=0$} \\\\\n",
    "  1 &\\mbox{ if $n=1$} \\\\\n",
    "  F(n -1) + F(n -2) & \\mbox{ if $n >1$}\n",
    "       \\end{array} \\right.\n",
    "$$\n",
    "\n",
    "output: 0, 1, 1, 2, 3, 5, 8, 13, 21, ..."
   ]
  },
  {
   "cell_type": "code",
   "execution_count": 132,
   "metadata": {
    "collapsed": false
   },
   "outputs": [
    {
     "name": "stdout",
     "output_type": "stream",
     "text": [
      "Writing myits3.py\n"
     ]
    }
   ],
   "source": [
    "%%file myits3.py\n",
    "\n",
    "def fib():\n",
    "    a = 0\n",
    "    b = 1\n",
    "    i = 0\n",
    "    while True:\n",
    "        yield a\n",
    "        i += 1\n",
    "        a, b = b,a + b"
   ]
  },
  {
   "cell_type": "code",
   "execution_count": 133,
   "metadata": {
    "collapsed": true
   },
   "outputs": [],
   "source": [
    "%run myits3.py"
   ]
  },
  {
   "cell_type": "code",
   "execution_count": 134,
   "metadata": {
    "collapsed": true
   },
   "outputs": [],
   "source": [
    "a = fib()"
   ]
  },
  {
   "cell_type": "code",
   "execution_count": 135,
   "metadata": {
    "collapsed": false
   },
   "outputs": [
    {
     "data": {
      "text/plain": [
       "generator"
      ]
     },
     "execution_count": 135,
     "metadata": {},
     "output_type": "execute_result"
    }
   ],
   "source": [
    "type(a)"
   ]
  },
  {
   "cell_type": "code",
   "execution_count": 136,
   "metadata": {
    "collapsed": false
   },
   "outputs": [
    {
     "name": "stdout",
     "output_type": "stream",
     "text": [
      "0 1 1 2 3 5 8 13 21 34 55 89 144 233 377 "
     ]
    }
   ],
   "source": [
    "for i in range(15): print(next(a),end=\" \")"
   ]
  },
  {
   "cell_type": "code",
   "execution_count": 139,
   "metadata": {
    "collapsed": false
   },
   "outputs": [
    {
     "name": "stdout",
     "output_type": "stream",
     "text": [
      "Overwriting myits4.py\n"
     ]
    }
   ],
   "source": [
    "%%file myits4.py\n",
    "\n",
    "def fib1(start=0,end=None,maxnum=100):\n",
    "    \"\"\"\n",
    "    another yield example, allowing the user to start their own Fibonacci sequence\n",
    "    at start (default 0)\n",
    "    \"\"\"\n",
    "    a = start\n",
    "    b = start + 1\n",
    "    n_yielded = 0\n",
    "    while(n_yielded < maxnum or maxnum is None) and ((end is None) or (abs(a) < abs(end))):\n",
    "        yield a\n",
    "        n_yielded += 1 \n",
    "        a, b = b, a + b"
   ]
  },
  {
   "cell_type": "code",
   "execution_count": 140,
   "metadata": {
    "collapsed": false
   },
   "outputs": [],
   "source": [
    "%run myits4.py"
   ]
  },
  {
   "cell_type": "code",
   "execution_count": 145,
   "metadata": {
    "collapsed": false
   },
   "outputs": [
    {
     "name": "stdout",
     "output_type": "stream",
     "text": [
      "1 2 3 5 8 "
     ]
    }
   ],
   "source": [
    "for e in fib1(start=1,end=12,maxnum=120):print(e,end=\" \")"
   ]
  },
  {
   "cell_type": "markdown",
   "metadata": {},
   "source": [
    "# Itertools #"
   ]
  },
  {
   "cell_type": "code",
   "execution_count": 146,
   "metadata": {
    "collapsed": true
   },
   "outputs": [],
   "source": [
    "import itertools"
   ]
  },
  {
   "cell_type": "code",
   "execution_count": 155,
   "metadata": {
    "collapsed": true
   },
   "outputs": [],
   "source": [
    "## chain many iterables together\n",
    "a = itertools.chain((x**2 for x in range(3)), (x**3 for x in range(3)))"
   ]
  },
  {
   "cell_type": "code",
   "execution_count": 156,
   "metadata": {
    "collapsed": false
   },
   "outputs": [
    {
     "name": "stdout",
     "output_type": "stream",
     "text": [
      "0\n",
      "1\n",
      "4\n",
      "0\n",
      "1\n",
      "8\n"
     ]
    }
   ],
   "source": [
    "for x in a: print(x,)"
   ]
  },
  {
   "cell_type": "code",
   "execution_count": 157,
   "metadata": {
    "collapsed": false
   },
   "outputs": [
    {
     "data": {
      "text/plain": [
       "itertools.chain"
      ]
     },
     "execution_count": 157,
     "metadata": {},
     "output_type": "execute_result"
    }
   ],
   "source": [
    "type(a)"
   ]
  },
  {
   "cell_type": "code",
   "execution_count": 158,
   "metadata": {
    "collapsed": false
   },
   "outputs": [
    {
     "name": "stdout",
     "output_type": "stream",
     "text": [
      "<itertools.chain object at 0x104eb29e8>\n"
     ]
    }
   ],
   "source": [
    "print(a)"
   ]
  },
  {
   "cell_type": "code",
   "execution_count": 165,
   "metadata": {
    "collapsed": false
   },
   "outputs": [
    {
     "name": "stdout",
     "output_type": "stream",
     "text": [
      "True\n",
      "True\n"
     ]
    }
   ],
   "source": [
    "print(hasattr(a,\"__next__\"))\n",
    "print(hasattr(a,\"__iter__\"))"
   ]
  },
  {
   "cell_type": "code",
   "execution_count": 166,
   "metadata": {
    "collapsed": false
   },
   "outputs": [
    {
     "name": "stdout",
     "output_type": "stream",
     "text": [
      "('dog', 'cat')\n",
      "('dog', 'cheeze')\n",
      "('cat', 'cheeze')\n"
     ]
    }
   ],
   "source": [
    "for x in itertools.combinations([\"dog\",\"cat\",\"cheeze\"],2):\n",
    "    print(x,)"
   ]
  },
  {
   "cell_type": "code",
   "execution_count": 168,
   "metadata": {
    "collapsed": false
   },
   "outputs": [
    {
     "name": "stdout",
     "output_type": "stream",
     "text": [
      "('dog', 'cat', 'cheeze')\n",
      "('dog', 'cheeze', 'cat')\n",
      "('cat', 'dog', 'cheeze')\n",
      "('cat', 'cheeze', 'dog')\n",
      "('cheeze', 'dog', 'cat')\n",
      "('cheeze', 'cat', 'dog')\n"
     ]
    }
   ],
   "source": [
    "for x in itertools.permutations([\"dog\",\"cat\",\"cheeze\"]):\n",
    "    print(x,)"
   ]
  },
  {
   "cell_type": "markdown",
   "metadata": {},
   "source": [
    "# Context Managers\n",
    "\n",
    "allow you to build classes that provide a context to what you do:\n",
    "everything inside of a ``with`` statement operates abides by the context you create. You decide how to build up the context and how to tear it down.\n",
    "\n",
    "e.g., holding a lockfile, running a database transaction\n",
    "\n",
    "```python\n",
    ">>> with open(\"password.file\",\"r\") as f:\n",
    "    print f.readlines() \n",
    "[\"# here's some passwords I cracked\",\"guido  Monty\",\"cleese Python\"]\n",
    "```\n",
    "\n",
    "`f.close()` got called for us (and would have even under an exception)\n",
    "\n",
    "http://www.python.org/dev/peps/pep-0343/"
   ]
  },
  {
   "cell_type": "code",
   "execution_count": 1,
   "metadata": {
    "collapsed": false
   },
   "outputs": [
    {
     "name": "stdout",
     "output_type": "stream",
     "text": [
      "Writing myctx1.py\n"
     ]
    }
   ],
   "source": [
    "%%file myctx1.py\n",
    "\n",
    "class MyDecor:\n",
    "    def __enter__(self):\n",
    "        print(\"Entered a wonderful technicolor world. Build it up\")\n",
    "    \n",
    "    def __exit__(self,*args):\n",
    "        ## *args hold the exception arg if needed\n",
    "        print(\"...exiting this wonderful world. Tear it down.\")\n",
    "        "
   ]
  },
  {
   "cell_type": "code",
   "execution_count": 3,
   "metadata": {
    "collapsed": true
   },
   "outputs": [],
   "source": [
    "%run myctx1.py\n",
    "a = MyDecor()"
   ]
  },
  {
   "cell_type": "code",
   "execution_count": 4,
   "metadata": {
    "collapsed": false
   },
   "outputs": [
    {
     "name": "stdout",
     "output_type": "stream",
     "text": [
      "Entered a wonderful technicolor world. Build it up\n",
      " Do something!\n",
      "...exiting this wonderful world. Tear it down.\n"
     ]
    }
   ],
   "source": [
    "with MyDecor():\n",
    "    print(\" Do something!\")"
   ]
  },
  {
   "cell_type": "code",
   "execution_count": 5,
   "metadata": {
    "collapsed": false
   },
   "outputs": [
    {
     "name": "stdout",
     "output_type": "stream",
     "text": [
      "Writing myctx2.py\n"
     ]
    }
   ],
   "source": [
    "%%file myctx2.py\n",
    "\n",
    "class MyDecor1:\n",
    "    \n",
    "    def __init__(self,expression=\"None\"):\n",
    "        self.expression = expression\n",
    "    def __enter__(self):\n",
    "        print(\"Entered a wonderful technicolor world. Build it up\")\n",
    "        return eval(self.expression)\n",
    "    def __exit__(self,*args):\n",
    "        print(\"...exiting this wonderful world. Tear it down.\")"
   ]
  },
  {
   "cell_type": "code",
   "execution_count": 6,
   "metadata": {
    "collapsed": false
   },
   "outputs": [
    {
     "name": "stdout",
     "output_type": "stream",
     "text": [
      "Entered a wonderful technicolor world. Build it up\n",
      "8\n",
      "...exiting this wonderful world. Tear it down.\n"
     ]
    }
   ],
   "source": [
    "%run myctx2.py\n",
    "with MyDecor1(\"2**3\") as x:\n",
    "    print(x)"
   ]
  },
  {
   "cell_type": "code",
   "execution_count": 8,
   "metadata": {
    "collapsed": false
   },
   "outputs": [
    {
     "name": "stdout",
     "output_type": "stream",
     "text": [
      "Entered a wonderful technicolor world. Build it up\n",
      "1.0\n",
      "...exiting this wonderful world. Tear it down.\n"
     ]
    }
   ],
   "source": [
    "with MyDecor1(\"2\") as x:\n",
    "    print(x/2)"
   ]
  },
  {
   "cell_type": "markdown",
   "metadata": {},
   "source": [
    "# Decorators #\n",
    "\n",
    "special functions/classes that augment the functionality of other functions or classes (called in other lenguages macros or annotations)\n",
    "\n",
    "Denoted with a @sign, inmediately preceding decorator name, e.g. `@require_login` or `@testinput`"
   ]
  },
  {
   "cell_type": "code",
   "execution_count": 10,
   "metadata": {
    "collapsed": false
   },
   "outputs": [
    {
     "name": "stdout",
     "output_type": "stream",
     "text": [
      "Writing myctx3.py\n"
     ]
    }
   ],
   "source": [
    "%%file myctx3.py\n",
    "\n",
    "def entryExit(f):\n",
    "    def new_f():\n",
    "        print(\"Entering\",f.__name__)\n",
    "        f()\n",
    "        print(\"Exiting\",f.__name__)\n",
    "    return new_f\n",
    "\n",
    "@entryExit\n",
    "def func1():\n",
    "    print(\"inside func1()\")\n",
    "\n",
    "@entryExit\n",
    "def func2():\n",
    "    print(\"inside func2()\")"
   ]
  },
  {
   "cell_type": "code",
   "execution_count": 11,
   "metadata": {
    "collapsed": true
   },
   "outputs": [],
   "source": [
    "%run myctx3.py"
   ]
  },
  {
   "cell_type": "code",
   "execution_count": 12,
   "metadata": {
    "collapsed": false
   },
   "outputs": [
    {
     "name": "stdout",
     "output_type": "stream",
     "text": [
      "Entering func1\n",
      "inside func1()\n",
      "Exiting func1\n"
     ]
    }
   ],
   "source": [
    "func1()"
   ]
  },
  {
   "cell_type": "code",
   "execution_count": 13,
   "metadata": {
    "collapsed": false
   },
   "outputs": [
    {
     "name": "stdout",
     "output_type": "stream",
     "text": [
      "Entering func2\n",
      "inside func2()\n",
      "Exiting func2\n"
     ]
    }
   ],
   "source": [
    "func2()"
   ]
  },
  {
   "cell_type": "code",
   "execution_count": 18,
   "metadata": {
    "collapsed": false
   },
   "outputs": [
    {
     "name": "stdout",
     "output_type": "stream",
     "text": [
      "Overwriting myctx4.py\n"
     ]
    }
   ],
   "source": [
    "%%file myctx4.py\n",
    "\n",
    "def introspec(f):\n",
    "    def wrapper(*arg,**kwarg):\n",
    "        print(\"Function name = %s\" % f.__name__)\n",
    "        print(\"docstring = %s\" % f.__doc__)\n",
    "        if len(arg) > 0:\n",
    "            print(\"  ... got passed arg: %s\" % str(arg))\n",
    "        if len(kwarg.keys()) > 0:\n",
    "            print(\"  ... got passed keywords: %s\" % str(kwarg))\n",
    "        return f(*arg,**kwarg)\n",
    "    return wrapper"
   ]
  },
  {
   "cell_type": "markdown",
   "metadata": {},
   "source": [
    "<div class=\"alert alert-info\">\n",
    "Some advantages to using `functools.wraps`:\n",
    "https://docs.python.org/3/library/functools.html#functools.wraps\n",
    "</div>"
   ]
  },
  {
   "cell_type": "code",
   "execution_count": 19,
   "metadata": {
    "collapsed": true
   },
   "outputs": [],
   "source": [
    "%run myctx4.py"
   ]
  },
  {
   "cell_type": "code",
   "execution_count": 20,
   "metadata": {
    "collapsed": false
   },
   "outputs": [
    {
     "name": "stdout",
     "output_type": "stream",
     "text": [
      "Function name = myrange\n",
      "docstring = None\n",
      "  ... got passed arg: (1, 10, 2)\n"
     ]
    },
    {
     "data": {
      "text/plain": [
       "range(1, 10, 2)"
      ]
     },
     "execution_count": 20,
     "metadata": {},
     "output_type": "execute_result"
    }
   ],
   "source": [
    "@introspec\n",
    "def myrange(start,stop,step):\n",
    "    return range(start,stop,step)\n",
    "\n",
    "myrange(1,10,2)"
   ]
  },
  {
   "cell_type": "markdown",
   "metadata": {},
   "source": [
    "### function annotations\n",
    "\n",
    "\"Function annotations are completely optional metadata information about the types used by user-defined functions.\" Discussed since 2006.\n",
    "\n",
    "Annotations are stored in the ``__annotations__`` attribute as a dictionary.\n",
    "\n",
    "https://docs.python.org/3/tutorial/controlflow.html#function-annotations"
   ]
  },
  {
   "cell_type": "code",
   "execution_count": 21,
   "metadata": {
    "collapsed": true
   },
   "outputs": [],
   "source": [
    "from functools import wraps\n",
    "from inspect import getcallargs # dictionary\n",
    "\n",
    "def enforce(f):\n",
    "    @wraps(f)\n",
    "    def wrapper(*args, **kws):\n",
    "        for var, val in getcallargs(f, *args, **kws).items():\n",
    "            if var in f.__annotations__:\n",
    "                if type(val) != f.__annotations__.get(var):\n",
    "                    raise TypeError(\"{} is not of type {}\"\n",
    "                                   .format(val,f.__annotations__.get(var)))\n",
    "        ret_value = f(*args, **kws)\n",
    "        if f.__annotations__.get(\"return\"):\n",
    "            if type(ret_value) != f.__annotations__.get(\"return\"):\n",
    "                raise TypeError(\"{} is not of type {}\"\n",
    "                                   .format(ret_value,f.__annotations__.get(\"return\")))\n",
    "        return ret_value\n",
    "    return wrapper\n",
    "\n",
    "@enforce\n",
    "def add_ints(x: int, y: int) -> int:\n",
    "    return x + y"
   ]
  },
  {
   "cell_type": "code",
   "execution_count": 22,
   "metadata": {
    "collapsed": false
   },
   "outputs": [
    {
     "data": {
      "text/plain": [
       "3"
      ]
     },
     "execution_count": 22,
     "metadata": {},
     "output_type": "execute_result"
    }
   ],
   "source": [
    "add_ints(1,2)"
   ]
  },
  {
   "cell_type": "code",
   "execution_count": 23,
   "metadata": {
    "collapsed": false
   },
   "outputs": [
    {
     "ename": "TypeError",
     "evalue": "1.0 is not of type <class 'int'>",
     "output_type": "error",
     "traceback": [
      "\u001b[0;31m------------------------------------------------------------------\u001b[0m",
      "\u001b[0;31mTypeError\u001b[0m                        Traceback (most recent call last)",
      "\u001b[0;32m<ipython-input-23-9d2832a39aae>\u001b[0m in \u001b[0;36m<module>\u001b[0;34m()\u001b[0m\n\u001b[0;32m----> 1\u001b[0;31m \u001b[0madd_ints\u001b[0m\u001b[0;34m(\u001b[0m\u001b[0;36m1.0\u001b[0m\u001b[0;34m,\u001b[0m\u001b[0;36m2\u001b[0m\u001b[0;34m)\u001b[0m\u001b[0;34m\u001b[0m\u001b[0m\n\u001b[0m",
      "\u001b[0;32m<ipython-input-21-caa78c2ab25e>\u001b[0m in \u001b[0;36mwrapper\u001b[0;34m(*args, **kws)\u001b[0m\n\u001b[1;32m      9\u001b[0m                 \u001b[0;32mif\u001b[0m \u001b[0mtype\u001b[0m\u001b[0;34m(\u001b[0m\u001b[0mval\u001b[0m\u001b[0;34m)\u001b[0m \u001b[0;34m!=\u001b[0m \u001b[0mf\u001b[0m\u001b[0;34m.\u001b[0m\u001b[0m__annotations__\u001b[0m\u001b[0;34m.\u001b[0m\u001b[0mget\u001b[0m\u001b[0;34m(\u001b[0m\u001b[0mvar\u001b[0m\u001b[0;34m)\u001b[0m\u001b[0;34m:\u001b[0m\u001b[0;34m\u001b[0m\u001b[0m\n\u001b[1;32m     10\u001b[0m                     raise TypeError(\"{} is not of type {}\"\n\u001b[0;32m---> 11\u001b[0;31m                                    .format(val,f.__annotations__.get(var)))\n\u001b[0m\u001b[1;32m     12\u001b[0m         \u001b[0mret_value\u001b[0m \u001b[0;34m=\u001b[0m \u001b[0mf\u001b[0m\u001b[0;34m(\u001b[0m\u001b[0;34m*\u001b[0m\u001b[0margs\u001b[0m\u001b[0;34m,\u001b[0m \u001b[0;34m**\u001b[0m\u001b[0mkws\u001b[0m\u001b[0;34m)\u001b[0m\u001b[0;34m\u001b[0m\u001b[0m\n\u001b[1;32m     13\u001b[0m         \u001b[0;32mif\u001b[0m \u001b[0mf\u001b[0m\u001b[0;34m.\u001b[0m\u001b[0m__annotations__\u001b[0m\u001b[0;34m.\u001b[0m\u001b[0mget\u001b[0m\u001b[0;34m(\u001b[0m\u001b[0;34m\"return\"\u001b[0m\u001b[0;34m)\u001b[0m\u001b[0;34m:\u001b[0m\u001b[0;34m\u001b[0m\u001b[0m\n",
      "\u001b[0;31mTypeError\u001b[0m: 1.0 is not of type <class 'int'>"
     ]
    }
   ],
   "source": [
    "add_ints(1.0,2)"
   ]
  },
  {
   "cell_type": "markdown",
   "metadata": {},
   "source": [
    "```python\n",
    "def requires_roles(*roles):\n",
    "    def wrapper(f):\n",
    "        @wraps(f)\n",
    "        def wrapped(*args, **kwargs):\n",
    "            if get_current_user_role() not in roles:\n",
    "                return error_response()\n",
    "            return f(*args, **kwargs)\n",
    "        return wrapped\n",
    "    return wrapper\n",
    "\n",
    "@app.route('/user')\n",
    "@required_roles('admin', 'user')\n",
    "def user_page(self):\n",
    "    return \"You've got permission to access this page.\"\n",
    "```"
   ]
  },
  {
   "cell_type": "code",
   "execution_count": 24,
   "metadata": {
    "collapsed": true
   },
   "outputs": [],
   "source": [
    "def bread(func):\n",
    "    def wrapper(*args):\n",
    "        print(\"</''''''\\>\")\n",
    "        func(*args)\n",
    "        print(\"<\\______/>\")\n",
    "    return wrapper\n",
    "\n",
    "def ingredients(func):\n",
    "    def wrapper(*args):\n",
    "        print(\"#tomatoes#\")\n",
    "        func(*args)\n",
    "        print(\"~salad~\")\n",
    "    return wrapper\n",
    "\n",
    "@bread\n",
    "@ingredients\n",
    "def sandwich(food=\"--spam--\"):\n",
    "    print(food)"
   ]
  },
  {
   "cell_type": "code",
   "execution_count": 25,
   "metadata": {
    "collapsed": false
   },
   "outputs": [
    {
     "name": "stdout",
     "output_type": "stream",
     "text": [
      "</''''''\\>\n",
      "#tomatoes#\n",
      "cow\n",
      "~salad~\n",
      "<\\______/>\n"
     ]
    }
   ],
   "source": [
    "sandwich(\"cow\")"
   ]
  },
  {
   "cell_type": "code",
   "execution_count": 26,
   "metadata": {
    "collapsed": false
   },
   "outputs": [
    {
     "name": "stdout",
     "output_type": "stream",
     "text": [
      "</''''''\\>\n",
      "#tomatoes#\n",
      "--antelope--\n",
      "~salad~\n",
      "<\\______/>\n"
     ]
    }
   ],
   "source": [
    "sandwich(\"--antelope--\")"
   ]
  },
  {
   "cell_type": "code",
   "execution_count": null,
   "metadata": {
    "collapsed": true
   },
   "outputs": [],
   "source": []
  }
 ],
 "metadata": {
  "anaconda-cloud": {},
  "kernelspec": {
   "display_name": "Python [conda env:ay250]",
   "language": "python",
   "name": "conda-env-ay250-py"
  },
  "language_info": {
   "codemirror_mode": {
    "name": "ipython",
    "version": 3
   },
   "file_extension": ".py",
   "mimetype": "text/x-python",
   "name": "python",
   "nbconvert_exporter": "python",
   "pygments_lexer": "ipython3",
   "version": "3.5.2"
  }
 },
 "nbformat": 4,
 "nbformat_minor": 1
}
