{
 "cells": [
  {
   "cell_type": "code",
   "execution_count": 1,
   "metadata": {
    "collapsed": false
   },
   "outputs": [
    {
     "data": {
      "text/html": [
       "<style>\n",
       "\n",
       ".rendered_html\n",
       "{\n",
       "  color: #2C5494;\n",
       "  font-family: Ubuntu;\n",
       "  font-size: 140%;\n",
       "  line-height: 1.1;\n",
       "  margin: 0.5em 0;\n",
       "  }\n",
       "\n",
       ".talk_title\n",
       "{\n",
       "  color: #498AF3;\n",
       "  font-size: 250%;\n",
       "  font-weight:bold;\n",
       "  line-height: 1.2; \n",
       "  margin: 10px 50px 10px;\n",
       "  }\n",
       "\n",
       ".subtitle\n",
       "{\n",
       "  color: #386BBC;\n",
       "  font-size: 180%;\n",
       "  font-weight:bold;\n",
       "  line-height: 1.2; \n",
       "  margin: 20px 50px 20px;\n",
       "  }\n",
       "\n",
       ".slide-header, p.slide-header\n",
       "{\n",
       "  color: #498AF3;\n",
       "  font-size: 200%;\n",
       "  font-weight:bold;\n",
       "  margin: 0px 20px 10px;\n",
       "  page-break-before: always;\n",
       "  text-align: center;\n",
       "  }\n",
       "\n",
       ".rendered_html h1\n",
       "{\n",
       "  color: #498AF3;\n",
       "  line-height: 1.2; \n",
       "  margin: 0.15em 0em 0.5em;\n",
       "  page-break-before: always;\n",
       "  text-align: center;\n",
       "  }\n",
       "\n",
       "\n",
       ".rendered_html h2\n",
       "{ \n",
       "  color: #386BBC;\n",
       "  line-height: 1.2;\n",
       "  margin: 1.1em 0em 0.5em;\n",
       "  }\n",
       "\n",
       ".rendered_html h3\n",
       "{ \n",
       "  font-size: 100%;\n",
       "  line-height: 1.2;\n",
       "  margin: 1.1em 0em 0.5em;\n",
       "  }\n",
       "\n",
       ".rendered_html li\n",
       "{\n",
       "  line-height: 1.8;\n",
       "  }\n",
       "\n",
       ".input_prompt, .CodeMirror-lines, .output_area\n",
       "{\n",
       "  font-family: Consolas;\n",
       "  font-size: 120%;\n",
       "  }\n",
       "\n",
       ".gap-above\n",
       "{\n",
       "  padding-top: 200px;\n",
       "  }\n",
       "\n",
       ".gap01\n",
       "{\n",
       "  padding-top: 10px;\n",
       "  }\n",
       "\n",
       ".gap05\n",
       "{\n",
       "  padding-top: 50px;\n",
       "  }\n",
       "\n",
       ".gap1\n",
       "{\n",
       "  padding-top: 100px;\n",
       "  }\n",
       "\n",
       ".gap2\n",
       "{\n",
       "  padding-top: 200px;\n",
       "  }\n",
       "\n",
       ".gap3\n",
       "{\n",
       "  padding-top: 300px;\n",
       "  }\n",
       "\n",
       ".emph\n",
       "{\n",
       "  color: #386BBC;\n",
       "  }\n",
       "\n",
       ".warn\n",
       "{\n",
       "  color: red;\n",
       "  }\n",
       "\n",
       ".center\n",
       "{\n",
       "  text-align: center;\n",
       "  }\n",
       "\n",
       ".nb_link\n",
       "{\n",
       "    padding-bottom: 0.5em;\n",
       "}\n",
       "\n",
       "</style>\n"
      ],
      "text/plain": [
       "<IPython.core.display.HTML object>"
      ]
     },
     "metadata": {},
     "output_type": "display_data"
    }
   ],
   "source": [
    "%run talktools.py"
   ]
  },
  {
   "cell_type": "markdown",
   "metadata": {},
   "source": [
    "# A brief introduction to SciPy"
   ]
  },
  {
   "cell_type": "markdown",
   "metadata": {},
   "source": [
    "Scipy is a collection of packages, these typically need to be imported separately:\n",
    "\n",
    "     cluster                      : Vector Quantization / Kmeans\n",
    "     fftpack                      : Discrete Fourier Transform algorithms\n",
    "     integrate                    : Integration routines\n",
    "     interpolate                  : Interpolation Tools\n",
    "     io                           : Data input and output\n",
    "     lib                          : Python wrappers to external libraries\n",
    "     lib.blas                     : Wrappers to BLAS library\n",
    "     lib.lapack                   : Wrappers to LAPACK library\n",
    "     linalg                       : Linear algebra routines\n",
    "     misc                         : Various utilities that don't have another home.\n",
    "     ndimage                      : n-dimensional image package\n",
    "     odr                          : Orthogonal Distance Regression\n",
    "     optimize                     : Optimization Tools\n",
    "     signal                       : Signal Processing Tools\n",
    "     sparse                       : Sparse Matrices\n",
    "     sparse.linalg                : Sparse Linear Algebra\n",
    "     sparse.linalg.dsolve         : Linear Solvers\n",
    "     sparse.linalg.dsolve.umfpack : :Interface to the UMFPACK library:\n",
    "     sparse.linalg.eigen          : Sparse Eigenvalue Solvers\n",
    "     sparse.linalg.eigen.arpack   : Eigenvalue solver using iterative methods.\n",
    "     sparse.linalg.eigen.lobpcg   : Locally Optimal Block Preconditioned\n",
    "                                      Conjugate Gradient Method (LOBPCG)     \n",
    "     spatial                      : Spatial data structures and algorithms\n",
    "     special                      : Airy Functions\n",
    "     stats                        : Statistical Functions\n",
    "     stats.mstats                 : Statistical functions for masked arrays\n",
    "     weave                        : C/C++ integration"
   ]
  },
  {
   "cell_type": "markdown",
   "metadata": {},
   "source": [
    "## Vectorizing for speed"
   ]
  },
  {
   "cell_type": "markdown",
   "metadata": {},
   "source": [
    "This is silly:"
   ]
  },
  {
   "cell_type": "code",
   "execution_count": 2,
   "metadata": {
    "collapsed": false
   },
   "outputs": [],
   "source": [
    "from __future__ import absolute_import, division, print_function\n",
    "import numpy as np\n",
    "\n",
    "def dumb_myfun(a, b):\n",
    "    return np.array([a[i] if a[i] < b else 2*b for i in range(len(a))])"
   ]
  },
  {
   "cell_type": "code",
   "execution_count": 3,
   "metadata": {
    "collapsed": false
   },
   "outputs": [
    {
     "data": {
      "text/plain": [
       "array([  0.00000000e+00,   1.00000000e-06,   2.00000000e-06, ...,\n",
       "         9.99997000e-01,   9.99998000e-01,   9.99999000e-01])"
      ]
     },
     "execution_count": 3,
     "metadata": {},
     "output_type": "execute_result"
    }
   ],
   "source": [
    "x = np.arange(1.e6)/1.e6\n",
    "x"
   ]
  },
  {
   "cell_type": "code",
   "execution_count": 4,
   "metadata": {
    "collapsed": false
   },
   "outputs": [
    {
     "name": "stdout",
     "output_type": "stream",
     "text": [
      "1 loop, best of 3: 342 ms per loop\n"
     ]
    }
   ],
   "source": [
    "%timeit dumb_myfun(x, 0.5)"
   ]
  },
  {
   "cell_type": "markdown",
   "metadata": {},
   "source": [
    "We can use `scipy.vectorize`, which is similar to `map` but operates fast on numpy arrays:"
   ]
  },
  {
   "cell_type": "code",
   "execution_count": 9,
   "metadata": {
    "collapsed": false
   },
   "outputs": [
    {
     "data": {
      "text/plain": [
       "<numpy.lib.function_base.vectorize at 0x10ac80e10>"
      ]
     },
     "execution_count": 9,
     "metadata": {},
     "output_type": "execute_result"
    }
   ],
   "source": [
    "import scipy as sp\n",
    "myfun = lambda a,b: a if a < b else 2*b\n",
    "vec_myfun = sp.vectorize(myfun)\n",
    "vec_myfun"
   ]
  },
  {
   "cell_type": "code",
   "execution_count": 10,
   "metadata": {
    "collapsed": false
   },
   "outputs": [
    {
     "name": "stdout",
     "output_type": "stream",
     "text": [
      "1 loop, best of 3: 308 ms per loop\n"
     ]
    }
   ],
   "source": [
    "%timeit vec_myfun(x, 0.5)"
   ]
  },
  {
   "cell_type": "markdown",
   "metadata": {},
   "source": [
    "Let's not forget `numexpr` we saw earlier today:"
   ]
  },
  {
   "cell_type": "code",
   "execution_count": 11,
   "metadata": {
    "collapsed": false
   },
   "outputs": [
    {
     "name": "stdout",
     "output_type": "stream",
     "text": [
      "100 loops, best of 3: 3.18 ms per loop\n"
     ]
    }
   ],
   "source": [
    "import numexpr as ne\n",
    "b = 0.5\n",
    "%timeit ne.evaluate(\"where(x < %f, x, %f)\" % (b, b*2))"
   ]
  },
  {
   "cell_type": "markdown",
   "metadata": {},
   "source": [
    "# Scipy constants"
   ]
  },
  {
   "cell_type": "markdown",
   "metadata": {},
   "source": [
    "`scipy.constants` is a convenient compilation of the [2014 CODATA constants](http://physics.nist.gov/cuu/Constants/index.html)."
   ]
  },
  {
   "cell_type": "code",
   "execution_count": 16,
   "metadata": {
    "collapsed": false
   },
   "outputs": [
    {
     "name": "stdout",
     "output_type": "stream",
     "text": [
      "0.001 1.6021766208e-19 299792458.0\n"
     ]
    }
   ],
   "source": [
    "from scipy import constants as cons\n",
    "print(cons.milli, cons.eV, cons.c)"
   ]
  },
  {
   "cell_type": "code",
   "execution_count": 17,
   "metadata": {
    "collapsed": false
   },
   "outputs": [
    {
     "data": {
      "text/plain": [
       "{'Angstrom star': (1.00001495e-10, 'm', 9e-17),\n",
       " 'Avogadro constant': (6.022140857e+23, 'mol^-1', 7400000000000000.0),\n",
       " 'Bohr magneton': (9.274009994e-24, 'J T^-1', 5.7e-32),\n",
       " 'Bohr magneton in Hz/T': (13996245042.0, 'Hz T^-1', 86.0),\n",
       " 'Bohr magneton in K/T': (0.67171405, 'K T^-1', 3.9e-07),\n",
       " 'Bohr magneton in eV/T': (5.7883818012e-05, 'eV T^-1', 2.6e-14),\n",
       " 'Bohr magneton in inverse meters per tesla': (46.68644814,\n",
       "  'm^-1 T^-1',\n",
       "  2.9e-07),\n",
       " 'Bohr radius': (5.2917721067e-11, 'm', 1.2e-20),\n",
       " 'Boltzmann constant': (1.38064852e-23, 'J K^-1', 7.9e-30),\n",
       " 'Boltzmann constant in Hz/K': (20836612000.0, 'Hz K^-1', 12000.0),\n",
       " 'Boltzmann constant in eV/K': (8.6173303e-05, 'eV K^-1', 5e-11),\n",
       " 'Boltzmann constant in inverse meters per kelvin': (69.503457,\n",
       "  'm^-1 K^-1',\n",
       "  4e-05),\n",
       " 'Compton wavelength': (2.4263102367e-12, 'm', 1.1e-21),\n",
       " 'Compton wavelength over 2 pi': (3.8615926764e-13, 'm', 1.8e-22),\n",
       " 'Cu x unit': (1.00207697e-13, 'm', 2.8e-20),\n",
       " 'Faraday constant': (96485.33289, 'C mol^-1', 0.00059),\n",
       " 'Faraday constant for conventional electric current': (96485.3251,\n",
       "  'C_90 mol^-1',\n",
       "  0.0012),\n",
       " 'Fermi coupling constant': (1.1663787e-05, 'GeV^-2', 6e-12),\n",
       " 'Hartree energy': (4.35974465e-18, 'J', 5.4e-26),\n",
       " 'Hartree energy in eV': (27.21138602, 'eV', 1.7e-07),\n",
       " 'Josephson constant': (483597852500000.0, 'Hz V^-1', 3000000.0),\n",
       " 'Loschmidt constant (273.15 K, 100 kPa)': (2.6516467e+25, 'm^-3', 1.5e+19),\n",
       " 'Loschmidt constant (273.15 K, 101.325 kPa)': (2.6867811e+25,\n",
       "  'm^-3',\n",
       "  1.5e+19),\n",
       " 'Mo x unit': (1.00209952e-13, 'm', 5.3e-20),\n",
       " 'Newtonian constant of gravitation': (6.67408e-11, 'm^3 kg^-1 s^-2', 3.1e-15),\n",
       " 'Newtonian constant of gravitation over h-bar c': (6.70861e-39,\n",
       "  '(GeV/c^2)^-2',\n",
       "  3.1e-43),\n",
       " 'Planck constant': (6.62607004e-34, 'J s', 8.1e-42),\n",
       " 'Planck constant in eV s': (4.135667662e-15, 'eV s', 2.5e-23),\n",
       " 'Planck constant over 2 pi': (1.0545718e-34, 'J s', 1.3e-42),\n",
       " 'Planck constant over 2 pi in eV s': (6.582119514e-16, 'eV s', 4e-24),\n",
       " 'Planck constant over 2 pi times c in MeV fm': (197.3269788,\n",
       "  'MeV fm',\n",
       "  1.2e-06),\n",
       " 'Planck length': (1.616229e-35, 'm', 3.8e-40),\n",
       " 'Planck mass': (2.17647e-08, 'kg', 5.1e-13),\n",
       " 'Planck mass energy equivalent in GeV': (1.22091e+19,\n",
       "  'GeV',\n",
       "  290000000000000.0),\n",
       " 'Planck temperature': (1.416808e+32, 'K', 3.3e+27),\n",
       " 'Planck time': (5.39116e-44, 's', 1.3e-48),\n",
       " 'Rydberg constant': (10973731.568508, 'm^-1', 6.5e-05),\n",
       " 'Rydberg constant times c in Hz': (3289841960355000.0, 'Hz', 19000.0),\n",
       " 'Rydberg constant times hc in J': (2.179872325e-18, 'J', 2.7e-26),\n",
       " 'Rydberg constant times hc in eV': (13.605693009, 'eV', 8.4e-08),\n",
       " 'Sackur-Tetrode constant (1 K, 100 kPa)': (-1.1517084, '', 1.4e-06),\n",
       " 'Sackur-Tetrode constant (1 K, 101.325 kPa)': (-1.1648714, '', 1.4e-06),\n",
       " 'Stefan-Boltzmann constant': (5.670367e-08, 'W m^-2 K^-4', 1.3e-13),\n",
       " 'Thomson cross section': (6.6524587158e-29, 'm^2', 9.1e-38),\n",
       " 'Wien displacement law constant': (0.0028977685, 'm K', 5.1e-09),\n",
       " 'Wien frequency displacement law constant': (58789238000.0,\n",
       "  'Hz K^-1',\n",
       "  34000.0),\n",
       " 'Wien wavelength displacement law constant': (0.0028977729, 'm K', 1.7e-09),\n",
       " 'alpha particle mass': (6.64465723e-27, 'kg', 8.2e-35),\n",
       " 'alpha particle mass energy equivalent': (5.971920097e-10, 'J', 7.3e-18),\n",
       " 'alpha particle mass energy equivalent in MeV': (3727.379378, 'MeV', 2.3e-05),\n",
       " 'alpha particle mass in u': (4.001506179127, 'u', 6.3e-11),\n",
       " 'alpha particle molar mass': (0.004001506179127, 'kg mol^-1', 6.3e-14),\n",
       " 'alpha particle-electron mass ratio': (7294.29954136, '', 2.4e-07),\n",
       " 'alpha particle-proton mass ratio': (3.97259968907, '', 3.6e-10),\n",
       " 'atomic mass constant': (1.66053904e-27, 'kg', 2e-35),\n",
       " 'atomic mass constant energy equivalent': (1.492418062e-10, 'J', 1.8e-18),\n",
       " 'atomic mass constant energy equivalent in MeV': (931.4940954,\n",
       "  'MeV',\n",
       "  5.7e-06),\n",
       " 'atomic mass unit-electron volt relationship': (931494095.4, 'eV', 5.7),\n",
       " 'atomic mass unit-hartree relationship': (34231776.902, 'E_h', 0.016),\n",
       " 'atomic mass unit-hertz relationship': (2.2523427206e+23,\n",
       "  'Hz',\n",
       "  100000000000000.0),\n",
       " 'atomic mass unit-inverse meter relationship': (751300661660000.0,\n",
       "  'm^-1',\n",
       "  340000.0),\n",
       " 'atomic mass unit-joule relationship': (1.492418062e-10, 'J', 1.8e-18),\n",
       " 'atomic mass unit-kelvin relationship': (10809543800000.0, 'K', 6200000.0),\n",
       " 'atomic mass unit-kilogram relationship': (1.66053904e-27, 'kg', 2e-35),\n",
       " 'atomic unit of 1st hyperpolarizability': (3.206361329e-53,\n",
       "  'C^3 m^3 J^-2',\n",
       "  2e-61),\n",
       " 'atomic unit of 1st hyperpolarizablity': (3.20636151e-53,\n",
       "  'C^3 m^3 J^-2',\n",
       "  2.8e-60),\n",
       " 'atomic unit of 2nd hyperpolarizability': (6.235380085e-65,\n",
       "  'C^4 m^4 J^-3',\n",
       "  7.7e-73),\n",
       " 'atomic unit of 2nd hyperpolarizablity': (6.2353808e-65,\n",
       "  'C^4 m^4 J^-3',\n",
       "  1.1e-71),\n",
       " 'atomic unit of action': (1.0545718e-34, 'J s', 1.3e-42),\n",
       " 'atomic unit of charge': (1.6021766208e-19, 'C', 9.8e-28),\n",
       " 'atomic unit of charge density': (1081202377000.0, 'C m^-3', 6700.0),\n",
       " 'atomic unit of current': (0.006623618183, 'A', 4.1e-11),\n",
       " 'atomic unit of electric dipole mom.': (8.478353552e-30, 'C m', 5.2e-38),\n",
       " 'atomic unit of electric dipole moment': (8.47835309e-30, 'C m', 7.3e-37),\n",
       " 'atomic unit of electric field': (514220670700.0, 'V m^-1', 3200.0),\n",
       " 'atomic unit of electric field gradient': (9.717362356e+21,\n",
       "  'V m^-2',\n",
       "  60000000000000.0),\n",
       " 'atomic unit of electric polarizability': (1.6487772731e-41,\n",
       "  'C^2 m^2 J^-1',\n",
       "  1.1e-50),\n",
       " 'atomic unit of electric polarizablity': (1.648777274e-41,\n",
       "  'C^2 m^2 J^-1',\n",
       "  1.6e-49),\n",
       " 'atomic unit of electric potential': (27.21138602, 'V', 1.7e-07),\n",
       " 'atomic unit of electric quadrupole mom.': (4.486551484e-40,\n",
       "  'C m^2',\n",
       "  2.8e-48),\n",
       " 'atomic unit of electric quadrupole moment': (4.48655124e-40,\n",
       "  'C m^2',\n",
       "  3.9e-47),\n",
       " 'atomic unit of energy': (4.35974465e-18, 'J', 5.4e-26),\n",
       " 'atomic unit of force': (8.23872336e-08, 'N', 1e-15),\n",
       " 'atomic unit of length': (5.2917721067e-11, 'm', 1.2e-20),\n",
       " 'atomic unit of mag. dipole mom.': (1.854801999e-23, 'J T^-1', 1.1e-31),\n",
       " 'atomic unit of mag. flux density': (235051.755, 'T', 0.0014),\n",
       " 'atomic unit of magn. dipole moment': (1.8548019e-23, 'J T^-1', 1.6e-30),\n",
       " 'atomic unit of magn. flux density': (235051.755, 'T', 0.0014),\n",
       " 'atomic unit of magnetizability': (7.8910365886e-29, 'J T^-2', 9e-38),\n",
       " 'atomic unit of mass': (9.10938356e-31, 'kg', 1.1e-38),\n",
       " 'atomic unit of mom.um': (1.992851882e-24, 'kg m s^-1', 2.4e-32),\n",
       " 'atomic unit of momentum': (1.992851882e-24, 'kg m s^-1', 2.4e-32),\n",
       " 'atomic unit of permittivity': (1.1126500560536183e-10, 'F m^-1', 0.0),\n",
       " 'atomic unit of time': (2.418884326509e-17, 's', 1.4e-28),\n",
       " 'atomic unit of velocity': (2187691.26277, 'm s^-1', 0.0005),\n",
       " 'characteristic impedance of vacuum': (376.73031346177066, 'ohm', 0.0),\n",
       " 'classical electron radius': (2.8179403227e-15, 'm', 1.9e-24),\n",
       " 'conductance quantum': (7.748091731e-05, 'S', 1.8e-14),\n",
       " 'conventional value of Josephson constant': (483597900000000.0,\n",
       "  'Hz V^-1',\n",
       "  0.0),\n",
       " 'conventional value of von Klitzing constant': (25812.807, 'ohm', 0.0),\n",
       " 'deuteron g factor': (0.8574382311, '', 4.8e-09),\n",
       " 'deuteron mag. mom.': (4.33073504e-27, 'J T^-1', 3.6e-35),\n",
       " 'deuteron mag. mom. to Bohr magneton ratio': (0.0004669754554, '', 2.6e-12),\n",
       " 'deuteron mag. mom. to nuclear magneton ratio': (0.8574382311, '', 4.8e-09),\n",
       " 'deuteron magn. moment': (4.33073482e-27, 'J T^-1', 3.8e-34),\n",
       " 'deuteron magn. moment to Bohr magneton ratio': (0.0004669754567, '', 5e-12),\n",
       " 'deuteron magn. moment to nuclear magneton ratio': (0.8574382329,\n",
       "  '',\n",
       "  9.2e-09),\n",
       " 'deuteron mass': (3.343583719e-27, 'kg', 4.1e-35),\n",
       " 'deuteron mass energy equivalent': (3.005063183e-10, 'J', 3.7e-18),\n",
       " 'deuteron mass energy equivalent in MeV': (1875.612928, 'MeV', 1.2e-05),\n",
       " 'deuteron mass in u': (2.013553212745, 'u', 4e-11),\n",
       " 'deuteron molar mass': (0.002013553212745, 'kg mol^-1', 4e-14),\n",
       " 'deuteron rms charge radius': (2.1413e-15, 'm', 2.5e-18),\n",
       " 'deuteron-electron mag. mom. ratio': (-0.0004664345535, '', 2.6e-12),\n",
       " 'deuteron-electron magn. moment ratio': (-0.0004664345548, '', 5e-12),\n",
       " 'deuteron-electron mass ratio': (3670.48296785, '', 1.3e-07),\n",
       " 'deuteron-neutron mag. mom. ratio': (-0.44820652, '', 1.1e-07),\n",
       " 'deuteron-neutron magn. moment ratio': (-0.44820652, '', 1.1e-07),\n",
       " 'deuteron-proton mag. mom. ratio': (0.3070122077, '', 1.5e-09),\n",
       " 'deuteron-proton magn. moment ratio': (0.3070122084, '', 4.5e-09),\n",
       " 'deuteron-proton mass ratio': (1.99900750087, '', 1.9e-10),\n",
       " 'electric constant': (8.854187817620389e-12, 'F m^-1', 0.0),\n",
       " 'electron charge to mass quotient': (-175882002400.0, 'C kg^-1', 1100.0),\n",
       " 'electron g factor': (-2.00231930436182, '', 5.2e-13),\n",
       " 'electron gyromag. ratio': (176085964400.0, 's^-1 T^-1', 1100.0),\n",
       " 'electron gyromag. ratio over 2 pi': (28024.95164, 'MHz T^-1', 0.00017),\n",
       " 'electron gyromagn. ratio': (176085964400.0, 's^-1 T^-1', 1100.0),\n",
       " 'electron gyromagn. ratio over 2 pi': (28024.95164, 'MHz T^-1', 0.00017),\n",
       " 'electron mag. mom.': (-9.28476462e-24, 'J T^-1', 5.7e-32),\n",
       " 'electron mag. mom. anomaly': (0.00115965218091, '', 2.6e-13),\n",
       " 'electron mag. mom. to Bohr magneton ratio': (-1.00115965218091, '', 2.6e-13),\n",
       " 'electron mag. mom. to nuclear magneton ratio': (-1838.28197234, '', 1.7e-07),\n",
       " 'electron magn. moment': (-9.28476412e-24, 'J T^-1', 8e-31),\n",
       " 'electron magn. moment anomaly': (0.0011596521859, '', 3.8e-12),\n",
       " 'electron magn. moment to Bohr magneton ratio': (-1.0011596521859,\n",
       "  '',\n",
       "  3.8e-12),\n",
       " 'electron magn. moment to nuclear magneton ratio': (-1838.28197107,\n",
       "  '',\n",
       "  8.5e-07),\n",
       " 'electron mass': (9.10938356e-31, 'kg', 1.1e-38),\n",
       " 'electron mass energy equivalent': (8.18710565e-14, 'J', 1e-21),\n",
       " 'electron mass energy equivalent in MeV': (0.5109989461, 'MeV', 3.1e-09),\n",
       " 'electron mass in u': (0.00054857990907, 'u', 1.6e-14),\n",
       " 'electron molar mass': (5.4857990907e-07, 'kg mol^-1', 1.6e-17),\n",
       " 'electron to alpha particle mass ratio': (0.0001370933554798, '', 4.5e-15),\n",
       " 'electron to shielded helion mag. mom. ratio': (864.058257, '', 1e-05),\n",
       " 'electron to shielded helion magn. moment ratio': (864.058255, '', 1e-05),\n",
       " 'electron to shielded proton mag. mom. ratio': (-658.2275971, '', 7.2e-06),\n",
       " 'electron to shielded proton magn. moment ratio': (-658.2275956, '', 7.1e-06),\n",
       " 'electron volt': (1.6021766208e-19, 'J', 9.8e-28),\n",
       " 'electron volt-atomic mass unit relationship': (1.0735441105e-09,\n",
       "  'u',\n",
       "  6.6e-18),\n",
       " 'electron volt-hartree relationship': (0.03674932248, 'E_h', 2.3e-10),\n",
       " 'electron volt-hertz relationship': (241798926200000.0, 'Hz', 1500000.0),\n",
       " 'electron volt-inverse meter relationship': (806554.4005, 'm^-1', 0.005),\n",
       " 'electron volt-joule relationship': (1.6021766208e-19, 'J', 9.8e-28),\n",
       " 'electron volt-kelvin relationship': (11604.5221, 'K', 0.0067),\n",
       " 'electron volt-kilogram relationship': (1.782661907e-36, 'kg', 1.1e-44),\n",
       " 'electron-deuteron mag. mom. ratio': (-2143.923499, '', 1.2e-05),\n",
       " 'electron-deuteron magn. moment ratio': (-2143.923493, '', 2.3e-05),\n",
       " 'electron-deuteron mass ratio': (0.0002724437107484, '', 9.6e-15),\n",
       " 'electron-helion mass ratio': (0.0001819543074854, '', 8.8e-15),\n",
       " 'electron-muon mag. mom. ratio': (206.766988, '', 4.6e-06),\n",
       " 'electron-muon magn. moment ratio': (206.7669894, '', 5.4e-06),\n",
       " 'electron-muon mass ratio': (0.0048363317, '', 1.1e-10),\n",
       " 'electron-neutron mag. mom. ratio': (960.9205, '', 0.00023),\n",
       " 'electron-neutron magn. moment ratio': (960.9205, '', 0.00023),\n",
       " 'electron-neutron mass ratio': (0.00054386734428, '', 2.7e-13),\n",
       " 'electron-proton mag. mom. ratio': (-658.2106866, '', 2e-06),\n",
       " 'electron-proton magn. moment ratio': (-658.2106862, '', 6.6e-06),\n",
       " 'electron-proton mass ratio': (0.000544617021352, '', 5.2e-14),\n",
       " 'electron-tau mass ratio': (0.000287592, '', 2.6e-08),\n",
       " 'electron-triton mass ratio': (0.0001819200062203, '', 8.4e-15),\n",
       " 'elementary charge': (1.6021766208e-19, 'C', 9.8e-28),\n",
       " 'elementary charge over h': (241798926200000.0, 'A J^-1', 1500000.0),\n",
       " 'fine-structure constant': (0.0072973525664, '', 1.7e-12),\n",
       " 'first radiation constant': (3.74177179e-16, 'W m^2', 4.6e-24),\n",
       " 'first radiation constant for spectral radiance': (1.191042953e-16,\n",
       "  'W m^2 sr^-1',\n",
       "  1.5e-24),\n",
       " 'hartree-atomic mass unit relationship': (2.9212623197e-08, 'u', 1.3e-17),\n",
       " 'hartree-electron volt relationship': (27.21138602, 'eV', 1.7e-07),\n",
       " 'hartree-hertz relationship': (6579683920711000.0, 'Hz', 39000.0),\n",
       " 'hartree-inverse meter relationship': (21947463.13702, 'm^-1', 0.00013),\n",
       " 'hartree-joule relationship': (4.35974465e-18, 'J', 5.4e-26),\n",
       " 'hartree-kelvin relationship': (315775.13, 'K', 0.18),\n",
       " 'hartree-kilogram relationship': (4.850870129e-35, 'kg', 6e-43),\n",
       " 'helion g factor': (-4.255250616, '', 5e-08),\n",
       " 'helion mag. mom.': (-1.074617522e-26, 'J T^-1', 1.4e-34),\n",
       " 'helion mag. mom. to Bohr magneton ratio': (-0.001158740958, '', 1.4e-11),\n",
       " 'helion mag. mom. to nuclear magneton ratio': (-2.127625308, '', 2.5e-08),\n",
       " 'helion mass': (5.0064127e-27, 'kg', 6.2e-35),\n",
       " 'helion mass energy equivalent': (4.499539341e-10, 'J', 5.5e-18),\n",
       " 'helion mass energy equivalent in MeV': (2808.391586, 'MeV', 1.7e-05),\n",
       " 'helion mass in u': (3.01493224673, 'u', 1.2e-10),\n",
       " 'helion molar mass': (0.00301493224673, 'kg mol^-1', 1.2e-13),\n",
       " 'helion-electron mass ratio': (5495.88527922, '', 2.7e-07),\n",
       " 'helion-proton mass ratio': (2.99315267046, '', 2.9e-10),\n",
       " 'hertz-atomic mass unit relationship': (4.4398216616e-24, 'u', 2e-33),\n",
       " 'hertz-electron volt relationship': (4.135667662e-15, 'eV', 2.5e-23),\n",
       " 'hertz-hartree relationship': (1.5198298460088e-16, 'E_h', 9e-28),\n",
       " 'hertz-inverse meter relationship': (3.3356409519815204e-09, 'm^-1', 0.0),\n",
       " 'hertz-joule relationship': (6.62607004e-34, 'J', 8.1e-42),\n",
       " 'hertz-kelvin relationship': (4.7992447e-11, 'K', 2.8e-17),\n",
       " 'hertz-kilogram relationship': (7.372497201e-51, 'kg', 9.1e-59),\n",
       " 'inverse fine-structure constant': (137.035999139, '', 3.1e-08),\n",
       " 'inverse meter-atomic mass unit relationship': (1.331025049e-15,\n",
       "  'u',\n",
       "  6.1e-25),\n",
       " 'inverse meter-electron volt relationship': (1.2398419739e-06, 'eV', 7.6e-15),\n",
       " 'inverse meter-hartree relationship': (4.556335252767e-08, 'E_h', 2.7e-19),\n",
       " 'inverse meter-hertz relationship': (299792458.0, 'Hz', 0.0),\n",
       " 'inverse meter-joule relationship': (1.986445824e-25, 'J', 2.4e-33),\n",
       " 'inverse meter-kelvin relationship': (0.0143877736, 'K', 8.3e-09),\n",
       " 'inverse meter-kilogram relationship': (2.210219057e-42, 'kg', 2.7e-50),\n",
       " 'inverse of conductance quantum': (12906.4037278, 'ohm', 2.9e-06),\n",
       " 'joule-atomic mass unit relationship': (6700535363.0, 'u', 82.0),\n",
       " 'joule-electron volt relationship': (6.241509126e+18, 'eV', 38000000000.0),\n",
       " 'joule-hartree relationship': (2.293712317e+17, 'E_h', 2800000000.0),\n",
       " 'joule-hertz relationship': (1.509190205e+33, 'Hz', 1.9e+25),\n",
       " 'joule-inverse meter relationship': (5.034116651e+24, 'm^-1', 6.2e+16),\n",
       " 'joule-kelvin relationship': (7.2429731e+22, 'K', 4.2e+16),\n",
       " 'joule-kilogram relationship': (1.1126500560536185e-17, 'kg', 0.0),\n",
       " 'kelvin-atomic mass unit relationship': (9.2510842e-14, 'u', 5.3e-20),\n",
       " 'kelvin-electron volt relationship': (8.6173303e-05, 'eV', 5e-11),\n",
       " 'kelvin-hartree relationship': (3.1668105e-06, 'E_h', 1.8e-12),\n",
       " 'kelvin-hertz relationship': (20836612000.0, 'Hz', 12000.0),\n",
       " 'kelvin-inverse meter relationship': (69.503457, 'm^-1', 4e-05),\n",
       " 'kelvin-joule relationship': (1.38064852e-23, 'J', 7.9e-30),\n",
       " 'kelvin-kilogram relationship': (1.53617865e-40, 'kg', 8.8e-47),\n",
       " 'kilogram-atomic mass unit relationship': (6.022140857e+26, 'u', 7.4e+18),\n",
       " 'kilogram-electron volt relationship': (5.60958865e+35, 'eV', 3.4e+27),\n",
       " 'kilogram-hartree relationship': (2.061485823e+34, 'E_h', 2.5e+26),\n",
       " 'kilogram-hertz relationship': (1.356392512e+50, 'Hz', 1.7e+42),\n",
       " 'kilogram-inverse meter relationship': (4.524438411e+41, 'm^-1', 5.6e+33),\n",
       " 'kilogram-joule relationship': (8.987551787368176e+16, 'J', 0.0),\n",
       " 'kilogram-kelvin relationship': (6.5096595e+39, 'K', 3.7e+33),\n",
       " 'lattice parameter of silicon': (5.431020504e-10, 'm', 8.9e-18),\n",
       " 'lattice spacing of silicon': (1.920155762e-10, 'm', 5e-18),\n",
       " 'mag. constant': (1.2566370614359173e-06, 'N A^-2', 0.0),\n",
       " 'mag. flux quantum': (2.067833831e-15, 'Wb', 1.3e-23),\n",
       " 'magn. constant': (1.2566370614359173e-06, 'N A^-2', 0.0),\n",
       " 'magn. flux quantum': (2.067833831e-15, 'Wb', 1.3e-23),\n",
       " 'molar Planck constant': (3.990312711e-10, 'J s mol^-1', 1.8e-19),\n",
       " 'molar Planck constant times c': (0.119626565582, 'J m mol^-1', 5.4e-11),\n",
       " 'molar gas constant': (8.3144598, 'J mol^-1 K^-1', 4.8e-06),\n",
       " 'molar mass constant': (0.001, 'kg mol^-1', 0.0),\n",
       " 'molar mass of carbon-12': (0.012, 'kg mol^-1', 0.0),\n",
       " 'molar volume of ideal gas (273.15 K, 100 kPa)': (0.022710947,\n",
       "  'm^3 mol^-1',\n",
       "  1.3e-08),\n",
       " 'molar volume of ideal gas (273.15 K, 101.325 kPa)': (0.022413962,\n",
       "  'm^3 mol^-1',\n",
       "  1.3e-08),\n",
       " 'molar volume of silicon': (1.205883214e-05, 'm^3 mol^-1', 6.1e-13),\n",
       " 'muon Compton wavelength': (1.173444111e-14, 'm', 2.6e-22),\n",
       " 'muon Compton wavelength over 2 pi': (1.867594308e-15, 'm', 4.2e-23),\n",
       " 'muon g factor': (-2.0023318418, '', 1.3e-09),\n",
       " 'muon mag. mom.': (-4.49044826e-26, 'J T^-1', 1e-33),\n",
       " 'muon mag. mom. anomaly': (0.00116592089, '', 6.3e-10),\n",
       " 'muon mag. mom. to Bohr magneton ratio': (-0.00484197048, '', 1.1e-10),\n",
       " 'muon mag. mom. to nuclear magneton ratio': (-8.89059705, '', 2e-07),\n",
       " 'muon magn. moment': (-4.49044799e-26, 'J T^-1', 4e-33),\n",
       " 'muon magn. moment to Bohr magneton ratio': (-0.00484197045, '', 1.3e-10),\n",
       " 'muon magn. moment to nuclear magneton ratio': (-8.89059698, '', 2.3e-07),\n",
       " 'muon mass': (1.883531594e-28, 'kg', 4.8e-36),\n",
       " 'muon mass energy equivalent': (1.692833774e-11, 'J', 4.3e-19),\n",
       " 'muon mass energy equivalent in MeV': (105.6583745, 'MeV', 2.4e-06),\n",
       " 'muon mass in u': (0.1134289257, 'u', 2.5e-09),\n",
       " 'muon molar mass': (0.0001134289257, 'kg mol^-1', 2.5e-12),\n",
       " 'muon-electron mass ratio': (206.7682826, '', 4.6e-06),\n",
       " 'muon-neutron mass ratio': (0.1124545167, '', 2.5e-09),\n",
       " 'muon-proton mag. mom. ratio': (-3.183345142, '', 7.1e-08),\n",
       " 'muon-proton magn. moment ratio': (-3.183345118, '', 8.9e-08),\n",
       " 'muon-proton mass ratio': (0.1126095262, '', 2.5e-09),\n",
       " 'muon-tau mass ratio': (0.0594649, '', 5.4e-06),\n",
       " 'natural unit of action': (1.0545718e-34, 'J s', 1.3e-42),\n",
       " 'natural unit of action in eV s': (6.582119514e-16, 'eV s', 4e-24),\n",
       " 'natural unit of energy': (8.18710565e-14, 'J', 1e-21),\n",
       " 'natural unit of energy in MeV': (0.5109989461, 'MeV', 3.1e-09),\n",
       " 'natural unit of length': (3.8615926764e-13, 'm', 1.8e-22),\n",
       " 'natural unit of mass': (9.10938356e-31, 'kg', 1.1e-38),\n",
       " 'natural unit of mom.um': (2.730924488e-22, 'kg m s^-1', 3.4e-30),\n",
       " 'natural unit of mom.um in MeV/c': (0.5109989461, 'MeV/c', 3.1e-09),\n",
       " 'natural unit of momentum': (2.730924488e-22, 'kg m s^-1', 3.4e-30),\n",
       " 'natural unit of momentum in MeV/c': (0.5109989461, 'MeV/c', 3.1e-09),\n",
       " 'natural unit of time': (1.28808866712e-21, 's', 5.8e-31),\n",
       " 'natural unit of velocity': (299792458.0, 'm s^-1', 0.0),\n",
       " 'neutron Compton wavelength': (1.31959090481e-15, 'm', 8.8e-25),\n",
       " 'neutron Compton wavelength over 2 pi': (2.1001941536e-16, 'm', 1.4e-25),\n",
       " 'neutron g factor': (-3.82608545, '', 9e-07),\n",
       " 'neutron gyromag. ratio': (183247172.0, 's^-1 T^-1', 43.0),\n",
       " 'neutron gyromag. ratio over 2 pi': (29.1646933, 'MHz T^-1', 6.9e-06),\n",
       " 'neutron gyromagn. ratio': (183247172.0, 's^-1 T^-1', 43.0),\n",
       " 'neutron gyromagn. ratio over 2 pi': (29.1646933, 'MHz T^-1', 6.9e-06),\n",
       " 'neutron mag. mom.': (-9.662365e-27, 'J T^-1', 2.3e-33),\n",
       " 'neutron mag. mom. to Bohr magneton ratio': (-0.00104187563, '', 2.5e-10),\n",
       " 'neutron mag. mom. to nuclear magneton ratio': (-1.91304273, '', 4.5e-07),\n",
       " 'neutron magn. moment': (-9.6623645e-27, 'J T^-1', 2.4e-33),\n",
       " 'neutron magn. moment to Bohr magneton ratio': (-0.00104187563, '', 2.5e-10),\n",
       " 'neutron magn. moment to nuclear magneton ratio': (-1.91304273, '', 4.5e-07),\n",
       " 'neutron mass': (1.674927471e-27, 'kg', 2.1e-35),\n",
       " 'neutron mass energy equivalent': (1.505349739e-10, 'J', 1.9e-18),\n",
       " 'neutron mass energy equivalent in MeV': (939.5654133, 'MeV', 5.8e-06),\n",
       " 'neutron mass in u': (1.00866491588, 'u', 4.9e-10),\n",
       " 'neutron molar mass': (0.00100866491588, 'kg mol^-1', 4.9e-13),\n",
       " 'neutron to shielded proton mag. mom. ratio': (-0.68499694, '', 1.6e-07),\n",
       " 'neutron to shielded proton magn. moment ratio': (-0.68499694, '', 1.6e-07),\n",
       " 'neutron-electron mag. mom. ratio': (0.00104066882, '', 2.5e-10),\n",
       " 'neutron-electron magn. moment ratio': (0.00104066882, '', 2.5e-10),\n",
       " 'neutron-electron mass ratio': (1838.68366158, '', 9e-07),\n",
       " 'neutron-muon mass ratio': (8.89248408, '', 2e-07),\n",
       " 'neutron-proton mag. mom. ratio': (-0.68497934, '', 1.6e-07),\n",
       " 'neutron-proton magn. moment ratio': (-0.68497934, '', 1.6e-07),\n",
       " 'neutron-proton mass difference': (2.30557377e-30, '', 8.5e-37),\n",
       " 'neutron-proton mass difference energy equivalent': (2.07214637e-13,\n",
       "  '',\n",
       "  7.6e-20),\n",
       " 'neutron-proton mass difference energy equivalent in MeV': (1.29333205,\n",
       "  '',\n",
       "  4.8e-07),\n",
       " 'neutron-proton mass difference in u': (0.001388449, '', 5.1e-10),\n",
       " 'neutron-proton mass ratio': (1.00137841898, '', 5.1e-10),\n",
       " 'neutron-tau mass ratio': (0.52879, '', 4.8e-05),\n",
       " 'nuclear magneton': (5.050783699e-27, 'J T^-1', 3.1e-35),\n",
       " 'nuclear magneton in K/T': (0.0003658269, 'K T^-1', 2.1e-10),\n",
       " 'nuclear magneton in MHz/T': (7.622593285, 'MHz T^-1', 4.7e-08),\n",
       " 'nuclear magneton in eV/T': (3.152451255e-08, 'eV T^-1', 1.5e-17),\n",
       " 'nuclear magneton in inverse meters per tesla': (0.02542623432,\n",
       "  'm^-1 T^-1',\n",
       "  1.6e-10),\n",
       " 'proton Compton wavelength': (1.32140985396e-15, 'm', 6.1e-25),\n",
       " 'proton Compton wavelength over 2 pi': (2.10308910109e-16, 'm', 9.7e-26),\n",
       " 'proton charge to mass quotient': (95788332.26, 'C kg^-1', 0.59),\n",
       " 'proton g factor': (5.585694702, '', 1.7e-08),\n",
       " 'proton gyromag. ratio': (267522190.0, 's^-1 T^-1', 1.8),\n",
       " 'proton gyromag. ratio over 2 pi': (42.57747892, 'MHz T^-1', 2.9e-07),\n",
       " 'proton gyromagn. ratio': (267522190.0, 's^-1 T^-1', 1.8),\n",
       " 'proton gyromagn. ratio over 2 pi': (42.57747892, 'MHz T^-1', 2.9e-07),\n",
       " 'proton mag. mom.': (1.4106067873e-26, 'J T^-1', 9.7e-35),\n",
       " 'proton mag. mom. to Bohr magneton ratio': (0.0015210322053, '', 4.6e-12),\n",
       " 'proton mag. mom. to nuclear magneton ratio': (2.7928473508, '', 8.5e-09),\n",
       " 'proton mag. shielding correction': (2.5691e-05, '', 1.1e-08),\n",
       " 'proton magn. moment': (1.41060671e-26, 'J T^-1', 1.2e-33),\n",
       " 'proton magn. moment to Bohr magneton ratio': (0.001521032206, '', 1.5e-11),\n",
       " 'proton magn. moment to nuclear magneton ratio': (2.792847351, '', 2.8e-08),\n",
       " 'proton magn. shielding correction': (2.5691e-05, '', 1.1e-08),\n",
       " 'proton mass': (1.672621898e-27, 'kg', 2.1e-35),\n",
       " 'proton mass energy equivalent': (1.503277593e-10, 'J', 1.8e-18),\n",
       " 'proton mass energy equivalent in MeV': (938.2720813, 'MeV', 5.8e-06),\n",
       " 'proton mass in u': (1.007276466879, 'u', 9.1e-11),\n",
       " 'proton molar mass': (0.001007276466879, 'kg mol^-1', 9.1e-14),\n",
       " 'proton rms charge radius': (8.751e-16, 'm', 6.1e-18),\n",
       " 'proton-electron mass ratio': (1836.15267389, '', 1.7e-07),\n",
       " 'proton-muon mass ratio': (8.88024338, '', 2e-07),\n",
       " 'proton-neutron mag. mom. ratio': (-1.45989805, '', 3.4e-07),\n",
       " 'proton-neutron magn. moment ratio': (-1.45989805, '', 3.4e-07),\n",
       " 'proton-neutron mass ratio': (0.99862347844, '', 5.1e-10),\n",
       " 'proton-tau mass ratio': (0.528063, '', 4.8e-05),\n",
       " 'quantum of circulation': (0.00036369475486, 'm^2 s^-1', 1.7e-13),\n",
       " 'quantum of circulation times 2': (0.00072738950972, 'm^2 s^-1', 3.3e-13),\n",
       " 'second radiation constant': (0.0143877736, 'm K', 8.3e-09),\n",
       " 'shielded helion gyromag. ratio': (203789458.5, 's^-1 T^-1', 2.7),\n",
       " 'shielded helion gyromag. ratio over 2 pi': (32.43409966,\n",
       "  'MHz T^-1',\n",
       "  4.3e-07),\n",
       " 'shielded helion gyromagn. ratio': (203789458.5, 's^-1 T^-1', 2.7),\n",
       " 'shielded helion gyromagn. ratio over 2 pi': (32.43409966,\n",
       "  'MHz T^-1',\n",
       "  4.3e-07),\n",
       " 'shielded helion mag. mom.': (-1.07455308e-26, 'J T^-1', 1.4e-34),\n",
       " 'shielded helion mag. mom. to Bohr magneton ratio': (-0.001158671471,\n",
       "  '',\n",
       "  1.4e-11),\n",
       " 'shielded helion mag. mom. to nuclear magneton ratio': (-2.12749772,\n",
       "  '',\n",
       "  2.5e-08),\n",
       " 'shielded helion magn. moment': (-1.074553024e-26, 'J T^-1', 9.3e-34),\n",
       " 'shielded helion magn. moment to Bohr magneton ratio': (-0.001158671474,\n",
       "  '',\n",
       "  1.4e-11),\n",
       " 'shielded helion magn. moment to nuclear magneton ratio': (-2.127497723,\n",
       "  '',\n",
       "  2.5e-08),\n",
       " 'shielded helion to proton mag. mom. ratio': (-0.7617665603, '', 9.2e-09),\n",
       " 'shielded helion to proton magn. moment ratio': (-0.761766562, '', 1.2e-08),\n",
       " 'shielded helion to shielded proton mag. mom. ratio': (-0.7617861313,\n",
       "  '',\n",
       "  3.3e-09),\n",
       " 'shielded helion to shielded proton magn. moment ratio': (-0.7617861313,\n",
       "  '',\n",
       "  3.3e-09),\n",
       " 'shielded proton gyromag. ratio': (267515317.1, 's^-1 T^-1', 3.3),\n",
       " 'shielded proton gyromag. ratio over 2 pi': (42.57638507,\n",
       "  'MHz T^-1',\n",
       "  5.3e-07),\n",
       " 'shielded proton mag. mom.': (1.410570547e-26, 'J T^-1', 1.8e-34),\n",
       " 'shielded proton mag. mom. to Bohr magneton ratio': (0.001520993128,\n",
       "  '',\n",
       "  1.7e-11),\n",
       " 'shielded proton mag. mom. to nuclear magneton ratio': (2.7927756, '', 3e-08),\n",
       " 'shielded proton magn. moment': (1.41057047e-26, 'J T^-1', 1.2e-33),\n",
       " 'shielded proton magn. moment to Bohr magneton ratio': (0.001520993132,\n",
       "  '',\n",
       "  1.6e-11),\n",
       " 'shielded proton magn. moment to nuclear magneton ratio': (2.792775604,\n",
       "  '',\n",
       "  3e-08),\n",
       " 'speed of light in vacuum': (299792458.0, 'm s^-1', 0.0),\n",
       " 'standard acceleration of gravity': (9.80665, 'm s^-2', 0.0),\n",
       " 'standard atmosphere': (101325.0, 'Pa', 0.0),\n",
       " 'standard-state pressure': (100000.0, 'Pa', 0.0),\n",
       " 'tau Compton wavelength': (6.97787e-16, 'm', 6.3e-20),\n",
       " 'tau Compton wavelength over 2 pi': (1.11056e-16, 'm', 1e-20),\n",
       " 'tau mass': (3.16747e-27, 'kg', 2.9e-31),\n",
       " 'tau mass energy equivalent': (2.84678e-10, 'J', 2.6e-14),\n",
       " 'tau mass energy equivalent in MeV': (1776.82, 'MeV', 0.16),\n",
       " 'tau mass in u': (1.90749, 'u', 0.00017),\n",
       " 'tau molar mass': (0.00190749, 'kg mol^-1', 1.7e-07),\n",
       " 'tau-electron mass ratio': (3477.15, '', 0.31),\n",
       " 'tau-muon mass ratio': (16.8167, '', 0.0015),\n",
       " 'tau-neutron mass ratio': (1.89111, '', 0.00017),\n",
       " 'tau-proton mass ratio': (1.89372, '', 0.00017),\n",
       " 'triton g factor': (5.95792492, '', 2.8e-08),\n",
       " 'triton mag. mom.': (1.504609503e-26, 'J T^-1', 1.2e-34),\n",
       " 'triton mag. mom. to Bohr magneton ratio': (0.0016223936616, '', 7.6e-12),\n",
       " 'triton mag. mom. to nuclear magneton ratio': (2.97896246, '', 1.4e-08),\n",
       " 'triton mass': (5.007356665e-27, 'kg', 6.2e-35),\n",
       " 'triton mass energy equivalent': (4.500387735e-10, 'J', 5.5e-18),\n",
       " 'triton mass energy equivalent in MeV': (2808.921112, 'MeV', 1.7e-05),\n",
       " 'triton mass in u': (3.01550071632, 'u', 1.1e-10),\n",
       " 'triton molar mass': (0.00301550071632, 'kg mol^-1', 1.1e-13),\n",
       " 'triton-electron mag. mom. ratio': (-0.001620514423, '', 2.1e-11),\n",
       " 'triton-electron mass ratio': (5496.92153588, '', 2.6e-07),\n",
       " 'triton-neutron mag. mom. ratio': (-1.55718553, '', 3.7e-07),\n",
       " 'triton-proton mag. mom. ratio': (1.066639908, '', 1e-08),\n",
       " 'triton-proton mass ratio': (2.99371703348, '', 2.2e-10),\n",
       " 'unified atomic mass unit': (1.66053904e-27, 'kg', 2e-35),\n",
       " 'von Klitzing constant': (25812.8074555, 'ohm', 5.9e-06),\n",
       " 'weak mixing angle': (0.2223, '', 0.0021),\n",
       " '{220} lattice spacing of silicon': (1.920155714e-10, 'm', 3.2e-18)}"
      ]
     },
     "execution_count": 17,
     "metadata": {},
     "output_type": "execute_result"
    }
   ],
   "source": [
    "cons.physical_constants"
   ]
  },
  {
   "cell_type": "code",
   "execution_count": 18,
   "metadata": {
    "collapsed": false
   },
   "outputs": [
    {
     "data": {
      "text/plain": [
       "399"
      ]
     },
     "execution_count": 18,
     "metadata": {},
     "output_type": "execute_result"
    }
   ],
   "source": [
    "len(cons.physical_constants)"
   ]
  },
  {
   "cell_type": "markdown",
   "metadata": {},
   "source": [
    "We can even search it like a little database:"
   ]
  },
  {
   "cell_type": "code",
   "execution_count": 19,
   "metadata": {
    "collapsed": false
   },
   "outputs": [
    {
     "data": {
      "text/plain": [
       "['Newtonian constant of gravitation',\n",
       " 'Newtonian constant of gravitation over h-bar c']"
      ]
     },
     "execution_count": 19,
     "metadata": {},
     "output_type": "execute_result"
    }
   ],
   "source": [
    "cons.find('Newton')"
   ]
  },
  {
   "cell_type": "code",
   "execution_count": 21,
   "metadata": {
    "collapsed": false
   },
   "outputs": [
    {
     "name": "stdout",
     "output_type": "stream",
     "text": [
      "G =  6.67408e-11 +/- 4.64483494354278e-05 m^3 kg^-1 s^-2\n"
     ]
    }
   ],
   "source": [
    "G = cons.value('Newtonian constant of gravitation')\n",
    "G_u = cons.unit('Newtonian constant of gravitation')\n",
    "G_e = cons.precision('Newtonian constant of gravitation')\n",
    "print('G = ', G, '+/-', G_e, G_u)"
   ]
  },
  {
   "cell_type": "markdown",
   "metadata": {},
   "source": [
    "It also provides some handy unit conversions:"
   ]
  },
  {
   "cell_type": "code",
   "execution_count": 22,
   "metadata": {
    "collapsed": false
   },
   "outputs": [
    {
     "name": "stdout",
     "output_type": "stream",
     "text": [
      "32 F in K: 273.15\n",
      "32 F in C: 0.0\n"
     ]
    }
   ],
   "source": [
    "print('32 F in K:', cons.F2K(32))\n",
    "print('32 F in C:', cons.F2C(32))"
   ]
  },
  {
   "cell_type": "markdown",
   "metadata": {},
   "source": [
    "# Interpolation"
   ]
  },
  {
   "cell_type": "code",
   "execution_count": 23,
   "metadata": {
    "collapsed": true
   },
   "outputs": [],
   "source": [
    "from scipy.interpolate import interp1d, UnivariateSpline\n",
    "from scipy import constants as cons"
   ]
  },
  {
   "cell_type": "code",
   "execution_count": 28,
   "metadata": {
    "collapsed": false
   },
   "outputs": [],
   "source": [
    "# set up some fake data, listing locations versus time\n",
    "rng = np.random.RandomState(42)\n",
    "\n",
    "M = 5.98e24  # mass and radius of Earth\n",
    "R = 6.38e6\n",
    "accel = cons.G*M/R**2 # Earth's grav acceleration\n",
    "times = np.arange(0,10,0.5) # seconds\n",
    "locations = 0.5*accel*times**2 + 50*np.random.random(len(times))\n",
    "\n",
    "# now interpolate onto a much finer grid, using both iterp1d and UnivariateSpline\n",
    "i_times = np.arange(0.5,9,0.1)\n",
    "# list of interpolated values of location at i_times\n",
    "i_locs = interp1d(times, locations, kind=\"cubic\")\n",
    "s = UnivariateSpline(times, locations) # a function that will return interpolated values"
   ]
  },
  {
   "cell_type": "code",
   "execution_count": 29,
   "metadata": {
    "collapsed": false
   },
   "outputs": [],
   "source": [
    "%matplotlib inline\n",
    "import matplotlib.pylab as plt"
   ]
  },
  {
   "cell_type": "code",
   "execution_count": 32,
   "metadata": {
    "collapsed": false
   },
   "outputs": [
    {
     "data": {
      "image/png": "[encoded data removed]",
      "text/plain": [
       "<matplotlib.figure.Figure at 0x11731f710>"
      ]
     },
     "metadata": {},
     "output_type": "display_data"
    }
   ],
   "source": [
    "# plot up several different views of this example\n",
    "plt.figure(figsize=(8,8))\n",
    "plt.errorbar(times, locations, yerr=50/2.35, linestyle='None', marker=\".\", label='data')\n",
    "plt.plot(i_times, s(i_times), c=\"g\", lw=10, alpha=0.3, label='UnivariateSpline')\n",
    "plt.plot(i_times, i_locs(i_times), c=\"black\", lw=1, alpha=0.9, label='interp1d')\n",
    "plt.ylabel('locations',fontsize=15)\n",
    "plt.xlabel('times (s)',fontsize=15)\n",
    "plt.legend(loc='best');"
   ]
  },
  {
   "cell_type": "markdown",
   "metadata": {},
   "source": [
    "## Numerical Integration"
   ]
  },
  {
   "cell_type": "code",
   "execution_count": 35,
   "metadata": {
    "collapsed": false
   },
   "outputs": [
    {
     "name": "stdout",
     "output_type": "stream",
     "text": [
      "2.0 2.220446049250313e-14\n"
     ]
    }
   ],
   "source": [
    "from scipy.integrate import quad\n",
    "val, err =quad( lambda x: np.sin(x) , 0 , np.pi, full_output=False)\n",
    "print(val, err)"
   ]
  },
  {
   "cell_type": "code",
   "execution_count": 36,
   "metadata": {
    "collapsed": false
   },
   "outputs": [],
   "source": [
    "from scipy.integrate import ode\n",
    "ode?"
   ]
  },
  {
   "cell_type": "markdown",
   "metadata": {},
   "source": [
    "## Special functions"
   ]
  },
  {
   "cell_type": "code",
   "execution_count": 37,
   "metadata": {
    "collapsed": false
   },
   "outputs": [],
   "source": [
    "from scipy import special\n",
    "special?"
   ]
  },
  {
   "cell_type": "code",
   "execution_count": 38,
   "metadata": {
    "collapsed": false
   },
   "outputs": [
    {
     "data": {
      "text/plain": [
       "0.0015791205491671057"
      ]
     },
     "execution_count": 38,
     "metadata": {},
     "output_type": "execute_result"
    }
   ],
   "source": [
    "from scipy.special import betainc\n",
    "betainc(10, 10, 0.2)"
   ]
  },
  {
   "cell_type": "markdown",
   "metadata": {},
   "source": [
    "## Polynomial Fitting"
   ]
  },
  {
   "cell_type": "markdown",
   "metadata": {},
   "source": [
    "Basic (least squares) polynomial fitting can be performed using the polyfit routine. More complicated fitting tasks require scipy."
   ]
  },
  {
   "cell_type": "code",
   "execution_count": 46,
   "metadata": {
    "collapsed": false
   },
   "outputs": [
    {
     "data": {
      "image/png": "[encoded data removed]",
      "text/plain": [
       "<matplotlib.figure.Figure at 0x1177dbba8>"
      ]
     },
     "metadata": {},
     "output_type": "display_data"
    }
   ],
   "source": [
    "x = np.array([0.0, 1.0, 2.0, 3.0, 4.0, 5.0])\n",
    "y = np.array([0.0, 0.8, 0.9, 0.1, -0.8, -1.0])\n",
    "\n",
    "f, ax = plt.subplots()\n",
    "ax.plot(x, y, 'o', label='data');\n",
    "ax.legend();"
   ]
  },
  {
   "cell_type": "markdown",
   "metadata": {},
   "source": [
    "Let's fit this data with a cubic polynomial"
   ]
  },
  {
   "cell_type": "code",
   "execution_count": 47,
   "metadata": {
    "collapsed": false
   },
   "outputs": [
    {
     "data": {
      "image/png": "[encoded data removed]",
      "text/plain": [
       "<matplotlib.figure.Figure at 0x1177dbba8>"
      ]
     },
     "execution_count": 47,
     "metadata": {},
     "output_type": "execute_result"
    }
   ],
   "source": [
    "z = np.polyfit(x, y, 3)\n",
    "p = np.poly1d(z)\n",
    "ax.plot(x, p(x), '-', lw=2, label='$p_3(x)$')\n",
    "ax.set_ylim(-2, 2)\n",
    "ax.legend()\n",
    "f"
   ]
  },
  {
   "cell_type": "markdown",
   "metadata": {},
   "source": [
    "And now let' try to fit it with a degree *30* one:"
   ]
  },
  {
   "cell_type": "code",
   "execution_count": 48,
   "metadata": {
    "collapsed": false
   },
   "outputs": [
    {
     "name": "stderr",
     "output_type": "stream",
     "text": [
      "/Users/jbloom/anaconda/envs/seminar/lib/python3.5/site-packages/numpy/lib/polynomial.py:595: RankWarning: Polyfit may be poorly conditioned\n",
      "  warnings.warn(msg, RankWarning)\n"
     ]
    },
    {
     "data": {
      "image/png": "[encoded data removed]",
      "text/plain": [
       "<matplotlib.figure.Figure at 0x1177dbba8>"
      ]
     },
     "execution_count": 48,
     "metadata": {},
     "output_type": "execute_result"
    }
   ],
   "source": [
    "p30 = np.poly1d(np.polyfit(x, y, 30))\n",
    "xp = np.linspace(-2, 6, 100)\n",
    "ax.plot(xp, p30(xp), '--', lw=2, label='$p_{30}(x)$')\n",
    "ax.legend(fontsize=15)\n",
    "f"
   ]
  },
  {
   "cell_type": "markdown",
   "metadata": {},
   "source": [
    "## Optimization"
   ]
  },
  {
   "cell_type": "markdown",
   "metadata": {},
   "source": [
    "A simple Least Squares Fitting example. Note that in practice, you may want to choose `fmin` which provides finer control than `leastsq`.  But for simple cases `leastsq` is sufficient: "
   ]
  },
  {
   "cell_type": "code",
   "execution_count": 50,
   "metadata": {
    "collapsed": false
   },
   "outputs": [
    {
     "name": "stdout",
     "output_type": "stream",
     "text": [
      "Exact parameters:  [0.1, 1.5, 2]\n",
      "Fitted parameters: [ 0.34487292  1.50819851  1.99373246]\n"
     ]
    }
   ],
   "source": [
    "from scipy.optimize import leastsq\n",
    "from numpy import sin, cos, pi, sqrt\n",
    "\n",
    "# Define a simple signal model\n",
    "def model(par):\n",
    "    p = 1.0 # constant frequency\n",
    "    return par[0] + par[1]*sin(2*pi*t/p) + par[2]*cos(2*pi*t/p)\n",
    "\n",
    "# Create some data with this model\n",
    "par = [0.1, 1.5, 2]\n",
    "t = np.linspace(0, pi, 300)\n",
    "y = model(par)\n",
    "\n",
    "# Add a bit of gaussian noise\n",
    "dy = 0.5*np.random.rand(y.shape[0])\n",
    "y += dy\n",
    "\n",
    "# Define the residual function we minimize, simply the squared error\n",
    "def resid(par):\n",
    "    return (model(par)-y)**2\n",
    "\n",
    "# And call leastsq for the fit (note that it returns a tuple whose first\n",
    "# element is the parameter fit, what we actually want):\n",
    "rez = leastsq(resid, [y.mean(), 1, 1] )[0]\n",
    "\n",
    "print('Exact parameters: ', par)\n",
    "print('Fitted parameters:', rez)"
   ]
  },
  {
   "cell_type": "markdown",
   "metadata": {},
   "source": [
    "A quick visual verification:"
   ]
  },
  {
   "cell_type": "code",
   "execution_count": 51,
   "metadata": {
    "collapsed": false
   },
   "outputs": [
    {
     "data": {
      "image/png": "[encoded data removed]",
      "text/plain": [
       "<matplotlib.figure.Figure at 0x1173b3828>"
      ]
     },
     "metadata": {},
     "output_type": "display_data"
    }
   ],
   "source": [
    "plt.plot(t, y, label='data')\n",
    "plt.plot(t, model(rez), label='model')\n",
    "plt.legend();"
   ]
  },
  {
   "cell_type": "code",
   "execution_count": null,
   "metadata": {
    "collapsed": false
   },
   "outputs": [],
   "source": []
  }
 ],
 "metadata": {
  "kernelspec": {
   "display_name": "Python [ay250]",
   "language": "python",
   "name": "Python [ay250]"
  },
  "language_info": {
   "codemirror_mode": {
    "name": "ipython",
    "version": 3
   },
   "file_extension": ".py",
   "mimetype": "text/x-python",
   "name": "python",
   "nbconvert_exporter": "python",
   "pygments_lexer": "ipython3",
   "version": "3.5.2"
  }
 },
 "nbformat": 4,
 "nbformat_minor": 0
}
