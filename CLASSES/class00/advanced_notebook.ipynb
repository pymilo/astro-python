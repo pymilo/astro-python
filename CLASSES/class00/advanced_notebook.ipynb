{
 "cells": [
  {
   "cell_type": "code",
   "execution_count": 2,
   "metadata": {
    "collapsed": false,
    "slideshow": {
     "slide_type": "slide"
    }
   },
   "outputs": [
    {
     "data": {
      "text/html": [
       "<style>\n",
       "\n",
       ".rendered_html\n",
       "{\n",
       "  color: #2C5494;\n",
       "  font-family: Ubuntu;\n",
       "  font-size: 140%;\n",
       "  line-height: 1.1;\n",
       "  margin: 0.5em 0;\n",
       "  }\n",
       "\n",
       ".talk_title\n",
       "{\n",
       "  color: #498AF3;\n",
       "  font-size: 250%;\n",
       "  font-weight:bold;\n",
       "  line-height: 1.2; \n",
       "  margin: 10px 50px 10px;\n",
       "  }\n",
       "\n",
       ".subtitle\n",
       "{\n",
       "  color: #386BBC;\n",
       "  font-size: 180%;\n",
       "  font-weight:bold;\n",
       "  line-height: 1.2; \n",
       "  margin: 20px 50px 20px;\n",
       "  }\n",
       "\n",
       ".slide-header, p.slide-header\n",
       "{\n",
       "  color: #498AF3;\n",
       "  font-size: 200%;\n",
       "  font-weight:bold;\n",
       "  margin: 0px 20px 10px;\n",
       "  page-break-before: always;\n",
       "  text-align: center;\n",
       "  }\n",
       "\n",
       ".rendered_html h1\n",
       "{\n",
       "  color: #498AF3;\n",
       "  line-height: 1.2; \n",
       "  margin: 0.15em 0em 0.5em;\n",
       "  page-break-before: always;\n",
       "  text-align: center;\n",
       "  }\n",
       "\n",
       "\n",
       ".rendered_html h2\n",
       "{ \n",
       "  color: #386BBC;\n",
       "  line-height: 1.2;\n",
       "  margin: 1.1em 0em 0.5em;\n",
       "  }\n",
       "\n",
       ".rendered_html h3\n",
       "{ \n",
       "  font-size: 100%;\n",
       "  line-height: 1.2;\n",
       "  margin: 1.1em 0em 0.5em;\n",
       "  }\n",
       "\n",
       ".rendered_html li\n",
       "{\n",
       "  line-height: 1.8;\n",
       "  }\n",
       "\n",
       ".input_prompt, .CodeMirror-lines, .output_area\n",
       "{\n",
       "  font-family: Consolas;\n",
       "  font-size: 120%;\n",
       "  }\n",
       "\n",
       ".gap-above\n",
       "{\n",
       "  padding-top: 200px;\n",
       "  }\n",
       "\n",
       ".gap01\n",
       "{\n",
       "  padding-top: 10px;\n",
       "  }\n",
       "\n",
       ".gap05\n",
       "{\n",
       "  padding-top: 50px;\n",
       "  }\n",
       "\n",
       ".gap1\n",
       "{\n",
       "  padding-top: 100px;\n",
       "  }\n",
       "\n",
       ".gap2\n",
       "{\n",
       "  padding-top: 200px;\n",
       "  }\n",
       "\n",
       ".gap3\n",
       "{\n",
       "  padding-top: 300px;\n",
       "  }\n",
       "\n",
       ".emph\n",
       "{\n",
       "  color: #386BBC;\n",
       "  }\n",
       "\n",
       ".warn\n",
       "{\n",
       "  color: red;\n",
       "  }\n",
       "\n",
       ".center\n",
       "{\n",
       "  text-align: center;\n",
       "  }\n",
       "\n",
       ".nb_link\n",
       "{\n",
       "    padding-bottom: 0.5em;\n",
       "}\n",
       "\n",
       "</style>\n"
      ],
      "text/plain": [
       "<IPython.core.display.HTML object>"
      ]
     },
     "metadata": {},
     "output_type": "display_data"
    }
   ],
   "source": [
    "%run talktools.py\n",
    "#This sets tools to style a talk\n",
    "#needs the file style.css"
   ]
  },
  {
   "cell_type": "markdown",
   "metadata": {},
   "source": [
    "## Lecture 00: Advanced Language Concepts\n",
    "\n",
    "We're using Python 3.5.X...You should be at least at IPython v5.0.0 for this. \n",
    "\n",
    "If not:\n",
    "<code bash>\n",
    "conda update conda \n",
    "conda update ipython juypter\n",
    "</code>\n",
    "\n",
    "Then fire up the notebook\n",
    "<code>\n",
    "$ cd DataFiles_and_Notebooks/00_AdvancedPythonConcepts/\n",
    "$ jupyter notebook\n",
    "</code>\n",
    "\n",
    "**Mr. Robot uses the CLI, but we'll use the Jupyter notebook.**\n",
    "\n",
    "<img src=\"http://i.imgur.com/4Qwsxx6.png\" width=\"60%\">\n",
    "\n",
    "https://www.reddit.com/r/Python/comments/3uxclx/noticed_some_python_code_in_the_tv_show_mr_robot/"
   ]
  },
  {
   "cell_type": "markdown",
   "metadata": {
    "slideshow": {
     "slide_type": "slide"
    }
   },
   "source": [
    "<center>\n",
    "<p class=\"gap03\"</p>\n",
    "<p class=\"talk_title\">Useful Advanced Concepts</p>\n",
    "<p class=\"gap03\"</p>\n",
    "</center>\n",
    "<ul>\n",
    " <li> ``OrderedDict``, ``namedtuple``\n",
    " <li> building iterators (Classes & generating functions)\n",
    " <li> ``with`` statements (Context managers)\n",
    " <li> decorators\n",
    "</ul>"
   ]
  },
  {
   "cell_type": "markdown",
   "metadata": {
    "slideshow": {
     "slide_type": "slide"
    }
   },
   "source": [
    "## OrderedDict ##\n",
    "\n",
    "not a core type like ``set``, ``dict``, ``list``, ``tuple``...\n",
    "but still very useful."
   ]
  },
  {
   "cell_type": "code",
   "execution_count": null,
   "metadata": {
    "collapsed": false,
    "slideshow": {
     "slide_type": "fragment"
    }
   },
   "outputs": [],
   "source": [
    "a = {\"cal\": \"wow\", \"stanford\": \"meh\"}\n",
    "b = {\"stanford\": \"meh\", \"cal\": \"wow\"}"
   ]
  },
  {
   "cell_type": "code",
   "execution_count": null,
   "metadata": {
    "collapsed": false,
    "slideshow": {
     "slide_type": "fragment"
    }
   },
   "outputs": [],
   "source": [
    "a == b"
   ]
  },
  {
   "cell_type": "code",
   "execution_count": null,
   "metadata": {
    "collapsed": false,
    "slideshow": {
     "slide_type": "fragment"
    }
   },
   "outputs": [],
   "source": [
    "for k in a.keys(): print(k,)\n",
    "print(\"\\n\" + \"*\"*10)\n",
    "for v in a.values(): print(v,)\n",
    "print(\"\\n\" + \"*\"*10)\n",
    "for k, v in a.items(): print(k, v)"
   ]
  },
  {
   "cell_type": "code",
   "execution_count": null,
   "metadata": {
    "collapsed": false,
    "slideshow": {
     "slide_type": "slide"
    }
   },
   "outputs": [],
   "source": [
    "from collections import OrderedDict"
   ]
  },
  {
   "cell_type": "code",
   "execution_count": null,
   "metadata": {
    "collapsed": false,
    "slideshow": {
     "slide_type": "fragment"
    }
   },
   "outputs": [],
   "source": [
    "c = OrderedDict()"
   ]
  },
  {
   "cell_type": "code",
   "execution_count": null,
   "metadata": {
    "collapsed": false,
    "slideshow": {
     "slide_type": "fragment"
    }
   },
   "outputs": [],
   "source": [
    "type(c)"
   ]
  },
  {
   "cell_type": "code",
   "execution_count": null,
   "metadata": {
    "collapsed": false,
    "slideshow": {
     "slide_type": "fragment"
    }
   },
   "outputs": [],
   "source": [
    "c.update({\"best schools\": \"cal\"})\n",
    "c.update({\"worst schools\": \"you know\"})\n",
    "d = OrderedDict({\"worst schools\": \"you know\"})\n",
    "d.update({\"best schools\": \"cal\"})"
   ]
  },
  {
   "cell_type": "code",
   "execution_count": null,
   "metadata": {
    "collapsed": false,
    "slideshow": {
     "slide_type": "fragment"
    }
   },
   "outputs": [],
   "source": [
    "c == d"
   ]
  },
  {
   "cell_type": "code",
   "execution_count": null,
   "metadata": {
    "collapsed": false,
    "slideshow": {
     "slide_type": "fragment"
    }
   },
   "outputs": [],
   "source": [
    "print(c)\n",
    "print(d)"
   ]
  },
  {
   "cell_type": "code",
   "execution_count": null,
   "metadata": {
    "collapsed": false
   },
   "outputs": [],
   "source": [
    "{1: \"a\", \"n\":\"cat\"}"
   ]
  },
  {
   "cell_type": "code",
   "execution_count": null,
   "metadata": {
    "collapsed": false,
    "slideshow": {
     "slide_type": "fragment"
    }
   },
   "outputs": [],
   "source": [
    "c.popitem()"
   ]
  },
  {
   "cell_type": "code",
   "execution_count": null,
   "metadata": {
    "collapsed": false,
    "slideshow": {
     "slide_type": "fragment"
    }
   },
   "outputs": [],
   "source": [
    "d.popitem()"
   ]
  },
  {
   "cell_type": "code",
   "execution_count": null,
   "metadata": {
    "collapsed": false,
    "slideshow": {
     "slide_type": "fragment"
    }
   },
   "outputs": [],
   "source": [
    "print(\"c=\", c)\n",
    "print(\"d=\", d)"
   ]
  },
  {
   "cell_type": "markdown",
   "metadata": {
    "slideshow": {
     "slide_type": "fragment"
    }
   },
   "source": [
    " &nbsp;"
   ]
  },
  {
   "cell_type": "markdown",
   "metadata": {
    "slideshow": {
     "slide_type": "slide"
    }
   },
   "source": [
    "`OrderedDict` has all the same methods as `dict` types but includes the `.popitem()` method (which sort of like doing a `.pop()` on a list without any arguements."
   ]
  },
  {
   "cell_type": "code",
   "execution_count": null,
   "metadata": {
    "collapsed": false,
    "slideshow": {
     "slide_type": "fragment"
    }
   },
   "outputs": [],
   "source": [
    "d = OrderedDict()\n",
    "d.update({\"best schools\": \"cal\", \n",
    "          \"worst schools\": \"you know\"})\n",
    "e = OrderedDict({\"worst schools\": \"you know\",\n",
    "                 \"best schools\": \"cal\"})"
   ]
  },
  {
   "cell_type": "code",
   "execution_count": null,
   "metadata": {
    "collapsed": false,
    "slideshow": {
     "slide_type": "fragment"
    }
   },
   "outputs": [],
   "source": [
    "d == e"
   ]
  },
  {
   "cell_type": "markdown",
   "metadata": {
    "slideshow": {
     "slide_type": "slide"
    }
   },
   "source": [
    "\"The `OrderedDict` constructor and `update()` method both accept keyword arguments, but their order is lost because Python’s function call semantics pass-in keyword arguments using a regular unordered dictionary.\"\n",
    "\n",
    "https://docs.python.org/3/library/collections.html#collections.OrderedDict"
   ]
  },
  {
   "cell_type": "code",
   "execution_count": null,
   "metadata": {
    "collapsed": false,
    "slideshow": {
     "slide_type": "fragment"
    }
   },
   "outputs": [],
   "source": [
    "# other ways to update OrderedDict\n",
    "d.update(cal=\"I mean wow\", stanford=\"what's French for 'meh'?\")\n",
    "d.update([(\"Famous Trumps\",[\"Donald\",\"Card\"])])\n",
    "print(d)"
   ]
  },
  {
   "cell_type": "code",
   "execution_count": null,
   "metadata": {
    "collapsed": false,
    "slideshow": {
     "slide_type": "fragment"
    }
   },
   "outputs": [],
   "source": [
    "## unlike with a dict, the ordering of each pair in the\n",
    "## iteration is gauranteed across platforms. Hurray!\n",
    "for k,v in d.items():\n",
    "    print(k, \"=\", v)"
   ]
  },
  {
   "cell_type": "markdown",
   "metadata": {},
   "source": [
    "## namedtuple\n",
    "\n",
    "\"assign meaning to each position in a tuple and allow for more readable, *self-documenting code*.\"\n",
    "\n",
    "https://docs.python.org/3/library/collections.html#collections.namedtuple\n"
   ]
  },
  {
   "cell_type": "code",
   "execution_count": null,
   "metadata": {
    "collapsed": true
   },
   "outputs": [],
   "source": [
    "from collections import namedtuple"
   ]
  },
  {
   "cell_type": "code",
   "execution_count": null,
   "metadata": {
    "collapsed": false
   },
   "outputs": [],
   "source": [
    "Candidate = namedtuple('Candidate', \n",
    "                       ['office', 'name', 'party', 'tax_return'])"
   ]
  },
  {
   "cell_type": "code",
   "execution_count": null,
   "metadata": {
    "collapsed": false
   },
   "outputs": [],
   "source": [
    "Candidate._fields"
   ]
  },
  {
   "cell_type": "code",
   "execution_count": null,
   "metadata": {
    "collapsed": true
   },
   "outputs": [],
   "source": [
    "Candidate."
   ]
  },
  {
   "cell_type": "code",
   "execution_count": null,
   "metadata": {
    "collapsed": true
   },
   "outputs": [],
   "source": [
    "Candidate.tax_return.__doc__ = \\\n",
    "   'has the candidate released their tax returns?'"
   ]
  },
  {
   "cell_type": "code",
   "execution_count": null,
   "metadata": {
    "collapsed": false
   },
   "outputs": [],
   "source": [
    "h=Candidate(\"president\",\"Hillary\",\"Dem\",True)\n",
    "d=Candidate(\"president\",\"Donald\",\"GOP\",False)\n",
    "k=Candidate(\"senate\",\"Kamala\",\"Dem\",True)"
   ]
  },
  {
   "cell_type": "code",
   "execution_count": null,
   "metadata": {
    "collapsed": false
   },
   "outputs": [],
   "source": [
    "k.party"
   ]
  },
  {
   "cell_type": "code",
   "execution_count": null,
   "metadata": {
    "collapsed": false
   },
   "outputs": [],
   "source": [
    "h._asdict()"
   ]
  },
  {
   "cell_type": "code",
   "execution_count": null,
   "metadata": {
    "collapsed": false
   },
   "outputs": [],
   "source": [
    "h._asdict().keys()"
   ]
  },
  {
   "cell_type": "code",
   "execution_count": null,
   "metadata": {
    "collapsed": false
   },
   "outputs": [],
   "source": [
    "for cand in [h,d,k]:\n",
    "    print(\"{0} ({1}): shown tax return? {2} \" \\\n",
    "          .format(cand.name,cand.party,cand.tax_return))"
   ]
  },
  {
   "cell_type": "code",
   "execution_count": null,
   "metadata": {
    "collapsed": false
   },
   "outputs": [],
   "source": [
    "print(Candidate._source)"
   ]
  },
  {
   "cell_type": "markdown",
   "metadata": {
    "slideshow": {
     "slide_type": "fragment"
    }
   },
   "source": [
    " &nbsp;"
   ]
  },
  {
   "cell_type": "markdown",
   "metadata": {
    "slideshow": {
     "slide_type": "slide"
    }
   },
   "source": [
    "# Making Iterables #\n",
    "\n",
    "<center>Python can loop over many different types</center>"
   ]
  },
  {
   "cell_type": "markdown",
   "metadata": {
    "slideshow": {
     "slide_type": "fragment"
    }
   },
   "source": [
    "```python\n",
    "    >>> for element in [1, 2, 3]:\n",
    "        print(element, end=\" \")\n",
    "    1 2 3\n",
    "    >>> for element in (1, 2, 3):\n",
    "        print(element, end=\" \")\n",
    "    1 2 3\n",
    "    >>> for key in {'one':1, 'two':2}:\n",
    "        print(key, end=\" \")\n",
    "    one two\n",
    "    >>> for char in \"123\":\n",
    "        print(char, end=\" \")\n",
    "    1 2 3\n",
    "    >>> for a in {4,1,3,4,2}:\n",
    "        print(a, end=\" \")\n",
    "    1 2 3 4\n",
    "    >>> print({4,1,3,4,2,\"a\",0j})\n",
    "        set([0j, 'a', 2, 3, 4, 1])\n",
    "```"
   ]
  },
  {
   "cell_type": "markdown",
   "metadata": {
    "slideshow": {
     "slide_type": "fragment"
    }
   },
   "source": [
    " &nbsp;"
   ]
  },
  {
   "cell_type": "markdown",
   "metadata": {
    "slideshow": {
     "slide_type": "slide"
    }
   },
   "source": [
    "# Making Iterables #\n",
    "<center> Each of those above types have built-in methods.\n",
    "So do, even, `file` objects: </center>"
   ]
  },
  {
   "cell_type": "code",
   "execution_count": null,
   "metadata": {
    "collapsed": false,
    "slideshow": {
     "slide_type": "fragment"
    }
   },
   "outputs": [],
   "source": [
    "for l in open(\"password.file\",\"r\"):\n",
    "    print(l,)"
   ]
  },
  {
   "cell_type": "code",
   "execution_count": null,
   "metadata": {
    "collapsed": false,
    "slideshow": {
     "slide_type": "fragment"
    }
   },
   "outputs": [],
   "source": [
    "for x in [\"dog\",\"cat\",\"cheezeberger\"]:\n",
    "    print(x, end=\" \")"
   ]
  },
  {
   "cell_type": "code",
   "execution_count": null,
   "metadata": {
    "collapsed": false,
    "slideshow": {
     "slide_type": "fragment"
    }
   },
   "outputs": [],
   "source": [
    "# this is what is actually getting call by the `for` call\n",
    "# for x in a: ...\n",
    "a = {\"cal\": \"wow\", \"stanford\": \"meh\"}\n",
    "b = iter(a)"
   ]
  },
  {
   "cell_type": "code",
   "execution_count": null,
   "metadata": {
    "collapsed": false,
    "slideshow": {
     "slide_type": "fragment"
    }
   },
   "outputs": [],
   "source": [
    "b"
   ]
  },
  {
   "cell_type": "code",
   "execution_count": null,
   "metadata": {
    "collapsed": false,
    "slideshow": {
     "slide_type": "fragment"
    }
   },
   "outputs": [],
   "source": [
    "next(b)"
   ]
  },
  {
   "cell_type": "code",
   "execution_count": null,
   "metadata": {
    "collapsed": false,
    "slideshow": {
     "slide_type": "fragment"
    }
   },
   "outputs": [],
   "source": [
    "next(b)"
   ]
  },
  {
   "cell_type": "code",
   "execution_count": null,
   "metadata": {
    "collapsed": false,
    "slideshow": {
     "slide_type": "fragment"
    }
   },
   "outputs": [],
   "source": [
    "next(b)"
   ]
  },
  {
   "cell_type": "code",
   "execution_count": null,
   "metadata": {
    "collapsed": true
   },
   "outputs": [],
   "source": [
    "b.__next__?"
   ]
  },
  {
   "cell_type": "markdown",
   "metadata": {},
   "source": [
    "<div class=\"alert alert-success\">\n",
    "note the consistency with `str()` and `__str__`, `len()` and `__len__`, ...\n",
    "</div>"
   ]
  },
  {
   "cell_type": "markdown",
   "metadata": {
    "slideshow": {
     "slide_type": "fragment"
    }
   },
   "source": [
    " &nbsp;"
   ]
  },
  {
   "cell_type": "markdown",
   "metadata": {
    "slideshow": {
     "slide_type": "slide"
    }
   },
   "source": [
    "# Making Iterables #\n",
    "\n",
    "<p class=\"gap05\"</p>\n",
    "\n",
    "We can make classes that know how to iterate, becoming new iterables types. The key is to build to special methods: ``.__iter__()`` and ``.__next__()``\n",
    "\n",
    "<p class=\"gap03\"</p>\n",
    "\n",
    " * `.__iter__()` : return an iterator object (usually just self) \n",
    " \n",
    " * `.__next__()` : return the next element in the iterator. raise a `StopIteration` exception if there is nothing left\n",
    " \n",
    "<p class=\"gap05\"</p>\n",
    "\n",
    "https://docs.python.org/3/library/stdtypes.html#typeiter"
   ]
  },
  {
   "cell_type": "code",
   "execution_count": null,
   "metadata": {
    "collapsed": false,
    "slideshow": {
     "slide_type": "slide"
    }
   },
   "outputs": [],
   "source": [
    "%%file myits1.py\n",
    "\n",
    "\"\"\" let's make an iterator \"\"\"\n",
    "class Reverse(object):\n",
    "     \"Iterator class for looping over a sequence backwards\"\n",
    "     def __init__(self, data):\n",
    "        self.data = data\n",
    "        self.index = len(data)\n",
    "\n",
    "     def __iter__(self):\n",
    "        # this is a required of an iterating class\n",
    "        return self\n",
    "\n",
    "     def __next__(self):\n",
    "        # we got to the front of the array\n",
    "        if self.index == 0:\n",
    "            raise StopIteration\n",
    "        \n",
    "        self.index = self.index - 1\n",
    "        return self.data[self.index]"
   ]
  },
  {
   "cell_type": "code",
   "execution_count": null,
   "metadata": {
    "collapsed": false,
    "slideshow": {
     "slide_type": "fragment"
    }
   },
   "outputs": [],
   "source": [
    "%run myits1"
   ]
  },
  {
   "cell_type": "code",
   "execution_count": null,
   "metadata": {
    "collapsed": false,
    "slideshow": {
     "slide_type": "fragment"
    }
   },
   "outputs": [],
   "source": [
    "r = Reverse(\"god\")\n",
    "print(r)"
   ]
  },
  {
   "cell_type": "code",
   "execution_count": null,
   "metadata": {
    "collapsed": false,
    "slideshow": {
     "slide_type": "fragment"
    }
   },
   "outputs": [],
   "source": [
    "for c in r: print(c, end=\" \")"
   ]
  },
  {
   "cell_type": "markdown",
   "metadata": {},
   "source": [
    "<img src=\"https://img.buzzfeed.com/buzzfeed-static/static/2014-11/13/17/enhanced/webdr09/enhanced-9483-1415918730-8.png\" width=\"40%\">"
   ]
  },
  {
   "cell_type": "code",
   "execution_count": null,
   "metadata": {
    "collapsed": false,
    "slideshow": {
     "slide_type": "fragment"
    }
   },
   "outputs": [],
   "source": [
    "next(r)"
   ]
  },
  {
   "cell_type": "code",
   "execution_count": null,
   "metadata": {
    "collapsed": false
   },
   "outputs": [],
   "source": [
    "r.index = -1"
   ]
  },
  {
   "cell_type": "code",
   "execution_count": null,
   "metadata": {
    "collapsed": false,
    "slideshow": {
     "slide_type": "fragment"
    }
   },
   "outputs": [],
   "source": [
    "r = Reverse(\"amanaplanacanalpanama\")\n",
    "for c in r: print(c, end=\"\")"
   ]
  },
  {
   "cell_type": "code",
   "execution_count": null,
   "metadata": {
    "collapsed": false
   },
   "outputs": [],
   "source": [
    "for c in r: print(c, end=\"\")"
   ]
  },
  {
   "cell_type": "markdown",
   "metadata": {
    "slideshow": {
     "slide_type": "fragment"
    }
   },
   "source": [
    " &nbsp;"
   ]
  },
  {
   "cell_type": "markdown",
   "metadata": {
    "slideshow": {
     "slide_type": "slide"
    }
   },
   "source": [
    "# Generators #\n",
    "\n",
    "<p class=\"gap03\"</p>\n",
    "Create a ``generator`` expression, something that is iterable:\n",
    "<p class=\"gap03\"</p>\n",
    "\n",
    "> e.g., (x**2 for x in range(3))\n",
    "\n",
    "<p class=\"gap03\"</p>\n",
    "Like list comprehension [] and set comprehension {}"
   ]
  },
  {
   "cell_type": "code",
   "execution_count": null,
   "metadata": {
    "collapsed": false
   },
   "outputs": [],
   "source": [
    "a = ((x,x**2) for x in range(3))"
   ]
  },
  {
   "cell_type": "code",
   "execution_count": null,
   "metadata": {
    "collapsed": false,
    "slideshow": {
     "slide_type": "fragment"
    }
   },
   "outputs": [],
   "source": [
    "dict([(x,x**2) for x in range(3)])"
   ]
  },
  {
   "cell_type": "code",
   "execution_count": null,
   "metadata": {
    "collapsed": false,
    "slideshow": {
     "slide_type": "fragment"
    }
   },
   "outputs": [],
   "source": [
    "for i in (x**2 for x in range(3)):\n",
    "    print(i, end=\" \")"
   ]
  },
  {
   "cell_type": "code",
   "execution_count": null,
   "metadata": {
    "collapsed": false
   },
   "outputs": [],
   "source": [
    "sum((x for x in range(11)))"
   ]
  },
  {
   "cell_type": "markdown",
   "metadata": {},
   "source": [
    "What's the difference between ( ... ) and [ ... ]?"
   ]
  },
  {
   "cell_type": "markdown",
   "metadata": {
    "slideshow": {
     "slide_type": "fragment"
    }
   },
   "source": [
    " &nbsp;"
   ]
  },
  {
   "cell_type": "markdown",
   "metadata": {
    "slideshow": {
     "slide_type": "slide"
    }
   },
   "source": [
    "# Making Generators #\n",
    "\n",
    "<p class=\"gap03\"</p>\n",
    "we can also make iterables using generating functions\n",
    "<p class=\"gap03\"</p>\n",
    "\n",
    "<div class=\"alert alert-success\">Generators are iterators, but you can only iterate over them once. It's because they do not store all the values in memory, they generate the values on the fly</div>\n",
    "\n",
    "<font color=\"red\"><b>yield</b></font> inside of a function acts like a \"temporary return\" but saves the entire state of the local variables for further use"
   ]
  },
  {
   "cell_type": "code",
   "execution_count": null,
   "metadata": {
    "collapsed": false
   },
   "outputs": [],
   "source": [
    "%%file first_its.py\n",
    "def integers():\n",
    "    \"\"\"Infinite sequence of integers.\"\"\"\n",
    "    i = 1\n",
    "    while True:\n",
    "        yield i\n",
    "        i = i + 1\n",
    "\n",
    "def squares():\n",
    "    for i in integers():\n",
    "        yield i * i"
   ]
  },
  {
   "cell_type": "code",
   "execution_count": null,
   "metadata": {
    "collapsed": true
   },
   "outputs": [],
   "source": [
    "%run first_its.py"
   ]
  },
  {
   "cell_type": "code",
   "execution_count": null,
   "metadata": {
    "collapsed": false
   },
   "outputs": [],
   "source": [
    "for x in squares():\n",
    "    if x > 10:\n",
    "        break\n",
    "    print(x)"
   ]
  },
  {
   "cell_type": "code",
   "execution_count": null,
   "metadata": {
    "collapsed": false,
    "slideshow": {
     "slide_type": "fragment"
    }
   },
   "outputs": [],
   "source": [
    "%%file myits2.py\n",
    "\n",
    "def countdown(start,end=0,step=1.0):\n",
    "     i = start\n",
    "     while (i >= end) or end == None:\n",
    "          yield i\n",
    "          i -= step"
   ]
  },
  {
   "cell_type": "markdown",
   "metadata": {
    "slideshow": {
     "slide_type": "-"
    }
   },
   "source": [
    "when the function stops yielding, `StopIteration` is raised (implicitly)"
   ]
  },
  {
   "cell_type": "code",
   "execution_count": null,
   "metadata": {
    "collapsed": false,
    "slideshow": {
     "slide_type": "fragment"
    }
   },
   "outputs": [],
   "source": [
    "%run myits2"
   ]
  },
  {
   "cell_type": "code",
   "execution_count": null,
   "metadata": {
    "collapsed": false,
    "slideshow": {
     "slide_type": "fragment"
    }
   },
   "outputs": [],
   "source": [
    "c = countdown(3)"
   ]
  },
  {
   "cell_type": "code",
   "execution_count": null,
   "metadata": {
    "collapsed": false,
    "slideshow": {
     "slide_type": "fragment"
    }
   },
   "outputs": [],
   "source": [
    "c"
   ]
  },
  {
   "cell_type": "code",
   "execution_count": null,
   "metadata": {
    "collapsed": false,
    "slideshow": {
     "slide_type": "fragment"
    }
   },
   "outputs": [],
   "source": [
    "next(c)"
   ]
  },
  {
   "cell_type": "code",
   "execution_count": null,
   "metadata": {
    "collapsed": false,
    "slideshow": {
     "slide_type": "fragment"
    }
   },
   "outputs": [],
   "source": [
    "next(c)"
   ]
  },
  {
   "cell_type": "code",
   "execution_count": null,
   "metadata": {
    "collapsed": false,
    "slideshow": {
     "slide_type": "fragment"
    }
   },
   "outputs": [],
   "source": [
    "next(c)"
   ]
  },
  {
   "cell_type": "markdown",
   "metadata": {
    "slideshow": {
     "slide_type": "fragment"
    }
   },
   "source": [
    "\"iterator on list: `next()` returns the next element of the list\n",
    "\n",
    "iterator generator: `next()` will compute the next element on the fly\"\n",
    "\n",
    "http://stackoverflow.com/questions/231767/the-python-yield-keyword-explained"
   ]
  },
  {
   "cell_type": "markdown",
   "metadata": {
    "slideshow": {
     "slide_type": "fragment"
    }
   },
   "source": [
    " &nbsp;"
   ]
  },
  {
   "cell_type": "markdown",
   "metadata": {
    "slideshow": {
     "slide_type": "slide"
    }
   },
   "source": [
    "# Example: Fibonacci sequence #\n",
    "\n",
    "$$\n",
    "F(n) = \\left\\{ \\begin{array}{rl}\n",
    "  0 &\\mbox{ if $n=0$} \\\\\n",
    "  1 &\\mbox{ if $n=1$} \\\\\n",
    "  F(n -1) + F(n -2) & \\mbox{ if $n >1$}\n",
    "       \\end{array} \\right.\n",
    "$$\n",
    "\n",
    "output: 0, 1, 1, 2, 3, 5, 8, 13, 21, ..."
   ]
  },
  {
   "cell_type": "code",
   "execution_count": null,
   "metadata": {
    "collapsed": false,
    "slideshow": {
     "slide_type": "fragment"
    }
   },
   "outputs": [],
   "source": [
    "%%file myits3.py\n",
    "\n",
    "def fib():\n",
    "    a = 0\n",
    "    b = 1\n",
    "    i = 0\n",
    "    while True:\n",
    "        yield a\n",
    "        i += 1\n",
    "        a, b = b, a + b"
   ]
  },
  {
   "cell_type": "code",
   "execution_count": null,
   "metadata": {
    "collapsed": false,
    "slideshow": {
     "slide_type": "fragment"
    }
   },
   "outputs": [],
   "source": [
    "%run myits3\n",
    "a = fib()\n",
    "for i in range(15): print(next(a), end=\" \")"
   ]
  },
  {
   "cell_type": "code",
   "execution_count": null,
   "metadata": {
    "collapsed": false,
    "slideshow": {
     "slide_type": "fragment"
    }
   },
   "outputs": [],
   "source": [
    "%%file myits4.py\n",
    "\n",
    "def fib1(start=0,end=None,maxnum=100):\n",
    "    \"\"\"\n",
    "another yield example, allowing the user to start their own fibbinoci sequence at\n",
    "start (default is 0)\n",
    "    \"\"\"\n",
    "    a = start\n",
    "    b = start + 1\n",
    "    n_yielded = 0\n",
    "    while (n_yielded < maxnum or maxnum is None) and ((end is None) or (abs(a) < abs(end))):\n",
    "        \"abs needed to control against silly user starting with a negative number\"\n",
    "        yield a\n",
    "        n_yielded += 1\n",
    "        a, b = b, a + b\n",
    "    \n",
    "    # if we got here then we are returning instead of yielding. The countdown is finished\n",
    "    # we could raise a StopException excception here...this is done for us implicitly"
   ]
  },
  {
   "cell_type": "code",
   "execution_count": null,
   "metadata": {
    "collapsed": true
   },
   "outputs": [],
   "source": [
    "%run myits4.py"
   ]
  },
  {
   "cell_type": "code",
   "execution_count": null,
   "metadata": {
    "collapsed": false,
    "slideshow": {
     "slide_type": "fragment"
    }
   },
   "outputs": [],
   "source": [
    "for e in fib1(start=-1,end=10000,maxnum=10): print(e, end=\" \")"
   ]
  },
  {
   "cell_type": "code",
   "execution_count": null,
   "metadata": {
    "collapsed": false,
    "slideshow": {
     "slide_type": "fragment"
    }
   },
   "outputs": [],
   "source": [
    "b = fib1(start=1,end=10000,maxnum=2)\n",
    "next(b)"
   ]
  },
  {
   "cell_type": "code",
   "execution_count": null,
   "metadata": {
    "collapsed": false,
    "slideshow": {
     "slide_type": "fragment"
    }
   },
   "outputs": [],
   "source": [
    "next(b)"
   ]
  },
  {
   "cell_type": "code",
   "execution_count": null,
   "metadata": {
    "collapsed": false,
    "slideshow": {
     "slide_type": "fragment"
    }
   },
   "outputs": [],
   "source": [
    "next(b)"
   ]
  },
  {
   "cell_type": "markdown",
   "metadata": {
    "slideshow": {
     "slide_type": "fragment"
    }
   },
   "source": [
    " &nbsp;"
   ]
  },
  {
   "cell_type": "markdown",
   "metadata": {
    "slideshow": {
     "slide_type": "slide"
    }
   },
   "source": [
    "# Breakout! #\n",
    "\n",
    "<center>\n",
    "The infinite series:\n",
    "1 - 1/3 + 1/5 - 1/7 ...\n",
    "converges to π/4\n",
    "</center>\n",
    "<p></p>\n",
    "\n",
    "a) write a generator function which progressively makes better and better approximations of π.\n",
    "\n",
    "b) modify the generator to stop after it reaches within 0.1% of the true value of π.  What value do you get?\n",
    "\n",
    "c) [optional] \"accelerate\" convergence by writing a generator that takes your answer in a) as an argument and returns:\n",
    "\n",
    "$$S_n = S_{n+1} - \\frac{(S_{n+1} - S_n)^2}{S_{n-1} - 2 S_n + S_{n+1}}$$"
   ]
  },
  {
   "cell_type": "code",
   "execution_count": null,
   "metadata": {
    "collapsed": false,
    "slideshow": {
     "slide_type": "slide"
    }
   },
   "outputs": [],
   "source": [
    "%%load /Users/jbloom/Classes/python-seminar"
   ]
  },
  {
   "cell_type": "markdown",
   "metadata": {
    "slideshow": {
     "slide_type": "slide"
    }
   },
   "source": [
    "# Itertools #"
   ]
  },
  {
   "cell_type": "code",
   "execution_count": null,
   "metadata": {
    "collapsed": false,
    "slideshow": {
     "slide_type": "fragment"
    }
   },
   "outputs": [],
   "source": [
    "import itertools"
   ]
  },
  {
   "cell_type": "code",
   "execution_count": null,
   "metadata": {
    "collapsed": false,
    "slideshow": {
     "slide_type": "fragment"
    }
   },
   "outputs": [],
   "source": [
    "## chain many iterables together\n",
    "a = itertools.chain((x**2 for x in range(3)), (x**3 for x in range(3)))"
   ]
  },
  {
   "cell_type": "code",
   "execution_count": null,
   "metadata": {
    "collapsed": false,
    "slideshow": {
     "slide_type": "fragment"
    }
   },
   "outputs": [],
   "source": [
    "for x in a: \n",
    "    print(x, end=\" \")"
   ]
  },
  {
   "cell_type": "code",
   "execution_count": null,
   "metadata": {
    "collapsed": false,
    "slideshow": {
     "slide_type": "fragment"
    }
   },
   "outputs": [],
   "source": [
    "print(a)\n",
    "print(hasattr(a,\"__next__\"))\n",
    "print(hasattr(a,\"__iter__\"))"
   ]
  },
  {
   "cell_type": "code",
   "execution_count": null,
   "metadata": {
    "collapsed": false,
    "slideshow": {
     "slide_type": "fragment"
    }
   },
   "outputs": [],
   "source": [
    "for x in itertools.combinations([\"dog\",\"cat\",\"cheezberger\"], 2): \n",
    "    print(x, end=\" \")"
   ]
  },
  {
   "cell_type": "code",
   "execution_count": null,
   "metadata": {
    "collapsed": false,
    "slideshow": {
     "slide_type": "fragment"
    }
   },
   "outputs": [],
   "source": [
    "for x in itertools.permutations([\"dog\",\"cat\",\"cheezberger\"]): \n",
    "    print(x, end= \" \")"
   ]
  },
  {
   "cell_type": "markdown",
   "metadata": {
    "slideshow": {
     "slide_type": "slide"
    }
   },
   "source": [
    "# Context Managers #\n",
    "\n",
    "allow you to build classes that provide a context to what you do:\n",
    "everything inside of a with statement operates abides by the context you create. You decide how to build up the context and how to tear it down.\n",
    "\n",
    "e.g., holding a lockfile, running a database transaction\n",
    "\n",
    "```python\n",
    ">>> with open(\"password.file\",\"r\") as f:\n",
    "    print f.readlines() \n",
    "[\"# here's some passwords I cracked\",\"guido  Monty\",\"cleese Python\"]\n",
    "```\n",
    "\n",
    "`f.close()` got called for us (and would have even under an exception)\n",
    "\n",
    "http://www.python.org/dev/peps/pep-0343/"
   ]
  },
  {
   "cell_type": "markdown",
   "metadata": {
    "slideshow": {
     "slide_type": "slide"
    }
   },
   "source": [
    "# Context Managers #\n",
    "\n",
    "write `__enter__()` and `__exit__()` methods. These get executed no matter what."
   ]
  },
  {
   "cell_type": "code",
   "execution_count": null,
   "metadata": {
    "collapsed": false,
    "slideshow": {
     "slide_type": "fragment"
    }
   },
   "outputs": [],
   "source": [
    "%%file myctx1.py\n",
    "\n",
    "class MyDecor:\n",
    "    def __enter__(self):\n",
    "        print(\"Entered a wonderful technicolor world. Build it up\")\n",
    "        \n",
    "    def __exit__(self,*args):\n",
    "        ## *args hold the exception args if needed\n",
    "        print(\"...exiting this wonderful world. Tear it down.\")"
   ]
  },
  {
   "cell_type": "code",
   "execution_count": null,
   "metadata": {
    "collapsed": false,
    "slideshow": {
     "slide_type": "fragment"
    }
   },
   "outputs": [],
   "source": [
    "%run myctx1.py\n",
    "a = MyDecor()"
   ]
  },
  {
   "cell_type": "code",
   "execution_count": null,
   "metadata": {
    "collapsed": false
   },
   "outputs": [],
   "source": [
    "with MyDecor():\n",
    "    print(\" Do something!\")"
   ]
  },
  {
   "cell_type": "markdown",
   "metadata": {
    "slideshow": {
     "slide_type": "fragment"
    }
   },
   "source": [
    "`__enter__()` and `__exit__()` only get called when invoked with the with statement"
   ]
  },
  {
   "cell_type": "markdown",
   "metadata": {
    "slideshow": {
     "slide_type": "fragment"
    }
   },
   "source": [
    " &nbsp;"
   ]
  },
  {
   "cell_type": "code",
   "execution_count": null,
   "metadata": {
    "collapsed": false,
    "slideshow": {
     "slide_type": "slide"
    }
   },
   "outputs": [],
   "source": [
    "%%file myctx2.py\n",
    "\n",
    "class MyDecor1:\n",
    "    \n",
    "    def __init__(self,expression=\"None\"):\n",
    "        self.expression = expression\n",
    "    def __enter__(self):\n",
    "        print(\"Entered a wonderful technicolor world. Build it up\") \n",
    "        return eval(self.expression)\n",
    "    def __exit__(self,*args):\n",
    "        print(\"...exiting this wonderful world. Tear it down.\")"
   ]
  },
  {
   "cell_type": "code",
   "execution_count": null,
   "metadata": {
    "collapsed": false,
    "slideshow": {
     "slide_type": "fragment"
    }
   },
   "outputs": [],
   "source": [
    "%run myctx2\n",
    "with MyDecor1(\"2**3\") as x:\n",
    "    print(x)"
   ]
  },
  {
   "cell_type": "code",
   "execution_count": null,
   "metadata": {
    "collapsed": false,
    "slideshow": {
     "slide_type": "fragment"
    }
   },
   "outputs": [],
   "source": [
    "with MyDecor1(\"2\") as x:\n",
    "    print(x/0)"
   ]
  },
  {
   "cell_type": "markdown",
   "metadata": {
    "slideshow": {
     "slide_type": "fragment"
    }
   },
   "source": [
    " &nbsp;"
   ]
  },
  {
   "cell_type": "markdown",
   "metadata": {
    "slideshow": {
     "slide_type": "slide"
    }
   },
   "source": [
    "<center>\n",
    "<img src=\"files/633514032027949357-Interior-Decorators.jpg\" width=80%>\n",
    "</center>"
   ]
  },
  {
   "cell_type": "markdown",
   "metadata": {
    "slideshow": {
     "slide_type": "slide"
    }
   },
   "source": [
    "# Decorators #\n",
    "\n",
    "special functions/classes that augment the functionality of other functions or classes (called in other languages macros or annotations)\n",
    "\n",
    "denoted with an @sign, immediately preceding decorator name, e.g. `@require_login` or `@testinput`"
   ]
  },
  {
   "cell_type": "code",
   "execution_count": null,
   "metadata": {
    "collapsed": false,
    "slideshow": {
     "slide_type": "fragment"
    }
   },
   "outputs": [],
   "source": [
    "%%file myctx3.py\n",
    "\n",
    "def entryExit(f):\n",
    "    def new_f():\n",
    "        print(\"Entering\", f.__name__)\n",
    "        f()\n",
    "        print(\"Exited\", f.__name__)\n",
    "    return new_f\n",
    "\n",
    "@entryExit\n",
    "def func1():\n",
    "    print(\"inside func1()\")\n",
    "\n",
    "@entryExit\n",
    "def func2():\n",
    "    print(\"inside func2()\")"
   ]
  },
  {
   "cell_type": "code",
   "execution_count": null,
   "metadata": {
    "collapsed": false,
    "slideshow": {
     "slide_type": "fragment"
    }
   },
   "outputs": [],
   "source": [
    "%run myctx3\n",
    "func1()"
   ]
  },
  {
   "cell_type": "code",
   "execution_count": null,
   "metadata": {
    "collapsed": false,
    "slideshow": {
     "slide_type": "fragment"
    }
   },
   "outputs": [],
   "source": [
    "func2()"
   ]
  },
  {
   "cell_type": "code",
   "execution_count": null,
   "metadata": {
    "collapsed": false,
    "slideshow": {
     "slide_type": "fragment"
    }
   },
   "outputs": [],
   "source": [
    "%%file myctx4.py\n",
    "\n",
    "def introspect(f):\n",
    "    def wrapper(*arg,**kwarg):\n",
    "        print(\"Function name = %s\" % f.__name__)\n",
    "        print(\" docstring = %s\" % f.__doc__)\n",
    "        if len(arg) > 0:\n",
    "            print(\"   ... got passed args: %s \" % str(arg))\n",
    "        if len(kwarg.keys()) > 0:\n",
    "            print(\"   ... got passed keywords: %s \" % str(kwarg))\n",
    "        return f(*arg,**kwarg)\n",
    "    return wrapper"
   ]
  },
  {
   "cell_type": "markdown",
   "metadata": {},
   "source": [
    "<div class=\"alert alert-info\">\n",
    "Some advantages to using `functools.wraps`:\n",
    "https://docs.python.org/3/library/functools.html#functools.wraps\n",
    "</div>"
   ]
  },
  {
   "cell_type": "code",
   "execution_count": null,
   "metadata": {
    "collapsed": false,
    "slideshow": {
     "slide_type": "fragment"
    }
   },
   "outputs": [],
   "source": [
    "%run myctx4"
   ]
  },
  {
   "cell_type": "code",
   "execution_count": null,
   "metadata": {
    "collapsed": false,
    "slideshow": {
     "slide_type": "fragment"
    }
   },
   "outputs": [],
   "source": [
    "@introspect\n",
    "def myrange(start,stop,step):\n",
    "    return range(start,stop,step)\n",
    "\n",
    "myrange(1,10,2)"
   ]
  },
  {
   "cell_type": "markdown",
   "metadata": {
    "slideshow": {
     "slide_type": "fragment"
    }
   },
   "source": [
    " &nbsp;"
   ]
  },
  {
   "cell_type": "code",
   "execution_count": null,
   "metadata": {
    "collapsed": false,
    "slideshow": {
     "slide_type": "slide"
    }
   },
   "outputs": [],
   "source": [
    "def accepts(*types):\n",
    "    \"\"\" Function decorator. Checks that inputs given to decorated function\n",
    "      are of the expected type.\n",
    "  \n",
    "      Parameters:\n",
    "      types -- The expected types of the inputs to the decorated function.\n",
    "               Must specify type for each parameter.\n",
    "    \"\"\"\n",
    "    def decorator(f):\n",
    "        def newf(*args):\n",
    "            assert len(args) == len(types)\n",
    "            argtypes = tuple(map(type, args))\n",
    "            if argtypes != types:\n",
    "                a = \"in %s \"  % f.__name__\n",
    "                a += \"got %s but expected %s\" % (argtypes,types)\n",
    "                raise TypeError(a)\n",
    "            return f(*args)\n",
    "        return newf\n",
    "    return decorator"
   ]
  },
  {
   "cell_type": "code",
   "execution_count": null,
   "metadata": {
    "collapsed": false,
    "slideshow": {
     "slide_type": "fragment"
    }
   },
   "outputs": [],
   "source": [
    "@introspect\n",
    "@accepts(int,int,int)\n",
    "def myrange(start,stop,step): \n",
    "    return range(start,stop,step)"
   ]
  },
  {
   "cell_type": "code",
   "execution_count": null,
   "metadata": {
    "collapsed": false,
    "slideshow": {
     "slide_type": "fragment"
    }
   },
   "outputs": [],
   "source": [
    "myrange(1,10,1)"
   ]
  },
  {
   "cell_type": "code",
   "execution_count": null,
   "metadata": {
    "collapsed": false,
    "slideshow": {
     "slide_type": "fragment"
    }
   },
   "outputs": [],
   "source": [
    "myrange(1.0,10,1)"
   ]
  },
  {
   "cell_type": "markdown",
   "metadata": {},
   "source": [
    "### function annotations\n",
    "\n",
    "\"Function annotations are completely optional metadata information about the types used by user-defined functions.\" Discussed since 2006.\n",
    "\n",
    "Annotations are stored in the ``__annotations__`` attribute as a dictionary.\n",
    "\n",
    "https://docs.python.org/3/tutorial/controlflow.html#function-annotations"
   ]
  },
  {
   "cell_type": "code",
   "execution_count": null,
   "metadata": {
    "collapsed": true
   },
   "outputs": [],
   "source": [
    "def add_ints(x: int, y: int) -> int:\n",
    "    return x + y"
   ]
  },
  {
   "cell_type": "code",
   "execution_count": null,
   "metadata": {
    "collapsed": false
   },
   "outputs": [],
   "source": [
    "from functools import wraps\n",
    "from inspect import getcallargs # dictionary\n",
    "\n",
    "def enforce(f):\n",
    "    @wraps(f)\n",
    "    def wrapper(*args, **kws):\n",
    "        for var, val in getcallargs(f, *args, **kws).items():\n",
    "            if var in f.__annotations__:\n",
    "                if type(val) != f.__annotations__.get(var):\n",
    "                    raise TypeError(\"{} is not of type {}\"\n",
    "                                   .format(val,f.__annotations__.get(var)))\n",
    "        ret_value = f(*args, **kws)\n",
    "        if f.__annotations__.get(\"return\"):\n",
    "            if type(ret_value) != f.__annotations__.get(\"return\"):\n",
    "                raise TypeError(\"{} is not of type {}\"\n",
    "                                   .format(ret_value,f.__annotations__.get(\"return\")))\n",
    "        return ret_value\n",
    "    return wrapper\n",
    "\n",
    "@enforce\n",
    "def add_ints(x: int, y: int) -> int:\n",
    "    return x + y"
   ]
  },
  {
   "cell_type": "code",
   "execution_count": null,
   "metadata": {
    "collapsed": false
   },
   "outputs": [],
   "source": [
    "add_ints(1,2)"
   ]
  },
  {
   "cell_type": "code",
   "execution_count": null,
   "metadata": {
    "collapsed": false
   },
   "outputs": [],
   "source": [
    "add_ints(1.0,2)"
   ]
  },
  {
   "cell_type": "markdown",
   "metadata": {
    "slideshow": {
     "slide_type": "fragment"
    }
   },
   "source": [
    " &nbsp;"
   ]
  },
  {
   "cell_type": "markdown",
   "metadata": {
    "slideshow": {
     "slide_type": "slide"
    }
   },
   "source": [
    "### A Little Teaser: Decorators in Flask #"
   ]
  },
  {
   "cell_type": "markdown",
   "metadata": {
    "collapsed": false,
    "slideshow": {
     "slide_type": "fragment"
    }
   },
   "source": [
    "```python\n",
    "def requires_roles(*roles):\n",
    "    def wrapper(f):\n",
    "        @wraps(f)\n",
    "        def wrapped(*args, **kwargs):\n",
    "            if get_current_user_role() not in roles:\n",
    "                return error_response()\n",
    "            return f(*args, **kwargs)\n",
    "        return wrapped\n",
    "    return wrapper\n",
    "\n",
    "@app.route('/user')\n",
    "@required_roles('admin', 'user')\n",
    "def user_page(self):\n",
    "    return \"You've got permission to access this page.\"\n",
    "```"
   ]
  },
  {
   "cell_type": "code",
   "execution_count": null,
   "metadata": {
    "collapsed": false,
    "slideshow": {
     "slide_type": "fragment"
    }
   },
   "outputs": [],
   "source": [
    "def bread(func):\n",
    "    def wrapper(*args):\n",
    "        print(\"</''''''\\>\")\n",
    "        func(*args)\n",
    "        print(\"<\\______/>\")\n",
    "    return wrapper\n",
    "\n",
    "def ingredients(func):\n",
    "    def wrapper(*args):\n",
    "        print(\"#tomatoes#\")\n",
    "        func(*args)\n",
    "        print(\"~salad~\")\n",
    "    return wrapper\n",
    "\n",
    "@bread\n",
    "@ingredients\n",
    "def sandwich(food=\"--spam--\"):\n",
    "    print(food)"
   ]
  },
  {
   "cell_type": "code",
   "execution_count": null,
   "metadata": {
    "collapsed": false,
    "slideshow": {
     "slide_type": "fragment"
    }
   },
   "outputs": [],
   "source": [
    "sandwich(\"cow\")"
   ]
  },
  {
   "cell_type": "code",
   "execution_count": null,
   "metadata": {
    "collapsed": false,
    "slideshow": {
     "slide_type": "fragment"
    }
   },
   "outputs": [],
   "source": [
    "sandwich(\"--antelope--\")"
   ]
  },
  {
   "cell_type": "markdown",
   "metadata": {
    "slideshow": {
     "slide_type": "fragment"
    }
   },
   "source": [
    "see http://stackoverflow.com/questions/739654/understanding-python-decorators"
   ]
  },
  {
   "cell_type": "markdown",
   "metadata": {
    "slideshow": {
     "slide_type": "slide"
    }
   },
   "source": [
    "[This was the (unassigned) homework from the bootcamp](https://github.com/profjsb/python-bootcamp/blob/master/Breakouts/Questions/Homework%20Day%20%232.ipynb); you should be able do implement the solution to this...if not, this course will be a challenge to you."
   ]
  },
  {
   "cell_type": "markdown",
   "metadata": {
    "slideshow": {
     "slide_type": "fragment"
    }
   },
   "source": [
    " &nbsp;"
   ]
  },
  {
   "cell_type": "markdown",
   "metadata": {
    "slideshow": {
     "slide_type": "slide"
    }
   },
   "source": [
    "<center>\n",
    "# Enjoy! #\n",
    "\n",
    "Help online:\n",
    "   \n",
    "   <a href=\"piazza.com/berkeley/fall2016/ay250class13410/home\">piazza.com/berkeley/fall2016/ay250class13410/home</a>\n",
    "\n",
    "See you next **Friday**! Please check the README of this repo for up-to-date reading assignments.\n",
    "\n",
    "</center>\n",
    "*remember to email us if you are “sitting in”...*"
   ]
  },
  {
   "cell_type": "markdown",
   "metadata": {
    "slideshow": {
     "slide_type": "notes"
    }
   },
   "source": [
    "(c) 2010, 2013, 2016 Python Seminar UC Berkeley, J. S. Bloom All Rights Reserved"
   ]
  },
  {
   "cell_type": "code",
   "execution_count": null,
   "metadata": {
    "collapsed": false
   },
   "outputs": [],
   "source": []
  }
 ],
 "metadata": {
  "anaconda-cloud": {},
  "kernelspec": {
   "display_name": "Python [ay250]",
   "language": "python",
   "name": "Python [ay250]"
  },
  "language_info": {
   "codemirror_mode": {
    "name": "ipython",
    "version": 3
   },
   "file_extension": ".py",
   "mimetype": "text/x-python",
   "name": "python",
   "nbconvert_exporter": "python",
   "pygments_lexer": "ipython3",
   "version": "3.5.2"
  }
 },
 "nbformat": 4,
 "nbformat_minor": 0
}
