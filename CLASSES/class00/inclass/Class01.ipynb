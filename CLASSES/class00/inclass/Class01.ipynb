{
 "cells": [
  {
   "cell_type": "markdown",
   "metadata": {},
   "source": [
    "# Class 01\n",
    "## August 26, 2016\n",
    "\n",
    "## Instructor: Josh Bloom"
   ]
  },
  {
   "cell_type": "markdown",
   "metadata": {},
   "source": [
    "Check this link:\n",
    "\n",
    "https://github.com/profjsb/python-seminar\n",
    "\n"
   ]
  },
  {
   "cell_type": "markdown",
   "metadata": {},
   "source": [
    "$$\n",
    "F(n) = \\left\\{ \\begin{array}{rl}\n",
    "  0 &\\mbox{ if $n=0$} \\\\\n",
    "  1 &\\mbox{ if $n=1$} \\\\\n",
    "  F(n -1) + F(n -2) & \\mbox{ if $n >1$}\n",
    "       \\end{array} \\right.\n",
    "$$\n",
    "\n",
    "\n",
    "\n",
    "$$S_n = S_{n+1} - \\frac{(S_{n+1} - S_n)^2}{S_{n-1} - 2 S_n + S_{n+1}}$$\n",
    "\n",
    "$$ S_{n+1} = S_n + \\frac{(S_{n+1} - S_n)^2}{S_{n-1} - 2 S_n + S_{n+1}}$$\n",
    "\n",
    "It seems we need to solve a quadratic"
   ]
  },
  {
   "cell_type": "code",
   "execution_count": null,
   "metadata": {
    "collapsed": true
   },
   "outputs": [],
   "source": []
  },
  {
   "cell_type": "code",
   "execution_count": 5,
   "metadata": {
    "collapsed": false
   },
   "outputs": [
    {
     "name": "stdout",
     "output_type": "stream",
     "text": [
      "Overwriting pi1.py\n"
     ]
    }
   ],
   "source": [
    "%%file pi1.py\n",
    "\n",
    "def fib():\n",
    "    a = 0\n",
    "    b = 1\n",
    "    i = 0\n",
    "    while True:\n",
    "        yield a\n",
    "        i += 1\n",
    "        #a, b = b, a + b\n",
    "        #a = b\n",
    "        \n",
    "        b = a + (b)"
   ]
  },
  {
   "cell_type": "code",
   "execution_count": 4,
   "metadata": {
    "collapsed": false
   },
   "outputs": [
    {
     "name": "stdout",
     "output_type": "stream",
     "text": [
      "0 1 1 2 3 5 8 13 21 34 55 89 144 233 377 "
     ]
    }
   ],
   "source": [
    "%run pi1\n",
    "a = fib()\n",
    "for i in range(15): print(next(a), end=\" \")"
   ]
  },
  {
   "cell_type": "code",
   "execution_count": 3,
   "metadata": {
    "collapsed": false
   },
   "outputs": [
    {
     "name": "stdout",
     "output_type": "stream",
     "text": [
      "Writing pi2.py\n"
     ]
    }
   ],
   "source": [
    "%%file pi2.py\n",
    "\n",
    "def fib1(start=0,end=None,maxnum=100):\n",
    "    \"\"\"\n",
    "another yield example, allowing the user to start their own fibbinoci sequence at\n",
    "start (default is 0)\n",
    "    \"\"\"\n",
    "    a = start\n",
    "    b = start + 1\n",
    "    n_yielded = 0\n",
    "    while (n_yielded < maxnum or maxnum is None) and ((end is None) or (abs(a) < abs(end))):\n",
    "        \"abs needed to control against silly user starting with a negative number\"\n",
    "        yield a\n",
    "        n_yielded += 1\n",
    "        a, b = b, a + b\n",
    "    \n",
    "    # if we got here then we are returning instead of yielding. The countdown is finished\n",
    "    # we could raise a StopException excception here...this is done for us implicitly"
   ]
  },
  {
   "cell_type": "code",
   "execution_count": null,
   "metadata": {
    "collapsed": true
   },
   "outputs": [],
   "source": []
  }
 ],
 "metadata": {
  "anaconda-cloud": {},
  "kernelspec": {
   "display_name": "Python [conda env:ay250]",
   "language": "python",
   "name": "conda-env-ay250-py"
  },
  "language_info": {
   "codemirror_mode": {
    "name": "ipython",
    "version": 3
   },
   "file_extension": ".py",
   "mimetype": "text/x-python",
   "name": "python",
   "nbconvert_exporter": "python",
   "pygments_lexer": "ipython3",
   "version": "3.5.2"
  }
 },
 "nbformat": 4,
 "nbformat_minor": 1
}
