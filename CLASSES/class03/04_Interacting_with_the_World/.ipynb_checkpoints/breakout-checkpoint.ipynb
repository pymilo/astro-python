{
 "cells": [
  {
   "cell_type": "markdown",
   "metadata": {},
   "source": [
    "# Breakout: Track the presidential election polls"
   ]
  },
  {
   "cell_type": "markdown",
   "metadata": {},
   "source": [
    "1) grab and parse the Florida HTML from RealClearPolitics\n",
    "http://www.realclearpolitics.com/epolls/2016/president/fl/florida_trump_vs_clinton-5635.html#polls"
   ]
  },
  {
   "cell_type": "code",
   "execution_count": 2,
   "metadata": {
    "collapsed": false
   },
   "outputs": [],
   "source": [
    "from urllib.request import urlopen\n",
    "from bs4 import BeautifulSoup\n",
    "url = \"http://www.realclearpolitics.com/epolls/2016/president/fl/florida_trump_vs_clinton-5635.html#polls\"\n",
    "response = urlopen(url)\n",
    "html = response.read()\n",
    "response.close()\n",
    "soup = BeautifulSoup(html,\"html.parser\")"
   ]
  },
  {
   "cell_type": "code",
   "execution_count": 3,
   "metadata": {
    "collapsed": false
   },
   "outputs": [
    {
     "data": {
      "text/plain": [
       "'http://www.realclearpolitics.com/epolls/2016/president/fl/florida_trump_vs_clinton-5635.html#polls'"
      ]
     },
     "execution_count": 3,
     "metadata": {},
     "output_type": "execute_result"
    }
   ],
   "source": [
    "url"
   ]
  },
  {
   "cell_type": "code",
   "execution_count": 4,
   "metadata": {
    "collapsed": false
   },
   "outputs": [
    {
     "data": {
      "text/plain": [
       "<http.client.HTTPResponse at 0x104859e10>"
      ]
     },
     "execution_count": 4,
     "metadata": {},
     "output_type": "execute_result"
    }
   ],
   "source": [
    "response"
   ]
  },
  {
   "cell_type": "code",
   "execution_count": 5,
   "metadata": {
    "collapsed": false
   },
   "outputs": [
    {
     "data": {
      "text/plain": [
       "b'<!doctype html>\\r\\n<html>\\r\\n<head prefix=\"og: http://ogp.me/ns# fb: http://ogp.me/ns/fb#\">\\r\\n<meta name=\"fragment\" content=\"!\">\\r\\n<script id=\"interior\" type=\"text/javascript\" src=\"/include/rc-meta.js\"></script>\\r\\n<meta http-equiv=\"Content-Type\" content=\"text/html; charset=utf-8\" />\\r\\n\\r\\n<meta property=\"fb:pages\" content=\"27088225427\" />\\r\\n\\r\\n<link type=\"images/x-icon\" href=\"/favicon.ico\" rel=\"shortcut icon\" /> \\r\\n\\r\\n<link type=\"text/css\" href=\"http://fonts.googleapis.com/css?family=Roboto:400,700\" rel=\"stylesheet\">\\r\\n<link type=\"text/css\" href=\"http://fonts.googleapis.com/css?family=Domine:400,700\" rel=\"stylesheet\">\\r\\n<link type=\"text/css\" href=\"/asset/top/master.css\" rel=\"stylesheet\" />\\r\\n<link type=\"text/css\" href=\"/asset/vertical/rcp/rcp.css\" rel=\"stylesheet\" />\\r\\n<link type=\"text/css\" href=\"/asset/top/facebox-comments.css\" media=\"screen\" rel=\"stylesheet\" /> \\r\\n\\r\\n\\r\\n<script type=\"text/javascript\" src=\"/3rd_party/jquery/1.11.3.min.js\"></script>\\r\\n<script type=\"text/javascript\" src=\"/3rd_party/viewportSize/viewportSize-min.js\"></script>\\r\\n<script type=\"text/javascript\" src=\"http://c.amazon-adsystem.com/aax2/amzn_ads.js\"></script> \\r\\n<script type=\"text/javascript\">\\r\\n\\ttry {\\r\\n\\t\\tamznads.getAds(\\'3148\\');\\r\\n\\t} catch(e) { /*ignore*/}\\t\\r\\n</script>\\r\\n<script type=\"text/javascript\"> \\r\\n\\tvar key = \\'amznslots\\';\\r\\n\\tvar values = amznads.getTokens(); //comma separated tokens \\t \\r\\n</script>\\r\\n\\r\\n<script src=\"/asset/top/StoryStream.js?v=1.0\" type=\"text/javascript\"></script>\\r\\n\\r\\n<script type=\"text/javascript\" src=\"/asset/top/master.js?v=1.7\" id=\"jsSite\" data-site=\"politics\" data-gaTag=\"\" data-site-page=\"polls\"></script>\\r\\n\\r\\n<script type=\"text/javascript\" src=\"/asset/vertical/rcp/rcp.js?v=1.0\"></script>\\r\\n\\r\\n<script src=\"/3rd_party/waypoints/lib/jquery.waypoints.min.js\"></script>\\r\\n<script src=\"/3rd_party/waypoints/lib/shortcuts/inview.min.js\"></script>\\r\\n\\r\\n<script type=\"text/javascript\" async src=\"http://launch.newsinc.com/js/embed.js\" id=\"_nw2e-js\"></script>\\r\\n\\t\\t\\r\\n\\t\\t\\t<meta name=\"title\" content=\"RealClearPolitics - Election 2016 - Florida: Trump vs. Clinton\" />\\r\\n\\t\\t\\t<meta name=\"description\" content=\"RealClearPolitics - Election 2016 - Florida: Trump vs. Clinton\" />\\r\\n\\t\\t\\t<meta name=\"keywords\" content=\"politics\" />\\r\\n\\t\\t\\t<meta property=\"og:title\" content=\"RealClearPolitics - Election 2016 - Florida: Trump vs. Clinton\" />\\r\\n\\t\\t\\t<meta property=\"og:type\" content=\"website\" />\\r\\n\\t\\t\\t<meta property=\"og:url\" content=\"/epolls/2016/president/fl/florida_trump_vs_clinton-5635.html\" />\\r\\n\\t\\t\\t<meta property=\"og:description\" content=\"RealClearPolitics - Election 2016 - Florida: Trump vs. Clinton\" />\\r\\n\\t\\t\\t<meta property=\"fb:app_id\" content=\"1415921935346245\" />\\r\\n\\t\\t\\t<meta property=\"og:image\" content=\"http://www.realclearpolitics.com/images/realclearpolitics_social_logo.png\" /> \\r\\n\\t\\t\\t<meta name=\"twitter:card\" content=\"summary\" />\\r\\n\\t\\t\\t<meta name=\"twitter:site\" content=\"@@RealClearNews\" />\\r\\n\\t\\t\\t<meta name=\"tweetmeme-title\" content=\"RealClearPolitics - Election 2016 - Florida: Trump vs. Clinton\" />\\r\\n\\t\\t\\t\\r\\n\\t\\t\\t<meta name=\"format-detection\" content=\"telephone=no\"><title>RealClearPolitics - Election 2016 - Florida: Trump vs. Clinton</title>\\r\\n\\t\\t\\t<script type=\"text/javascript\" src=\"/asset/section/polls.js\"></script>\\r\\n\\t\\t\\t<link type=\"text/css\" rel=\"stylesheet\" href=\"/asset/section/polls.css\" />\\r\\n\\t\\t\\t<script type=\"text/javascript\" src=\"/3rd_party/typeahead/0.11.1/typeahead.bundle.js\"></script>\\r\\n\\t\\t<!--[if lt IE 9]>\\r\\n\\t\\t\\t<script src=\"http://assets.realclearpolitics.com/assets/scripts/amstock.js\" type=\"text/javascript\"></script>\\r\\n\\t\\t\\t<script type=\"text/javascript\">\\r\\n\\t\\t\\t\\tvar hash=\\'\\';\\r\\n\\t\\t\\t\\tvar chart;\\r\\n\\t\\t\\t\\tvar stockPanel;\\r\\n\\t\\t\\t\\tvar graph;\\r\\n\\t\\t\\t\\tvar chart_data=[];\\r\\n\\t\\t\\t\\tvar candidate_name=[];\\r\\n\\t\\t\\t\\tvar candidate_color=[];\\r\\n\\t\\t\\t\\tvar last_date;\\r\\n\\t\\t\\t\\tvar pollster_name=[];\\r\\n\\t\\t\\t\\tvar pollster_id=[];\\r\\n\\t\\t\\t\\tvar data;\\r\\n\\t\\t\\t\\tvar first_date;\\r\\n\\t\\t\\t\\tvar final_date = \"\";var preview=0;\\r\\n\\t\\t\\t\\tvar zoom_periods=[{period:\"DD\", count:21, label:\"14D\"},{period:\"DD\", count:37, label:\"30D\"},{period:\"MM\", count:6, label:\"6M\",selected:true},{period:\"MAX\", count:1, label:\"MAX\"},{period:\"MM\", count:0, label:\"3M\"}];\\r\\n\\r\\n\\t\\t\\t\\tvar pid;\\r\\n\\t\\t\\t\\tvar chart_main_percent=70;\\r\\n\\t\\t\\t\\tvar chart_spread_percent=30;\\r\\n\\t\\t\\t\\tvar chart_spread_range=10;\\r\\n\\t\\t\\t\\tvar spread_chart=1;\\r\\n\\t\\t\\t</script>\\r\\n\\t\\t\\t<style type=\"text/css\">\\r\\n\\t\\t\\t\\t#chartLine { height: 290px; }\\r\\n\\t\\t\\t</style>\\r\\n\\t\\t\\t<script src=\"http://assets.realclearpolitics.com/assets/scripts/chart.main.js?v=6\" type=\"text/javascript\"></script>\\r\\n\\t\\t\\t<![endif]-->\\r\\n\\r\\n\\t\\t\\t<script></script>\\r\\n\\t\\t\\t<script type=\"text/javascript\">\\r\\n\\t\\t\\t\\tvar spread_chart=1;\\r\\n\\t\\t\\t\\tvar final_date = \"\";\\r\\n\\t\\t\\t\\tvar chart_height_override = 360;\\r\\n\\t\\t\\t\\tvar race_chart_preview = 0;\\r\\n\\t\\t\\t</script>\\r\\n\\t\\t\\t<script type=\"text/javascript\" src=\"/3rd_party/jquery_ui/1.11.2/jquery-ui_datepicker.min.js\"></script><script type=\"text/javascript\" src=\"/3rd_party/d3/3.4.8/d3.min.js\" charset=\"utf-8\"></script><script src=\"/asset/section/races_d3.js\" type=\"text/javascript\"></script><link href=\"/asset/section/charts_d3.css\" rel=\"stylesheet\" type=\"text/css\" />\\r\\n\\t\\t<script type=\"text/javascript\">\\r\\n\\t\\t\\tvar touched_chart = false;\\r\\n\\t\\t\\t$(function()\\r\\n\\t\\t\\t{\\r\\n\\t\\t\\t\\t$(\".chart_container\").on(\"dragstart dragenter dragover dragleave drag drop dragend mousedown mouseup mouseover mouseout mousemove click\", function(event)\\r\\n\\t\\t\\t\\t{\\r\\n\\t\\t\\t\\t\\tif(touched_chart) {\\r\\n\\t\\t\\t\\t\\t\\tevent.stopPropagation();\\r\\n\\t\\t\\t\\t\\t\\t$(\"#chart_container\").attr(\"style\", \"pointer-events: none\");\\r\\n\\t\\t\\t\\t\\t\\t$(\"#chartdiv\").attr(\"style\", \"pointer-events: none\");\\r\\n\\t\\t\\t\\t\\t\\t$(\"#chartdiv svg\").attr(\"style\", \"pointer-events: none\");\\r\\n\\t\\t\\t\\t\\t}\\r\\n\\t\\t\\t\\t});\\r\\n\\r\\n\\t\\t\\t\\t$(\".chart_container\").on(\"tap touchend touchstart touchmove touchleave touchenter touchcancel\", function(event){\\r\\n\\t\\t\\t\\t\\ttouched_chart = true;\\r\\n\\t\\t\\t\\t\\tbrush_race_chart = {};\\r\\n\\t\\t\\t\\t\\t$(\"#chartdiv .brush\").remove();\\r\\n\\t\\t\\t\\t\\tevent.stopPropagation();\\r\\n\\t\\t\\t\\t\\t$(\"#chart_container\").attr(\"style\", \"pointer-events: none\");\\r\\n\\t\\t\\t\\t\\t$(\"#chartdiv\").attr(\"style\", \"pointer-events: none\");\\r\\n\\t\\t\\t\\t\\t$(\"#chartdiv svg\").attr(\"style\", \"pointer-events: none\");\\r\\n\\t\\t\\t\\t});\\r\\n\\t\\t\\t});\\r\\n\\t\\t</script>\\r\\n\\t\\t</head>\\r\\n\\t\\t\\t<body class=\"polls\">\\r\\n\\r\\n\\t\\t\\t\\t<div id=\"container\" class=\"dos-col\"><div id=\"masthead-wrapper\" class=\"nav-down\">\\r\\n    <div id=\"masthead\">\\r\\n        <div class=\"top-bar\"></div>\\r\\n        <div class=\"alpha-wrapper\">\\r\\n            <div class=\"site-logo\">\\r\\n                <a href=\"/\"><img class=\"ss\" src=\"/asset/img/rcp-logo-ss-red-250.gif\"></a> \\r\\n                        <span class=\"verticals-menu\">\\r\\n                            <div class=\"verticals-wrapper\">\\r\\n                                <img class=\"full-site-arrow\" src=\"/asset/img/rcp-site-arrow.png\" />\\r\\n                                <img class=\"mobile-site-arrow\" src=\"/asset/img/mobile-site-arrow.png\" />\\r\\n                                <span class=\"verticals-tab\"></span>\\r\\n                                <div class=\"verticals-site-list\">\\r\\n                                    <script src=\"/include/rcp_sites_nav.js\" type=\"text/javascript\"></script>\\r\\n                                </div>\\r\\n                            </div>\\r\\n                        </span>\\r\\n            </div>\\r\\n        </div>\\r\\n        <div class=\"beta-wrapper\">\\r\\n            <div class=\"site-nav\">\\r\\n                <script src=\"/include/masthead_nav.js\" type=\"text/javascript\"></script>\\r\\n            </div>\\r\\n            <div class=\"site-search mobile\">\\r\\n                <form><input type=\"text\" id=\"searchBox\" name=\"q\" /></form>\\r\\n            </div>\\r\\n            <div class=\"site-search-mobile\"></div>\\r\\n        </div>\\r\\n    </div><!-- end inner masthead -->\\r\\n\\r\\n</div><!-- end masthead wrapper -->\\r\\n\\r\\n<div class=\"alpha-container \">\\r\\n\\t<div class=\"alpha\">\\r\\n\\r\\n\\t\\t<div class=\"RC-AD RC-AD-TOP-BANNER\"></div>\\r\\n\\t\\t<div class=\"RC-AD RC-AD-MOBILE-BANNER\"></div>\\r\\n\\r\\n\\t\\t<div class=\"polls-header\"><h1>Polls</h1></div>\\r\\n\\r\\n\\t\\t<div class=\"polls_header_dropdown\">\\r\\n\\t<div class=\"quick_links_content\">\\r\\n\\t\\t<script type=\"text/javascript\" src=\"/quick_links/23.js\"></script>\\r\\n\\t</div>\\r\\n\\t<div class=\"filter_content\">\\r\\n\\r\\n\\t\\t<div class=\"filter_section\">\\r\\n\\t\\t\\t<h4>Year</h4>\\r\\n\\t\\t\\t<select class=\"multi_select\" id=\"af_year\" name=\"af_year[]\" multiple=\"multiple\">\\r\\n\\r\\n\\t\\t\\t</select>\\r\\n\\t\\t</div>\\r\\n\\r\\n\\t\\t<div class=\"filter_section\">\\r\\n\\t\\t\\t<h4>State <button class=\"select_all_button\">&larr; Select All</button></h4>\\r\\n\\t\\t\\t<select class=\"multi_select\" id=\"af_state\" name=\"af_state[]\" multiple=\"multiple\">\\r\\n\\r\\n\\t\\t\\t</select>\\r\\n\\t\\t</div>\\r\\n\\r\\n\\t\\t<div class=\"filter_section\">\\r\\n\\t\\t\\t<h4>Type</h4>\\r\\n\\t\\t\\t<select class=\"multi_select\" id=\"af_type\" name=\"af_type[]\" multiple=\"multiple\">\\r\\n\\r\\n\\t\\t\\t</select>\\r\\n\\t\\t</div>\\r\\n\\r\\n\\t\\t<div class=\"filter_section\">\\r\\n\\t\\t\\t<button class=\"filter_button\">Apply Filter</button>\\r\\n\\t\\t\\t<button class=\"clear_filter_button\">Clear Filter</button>\\r\\n\\t\\t</div>\\r\\n\\r\\n\\t\\t<div class=\"results\">\\r\\n\\t\\t\\t<h4>Results</h4>\\r\\n\\t\\t\\t<div class=\"race_results\">\\r\\n\\t\\t\\t\\tSelect one or more years, states and race types, then click \"Apply Filter\" to see results.\\r\\n\\t\\t\\t</div>\\r\\n\\t\\t</div>\\r\\n\\r\\n\\t</div>\\r\\n\\t<div class=\"open\">\\r\\n\\t\\t<div class=\"arrow\"><img src=\"/asset/img/grey-bg-chev.png\" alt=\"Arrow\" /></div>\\r\\n\\t\\t<div class=\"quick_links_title\">Quick <span>Poll/Map</span> Links</div>\\r\\n\\t\\t<div class=\"filter_title\">Advanced Search</div>\\r\\n\\t\\t<div class=\"find_a_poll_title\"><span>Find Any Poll</span> <input type=\"text\" id=\"find_a_poll\" name=\"find_a_poll\" placeholder=\"Try \\'Iowa,\\' or \\'Obama\\'\" /></div>\\r\\n\\t\\t<div class=\"polls_dropdown\"><script src=\"/epolls/2014/widget/2016_presidential_polls.js\" type=\"text/javascript\"></script></div>\\r\\n\\t</div>\\r\\n</div>\\r\\n<input type=\"hidden\" value=\"5635\" name=\"poll_id\" id=\"poll_id\" /><input type=\"hidden\" value=\"0\" name=\"poll_data_table_increment\" id=\"poll_data_table_increment\" /><input type=\"hidden\" value=\"florida_trump_vs_clinton\" name=\"clean_poll_title\" id=\"clean_poll_title\" />\\r\\n\\t\\t<h2 class=\"page_title\"><div>Florida: Trump vs. Clinton <span class=\"after_title\"><a href=\"http://www.realclearpolitics.com/epolls/2016/president/fl/florida_trump_vs_clinton_vs_johnson_vs_stein-5963.html\">(4-Way)</a></span></div></h2>\\r\\n\\r\\n\\t\\t<div class=\"polls-social\">\\n\\t<div class=\"socialBar\" data-print=\"1\" data-style=\"short\" data-dialog=\"share\">\\n\\t\\t<div class=\"left toolset\"></div>\\n\\t</div>\\n\\n\\t<div class=\"socialBar-clicks\"></div>\\n\\t<div class=\"socialBar-divide\"> | </div>\\n\\t<div class=\"socialBar-shares\"></div>\\n</div>\\n\\r\\n\\t\\t<div id=\"under-title-small\">Key 2016 Races:&nbsp;<a href=\"http://www.realclearpolitics.com/epolls/2016/senate/fl/florida_senate_rubio_vs_murphy-5222.html\">Senate</a>&nbsp;| <a href=\"http://www.realclearpolitics.com/epolls/2016/house/fl/florida_7th_district_mica_vs_murphy-6034.html\">FL-7</a>&nbsp;| <a href=\"http://www.realclearpolitics.com/epolls/2016/house/fl/florida_13th_district_jolly_vs_crist-6049.html\">FL-13</a>&nbsp;| <a href=\"http://www.realclearpolitics.com/epolls/2016/house/fl/florida_18th_district_mast_vs_perkins-6064.html\">FL-18</a>&nbsp;|&nbsp;<a href=\"http://www.realclearpolitics.com/epolls/2016/house/fl/florida_26th_district_curbelo_vs_garcia-6065.html\">FL-26</a>&nbsp;| President: <a href=\"http://www.realclearpolitics.com/epolls/2012/president/fl/florida_romney_vs_obama-1883.html\">2012: Obama +0.9</a>,&nbsp;<a href=\"http://www.realclearpolitics.com/epolls/2008/president/fl/florida_mccain_vs_obama-418.html\">2008: Obama +2.8</a></div><div id=\"under-title-mobile\"><a href=\"http://www.realclearpolitics.com/epolls/2016/president/2016_elections_electoral_college_map.html\">Battlegrounds</a>:&nbsp;<a href=\"http://www.realclearpolitics.com/epolls/2016/president/fl/florida_trump_vs_clinton_vs_johnson_vs_stein-5963.html\">FL</a>&nbsp;|&nbsp;<a href=\"http://www.realclearpolitics.com/epolls/2016/president/oh/ohio_trump_vs_clinton_vs_johnson_vs_stein-5970.html\">OH</a>&nbsp;| <a href=\"http://www.realclearpolitics.com/epolls/2016/president/pa/pennsylvania_trump_vs_clinton_vs_johnson_vs_stein-5964.html\">PA</a>&nbsp;| <a href=\"http://www.realclearpolitics.com/epolls/2016/president/nh/new_hampshire_trump_vs_clinton_vs_johnson_vs_stein-6022.html\">NH</a>&nbsp;| <a href=\"http://www.realclearpolitics.com/epolls/2016/president/mi/michigan_trump_vs_clinton_vs_johnson_vs_stein-6008.html\">MI</a>&nbsp;| <a href=\"http://www.realclearpolitics.com/epolls/2016/president/ia/iowa_trump_vs_clinton_vs_johnson_vs_stein-5981.html\">IA</a>&nbsp;| <a href=\"http://www.realclearpolitics.com/epolls/2016/president/nv/nevada_trump_vs_clinton_vs_johnson_vs_stein-6086.html\">NV</a>&nbsp;| <a href=\"http://www.realclearpolitics.com/epolls/2016/president/2016_elections_electoral_college_map.html\">Electoral Map</a>&nbsp;| <a href=\"http://www.realclearpolitics.com/epolls/2016/president/2016_elections_electoral_college_map_no_toss_ups.html\">No Toss Ups</a>&nbsp;|&nbsp;<a href=\"http://www.realclearpolitics.com/epolls/latest_polls/\">Latest Polls</a></div><div id=\"under-title\" class=\"mobile_exists\"><a href=\"http://www.realclearpolitics.com/epolls/2016/president/2016_elections_electoral_college_map.html\">Battleground States</a>:&nbsp;<a href=\"http://www.realclearpolitics.com/epolls/2016/president/az/arizona_trump_vs_clinton_vs_johnson_vs_stein-6087.html\">Arizona</a>&nbsp;| <a href=\"http://www.realclearpolitics.com/epolls/2016/president/co/colorado_trump_vs_clinton_vs_johnson_vs_stein-5974.html\">Colorado</a>&nbsp;| <a href=\"http://www.realclearpolitics.com/epolls/2016/president/fl/florida_trump_vs_clinton_vs_johnson_vs_stein-5963.html\">Florida</a>&nbsp;| <a href=\"http://www.realclearpolitics.com/epolls/2016/president/ga/georgia_trump_vs_clinton_vs_johnson-5968.html\">Georgia</a>&nbsp;| <a href=\"http://www.realclearpolitics.com/epolls/2016/president/ia/iowa_trump_vs_clinton_vs_johnson_vs_stein-5981.html\">Iowa</a>&nbsp;| <a href=\"http://www.realclearpolitics.com/epolls/2016/president/mi/michigan_trump_vs_clinton_vs_johnson_vs_stein-6008.html\">Michigan</a>&nbsp;| <a href=\"http://www.realclearpolitics.com/epolls/2016/president/mo/missouri_trump_vs_clinton_vs_johnson_vs_stein-6009.html\">Missouri</a>&nbsp;|&nbsp;<a href=\"http://www.realclearpolitics.com/epolls/2016/president/nh/new_hampshire_trump_vs_clinton_vs_johnson_vs_stein-6022.html\">N.H.</a>&nbsp;| <a href=\"http://www.realclearpolitics.com/epolls/2016/president/nv/nevada_trump_vs_clinton_vs_johnson_vs_stein-6086.html\">Nevada</a>&nbsp;| <a href=\"http://www.realclearpolitics.com/epolls/2016/president/nc/north_carolina_trump_vs_clinton_vs_johnson-5951.html\">N.C.</a>&nbsp;| <a href=\"http://www.realclearpolitics.com/epolls/2016/president/oh/ohio_trump_vs_clinton_vs_johnson_vs_stein-5970.html\">Ohio</a>&nbsp;| <a href=\"http://www.realclearpolitics.com/epolls/2016/president/pa/pennsylvania_trump_vs_clinton_vs_johnson_vs_stein-5964.html\">Pennsylvania</a>&nbsp;| <a href=\"http://www.realclearpolitics.com/epolls/2016/president/va/virginia_trump_vs_clinton_vs_johnson_vs_stein-5966.html\">Virginia</a>&nbsp;| <a href=\"http://www.realclearpolitics.com/epolls/2016/president/wi/wisconsin_trump_vs_clinton_vs_johnson_vs_stein-5976.html\">Wisconsin</a>&nbsp;| <a href=\"http://www.realclearpolitics.com/epolls/2016/president/2016_elections_electoral_college_map.html\">RCP Electoral Map</a>&nbsp;| <a href=\"http://www.realclearpolitics.com/epolls/2016/president/2016_elections_electoral_college_map_no_toss_ups.html\">No Toss Up Map</a>&nbsp;| <a href=\"http://www.realclearpolitics.com/epolls/2016/president/us/general_election_trump_vs_clinton_vs_johnson_vs_stein-5952.html\">RCP National Average</a>&nbsp;|&nbsp;<a href=\"http://www.realclearpolitics.com/epolls/latest_polls/\">Latest Polls</a></div>\\r\\n\\t\\t<div class=\"clearfix\"></div>\\r\\n\\r\\n\\t\\t<a name=\"rcp-avg\"></a><h3 class=\"red-bar-section\">Polling Data</h3><div id=\"polling-data-rcp\" class=\" polling_dt layout_0\" data-diag=\"0\"><table class=\"data large \"><tr class=\"header\"><th class=\"noCenter\">Poll</th><th class=\"date\">Date</th><th class=\"sample\">Sample</th><th class=\"moe\">MoE</th><th class=\"diag\"><div><span>Trump (R)</span></div></th><th class=\"diag\"><div><span>Clinton (D)</span></div></th><th class=\"spread\">Spread</th></tr><tr class=\"rcpAvg\"><td class=\"noCenter\">RCP Average</td><td>8/19 - 9/12</td><td class=\"sample\">--</td><td class=\"moe\">--</td><td>45.1</td><td>44.4</td><td class=\"spread\"><span class=\"rep\">Trump +0.7</span></td></tr><tr class=\" isInRcpAvg\" data-id=\"110179\"><td class=\"noCenter\"><a class=\"normal_pollster_name\" href=\"http://www.cnn.com/2016/09/14/politics/cnn-orc-poll-florida-ohio-donald-trump-hillary-clinton/index.html\">CNN/ORC</a><a class=\"mobile_pollster_name\" href=\"http://www.cnn.com/2016/09/14/politics/cnn-orc-poll-florida-ohio-donald-trump-hillary-clinton/index.html\">CNN/ORC</a></td><td>9/7 - 9/12</td><td class=\"sample\">788 LV</td><td class=\"moe\">3.5</td><td>50</td><td>46</td><td class=\"spread\"><span class=\"rep\">Trump +4</span></td></tr><tr class=\"alt isInRcpAvg\" data-id=\"110093\"><td class=\"noCenter\"><a class=\"normal_pollster_name\" href=\"http://www.realclearpolitics.com/docs/2016/JMC_FL_Sept_2016.pdf\">JMC Analytics*</a><a class=\"mobile_pollster_name\" href=\"http://www.realclearpolitics.com/docs/2016/JMC_FL_Sept_2016.pdf\">JMC Analytics*</a></td><td>9/7 - 9/8</td><td class=\"sample\">781 LV</td><td class=\"moe\">3.5</td><td>46</td><td>42</td><td class=\"spread\"><span class=\"rep\">Trump +4</span></td></tr><tr class=\" isInRcpAvg\" data-id=\"110087\"><td class=\"noCenter\"><a class=\"normal_pollster_name\" href=\"https://www.scribd.com/document/323620143/CBS-News-2016-Battleground-Tracker-Florida-September-11-2016#from_embed\">CBS News/YouGov*</a><a class=\"mobile_pollster_name\" href=\"https://www.scribd.com/document/323620143/CBS-News-2016-Battleground-Tracker-Florida-September-11-2016#from_embed\">CBS News/YouGov*</a></td><td>9/7 - 9/9</td><td class=\"sample\">1193 LV</td><td class=\"moe\">3.5</td><td>42</td><td>44</td><td class=\"spread\"><span class=\"dem\">Clinton +2</span></td></tr><tr class=\"alt isInRcpAvg\" data-id=\"110035\"><td class=\"noCenter\"><a class=\"normal_pollster_name\" href=\"https://www.qu.edu/images/polling/ps/ps09082016_pg92cxm.pdf\">Quinnipiac</a><a class=\"mobile_pollster_name\" href=\"https://www.qu.edu/images/polling/ps/ps09082016_pg92cxm.pdf\">Quinnipiac</a></td><td>8/29 - 9/7</td><td class=\"sample\">761 LV</td><td class=\"moe\">3.6</td><td>47</td><td>47</td><td class=\"spread\"><span style=\"color: ;\">Tie </span></td></tr><tr class=\" isInRcpAvg\" data-id=\"109968\"><td class=\"noCenter\"><a class=\"normal_pollster_name\" href=\"http://www.publicpolicypolling.com/pdf/2015/PPP_Release_FL_90716.pdf\">PPP (D)</a><a class=\"mobile_pollster_name\" href=\"http://www.publicpolicypolling.com/pdf/2015/PPP_Release_FL_90716.pdf\">PPP (D)</a></td><td>9/4 - 9/6</td><td class=\"sample\">744 LV</td><td class=\"moe\">3.6</td><td>46</td><td>47</td><td class=\"spread\"><span class=\"dem\">Clinton +1</span></td></tr><tr class=\"alt isInRcpAvg\" data-id=\"109750\"><td class=\"noCenter\"><a class=\"normal_pollster_name\" href=\"http://www.realclearpolitics.com/docs/2016/Mason_Dixon_FL_Aug_2016.pdf\">Mason-Dixon*</a><a class=\"mobile_pollster_name\" href=\"http://www.realclearpolitics.com/docs/2016/Mason_Dixon_FL_Aug_2016.pdf\">Mason-Dixon*</a></td><td>8/22 - 8/24</td><td class=\"sample\">625 LV</td><td class=\"moe\">4.0</td><td>42</td><td>44</td><td class=\"spread\"><span class=\"dem\">Clinton +2</span></td></tr><tr class=\" isInRcpAvg\" data-id=\"109693\"><td class=\"noCenter\"><a class=\"normal_pollster_name\" href=\"http://www.realclearpolitics.com/docs/2016/FAU_Florida_August.pdf\">Florida Atlantic University*</a><a class=\"mobile_pollster_name\" href=\"http://www.realclearpolitics.com/docs/2016/FAU_Florida_August.pdf\">Florida Atlantic University*</a></td><td>8/19 - 8/22</td><td class=\"sample\">1200 LV</td><td class=\"moe\">2.7</td><td>43</td><td>41</td><td class=\"spread\"><span class=\"rep\">Trump +2</span></td></tr></table><p class=\"foot\"><a href=\"#polls\">All Florida: Trump vs. Clinton Polling Data</a></p></div><a name=\"chart\"></a><div class=\"chart_wrapper\"><div class=\"chart_header\"><div class=\"chart_branding  small_legend\"><div class=\"logo\"><img src=\"http://www.realclearpolitics.com/dev/mt-static/images/logo-sub.gif\" alt=\"RealClearPolitics\" /></div><div class=\"title\">RCP Poll Average</div><div class=\"subtitle desktop\">Florida: Trump vs. Clinton</div><div class=\"subtitle mobile\">Florida</div></div><table class=\"chart_legend small_legend\" data-p-type=\"0\"><tbody><tr><td class=\"candidate\"><div class=\"value\"><span style=\"background: #D30015;\">45.1</span></div><div class=\"desc\">Trump (R)<span style=\"color: #D30015;\">+0.7</span></div></td></tr><tr><td class=\"candidate\"><div class=\"value\"><span style=\"background: #3B5998;\">44.4</span></div><div class=\"desc\">Clinton (D)</div></td></tr></tbody></table></div><div  class=\"chart_container\">\\r\\n\\t\\t<div id=\"chartdiv\" class=\"chartdiv\" style=\"height:400px;\" data-chart-height=\"400\" data-chart-height-mobile=\"340\" data-selected=\"6m\" data-selected-mobile=\"6m\" data-names=\"0\">\\r\\n          <div class=\"candidate_tooltip\" data-cnum=\"0\">--</div><div class=\"candidate_tooltip\" data-cnum=\"1\">--</div><div class=\"date_tooltip\">--</div>\\r\\n          <div class=\"spread_tooltip\">--</div>\\r\\n        </div>\\r\\n        </div>\\r\\n\\t\\t\\t<div id=\"charttools\">\\r\\n\\t\\t\\t\\t<div class=\"from\">From: <input id=\"from_date\" class=\"chart_datepicker\"></div>\\r\\n\\t\\t\\t\\t<div class=\"to\">to: <input id=\"to_date\" class=\"chart_datepicker\"></div>\\r\\n\\t\\t\\t\\t<input id=\"chart_apply\" class=\"race_charts_button\" value=\"Apply\" type=\"button\"><!--\\r\\n\\t\\t\\t\\t--><div class=\"zoom\"><input id=\"chart_7d\" class=\"race_charts_button rcb_none\" value=\"7D\" type=\"button\"><input id=\"chart_14d\" class=\"race_charts_button rcb_none rcb_normal rcb_mobile\" value=\"14D\" type=\"button\"><input id=\"chart_30d\" class=\"race_charts_button rcb_none rcb_normal rcb_mobile\" value=\"30D\" type=\"button\"><input id=\"chart_3m\" class=\"race_charts_button rcb_none rcb_normal rcb_mobile\" value=\"3M\" type=\"button\"><input id=\"chart_6m\" class=\"race_charts_button rcb_none rcb_normal rcb_mobile\" value=\"6M\" type=\"button\"><input id=\"chart_1y\" class=\"race_charts_button rcb_none\" value=\"1Y\" type=\"button\"><input id=\"chart_2y\" class=\"race_charts_button rcb_none\" value=\"2Y\" type=\"button\"><input id=\"chart_max\" class=\"race_charts_button rcb_none rcb_normal rcb_mobile\" value=\"MAX\" type=\"button\"><input id=\"chart_reset\" class=\"race_charts_button\" value=\"Reset\" type=\"button\"></div>\\r\\n\\t\\t\\t</div>\\r\\n\\t\\t<table class=\"embed\" cellpadding=\"0\" cellspacing=\"0\" border=\"0\"><tr><td><a href=\"http://www.realclearpolitics.com\"><img src=\"/asset/img/logo/realclearpolitics_logo_word_only_124.png\" /></a></td><td align=\"right\"><img src=\"/images/blank.png\" /></td></tr></table></div><div class=\"RC-AD RC-AD-BOX-TOP\"></div><div class=\"clear\"></div>\\r\\n<script src=\"/3rd_party/bjqs/bjqs-1.3.min.js\"></script>\\r\\n\\r\\n\\r\\n<div id=\"chart_slider_holder\">\\r\\n  <div id=\"chart_slider\" class=\"y_2016\">\\r\\n    <ul class=\"bjqs\">\\r\\n      <li><script type=\"text/javascript\" src=\"/epolls/2016/widget/29_scorecard_v2.js?nocache=1473944023\" ></script></li>    </ul>\\r\\n  </div>\\r\\n  <script type=\"text/javascript\">\\r\\n\\r\\n  $(\"#chart_slider\").bjqs({\\r\\n    \"width\" : 280,\\r\\n    \"height\" : 248,\\r\\n    \"automatic\" : false,\\r\\n    \"nexttext\" : \">\",\\r\\n    \"prevtext\" : \"<\",\\r\\n    \"showmarkers\" : false\\r\\n  });\\r\\n  </script>\\r\\n  <div class=\"RC-AD RC-AD-BOX-MIDDLE\" style=\"display:inline-block;\"></div>\\r\\n</div>\\r\\n\\r\\n\\r\\n\\r\\n\\r\\n\\r\\n\\r\\n\\r\\n\\r\\n<div class=\"clear\"></div><h3 class=\"red-bar-section\">Polling Data</h3><div id=\"polling-data-full\" class=\" polling_dt layout_0\" data-diag=\"0\"><a name=\"polls\"></a><table class=\"data large \"><tr class=\"header\"><th class=\"noCenter\">Poll</th><th class=\"date\">Date</th><th class=\"sample\">Sample</th><th class=\"moe\">MoE</th><th class=\"diag\"><div><span>Trump (R)</span></div></th><th class=\"diag\"><div><span>Clinton (D)</span></div></th><th class=\"spread\">Spread</th></tr><tr class=\"rcpAvg\"><td class=\"noCenter\">RCP Average</td><td>8/19 - 9/12</td><td class=\"sample\">--</td><td class=\"moe\">--</td><td>45.1</td><td>44.4</td><td class=\"spread\"><span class=\"rep\">Trump +0.7</span></td></tr><tr class=\" isInRcpAvg\" data-id=\"110179\"><td class=\"noCenter\"><a class=\"normal_pollster_name\" href=\"http://www.cnn.com/2016/09/14/politics/cnn-orc-poll-florida-ohio-donald-trump-hillary-clinton/index.html\">CNN/ORC</a><a class=\"mobile_pollster_name\" href=\"http://www.cnn.com/2016/09/14/politics/cnn-orc-poll-florida-ohio-donald-trump-hillary-clinton/index.html\">CNN/ORC</a></td><td>9/7 - 9/12</td><td class=\"sample\">788 LV</td><td class=\"moe\">3.5</td><td>50</td><td>46</td><td class=\"spread\"><span class=\"rep\">Trump +4</span></td></tr><tr class=\"alt isInRcpAvg\" data-id=\"110093\"><td class=\"noCenter\"><a class=\"normal_pollster_name\" href=\"http://www.realclearpolitics.com/docs/2016/JMC_FL_Sept_2016.pdf\">JMC Analytics*</a><a class=\"mobile_pollster_name\" href=\"http://www.realclearpolitics.com/docs/2016/JMC_FL_Sept_2016.pdf\">JMC Analytics*</a></td><td>9/7 - 9/8</td><td class=\"sample\">781 LV</td><td class=\"moe\">3.5</td><td>46</td><td>42</td><td class=\"spread\"><span class=\"rep\">Trump +4</span></td></tr><tr class=\" isInRcpAvg\" data-id=\"110087\"><td class=\"noCenter\"><a class=\"normal_pollster_name\" href=\"https://www.scribd.com/document/323620143/CBS-News-2016-Battleground-Tracker-Florida-September-11-2016#from_embed\">CBS News/YouGov*</a><a class=\"mobile_pollster_name\" href=\"https://www.scribd.com/document/323620143/CBS-News-2016-Battleground-Tracker-Florida-September-11-2016#from_embed\">CBS News/YouGov*</a></td><td>9/7 - 9/9</td><td class=\"sample\">1193 LV</td><td class=\"moe\">3.5</td><td>42</td><td>44</td><td class=\"spread\"><span class=\"dem\">Clinton +2</span></td></tr><tr class=\"alt isInRcpAvg\" data-id=\"110035\"><td class=\"noCenter\"><a class=\"normal_pollster_name\" href=\"https://www.qu.edu/images/polling/ps/ps09082016_pg92cxm.pdf\">Quinnipiac</a><a class=\"mobile_pollster_name\" href=\"https://www.qu.edu/images/polling/ps/ps09082016_pg92cxm.pdf\">Quinnipiac</a></td><td>8/29 - 9/7</td><td class=\"sample\">761 LV</td><td class=\"moe\">3.6</td><td>47</td><td>47</td><td class=\"spread\"><span style=\"color: ;\">Tie </span></td></tr><tr class=\" isInRcpAvg\" data-id=\"109968\"><td class=\"noCenter\"><a class=\"normal_pollster_name\" href=\"http://www.publicpolicypolling.com/pdf/2015/PPP_Release_FL_90716.pdf\">PPP (D)</a><a class=\"mobile_pollster_name\" href=\"http://www.publicpolicypolling.com/pdf/2015/PPP_Release_FL_90716.pdf\">PPP (D)</a></td><td>9/4 - 9/6</td><td class=\"sample\">744 LV</td><td class=\"moe\">3.6</td><td>46</td><td>47</td><td class=\"spread\"><span class=\"dem\">Clinton +1</span></td></tr><tr class=\"alt isInRcpAvg\" data-id=\"109750\"><td class=\"noCenter\"><a class=\"normal_pollster_name\" href=\"http://www.realclearpolitics.com/docs/2016/Mason_Dixon_FL_Aug_2016.pdf\">Mason-Dixon*</a><a class=\"mobile_pollster_name\" href=\"http://www.realclearpolitics.com/docs/2016/Mason_Dixon_FL_Aug_2016.pdf\">Mason-Dixon*</a></td><td>8/22 - 8/24</td><td class=\"sample\">625 LV</td><td class=\"moe\">4.0</td><td>42</td><td>44</td><td class=\"spread\"><span class=\"dem\">Clinton +2</span></td></tr><tr class=\" isInRcpAvg\" data-id=\"109693\"><td class=\"noCenter\"><a class=\"normal_pollster_name\" href=\"http://www.realclearpolitics.com/docs/2016/FAU_Florida_August.pdf\">Florida Atlantic University*</a><a class=\"mobile_pollster_name\" href=\"http://www.realclearpolitics.com/docs/2016/FAU_Florida_August.pdf\">Florida Atlantic University*</a></td><td>8/19 - 8/22</td><td class=\"sample\">1200 LV</td><td class=\"moe\">2.7</td><td>43</td><td>41</td><td class=\"spread\"><span class=\"rep\">Trump +2</span></td></tr><tr class=\"alt\" data-id=\"109763\"><td class=\"noCenter\"><a class=\"normal_pollster_name\" href=\"http://www.flchamber.com/politicians-parties-and-plaintiff-trial-lawyers-are-unknown-or-unliked-in-new-florida-chamber-of-commerce-statewide-poll/\">FL Chamber</a><a class=\"mobile_pollster_name\" href=\"http://www.flchamber.com/politicians-parties-and-plaintiff-trial-lawyers-are-unknown-or-unliked-in-new-florida-chamber-of-commerce-statewide-poll/\">FL Chamber</a></td><td>8/17 - 8/22</td><td class=\"sample\">608 LV</td><td class=\"moe\">4.0</td><td>44</td><td>43</td><td class=\"spread\"><span class=\"rep\">Trump +1</span></td></tr><tr class=\"\" data-id=\"109564\"><td class=\"noCenter\"><a class=\"normal_pollster_name\" href=\"http://www.monmouth.edu/polling-institute/reports/MonmouthPoll_FL_081616.asp\">Monmouth*</a><a class=\"mobile_pollster_name\" href=\"http://www.monmouth.edu/polling-institute/reports/MonmouthPoll_FL_081616.asp\">Monmouth*</a></td><td>8/12 - 8/15</td><td class=\"sample\">402 LV</td><td class=\"moe\">4.9</td><td>39</td><td>48</td><td class=\"spread\"><span class=\"dem\">Clinton +9</span></td></tr><tr class=\"alt\" data-id=\"109517\"><td class=\"noCenter\"><a class=\"normal_pollster_name\" href=\"https://www.scribd.com/document/321143622/CBS-News-2016-Battleground-Tracker-Florida-August-14-2016#from_embed\">CBS News/YouGov*</a><a class=\"mobile_pollster_name\" href=\"https://www.scribd.com/document/321143622/CBS-News-2016-Battleground-Tracker-Florida-August-14-2016#from_embed\">CBS News/YouGov*</a></td><td>8/10 - 8/12</td><td class=\"sample\">1194 LV</td><td class=\"moe\">3.6</td><td>40</td><td>45</td><td class=\"spread\"><span class=\"dem\">Clinton +5</span></td></tr><tr class=\"\" data-id=\"109479\"><td class=\"noCenter\"><a class=\"normal_pollster_name\" href=\"http://opinionsavvy.com/wp-content/uploads/2016/08/OS-FL-General-8.11.16.pdf\">FOX 13/Opinion Savvy*</a><a class=\"mobile_pollster_name\" href=\"http://opinionsavvy.com/wp-content/uploads/2016/08/OS-FL-General-8.11.16.pdf\">FOX 13/Opinion Savvy*</a></td><td>8/10 - 8/10</td><td class=\"sample\">622 LV</td><td class=\"moe\">4.0</td><td>44</td><td>45</td><td class=\"spread\"><span class=\"dem\">Clinton +1</span></td></tr><tr class=\"alt\" data-id=\"109496\"><td class=\"noCenter\"><a class=\"normal_pollster_name\" href=\"http://www.nbcnews.com/politics/2016-election/polls-clinton-running-table-key-battlegrounds-n629136\">NBC/WSJ/Marist</a><a class=\"mobile_pollster_name\" href=\"http://www.nbcnews.com/politics/2016-election/polls-clinton-running-table-key-battlegrounds-n629136\">NBC/WSJ/Marist</a></td><td>8/4 - 8/10</td><td class=\"sample\">862 RV</td><td class=\"moe\">3.3</td><td>39</td><td>44</td><td class=\"spread\"><span class=\"dem\">Clinton +5</span></td></tr><tr class=\"\" data-id=\"109374\"><td class=\"noCenter\"><a class=\"normal_pollster_name\" href=\"http://www.realclearpolitics.com/docs/2016/081016_SWING_PRES_+_BP.pdf\">Quinnipiac</a><a class=\"mobile_pollster_name\" href=\"http://www.realclearpolitics.com/docs/2016/081016_SWING_PRES_+_BP.pdf\">Quinnipiac</a></td><td>7/30 - 8/7</td><td class=\"sample\">1056 LV</td><td class=\"moe\">3.0</td><td>45</td><td>46</td><td class=\"spread\"><span class=\"dem\">Clinton +1</span></td></tr><tr class=\"alt\" data-id=\"109268\"><td class=\"noCenter\"><a class=\"normal_pollster_name\" href=\"http://www.suffolk.edu/academics/1094.php\">Suffolk University</a><a class=\"mobile_pollster_name\" href=\"http://www.suffolk.edu/academics/1094.php\">Suffolk University</a></td><td>8/1 - 8/3</td><td class=\"sample\">500 LV</td><td class=\"moe\">4.4</td><td>42</td><td>48</td><td class=\"spread\"><span class=\"dem\">Clinton +6</span></td></tr><tr class=\"\" data-id=\"108837\"><td class=\"noCenter\"><a class=\"normal_pollster_name\" href=\"http://www.realclearpolitics.com/docs/2016/JMC_Analytics_FL_July_2016.pdf\">JMC Analytics*</a><a class=\"mobile_pollster_name\" href=\"http://www.realclearpolitics.com/docs/2016/JMC_Analytics_FL_July_2016.pdf\">JMC Analytics*</a></td><td>7/9 - 7/10</td><td class=\"sample\">700 LV</td><td class=\"moe\">3.7</td><td>47</td><td>42</td><td class=\"spread\"><span class=\"rep\">Trump +5</span></td></tr><tr class=\"alt\" data-id=\"108933\"><td class=\"noCenter\"><a class=\"normal_pollster_name\" href=\"http://www.nbcnews.com/politics/2016-election/clinton-leads-trump-diverse-battleground-states-new-polls-n609551\">NBC/WSJ/Marist</a><a class=\"mobile_pollster_name\" href=\"http://www.nbcnews.com/politics/2016-election/clinton-leads-trump-diverse-battleground-states-new-polls-n609551\">NBC/WSJ/Marist</a></td><td>7/5 - 7/11</td><td class=\"sample\">871 RV</td><td class=\"moe\">3.3</td><td>37</td><td>44</td><td class=\"spread\"><span class=\"dem\">Clinton +7</span></td></tr><tr class=\"\" data-id=\"108848\"><td class=\"noCenter\"><a class=\"normal_pollster_name\" href=\"http://www.qu.edu/news-and-events/quinnipiac-university-poll/2016-presidential-swing-state-polls/release-detail?ReleaseID=2365\">Quinnipiac</a><a class=\"mobile_pollster_name\" href=\"http://www.qu.edu/news-and-events/quinnipiac-university-poll/2016-presidential-swing-state-polls/release-detail?ReleaseID=2365\">Quinnipiac</a></td><td>6/30 - 7/11</td><td class=\"sample\">1015 RV</td><td class=\"moe\">3.1</td><td>42</td><td>39</td><td class=\"spread\"><span class=\"rep\">Trump +3</span></td></tr><tr class=\"alt\" data-id=\"108770\"><td class=\"noCenter\"><a class=\"normal_pollster_name\" href=\"http://www.realclearpolitics.com/docs/2016/Gravis_Florida_June_27_to_28_2016.pdf\">Gravis*</a><a class=\"mobile_pollster_name\" href=\"http://www.realclearpolitics.com/docs/2016/Gravis_Florida_June_27_to_28_2016.pdf\">Gravis*</a></td><td>6/27 - 6/28</td><td class=\"sample\">1619 RV</td><td class=\"moe\">2.4</td><td>49</td><td>49</td><td class=\"spread\"><span style=\"color: ;\">Tie </span></td></tr><tr class=\"\" data-id=\"108769\"><td class=\"noCenter\"><a class=\"normal_pollster_name\" href=\"http://www.baynews9.com/content/news/baynews9/news/article.html/content/news/articles/cfn/2016/6/29/florida_decides_polls_presidential_race.html\">Bay News 9/SurveyUSA*</a><a class=\"mobile_pollster_name\" href=\"http://www.baynews9.com/content/news/baynews9/news/article.html/content/news/articles/cfn/2016/6/29/florida_decides_polls_presidential_race.html\">Bay News 9/SurveyUSA*</a></td><td>6/25 - 6/27</td><td class=\"sample\">1678 LV</td><td class=\"moe\">2.4</td><td>42</td><td>46</td><td class=\"spread\"><span class=\"dem\">Clinton +4</span></td></tr><tr class=\"alt\" data-id=\"108649\"><td class=\"noCenter\"><a class=\"normal_pollster_name\" href=\"https://www.scribd.com/doc/316764858/CBS-News-2016-Battleground-Tracker-Florida-June-2016\">CBS News/YouGov</a><a class=\"mobile_pollster_name\" href=\"https://www.scribd.com/doc/316764858/CBS-News-2016-Battleground-Tracker-Florida-June-2016\">CBS News/YouGov</a></td><td>6/21 - 6/24</td><td class=\"sample\">1192 LV</td><td class=\"moe\">3.6</td><td>41</td><td>44</td><td class=\"spread\"><span class=\"dem\">Clinton +3</span></td></tr><tr class=\"\" data-id=\"108563\"><td class=\"noCenter\"><a class=\"normal_pollster_name\" href=\"https://www.qu.edu/images/polling/ps/ps06212016_Sfw34kbm.pdf\">Quinnipiac</a><a class=\"mobile_pollster_name\" href=\"https://www.qu.edu/images/polling/ps/ps06212016_Sfw34kbm.pdf\">Quinnipiac</a></td><td>6/8 - 6/19</td><td class=\"sample\">975 RV</td><td class=\"moe\">3.1</td><td>39</td><td>47</td><td class=\"spread\"><span class=\"dem\">Clinton +8</span></td></tr><tr class=\"alt\" data-id=\"108451\"><td class=\"noCenter\"><a class=\"normal_pollster_name\" href=\"http://www.publicpolicypolling.com/pdf/PPP_Release_FL_607161.pdf\">PPP (D)</a><a class=\"mobile_pollster_name\" href=\"http://www.publicpolicypolling.com/pdf/PPP_Release_FL_607161.pdf\">PPP (D)</a></td><td>6/2 - 6/5</td><td class=\"sample\">737 RV</td><td class=\"moe\">3.6</td><td>45</td><td>44</td><td class=\"spread\"><span class=\"rep\">Trump +1</span></td></tr><tr class=\"\" data-id=\"108408\"><td class=\"noCenter\"><a class=\"normal_pollster_name\" href=\"http://www.realclearpolitics.com/docs/2016/Mason_Dixon_FL_June_2016.pdf\">Mason-Dixon*</a><a class=\"mobile_pollster_name\" href=\"http://www.realclearpolitics.com/docs/2016/Mason_Dixon_FL_June_2016.pdf\">Mason-Dixon*</a></td><td>5/31 - 6/2</td><td class=\"sample\">625 LV</td><td class=\"moe\">4.0</td><td>42</td><td>45</td><td class=\"spread\"><span class=\"dem\">Clinton +3</span></td></tr><tr class=\"alt\" data-id=\"108297\"><td class=\"noCenter\"><a class=\"normal_pollster_name\" href=\"http://gravismarketing.com/polling-and-market-research/florida-general-election-poll-marijuana-and-trans-bathroom/\">Gravis</a><a class=\"mobile_pollster_name\" href=\"http://gravismarketing.com/polling-and-market-research/florida-general-election-poll-marijuana-and-trans-bathroom/\">Gravis</a></td><td>5/17 - 5/18</td><td class=\"sample\">2542 RV</td><td class=\"moe\">2.0</td><td>42</td><td>46</td><td class=\"spread\"><span class=\"dem\">Clinton +4</span></td></tr><tr class=\"\" data-id=\"108293\"><td class=\"noCenter\"><a class=\"normal_pollster_name\" href=\"https://www.scribd.com/doc/313450291/CBS-News-2016-Battleground-Tracker-Florida-May-22\">CBS News/YouGov</a><a class=\"mobile_pollster_name\" href=\"https://www.scribd.com/doc/313450291/CBS-News-2016-Battleground-Tracker-Florida-May-22\">CBS News/YouGov</a></td><td>5/16 - 5/19</td><td class=\"sample\">995 LV</td><td class=\"moe\">4.0</td><td>42</td><td>43</td><td class=\"spread\"><span class=\"dem\">Clinton +1</span></td></tr><tr class=\"alt\" data-id=\"108152\"><td class=\"noCenter\"><a class=\"normal_pollster_name\" href=\"https://www.qu.edu/images/polling/ps/ps05102016_Sw4b42d.pdf\">Quinnipiac</a><a class=\"mobile_pollster_name\" href=\"https://www.qu.edu/images/polling/ps/ps05102016_Sw4b42d.pdf\">Quinnipiac</a></td><td>4/27 - 5/8</td><td class=\"sample\">1051 RV</td><td class=\"moe\">3.0</td><td>42</td><td>43</td><td class=\"spread\"><span class=\"dem\">Clinton +1</span></td></tr><tr class=\"\" data-id=\"108064\"><td class=\"noCenter\"><a class=\"normal_pollster_name\" href=\"http://www.realclearpolitics.com/docs/2016/AIF_April_2016.pdf\">AIF (R)**</a><a class=\"mobile_pollster_name\" href=\"http://www.realclearpolitics.com/docs/2016/AIF_April_2016.pdf\">AIF (R)**</a></td><td>4/25 - 4/27</td><td class=\"sample\">604 LV</td><td class=\"moe\">5.0</td><td>36</td><td>49</td><td class=\"spread\"><span class=\"dem\">Clinton +13</span></td></tr><tr class=\"alt\" data-id=\"107294\"><td class=\"noCenter\"><a class=\"normal_pollster_name\" href=\"http://maristpoll.marist.edu/313-trump-ahead-in-fl-il-kasich-up-in-oh-clinton-ahead-in-fl-il-and-oh/\">NBC/WSJ/Marist</a><a class=\"mobile_pollster_name\" href=\"http://maristpoll.marist.edu/313-trump-ahead-in-fl-il-kasich-up-in-oh-clinton-ahead-in-fl-il-and-oh/\">NBC/WSJ/Marist</a></td><td>3/4 - 3/10</td><td class=\"sample\">2422 RV</td><td class=\"moe\">2.0</td><td>41</td><td>49</td><td class=\"spread\"><span class=\"dem\">Clinton +8</span></td></tr><tr class=\"\" data-id=\"107125\"><td class=\"noCenter\"><a class=\"normal_pollster_name\" href=\"http://www.mynews13.com/content/news/cfnews13/news/article.html/content/news/articles/bn9/2016/3/7/exclusive_political__0.html#results\">News 13/SurveyUSA</a><a class=\"mobile_pollster_name\" href=\"http://www.mynews13.com/content/news/cfnews13/news/article.html/content/news/articles/bn9/2016/3/7/exclusive_political__0.html#results\">News 13/SurveyUSA</a></td><td>3/4 - 3/6</td><td class=\"sample\">1961 LV</td><td class=\"moe\">2.3</td><td>45</td><td>44</td><td class=\"spread\"><span class=\"rep\">Trump +1</span></td></tr><tr class=\"alt\" data-id=\"107189\"><td class=\"noCenter\"><a class=\"normal_pollster_name\" href=\"http://i2.cdn.turner.com/cnn/2016/images/03/09/relfl1florida.pdf\">CNN/ORC</a><a class=\"mobile_pollster_name\" href=\"http://i2.cdn.turner.com/cnn/2016/images/03/09/relfl1florida.pdf\">CNN/ORC</a></td><td>3/2 - 3/6</td><td class=\"sample\">854 RV</td><td class=\"moe\">3.5</td><td>43</td><td>50</td><td class=\"spread\"><span class=\"dem\">Clinton +7</span></td></tr><tr class=\"\" data-id=\"106967\"><td class=\"noCenter\"><a class=\"normal_pollster_name\" href=\"http://www.publicpolicypolling.com/pdf/2015/PPP_Release_FL_22516.pdf\">PPP (D)</a><a class=\"mobile_pollster_name\" href=\"http://www.publicpolicypolling.com/pdf/2015/PPP_Release_FL_22516.pdf\">PPP (D)</a></td><td>2/24 - 2/25</td><td class=\"sample\">1012 RV</td><td class=\"moe\">3.1</td><td>46</td><td>44</td><td class=\"spread\"><span class=\"rep\">Trump +2</span></td></tr><tr class=\"alt\" data-id=\"106346\"><td class=\"noCenter\"><a class=\"normal_pollster_name\" href=\"http://business.fau.edu/departments/economics/business-economics-polling/bepi-polls/index.aspx#.Vp-0ROjyuUl\">Florida Atlantic University</a><a class=\"mobile_pollster_name\" href=\"http://business.fau.edu/departments/economics/business-economics-polling/bepi-polls/index.aspx#.Vp-0ROjyuUl\">Florida Atlantic University</a></td><td>1/15 - 1/18</td><td class=\"sample\">1008 RV</td><td class=\"moe\">3.0</td><td>47</td><td>44</td><td class=\"spread\"><span class=\"rep\">Trump +3</span></td></tr><tr class=\"\" data-id=\"105697\"><td class=\"noCenter\"><a class=\"normal_pollster_name\" href=\"http://business.fau.edu/departments/economics/business-economics-polling/bepi-polls/index.aspx#.VkyddlVJZhE\">Florida Atlantic University</a><a class=\"mobile_pollster_name\" href=\"http://business.fau.edu/departments/economics/business-economics-polling/bepi-polls/index.aspx#.VkyddlVJZhE\">Florida Atlantic University</a></td><td>11/15 - 11/16</td><td class=\"sample\">829 RV</td><td class=\"moe\">3.3</td><td>49</td><td>41</td><td class=\"spread\"><span class=\"rep\">Trump +8</span></td></tr><tr class=\"alt\" data-id=\"105529\"><td class=\"noCenter\"><a class=\"normal_pollster_name\" href=\"http://www.baynews9.com/content/news/baynews9/news/article.html/content/news/articles/cfn/2015/11/3/florida_decides_poll_2016_election.html#results\">News 13/SurveyUSA</a><a class=\"mobile_pollster_name\" href=\"http://www.baynews9.com/content/news/baynews9/news/article.html/content/news/articles/cfn/2015/11/3/florida_decides_poll_2016_election.html#results\">News 13/SurveyUSA</a></td><td>10/28 - 11/1</td><td class=\"sample\">2400 LV</td><td class=\"moe\">2.0</td><td>47</td><td>43</td><td class=\"spread\"><span class=\"rep\">Trump +4</span></td></tr><tr class=\"\" data-id=\"105045\"><td class=\"noCenter\"><a class=\"normal_pollster_name\" href=\"http://www.quinnipiac.edu/images/polling/ps/ps10072015_S73fgbv.pdf\">Quinnipiac</a><a class=\"mobile_pollster_name\" href=\"http://www.quinnipiac.edu/images/polling/ps/ps10072015_S73fgbv.pdf\">Quinnipiac</a></td><td>9/25 - 10/5</td><td class=\"sample\">1173 RV</td><td class=\"moe\">2.9</td><td>41</td><td>46</td><td class=\"spread\"><span class=\"dem\">Clinton +5</span></td></tr><tr class=\"alt\" data-id=\"104975\"><td class=\"noCenter\"><a class=\"normal_pollster_name\" href=\"http://www.flchamber.com/\">FL Chamber</a><a class=\"mobile_pollster_name\" href=\"http://www.flchamber.com/\">FL Chamber</a></td><td>9/16 - 9/20</td><td class=\"sample\">605 LV</td><td class=\"moe\">4.0</td><td>41</td><td>42</td><td class=\"spread\"><span class=\"dem\">Clinton +1</span></td></tr><tr class=\"\" data-id=\"104753\"><td class=\"noCenter\"><a class=\"normal_pollster_name\" href=\"http://www.publicpolicypolling.com/pdf/2015/PPP_Release_FL_91515.pdf\">PPP (D)</a><a class=\"mobile_pollster_name\" href=\"http://www.publicpolicypolling.com/pdf/2015/PPP_Release_FL_91515.pdf\">PPP (D)</a></td><td>9/11 - 9/13</td><td class=\"sample\">814 RV</td><td class=\"moe\">3.4</td><td>48</td><td>42</td><td class=\"spread\"><span class=\"rep\">Trump +6</span></td></tr><tr class=\"alt\" data-id=\"104383\"><td class=\"noCenter\"><a class=\"normal_pollster_name\" href=\"http://www.quinnipiac.edu/images/polling/ps/ps08202015_Sdeg82k.pdf\">Quinnipiac</a><a class=\"mobile_pollster_name\" href=\"http://www.quinnipiac.edu/images/polling/ps/ps08202015_Sdeg82k.pdf\">Quinnipiac</a></td><td>8/7 - 8/18</td><td class=\"sample\">1093 RV</td><td class=\"moe\">3.0</td><td>43</td><td>41</td><td class=\"spread\"><span class=\"rep\">Trump +2</span></td></tr></table></div>\\t\\t<div class=\"RC-AD RC-AD-BOTTOM-BANNER\"></div>\\r\\n\\t\\t<div class=\"RC-AD RC-AD-BOX-BOTTOM\"></div>\\r\\n\\r\\n\\t</div><!-- end alpha div -->\\r\\n</div><!-- end alpha-container div -->\\r\\n\\r\\n<div class=\"beta-container \">\\r\\n\\t<div class=\"beta\">\\r\\n\\r\\n\\t\\t<div class=\"widget_slot init\"></div>\\r\\n\\r\\n\\r\\n\\t\\t<div class=\"widget_slot\" style=\"margin-bottom:20px;\">\\r\\n\\t\\t\\t<div class=\"rec-widget-header\">\\r\\n\\t\\t\\t\\t<div class=\"rec-title\" style=\"color:#fff\">Partner Videos</div>\\r\\n\\t\\t\\t</div>\\r\\n\\t\\t\\t<div class=\"rec-link-body\">\\r\\n\\t\\t\\t\\t<div class=\"ndn_embed\" data-config-widget-id=\"17779\" data-config-type=\"VideoLauncher/Slider300x250\" data-config-tracking-group=\"12672\"></div>\\r\\n\\t\\t\\t</div>\\r\\n\\t\\t</div>\\t\\t\\r\\n\\r\\n\\t\\t<div class=\"RC-AD RC-AD-BOX-TOP\"></div>\\r\\n\\r\\n\\t\\t<div class=\"widget_slot init\"></div>\\r\\n\\r\\n\\t\\t<div class=\"RC-AD RC-AD-BOX-BOTTOM\"></div>\\r\\n\\r\\n\\t\\t<div class=\"widget_slot init\"></div>\\r\\n\\r\\n\\t\\t<div class=\"RC-AD RC-AD-BOX-BOTTOM-600\"></div>\\r\\n\\r\\n\\t</div>\\r\\n</div><!-- end beta div -->\\r\\n</div><!-- end container div --><div class=\"footer-wrapper\">\\r\\n    <div class=\"footer\">\\r\\n        <div class=\"footer-logo\">\\r\\n            <span class=\"site-tab\"></span> \\r\\n            <img src=\"/asset/img/rcp-logo-footer.png\" /> \\r\\n        </div>\\r\\n        \\r\\n        <div class=\"footer-social\">\\r\\n            <div class=\"socialBar\" data-style=\"site\" data-dialog=\"share\"><div class=\"left toolset\"></div></div>\\r\\n        </div>\\r\\n        \\r\\n        <div class=\"clear\"></div>\\r\\n        \\r\\n        <div class=\"footer-links\">\\r\\n            <script type=\"text/javascript\" src=\"/include/footer_links.js\"></script>\\r\\n        </div>\\r\\n        \\r\\n        <div class=\"footer-info\">\\r\\n            <div class=\"info-links\">\\r\\n                <script type=\"text/javascript\" src=\"/include/footer_info_links.js\"></script>\\r\\n            </div>\\r\\n        </div>\\r\\n\\r\\n        <div class=\"mobile-footer\">\\r\\n            <div class=\"mobile-copyright\">&copy;2016 RealClearPolitics | <a onClick=\"loadDesktop();\" class=\"view-desktop\">Go to full site</a></div>\\r\\n        </div>\\r\\n\\r\\n    </div> \\r\\n</div>\\r\\n<script type=\"text/javascript\" src=\"/include/internal.js?v=1\"></script>\\r\\n<script type=\"text/javascript\" src=\"/include/footer_includes_before_body.js?v=1\"></script> \\r\\n\\r\\n\\r\\n<script>var isAdBlockActive = true;</script>\\r\\n<script src=\"/scripts/ads.js\"></script>  <!--adblocker will not allow this file to run --> \\r\\n<script type=\"text/javascript\"> \\r\\nif (isAdBlockActive) { \\r\\n  console.log(\"The visitor is blocking ads\");  \\r\\n  checkIfAnalyticsLoaded();\\r\\n}  \\r\\n\\r\\nfunction checkIfAnalyticsLoaded() {\\r\\n  if (window._gat && window._gat._getTracker) {\\r\\n        console.log(\"GA loaded\");  \\r\\n        //Wrap event tracking call to prevent premature termination of this function.\\r\\n        try{\\r\\n            var cur_body_class = document.body.getAttribute(\\'class\\').split(/\\\\s+/); \\r\\n            _gaq.push([\\'_trackEvent\\', \\'AdBlocker\\', \\'adblocker-blocked\\', \\'section: \\'+cur_body_class[0]]);\\r\\n            //console.log(\\'trackevent: \\'+data[\\'ge_category\\']+\\' \\'+data[\\'ge_action\\']+\\' \\'+data[\\'ge_label\\']);\\r\\n        } catch(err) {}\\r\\n\\r\\n  } else {\\r\\n    //check in 500 ms\\r\\n    setTimeout(\\'checkIfAnalyticsLoaded()\\', 500);\\r\\n  }\\r\\n}\\r\\n</script>  \\r\\n\\t\\t</body>\\r\\n\\t\\t</html>\\r\\n\\t\\t'"
      ]
     },
     "execution_count": 5,
     "metadata": {},
     "output_type": "execute_result"
    }
   ],
   "source": [
    "html"
   ]
  },
  {
   "cell_type": "code",
   "execution_count": 6,
   "metadata": {
    "collapsed": false
   },
   "outputs": [
    {
     "data": {
      "text/plain": [
       "<!DOCTYPE doctype html>\n",
       "\n",
       "<html>\n",
       "<head prefix=\"og: http://ogp.me/ns# fb: http://ogp.me/ns/fb#\">\n",
       "<meta content=\"!\" name=\"fragment\">\n",
       "<script id=\"interior\" src=\"/include/rc-meta.js\" type=\"text/javascript\"></script>\n",
       "<meta content=\"text/html; charset=utf-8\" http-equiv=\"Content-Type\"/>\n",
       "<meta content=\"27088225427\" property=\"fb:pages\"/>\n",
       "<link href=\"/favicon.ico\" rel=\"shortcut icon\" type=\"images/x-icon\"/>\n",
       "<link href=\"http://fonts.googleapis.com/css?family=Roboto:400,700\" rel=\"stylesheet\" type=\"text/css\">\n",
       "<link href=\"http://fonts.googleapis.com/css?family=Domine:400,700\" rel=\"stylesheet\" type=\"text/css\">\n",
       "<link href=\"/asset/top/master.css\" rel=\"stylesheet\" type=\"text/css\"/>\n",
       "<link href=\"/asset/vertical/rcp/rcp.css\" rel=\"stylesheet\" type=\"text/css\"/>\n",
       "<link href=\"/asset/top/facebox-comments.css\" media=\"screen\" rel=\"stylesheet\" type=\"text/css\"/>\n",
       "<script src=\"/3rd_party/jquery/1.11.3.min.js\" type=\"text/javascript\"></script>\n",
       "<script src=\"/3rd_party/viewportSize/viewportSize-min.js\" type=\"text/javascript\"></script>\n",
       "<script src=\"http://c.amazon-adsystem.com/aax2/amzn_ads.js\" type=\"text/javascript\"></script>\n",
       "<script type=\"text/javascript\">\n",
       "\ttry {\n",
       "\t\tamznads.getAds('3148');\n",
       "\t} catch(e) { /*ignore*/}\t\n",
       "</script>\n",
       "<script type=\"text/javascript\"> \n",
       "\tvar key = 'amznslots';\n",
       "\tvar values = amznads.getTokens(); //comma separated tokens \t \n",
       "</script>\n",
       "<script src=\"/asset/top/StoryStream.js?v=1.0\" type=\"text/javascript\"></script>\n",
       "<script data-gatag=\"\" data-site=\"politics\" data-site-page=\"polls\" id=\"jsSite\" src=\"/asset/top/master.js?v=1.7\" type=\"text/javascript\"></script>\n",
       "<script src=\"/asset/vertical/rcp/rcp.js?v=1.0\" type=\"text/javascript\"></script>\n",
       "<script src=\"/3rd_party/waypoints/lib/jquery.waypoints.min.js\"></script>\n",
       "<script src=\"/3rd_party/waypoints/lib/shortcuts/inview.min.js\"></script>\n",
       "<script async=\"\" id=\"_nw2e-js\" src=\"http://launch.newsinc.com/js/embed.js\" type=\"text/javascript\"></script>\n",
       "<meta content=\"RealClearPolitics - Election 2016 - Florida: Trump vs. Clinton\" name=\"title\"/>\n",
       "<meta content=\"RealClearPolitics - Election 2016 - Florida: Trump vs. Clinton\" name=\"description\"/>\n",
       "<meta content=\"politics\" name=\"keywords\"/>\n",
       "<meta content=\"RealClearPolitics - Election 2016 - Florida: Trump vs. Clinton\" property=\"og:title\"/>\n",
       "<meta content=\"website\" property=\"og:type\"/>\n",
       "<meta content=\"/epolls/2016/president/fl/florida_trump_vs_clinton-5635.html\" property=\"og:url\"/>\n",
       "<meta content=\"RealClearPolitics - Election 2016 - Florida: Trump vs. Clinton\" property=\"og:description\"/>\n",
       "<meta content=\"1415921935346245\" property=\"fb:app_id\"/>\n",
       "<meta content=\"http://www.realclearpolitics.com/images/realclearpolitics_social_logo.png\" property=\"og:image\"/>\n",
       "<meta content=\"summary\" name=\"twitter:card\"/>\n",
       "<meta content=\"@@RealClearNews\" name=\"twitter:site\"/>\n",
       "<meta content=\"RealClearPolitics - Election 2016 - Florida: Trump vs. Clinton\" name=\"tweetmeme-title\"/>\n",
       "<meta content=\"telephone=no\" name=\"format-detection\"><title>RealClearPolitics - Election 2016 - Florida: Trump vs. Clinton</title>\n",
       "<script src=\"/asset/section/polls.js\" type=\"text/javascript\"></script>\n",
       "<link href=\"/asset/section/polls.css\" rel=\"stylesheet\" type=\"text/css\"/>\n",
       "<script src=\"/3rd_party/typeahead/0.11.1/typeahead.bundle.js\" type=\"text/javascript\"></script>\n",
       "<!--[if lt IE 9]>\n",
       "\t\t\t<script src=\"http://assets.realclearpolitics.com/assets/scripts/amstock.js\" type=\"text/javascript\"></script>\n",
       "\t\t\t<script type=\"text/javascript\">\n",
       "\t\t\t\tvar hash='';\n",
       "\t\t\t\tvar chart;\n",
       "\t\t\t\tvar stockPanel;\n",
       "\t\t\t\tvar graph;\n",
       "\t\t\t\tvar chart_data=[];\n",
       "\t\t\t\tvar candidate_name=[];\n",
       "\t\t\t\tvar candidate_color=[];\n",
       "\t\t\t\tvar last_date;\n",
       "\t\t\t\tvar pollster_name=[];\n",
       "\t\t\t\tvar pollster_id=[];\n",
       "\t\t\t\tvar data;\n",
       "\t\t\t\tvar first_date;\n",
       "\t\t\t\tvar final_date = \"\";var preview=0;\n",
       "\t\t\t\tvar zoom_periods=[{period:\"DD\", count:21, label:\"14D\"},{period:\"DD\", count:37, label:\"30D\"},{period:\"MM\", count:6, label:\"6M\",selected:true},{period:\"MAX\", count:1, label:\"MAX\"},{period:\"MM\", count:0, label:\"3M\"}];\n",
       "\n",
       "\t\t\t\tvar pid;\n",
       "\t\t\t\tvar chart_main_percent=70;\n",
       "\t\t\t\tvar chart_spread_percent=30;\n",
       "\t\t\t\tvar chart_spread_range=10;\n",
       "\t\t\t\tvar spread_chart=1;\n",
       "\t\t\t</script>\n",
       "\t\t\t<style type=\"text/css\">\n",
       "\t\t\t\t#chartLine { height: 290px; }\n",
       "\t\t\t</style>\n",
       "\t\t\t<script src=\"http://assets.realclearpolitics.com/assets/scripts/chart.main.js?v=6\" type=\"text/javascript\"></script>\n",
       "\t\t\t<![endif]-->\n",
       "<script></script>\n",
       "<script type=\"text/javascript\">\n",
       "\t\t\t\tvar spread_chart=1;\n",
       "\t\t\t\tvar final_date = \"\";\n",
       "\t\t\t\tvar chart_height_override = 360;\n",
       "\t\t\t\tvar race_chart_preview = 0;\n",
       "\t\t\t</script>\n",
       "<script src=\"/3rd_party/jquery_ui/1.11.2/jquery-ui_datepicker.min.js\" type=\"text/javascript\"></script><script charset=\"utf-8\" src=\"/3rd_party/d3/3.4.8/d3.min.js\" type=\"text/javascript\"></script><script src=\"/asset/section/races_d3.js\" type=\"text/javascript\"></script><link href=\"/asset/section/charts_d3.css\" rel=\"stylesheet\" type=\"text/css\"/>\n",
       "<script type=\"text/javascript\">\n",
       "\t\t\tvar touched_chart = false;\n",
       "\t\t\t$(function()\n",
       "\t\t\t{\n",
       "\t\t\t\t$(\".chart_container\").on(\"dragstart dragenter dragover dragleave drag drop dragend mousedown mouseup mouseover mouseout mousemove click\", function(event)\n",
       "\t\t\t\t{\n",
       "\t\t\t\t\tif(touched_chart) {\n",
       "\t\t\t\t\t\tevent.stopPropagation();\n",
       "\t\t\t\t\t\t$(\"#chart_container\").attr(\"style\", \"pointer-events: none\");\n",
       "\t\t\t\t\t\t$(\"#chartdiv\").attr(\"style\", \"pointer-events: none\");\n",
       "\t\t\t\t\t\t$(\"#chartdiv svg\").attr(\"style\", \"pointer-events: none\");\n",
       "\t\t\t\t\t}\n",
       "\t\t\t\t});\n",
       "\n",
       "\t\t\t\t$(\".chart_container\").on(\"tap touchend touchstart touchmove touchleave touchenter touchcancel\", function(event){\n",
       "\t\t\t\t\ttouched_chart = true;\n",
       "\t\t\t\t\tbrush_race_chart = {};\n",
       "\t\t\t\t\t$(\"#chartdiv .brush\").remove();\n",
       "\t\t\t\t\tevent.stopPropagation();\n",
       "\t\t\t\t\t$(\"#chart_container\").attr(\"style\", \"pointer-events: none\");\n",
       "\t\t\t\t\t$(\"#chartdiv\").attr(\"style\", \"pointer-events: none\");\n",
       "\t\t\t\t\t$(\"#chartdiv svg\").attr(\"style\", \"pointer-events: none\");\n",
       "\t\t\t\t});\n",
       "\t\t\t});\n",
       "\t\t</script>\n",
       "</meta></link></link></meta></head>\n",
       "<body class=\"polls\">\n",
       "<div class=\"dos-col\" id=\"container\"><div class=\"nav-down\" id=\"masthead-wrapper\">\n",
       "<div id=\"masthead\">\n",
       "<div class=\"top-bar\"></div>\n",
       "<div class=\"alpha-wrapper\">\n",
       "<div class=\"site-logo\">\n",
       "<a href=\"/\"><img class=\"ss\" src=\"/asset/img/rcp-logo-ss-red-250.gif\"/></a>\n",
       "<span class=\"verticals-menu\">\n",
       "<div class=\"verticals-wrapper\">\n",
       "<img class=\"full-site-arrow\" src=\"/asset/img/rcp-site-arrow.png\"/>\n",
       "<img class=\"mobile-site-arrow\" src=\"/asset/img/mobile-site-arrow.png\"/>\n",
       "<span class=\"verticals-tab\"></span>\n",
       "<div class=\"verticals-site-list\">\n",
       "<script src=\"/include/rcp_sites_nav.js\" type=\"text/javascript\"></script>\n",
       "</div>\n",
       "</div>\n",
       "</span>\n",
       "</div>\n",
       "</div>\n",
       "<div class=\"beta-wrapper\">\n",
       "<div class=\"site-nav\">\n",
       "<script src=\"/include/masthead_nav.js\" type=\"text/javascript\"></script>\n",
       "</div>\n",
       "<div class=\"site-search mobile\">\n",
       "<form><input id=\"searchBox\" name=\"q\" type=\"text\"/></form>\n",
       "</div>\n",
       "<div class=\"site-search-mobile\"></div>\n",
       "</div>\n",
       "</div><!-- end inner masthead -->\n",
       "</div><!-- end masthead wrapper -->\n",
       "<div class=\"alpha-container \">\n",
       "<div class=\"alpha\">\n",
       "<div class=\"RC-AD RC-AD-TOP-BANNER\"></div>\n",
       "<div class=\"RC-AD RC-AD-MOBILE-BANNER\"></div>\n",
       "<div class=\"polls-header\"><h1>Polls</h1></div>\n",
       "<div class=\"polls_header_dropdown\">\n",
       "<div class=\"quick_links_content\">\n",
       "<script src=\"/quick_links/23.js\" type=\"text/javascript\"></script>\n",
       "</div>\n",
       "<div class=\"filter_content\">\n",
       "<div class=\"filter_section\">\n",
       "<h4>Year</h4>\n",
       "<select class=\"multi_select\" id=\"af_year\" multiple=\"multiple\" name=\"af_year[]\">\n",
       "</select>\n",
       "</div>\n",
       "<div class=\"filter_section\">\n",
       "<h4>State <button class=\"select_all_button\">← Select All</button></h4>\n",
       "<select class=\"multi_select\" id=\"af_state\" multiple=\"multiple\" name=\"af_state[]\">\n",
       "</select>\n",
       "</div>\n",
       "<div class=\"filter_section\">\n",
       "<h4>Type</h4>\n",
       "<select class=\"multi_select\" id=\"af_type\" multiple=\"multiple\" name=\"af_type[]\">\n",
       "</select>\n",
       "</div>\n",
       "<div class=\"filter_section\">\n",
       "<button class=\"filter_button\">Apply Filter</button>\n",
       "<button class=\"clear_filter_button\">Clear Filter</button>\n",
       "</div>\n",
       "<div class=\"results\">\n",
       "<h4>Results</h4>\n",
       "<div class=\"race_results\">\n",
       "\t\t\t\tSelect one or more years, states and race types, then click \"Apply Filter\" to see results.\n",
       "\t\t\t</div>\n",
       "</div>\n",
       "</div>\n",
       "<div class=\"open\">\n",
       "<div class=\"arrow\"><img alt=\"Arrow\" src=\"/asset/img/grey-bg-chev.png\"/></div>\n",
       "<div class=\"quick_links_title\">Quick <span>Poll/Map</span> Links</div>\n",
       "<div class=\"filter_title\">Advanced Search</div>\n",
       "<div class=\"find_a_poll_title\"><span>Find Any Poll</span> <input id=\"find_a_poll\" name=\"find_a_poll\" placeholder=\"Try 'Iowa,' or 'Obama'\" type=\"text\"/></div>\n",
       "<div class=\"polls_dropdown\"><script src=\"/epolls/2014/widget/2016_presidential_polls.js\" type=\"text/javascript\"></script></div>\n",
       "</div>\n",
       "</div>\n",
       "<input id=\"poll_id\" name=\"poll_id\" type=\"hidden\" value=\"5635\"/><input id=\"poll_data_table_increment\" name=\"poll_data_table_increment\" type=\"hidden\" value=\"0\"/><input id=\"clean_poll_title\" name=\"clean_poll_title\" type=\"hidden\" value=\"florida_trump_vs_clinton\"/>\n",
       "<h2 class=\"page_title\"><div>Florida: Trump vs. Clinton <span class=\"after_title\"><a href=\"http://www.realclearpolitics.com/epolls/2016/president/fl/florida_trump_vs_clinton_vs_johnson_vs_stein-5963.html\">(4-Way)</a></span></div></h2>\n",
       "<div class=\"polls-social\">\n",
       "<div class=\"socialBar\" data-dialog=\"share\" data-print=\"1\" data-style=\"short\">\n",
       "<div class=\"left toolset\"></div>\n",
       "</div>\n",
       "<div class=\"socialBar-clicks\"></div>\n",
       "<div class=\"socialBar-divide\"> | </div>\n",
       "<div class=\"socialBar-shares\"></div>\n",
       "</div>\n",
       "<div id=\"under-title-small\">Key 2016 Races: <a href=\"http://www.realclearpolitics.com/epolls/2016/senate/fl/florida_senate_rubio_vs_murphy-5222.html\">Senate</a> | <a href=\"http://www.realclearpolitics.com/epolls/2016/house/fl/florida_7th_district_mica_vs_murphy-6034.html\">FL-7</a> | <a href=\"http://www.realclearpolitics.com/epolls/2016/house/fl/florida_13th_district_jolly_vs_crist-6049.html\">FL-13</a> | <a href=\"http://www.realclearpolitics.com/epolls/2016/house/fl/florida_18th_district_mast_vs_perkins-6064.html\">FL-18</a> | <a href=\"http://www.realclearpolitics.com/epolls/2016/house/fl/florida_26th_district_curbelo_vs_garcia-6065.html\">FL-26</a> | President: <a href=\"http://www.realclearpolitics.com/epolls/2012/president/fl/florida_romney_vs_obama-1883.html\">2012: Obama +0.9</a>, <a href=\"http://www.realclearpolitics.com/epolls/2008/president/fl/florida_mccain_vs_obama-418.html\">2008: Obama +2.8</a></div><div id=\"under-title-mobile\"><a href=\"http://www.realclearpolitics.com/epolls/2016/president/2016_elections_electoral_college_map.html\">Battlegrounds</a>: <a href=\"http://www.realclearpolitics.com/epolls/2016/president/fl/florida_trump_vs_clinton_vs_johnson_vs_stein-5963.html\">FL</a> | <a href=\"http://www.realclearpolitics.com/epolls/2016/president/oh/ohio_trump_vs_clinton_vs_johnson_vs_stein-5970.html\">OH</a> | <a href=\"http://www.realclearpolitics.com/epolls/2016/president/pa/pennsylvania_trump_vs_clinton_vs_johnson_vs_stein-5964.html\">PA</a> | <a href=\"http://www.realclearpolitics.com/epolls/2016/president/nh/new_hampshire_trump_vs_clinton_vs_johnson_vs_stein-6022.html\">NH</a> | <a href=\"http://www.realclearpolitics.com/epolls/2016/president/mi/michigan_trump_vs_clinton_vs_johnson_vs_stein-6008.html\">MI</a> | <a href=\"http://www.realclearpolitics.com/epolls/2016/president/ia/iowa_trump_vs_clinton_vs_johnson_vs_stein-5981.html\">IA</a> | <a href=\"http://www.realclearpolitics.com/epolls/2016/president/nv/nevada_trump_vs_clinton_vs_johnson_vs_stein-6086.html\">NV</a> | <a href=\"http://www.realclearpolitics.com/epolls/2016/president/2016_elections_electoral_college_map.html\">Electoral Map</a> | <a href=\"http://www.realclearpolitics.com/epolls/2016/president/2016_elections_electoral_college_map_no_toss_ups.html\">No Toss Ups</a> | <a href=\"http://www.realclearpolitics.com/epolls/latest_polls/\">Latest Polls</a></div><div class=\"mobile_exists\" id=\"under-title\"><a href=\"http://www.realclearpolitics.com/epolls/2016/president/2016_elections_electoral_college_map.html\">Battleground States</a>: <a href=\"http://www.realclearpolitics.com/epolls/2016/president/az/arizona_trump_vs_clinton_vs_johnson_vs_stein-6087.html\">Arizona</a> | <a href=\"http://www.realclearpolitics.com/epolls/2016/president/co/colorado_trump_vs_clinton_vs_johnson_vs_stein-5974.html\">Colorado</a> | <a href=\"http://www.realclearpolitics.com/epolls/2016/president/fl/florida_trump_vs_clinton_vs_johnson_vs_stein-5963.html\">Florida</a> | <a href=\"http://www.realclearpolitics.com/epolls/2016/president/ga/georgia_trump_vs_clinton_vs_johnson-5968.html\">Georgia</a> | <a href=\"http://www.realclearpolitics.com/epolls/2016/president/ia/iowa_trump_vs_clinton_vs_johnson_vs_stein-5981.html\">Iowa</a> | <a href=\"http://www.realclearpolitics.com/epolls/2016/president/mi/michigan_trump_vs_clinton_vs_johnson_vs_stein-6008.html\">Michigan</a> | <a href=\"http://www.realclearpolitics.com/epolls/2016/president/mo/missouri_trump_vs_clinton_vs_johnson_vs_stein-6009.html\">Missouri</a> | <a href=\"http://www.realclearpolitics.com/epolls/2016/president/nh/new_hampshire_trump_vs_clinton_vs_johnson_vs_stein-6022.html\">N.H.</a> | <a href=\"http://www.realclearpolitics.com/epolls/2016/president/nv/nevada_trump_vs_clinton_vs_johnson_vs_stein-6086.html\">Nevada</a> | <a href=\"http://www.realclearpolitics.com/epolls/2016/president/nc/north_carolina_trump_vs_clinton_vs_johnson-5951.html\">N.C.</a> | <a href=\"http://www.realclearpolitics.com/epolls/2016/president/oh/ohio_trump_vs_clinton_vs_johnson_vs_stein-5970.html\">Ohio</a> | <a href=\"http://www.realclearpolitics.com/epolls/2016/president/pa/pennsylvania_trump_vs_clinton_vs_johnson_vs_stein-5964.html\">Pennsylvania</a> | <a href=\"http://www.realclearpolitics.com/epolls/2016/president/va/virginia_trump_vs_clinton_vs_johnson_vs_stein-5966.html\">Virginia</a> | <a href=\"http://www.realclearpolitics.com/epolls/2016/president/wi/wisconsin_trump_vs_clinton_vs_johnson_vs_stein-5976.html\">Wisconsin</a> | <a href=\"http://www.realclearpolitics.com/epolls/2016/president/2016_elections_electoral_college_map.html\">RCP Electoral Map</a> | <a href=\"http://www.realclearpolitics.com/epolls/2016/president/2016_elections_electoral_college_map_no_toss_ups.html\">No Toss Up Map</a> | <a href=\"http://www.realclearpolitics.com/epolls/2016/president/us/general_election_trump_vs_clinton_vs_johnson_vs_stein-5952.html\">RCP National Average</a> | <a href=\"http://www.realclearpolitics.com/epolls/latest_polls/\">Latest Polls</a></div>\n",
       "<div class=\"clearfix\"></div>\n",
       "<a name=\"rcp-avg\"></a><h3 class=\"red-bar-section\">Polling Data</h3><div class=\" polling_dt layout_0\" data-diag=\"0\" id=\"polling-data-rcp\"><table class=\"data large \"><tr class=\"header\"><th class=\"noCenter\">Poll</th><th class=\"date\">Date</th><th class=\"sample\">Sample</th><th class=\"moe\">MoE</th><th class=\"diag\"><div><span>Trump (R)</span></div></th><th class=\"diag\"><div><span>Clinton (D)</span></div></th><th class=\"spread\">Spread</th></tr><tr class=\"rcpAvg\"><td class=\"noCenter\">RCP Average</td><td>8/19 - 9/12</td><td class=\"sample\">--</td><td class=\"moe\">--</td><td>45.1</td><td>44.4</td><td class=\"spread\"><span class=\"rep\">Trump +0.7</span></td></tr><tr class=\" isInRcpAvg\" data-id=\"110179\"><td class=\"noCenter\"><a class=\"normal_pollster_name\" href=\"http://www.cnn.com/2016/09/14/politics/cnn-orc-poll-florida-ohio-donald-trump-hillary-clinton/index.html\">CNN/ORC</a><a class=\"mobile_pollster_name\" href=\"http://www.cnn.com/2016/09/14/politics/cnn-orc-poll-florida-ohio-donald-trump-hillary-clinton/index.html\">CNN/ORC</a></td><td>9/7 - 9/12</td><td class=\"sample\">788 LV</td><td class=\"moe\">3.5</td><td>50</td><td>46</td><td class=\"spread\"><span class=\"rep\">Trump +4</span></td></tr><tr class=\"alt isInRcpAvg\" data-id=\"110093\"><td class=\"noCenter\"><a class=\"normal_pollster_name\" href=\"http://www.realclearpolitics.com/docs/2016/JMC_FL_Sept_2016.pdf\">JMC Analytics*</a><a class=\"mobile_pollster_name\" href=\"http://www.realclearpolitics.com/docs/2016/JMC_FL_Sept_2016.pdf\">JMC Analytics*</a></td><td>9/7 - 9/8</td><td class=\"sample\">781 LV</td><td class=\"moe\">3.5</td><td>46</td><td>42</td><td class=\"spread\"><span class=\"rep\">Trump +4</span></td></tr><tr class=\" isInRcpAvg\" data-id=\"110087\"><td class=\"noCenter\"><a class=\"normal_pollster_name\" href=\"https://www.scribd.com/document/323620143/CBS-News-2016-Battleground-Tracker-Florida-September-11-2016#from_embed\">CBS News/YouGov*</a><a class=\"mobile_pollster_name\" href=\"https://www.scribd.com/document/323620143/CBS-News-2016-Battleground-Tracker-Florida-September-11-2016#from_embed\">CBS News/YouGov*</a></td><td>9/7 - 9/9</td><td class=\"sample\">1193 LV</td><td class=\"moe\">3.5</td><td>42</td><td>44</td><td class=\"spread\"><span class=\"dem\">Clinton +2</span></td></tr><tr class=\"alt isInRcpAvg\" data-id=\"110035\"><td class=\"noCenter\"><a class=\"normal_pollster_name\" href=\"https://www.qu.edu/images/polling/ps/ps09082016_pg92cxm.pdf\">Quinnipiac</a><a class=\"mobile_pollster_name\" href=\"https://www.qu.edu/images/polling/ps/ps09082016_pg92cxm.pdf\">Quinnipiac</a></td><td>8/29 - 9/7</td><td class=\"sample\">761 LV</td><td class=\"moe\">3.6</td><td>47</td><td>47</td><td class=\"spread\"><span style=\"color: ;\">Tie </span></td></tr><tr class=\" isInRcpAvg\" data-id=\"109968\"><td class=\"noCenter\"><a class=\"normal_pollster_name\" href=\"http://www.publicpolicypolling.com/pdf/2015/PPP_Release_FL_90716.pdf\">PPP (D)</a><a class=\"mobile_pollster_name\" href=\"http://www.publicpolicypolling.com/pdf/2015/PPP_Release_FL_90716.pdf\">PPP (D)</a></td><td>9/4 - 9/6</td><td class=\"sample\">744 LV</td><td class=\"moe\">3.6</td><td>46</td><td>47</td><td class=\"spread\"><span class=\"dem\">Clinton +1</span></td></tr><tr class=\"alt isInRcpAvg\" data-id=\"109750\"><td class=\"noCenter\"><a class=\"normal_pollster_name\" href=\"http://www.realclearpolitics.com/docs/2016/Mason_Dixon_FL_Aug_2016.pdf\">Mason-Dixon*</a><a class=\"mobile_pollster_name\" href=\"http://www.realclearpolitics.com/docs/2016/Mason_Dixon_FL_Aug_2016.pdf\">Mason-Dixon*</a></td><td>8/22 - 8/24</td><td class=\"sample\">625 LV</td><td class=\"moe\">4.0</td><td>42</td><td>44</td><td class=\"spread\"><span class=\"dem\">Clinton +2</span></td></tr><tr class=\" isInRcpAvg\" data-id=\"109693\"><td class=\"noCenter\"><a class=\"normal_pollster_name\" href=\"http://www.realclearpolitics.com/docs/2016/FAU_Florida_August.pdf\">Florida Atlantic University*</a><a class=\"mobile_pollster_name\" href=\"http://www.realclearpolitics.com/docs/2016/FAU_Florida_August.pdf\">Florida Atlantic University*</a></td><td>8/19 - 8/22</td><td class=\"sample\">1200 LV</td><td class=\"moe\">2.7</td><td>43</td><td>41</td><td class=\"spread\"><span class=\"rep\">Trump +2</span></td></tr></table><p class=\"foot\"><a href=\"#polls\">All Florida: Trump vs. Clinton Polling Data</a></p></div><a name=\"chart\"></a><div class=\"chart_wrapper\"><div class=\"chart_header\"><div class=\"chart_branding small_legend\"><div class=\"logo\"><img alt=\"RealClearPolitics\" src=\"http://www.realclearpolitics.com/dev/mt-static/images/logo-sub.gif\"/></div><div class=\"title\">RCP Poll Average</div><div class=\"subtitle desktop\">Florida: Trump vs. Clinton</div><div class=\"subtitle mobile\">Florida</div></div><table class=\"chart_legend small_legend\" data-p-type=\"0\"><tbody><tr><td class=\"candidate\"><div class=\"value\"><span style=\"background: #D30015;\">45.1</span></div><div class=\"desc\">Trump (R)<span style=\"color: #D30015;\">+0.7</span></div></td></tr><tr><td class=\"candidate\"><div class=\"value\"><span style=\"background: #3B5998;\">44.4</span></div><div class=\"desc\">Clinton (D)</div></td></tr></tbody></table></div><div class=\"chart_container\">\n",
       "<div class=\"chartdiv\" data-chart-height=\"400\" data-chart-height-mobile=\"340\" data-names=\"0\" data-selected=\"6m\" data-selected-mobile=\"6m\" id=\"chartdiv\" style=\"height:400px;\">\n",
       "<div class=\"candidate_tooltip\" data-cnum=\"0\">--</div><div class=\"candidate_tooltip\" data-cnum=\"1\">--</div><div class=\"date_tooltip\">--</div>\n",
       "<div class=\"spread_tooltip\">--</div>\n",
       "</div>\n",
       "</div>\n",
       "<div id=\"charttools\">\n",
       "<div class=\"from\">From: <input class=\"chart_datepicker\" id=\"from_date\"/></div>\n",
       "<div class=\"to\">to: <input class=\"chart_datepicker\" id=\"to_date\"/></div>\n",
       "<input class=\"race_charts_button\" id=\"chart_apply\" type=\"button\" value=\"Apply\"><!--\n",
       "--><div class=\"zoom\"><input class=\"race_charts_button rcb_none\" id=\"chart_7d\" type=\"button\" value=\"7D\"><input class=\"race_charts_button rcb_none rcb_normal rcb_mobile\" id=\"chart_14d\" type=\"button\" value=\"14D\"><input class=\"race_charts_button rcb_none rcb_normal rcb_mobile\" id=\"chart_30d\" type=\"button\" value=\"30D\"><input class=\"race_charts_button rcb_none rcb_normal rcb_mobile\" id=\"chart_3m\" type=\"button\" value=\"3M\"><input class=\"race_charts_button rcb_none rcb_normal rcb_mobile\" id=\"chart_6m\" type=\"button\" value=\"6M\"><input class=\"race_charts_button rcb_none\" id=\"chart_1y\" type=\"button\" value=\"1Y\"><input class=\"race_charts_button rcb_none\" id=\"chart_2y\" type=\"button\" value=\"2Y\"><input class=\"race_charts_button rcb_none rcb_normal rcb_mobile\" id=\"chart_max\" type=\"button\" value=\"MAX\"><input class=\"race_charts_button\" id=\"chart_reset\" type=\"button\" value=\"Reset\"/></input></input></input></input></input></input></input></input></div>\n",
       "</input></div>\n",
       "<table border=\"0\" cellpadding=\"0\" cellspacing=\"0\" class=\"embed\"><tr><td><a href=\"http://www.realclearpolitics.com\"><img src=\"/asset/img/logo/realclearpolitics_logo_word_only_124.png\"/></a></td><td align=\"right\"><img src=\"/images/blank.png\"/></td></tr></table></div><div class=\"RC-AD RC-AD-BOX-TOP\"></div><div class=\"clear\"></div>\n",
       "<script src=\"/3rd_party/bjqs/bjqs-1.3.min.js\"></script>\n",
       "<div id=\"chart_slider_holder\">\n",
       "<div class=\"y_2016\" id=\"chart_slider\">\n",
       "<ul class=\"bjqs\">\n",
       "<li><script src=\"/epolls/2016/widget/29_scorecard_v2.js?nocache=1473944023\" type=\"text/javascript\"></script></li> </ul>\n",
       "</div>\n",
       "<script type=\"text/javascript\">\n",
       "\n",
       "  $(\"#chart_slider\").bjqs({\n",
       "    \"width\" : 280,\n",
       "    \"height\" : 248,\n",
       "    \"automatic\" : false,\n",
       "    \"nexttext\" : \">\",\n",
       "    \"prevtext\" : \"<\",\n",
       "    \"showmarkers\" : false\n",
       "  });\n",
       "  </script>\n",
       "<div class=\"RC-AD RC-AD-BOX-MIDDLE\" style=\"display:inline-block;\"></div>\n",
       "</div>\n",
       "<div class=\"clear\"></div><h3 class=\"red-bar-section\">Polling Data</h3><div class=\" polling_dt layout_0\" data-diag=\"0\" id=\"polling-data-full\"><a name=\"polls\"></a><table class=\"data large \"><tr class=\"header\"><th class=\"noCenter\">Poll</th><th class=\"date\">Date</th><th class=\"sample\">Sample</th><th class=\"moe\">MoE</th><th class=\"diag\"><div><span>Trump (R)</span></div></th><th class=\"diag\"><div><span>Clinton (D)</span></div></th><th class=\"spread\">Spread</th></tr><tr class=\"rcpAvg\"><td class=\"noCenter\">RCP Average</td><td>8/19 - 9/12</td><td class=\"sample\">--</td><td class=\"moe\">--</td><td>45.1</td><td>44.4</td><td class=\"spread\"><span class=\"rep\">Trump +0.7</span></td></tr><tr class=\" isInRcpAvg\" data-id=\"110179\"><td class=\"noCenter\"><a class=\"normal_pollster_name\" href=\"http://www.cnn.com/2016/09/14/politics/cnn-orc-poll-florida-ohio-donald-trump-hillary-clinton/index.html\">CNN/ORC</a><a class=\"mobile_pollster_name\" href=\"http://www.cnn.com/2016/09/14/politics/cnn-orc-poll-florida-ohio-donald-trump-hillary-clinton/index.html\">CNN/ORC</a></td><td>9/7 - 9/12</td><td class=\"sample\">788 LV</td><td class=\"moe\">3.5</td><td>50</td><td>46</td><td class=\"spread\"><span class=\"rep\">Trump +4</span></td></tr><tr class=\"alt isInRcpAvg\" data-id=\"110093\"><td class=\"noCenter\"><a class=\"normal_pollster_name\" href=\"http://www.realclearpolitics.com/docs/2016/JMC_FL_Sept_2016.pdf\">JMC Analytics*</a><a class=\"mobile_pollster_name\" href=\"http://www.realclearpolitics.com/docs/2016/JMC_FL_Sept_2016.pdf\">JMC Analytics*</a></td><td>9/7 - 9/8</td><td class=\"sample\">781 LV</td><td class=\"moe\">3.5</td><td>46</td><td>42</td><td class=\"spread\"><span class=\"rep\">Trump +4</span></td></tr><tr class=\" isInRcpAvg\" data-id=\"110087\"><td class=\"noCenter\"><a class=\"normal_pollster_name\" href=\"https://www.scribd.com/document/323620143/CBS-News-2016-Battleground-Tracker-Florida-September-11-2016#from_embed\">CBS News/YouGov*</a><a class=\"mobile_pollster_name\" href=\"https://www.scribd.com/document/323620143/CBS-News-2016-Battleground-Tracker-Florida-September-11-2016#from_embed\">CBS News/YouGov*</a></td><td>9/7 - 9/9</td><td class=\"sample\">1193 LV</td><td class=\"moe\">3.5</td><td>42</td><td>44</td><td class=\"spread\"><span class=\"dem\">Clinton +2</span></td></tr><tr class=\"alt isInRcpAvg\" data-id=\"110035\"><td class=\"noCenter\"><a class=\"normal_pollster_name\" href=\"https://www.qu.edu/images/polling/ps/ps09082016_pg92cxm.pdf\">Quinnipiac</a><a class=\"mobile_pollster_name\" href=\"https://www.qu.edu/images/polling/ps/ps09082016_pg92cxm.pdf\">Quinnipiac</a></td><td>8/29 - 9/7</td><td class=\"sample\">761 LV</td><td class=\"moe\">3.6</td><td>47</td><td>47</td><td class=\"spread\"><span style=\"color: ;\">Tie </span></td></tr><tr class=\" isInRcpAvg\" data-id=\"109968\"><td class=\"noCenter\"><a class=\"normal_pollster_name\" href=\"http://www.publicpolicypolling.com/pdf/2015/PPP_Release_FL_90716.pdf\">PPP (D)</a><a class=\"mobile_pollster_name\" href=\"http://www.publicpolicypolling.com/pdf/2015/PPP_Release_FL_90716.pdf\">PPP (D)</a></td><td>9/4 - 9/6</td><td class=\"sample\">744 LV</td><td class=\"moe\">3.6</td><td>46</td><td>47</td><td class=\"spread\"><span class=\"dem\">Clinton +1</span></td></tr><tr class=\"alt isInRcpAvg\" data-id=\"109750\"><td class=\"noCenter\"><a class=\"normal_pollster_name\" href=\"http://www.realclearpolitics.com/docs/2016/Mason_Dixon_FL_Aug_2016.pdf\">Mason-Dixon*</a><a class=\"mobile_pollster_name\" href=\"http://www.realclearpolitics.com/docs/2016/Mason_Dixon_FL_Aug_2016.pdf\">Mason-Dixon*</a></td><td>8/22 - 8/24</td><td class=\"sample\">625 LV</td><td class=\"moe\">4.0</td><td>42</td><td>44</td><td class=\"spread\"><span class=\"dem\">Clinton +2</span></td></tr><tr class=\" isInRcpAvg\" data-id=\"109693\"><td class=\"noCenter\"><a class=\"normal_pollster_name\" href=\"http://www.realclearpolitics.com/docs/2016/FAU_Florida_August.pdf\">Florida Atlantic University*</a><a class=\"mobile_pollster_name\" href=\"http://www.realclearpolitics.com/docs/2016/FAU_Florida_August.pdf\">Florida Atlantic University*</a></td><td>8/19 - 8/22</td><td class=\"sample\">1200 LV</td><td class=\"moe\">2.7</td><td>43</td><td>41</td><td class=\"spread\"><span class=\"rep\">Trump +2</span></td></tr><tr class=\"alt\" data-id=\"109763\"><td class=\"noCenter\"><a class=\"normal_pollster_name\" href=\"http://www.flchamber.com/politicians-parties-and-plaintiff-trial-lawyers-are-unknown-or-unliked-in-new-florida-chamber-of-commerce-statewide-poll/\">FL Chamber</a><a class=\"mobile_pollster_name\" href=\"http://www.flchamber.com/politicians-parties-and-plaintiff-trial-lawyers-are-unknown-or-unliked-in-new-florida-chamber-of-commerce-statewide-poll/\">FL Chamber</a></td><td>8/17 - 8/22</td><td class=\"sample\">608 LV</td><td class=\"moe\">4.0</td><td>44</td><td>43</td><td class=\"spread\"><span class=\"rep\">Trump +1</span></td></tr><tr class=\"\" data-id=\"109564\"><td class=\"noCenter\"><a class=\"normal_pollster_name\" href=\"http://www.monmouth.edu/polling-institute/reports/MonmouthPoll_FL_081616.asp\">Monmouth*</a><a class=\"mobile_pollster_name\" href=\"http://www.monmouth.edu/polling-institute/reports/MonmouthPoll_FL_081616.asp\">Monmouth*</a></td><td>8/12 - 8/15</td><td class=\"sample\">402 LV</td><td class=\"moe\">4.9</td><td>39</td><td>48</td><td class=\"spread\"><span class=\"dem\">Clinton +9</span></td></tr><tr class=\"alt\" data-id=\"109517\"><td class=\"noCenter\"><a class=\"normal_pollster_name\" href=\"https://www.scribd.com/document/321143622/CBS-News-2016-Battleground-Tracker-Florida-August-14-2016#from_embed\">CBS News/YouGov*</a><a class=\"mobile_pollster_name\" href=\"https://www.scribd.com/document/321143622/CBS-News-2016-Battleground-Tracker-Florida-August-14-2016#from_embed\">CBS News/YouGov*</a></td><td>8/10 - 8/12</td><td class=\"sample\">1194 LV</td><td class=\"moe\">3.6</td><td>40</td><td>45</td><td class=\"spread\"><span class=\"dem\">Clinton +5</span></td></tr><tr class=\"\" data-id=\"109479\"><td class=\"noCenter\"><a class=\"normal_pollster_name\" href=\"http://opinionsavvy.com/wp-content/uploads/2016/08/OS-FL-General-8.11.16.pdf\">FOX 13/Opinion Savvy*</a><a class=\"mobile_pollster_name\" href=\"http://opinionsavvy.com/wp-content/uploads/2016/08/OS-FL-General-8.11.16.pdf\">FOX 13/Opinion Savvy*</a></td><td>8/10 - 8/10</td><td class=\"sample\">622 LV</td><td class=\"moe\">4.0</td><td>44</td><td>45</td><td class=\"spread\"><span class=\"dem\">Clinton +1</span></td></tr><tr class=\"alt\" data-id=\"109496\"><td class=\"noCenter\"><a class=\"normal_pollster_name\" href=\"http://www.nbcnews.com/politics/2016-election/polls-clinton-running-table-key-battlegrounds-n629136\">NBC/WSJ/Marist</a><a class=\"mobile_pollster_name\" href=\"http://www.nbcnews.com/politics/2016-election/polls-clinton-running-table-key-battlegrounds-n629136\">NBC/WSJ/Marist</a></td><td>8/4 - 8/10</td><td class=\"sample\">862 RV</td><td class=\"moe\">3.3</td><td>39</td><td>44</td><td class=\"spread\"><span class=\"dem\">Clinton +5</span></td></tr><tr class=\"\" data-id=\"109374\"><td class=\"noCenter\"><a class=\"normal_pollster_name\" href=\"http://www.realclearpolitics.com/docs/2016/081016_SWING_PRES_+_BP.pdf\">Quinnipiac</a><a class=\"mobile_pollster_name\" href=\"http://www.realclearpolitics.com/docs/2016/081016_SWING_PRES_+_BP.pdf\">Quinnipiac</a></td><td>7/30 - 8/7</td><td class=\"sample\">1056 LV</td><td class=\"moe\">3.0</td><td>45</td><td>46</td><td class=\"spread\"><span class=\"dem\">Clinton +1</span></td></tr><tr class=\"alt\" data-id=\"109268\"><td class=\"noCenter\"><a class=\"normal_pollster_name\" href=\"http://www.suffolk.edu/academics/1094.php\">Suffolk University</a><a class=\"mobile_pollster_name\" href=\"http://www.suffolk.edu/academics/1094.php\">Suffolk University</a></td><td>8/1 - 8/3</td><td class=\"sample\">500 LV</td><td class=\"moe\">4.4</td><td>42</td><td>48</td><td class=\"spread\"><span class=\"dem\">Clinton +6</span></td></tr><tr class=\"\" data-id=\"108837\"><td class=\"noCenter\"><a class=\"normal_pollster_name\" href=\"http://www.realclearpolitics.com/docs/2016/JMC_Analytics_FL_July_2016.pdf\">JMC Analytics*</a><a class=\"mobile_pollster_name\" href=\"http://www.realclearpolitics.com/docs/2016/JMC_Analytics_FL_July_2016.pdf\">JMC Analytics*</a></td><td>7/9 - 7/10</td><td class=\"sample\">700 LV</td><td class=\"moe\">3.7</td><td>47</td><td>42</td><td class=\"spread\"><span class=\"rep\">Trump +5</span></td></tr><tr class=\"alt\" data-id=\"108933\"><td class=\"noCenter\"><a class=\"normal_pollster_name\" href=\"http://www.nbcnews.com/politics/2016-election/clinton-leads-trump-diverse-battleground-states-new-polls-n609551\">NBC/WSJ/Marist</a><a class=\"mobile_pollster_name\" href=\"http://www.nbcnews.com/politics/2016-election/clinton-leads-trump-diverse-battleground-states-new-polls-n609551\">NBC/WSJ/Marist</a></td><td>7/5 - 7/11</td><td class=\"sample\">871 RV</td><td class=\"moe\">3.3</td><td>37</td><td>44</td><td class=\"spread\"><span class=\"dem\">Clinton +7</span></td></tr><tr class=\"\" data-id=\"108848\"><td class=\"noCenter\"><a class=\"normal_pollster_name\" href=\"http://www.qu.edu/news-and-events/quinnipiac-university-poll/2016-presidential-swing-state-polls/release-detail?ReleaseID=2365\">Quinnipiac</a><a class=\"mobile_pollster_name\" href=\"http://www.qu.edu/news-and-events/quinnipiac-university-poll/2016-presidential-swing-state-polls/release-detail?ReleaseID=2365\">Quinnipiac</a></td><td>6/30 - 7/11</td><td class=\"sample\">1015 RV</td><td class=\"moe\">3.1</td><td>42</td><td>39</td><td class=\"spread\"><span class=\"rep\">Trump +3</span></td></tr><tr class=\"alt\" data-id=\"108770\"><td class=\"noCenter\"><a class=\"normal_pollster_name\" href=\"http://www.realclearpolitics.com/docs/2016/Gravis_Florida_June_27_to_28_2016.pdf\">Gravis*</a><a class=\"mobile_pollster_name\" href=\"http://www.realclearpolitics.com/docs/2016/Gravis_Florida_June_27_to_28_2016.pdf\">Gravis*</a></td><td>6/27 - 6/28</td><td class=\"sample\">1619 RV</td><td class=\"moe\">2.4</td><td>49</td><td>49</td><td class=\"spread\"><span style=\"color: ;\">Tie </span></td></tr><tr class=\"\" data-id=\"108769\"><td class=\"noCenter\"><a class=\"normal_pollster_name\" href=\"http://www.baynews9.com/content/news/baynews9/news/article.html/content/news/articles/cfn/2016/6/29/florida_decides_polls_presidential_race.html\">Bay News 9/SurveyUSA*</a><a class=\"mobile_pollster_name\" href=\"http://www.baynews9.com/content/news/baynews9/news/article.html/content/news/articles/cfn/2016/6/29/florida_decides_polls_presidential_race.html\">Bay News 9/SurveyUSA*</a></td><td>6/25 - 6/27</td><td class=\"sample\">1678 LV</td><td class=\"moe\">2.4</td><td>42</td><td>46</td><td class=\"spread\"><span class=\"dem\">Clinton +4</span></td></tr><tr class=\"alt\" data-id=\"108649\"><td class=\"noCenter\"><a class=\"normal_pollster_name\" href=\"https://www.scribd.com/doc/316764858/CBS-News-2016-Battleground-Tracker-Florida-June-2016\">CBS News/YouGov</a><a class=\"mobile_pollster_name\" href=\"https://www.scribd.com/doc/316764858/CBS-News-2016-Battleground-Tracker-Florida-June-2016\">CBS News/YouGov</a></td><td>6/21 - 6/24</td><td class=\"sample\">1192 LV</td><td class=\"moe\">3.6</td><td>41</td><td>44</td><td class=\"spread\"><span class=\"dem\">Clinton +3</span></td></tr><tr class=\"\" data-id=\"108563\"><td class=\"noCenter\"><a class=\"normal_pollster_name\" href=\"https://www.qu.edu/images/polling/ps/ps06212016_Sfw34kbm.pdf\">Quinnipiac</a><a class=\"mobile_pollster_name\" href=\"https://www.qu.edu/images/polling/ps/ps06212016_Sfw34kbm.pdf\">Quinnipiac</a></td><td>6/8 - 6/19</td><td class=\"sample\">975 RV</td><td class=\"moe\">3.1</td><td>39</td><td>47</td><td class=\"spread\"><span class=\"dem\">Clinton +8</span></td></tr><tr class=\"alt\" data-id=\"108451\"><td class=\"noCenter\"><a class=\"normal_pollster_name\" href=\"http://www.publicpolicypolling.com/pdf/PPP_Release_FL_607161.pdf\">PPP (D)</a><a class=\"mobile_pollster_name\" href=\"http://www.publicpolicypolling.com/pdf/PPP_Release_FL_607161.pdf\">PPP (D)</a></td><td>6/2 - 6/5</td><td class=\"sample\">737 RV</td><td class=\"moe\">3.6</td><td>45</td><td>44</td><td class=\"spread\"><span class=\"rep\">Trump +1</span></td></tr><tr class=\"\" data-id=\"108408\"><td class=\"noCenter\"><a class=\"normal_pollster_name\" href=\"http://www.realclearpolitics.com/docs/2016/Mason_Dixon_FL_June_2016.pdf\">Mason-Dixon*</a><a class=\"mobile_pollster_name\" href=\"http://www.realclearpolitics.com/docs/2016/Mason_Dixon_FL_June_2016.pdf\">Mason-Dixon*</a></td><td>5/31 - 6/2</td><td class=\"sample\">625 LV</td><td class=\"moe\">4.0</td><td>42</td><td>45</td><td class=\"spread\"><span class=\"dem\">Clinton +3</span></td></tr><tr class=\"alt\" data-id=\"108297\"><td class=\"noCenter\"><a class=\"normal_pollster_name\" href=\"http://gravismarketing.com/polling-and-market-research/florida-general-election-poll-marijuana-and-trans-bathroom/\">Gravis</a><a class=\"mobile_pollster_name\" href=\"http://gravismarketing.com/polling-and-market-research/florida-general-election-poll-marijuana-and-trans-bathroom/\">Gravis</a></td><td>5/17 - 5/18</td><td class=\"sample\">2542 RV</td><td class=\"moe\">2.0</td><td>42</td><td>46</td><td class=\"spread\"><span class=\"dem\">Clinton +4</span></td></tr><tr class=\"\" data-id=\"108293\"><td class=\"noCenter\"><a class=\"normal_pollster_name\" href=\"https://www.scribd.com/doc/313450291/CBS-News-2016-Battleground-Tracker-Florida-May-22\">CBS News/YouGov</a><a class=\"mobile_pollster_name\" href=\"https://www.scribd.com/doc/313450291/CBS-News-2016-Battleground-Tracker-Florida-May-22\">CBS News/YouGov</a></td><td>5/16 - 5/19</td><td class=\"sample\">995 LV</td><td class=\"moe\">4.0</td><td>42</td><td>43</td><td class=\"spread\"><span class=\"dem\">Clinton +1</span></td></tr><tr class=\"alt\" data-id=\"108152\"><td class=\"noCenter\"><a class=\"normal_pollster_name\" href=\"https://www.qu.edu/images/polling/ps/ps05102016_Sw4b42d.pdf\">Quinnipiac</a><a class=\"mobile_pollster_name\" href=\"https://www.qu.edu/images/polling/ps/ps05102016_Sw4b42d.pdf\">Quinnipiac</a></td><td>4/27 - 5/8</td><td class=\"sample\">1051 RV</td><td class=\"moe\">3.0</td><td>42</td><td>43</td><td class=\"spread\"><span class=\"dem\">Clinton +1</span></td></tr><tr class=\"\" data-id=\"108064\"><td class=\"noCenter\"><a class=\"normal_pollster_name\" href=\"http://www.realclearpolitics.com/docs/2016/AIF_April_2016.pdf\">AIF (R)**</a><a class=\"mobile_pollster_name\" href=\"http://www.realclearpolitics.com/docs/2016/AIF_April_2016.pdf\">AIF (R)**</a></td><td>4/25 - 4/27</td><td class=\"sample\">604 LV</td><td class=\"moe\">5.0</td><td>36</td><td>49</td><td class=\"spread\"><span class=\"dem\">Clinton +13</span></td></tr><tr class=\"alt\" data-id=\"107294\"><td class=\"noCenter\"><a class=\"normal_pollster_name\" href=\"http://maristpoll.marist.edu/313-trump-ahead-in-fl-il-kasich-up-in-oh-clinton-ahead-in-fl-il-and-oh/\">NBC/WSJ/Marist</a><a class=\"mobile_pollster_name\" href=\"http://maristpoll.marist.edu/313-trump-ahead-in-fl-il-kasich-up-in-oh-clinton-ahead-in-fl-il-and-oh/\">NBC/WSJ/Marist</a></td><td>3/4 - 3/10</td><td class=\"sample\">2422 RV</td><td class=\"moe\">2.0</td><td>41</td><td>49</td><td class=\"spread\"><span class=\"dem\">Clinton +8</span></td></tr><tr class=\"\" data-id=\"107125\"><td class=\"noCenter\"><a class=\"normal_pollster_name\" href=\"http://www.mynews13.com/content/news/cfnews13/news/article.html/content/news/articles/bn9/2016/3/7/exclusive_political__0.html#results\">News 13/SurveyUSA</a><a class=\"mobile_pollster_name\" href=\"http://www.mynews13.com/content/news/cfnews13/news/article.html/content/news/articles/bn9/2016/3/7/exclusive_political__0.html#results\">News 13/SurveyUSA</a></td><td>3/4 - 3/6</td><td class=\"sample\">1961 LV</td><td class=\"moe\">2.3</td><td>45</td><td>44</td><td class=\"spread\"><span class=\"rep\">Trump +1</span></td></tr><tr class=\"alt\" data-id=\"107189\"><td class=\"noCenter\"><a class=\"normal_pollster_name\" href=\"http://i2.cdn.turner.com/cnn/2016/images/03/09/relfl1florida.pdf\">CNN/ORC</a><a class=\"mobile_pollster_name\" href=\"http://i2.cdn.turner.com/cnn/2016/images/03/09/relfl1florida.pdf\">CNN/ORC</a></td><td>3/2 - 3/6</td><td class=\"sample\">854 RV</td><td class=\"moe\">3.5</td><td>43</td><td>50</td><td class=\"spread\"><span class=\"dem\">Clinton +7</span></td></tr><tr class=\"\" data-id=\"106967\"><td class=\"noCenter\"><a class=\"normal_pollster_name\" href=\"http://www.publicpolicypolling.com/pdf/2015/PPP_Release_FL_22516.pdf\">PPP (D)</a><a class=\"mobile_pollster_name\" href=\"http://www.publicpolicypolling.com/pdf/2015/PPP_Release_FL_22516.pdf\">PPP (D)</a></td><td>2/24 - 2/25</td><td class=\"sample\">1012 RV</td><td class=\"moe\">3.1</td><td>46</td><td>44</td><td class=\"spread\"><span class=\"rep\">Trump +2</span></td></tr><tr class=\"alt\" data-id=\"106346\"><td class=\"noCenter\"><a class=\"normal_pollster_name\" href=\"http://business.fau.edu/departments/economics/business-economics-polling/bepi-polls/index.aspx#.Vp-0ROjyuUl\">Florida Atlantic University</a><a class=\"mobile_pollster_name\" href=\"http://business.fau.edu/departments/economics/business-economics-polling/bepi-polls/index.aspx#.Vp-0ROjyuUl\">Florida Atlantic University</a></td><td>1/15 - 1/18</td><td class=\"sample\">1008 RV</td><td class=\"moe\">3.0</td><td>47</td><td>44</td><td class=\"spread\"><span class=\"rep\">Trump +3</span></td></tr><tr class=\"\" data-id=\"105697\"><td class=\"noCenter\"><a class=\"normal_pollster_name\" href=\"http://business.fau.edu/departments/economics/business-economics-polling/bepi-polls/index.aspx#.VkyddlVJZhE\">Florida Atlantic University</a><a class=\"mobile_pollster_name\" href=\"http://business.fau.edu/departments/economics/business-economics-polling/bepi-polls/index.aspx#.VkyddlVJZhE\">Florida Atlantic University</a></td><td>11/15 - 11/16</td><td class=\"sample\">829 RV</td><td class=\"moe\">3.3</td><td>49</td><td>41</td><td class=\"spread\"><span class=\"rep\">Trump +8</span></td></tr><tr class=\"alt\" data-id=\"105529\"><td class=\"noCenter\"><a class=\"normal_pollster_name\" href=\"http://www.baynews9.com/content/news/baynews9/news/article.html/content/news/articles/cfn/2015/11/3/florida_decides_poll_2016_election.html#results\">News 13/SurveyUSA</a><a class=\"mobile_pollster_name\" href=\"http://www.baynews9.com/content/news/baynews9/news/article.html/content/news/articles/cfn/2015/11/3/florida_decides_poll_2016_election.html#results\">News 13/SurveyUSA</a></td><td>10/28 - 11/1</td><td class=\"sample\">2400 LV</td><td class=\"moe\">2.0</td><td>47</td><td>43</td><td class=\"spread\"><span class=\"rep\">Trump +4</span></td></tr><tr class=\"\" data-id=\"105045\"><td class=\"noCenter\"><a class=\"normal_pollster_name\" href=\"http://www.quinnipiac.edu/images/polling/ps/ps10072015_S73fgbv.pdf\">Quinnipiac</a><a class=\"mobile_pollster_name\" href=\"http://www.quinnipiac.edu/images/polling/ps/ps10072015_S73fgbv.pdf\">Quinnipiac</a></td><td>9/25 - 10/5</td><td class=\"sample\">1173 RV</td><td class=\"moe\">2.9</td><td>41</td><td>46</td><td class=\"spread\"><span class=\"dem\">Clinton +5</span></td></tr><tr class=\"alt\" data-id=\"104975\"><td class=\"noCenter\"><a class=\"normal_pollster_name\" href=\"http://www.flchamber.com/\">FL Chamber</a><a class=\"mobile_pollster_name\" href=\"http://www.flchamber.com/\">FL Chamber</a></td><td>9/16 - 9/20</td><td class=\"sample\">605 LV</td><td class=\"moe\">4.0</td><td>41</td><td>42</td><td class=\"spread\"><span class=\"dem\">Clinton +1</span></td></tr><tr class=\"\" data-id=\"104753\"><td class=\"noCenter\"><a class=\"normal_pollster_name\" href=\"http://www.publicpolicypolling.com/pdf/2015/PPP_Release_FL_91515.pdf\">PPP (D)</a><a class=\"mobile_pollster_name\" href=\"http://www.publicpolicypolling.com/pdf/2015/PPP_Release_FL_91515.pdf\">PPP (D)</a></td><td>9/11 - 9/13</td><td class=\"sample\">814 RV</td><td class=\"moe\">3.4</td><td>48</td><td>42</td><td class=\"spread\"><span class=\"rep\">Trump +6</span></td></tr><tr class=\"alt\" data-id=\"104383\"><td class=\"noCenter\"><a class=\"normal_pollster_name\" href=\"http://www.quinnipiac.edu/images/polling/ps/ps08202015_Sdeg82k.pdf\">Quinnipiac</a><a class=\"mobile_pollster_name\" href=\"http://www.quinnipiac.edu/images/polling/ps/ps08202015_Sdeg82k.pdf\">Quinnipiac</a></td><td>8/7 - 8/18</td><td class=\"sample\">1093 RV</td><td class=\"moe\">3.0</td><td>43</td><td>41</td><td class=\"spread\"><span class=\"rep\">Trump +2</span></td></tr></table></div> <div class=\"RC-AD RC-AD-BOTTOM-BANNER\"></div>\n",
       "<div class=\"RC-AD RC-AD-BOX-BOTTOM\"></div>\n",
       "</div><!-- end alpha div -->\n",
       "</div><!-- end alpha-container div -->\n",
       "<div class=\"beta-container \">\n",
       "<div class=\"beta\">\n",
       "<div class=\"widget_slot init\"></div>\n",
       "<div class=\"widget_slot\" style=\"margin-bottom:20px;\">\n",
       "<div class=\"rec-widget-header\">\n",
       "<div class=\"rec-title\" style=\"color:#fff\">Partner Videos</div>\n",
       "</div>\n",
       "<div class=\"rec-link-body\">\n",
       "<div class=\"ndn_embed\" data-config-tracking-group=\"12672\" data-config-type=\"VideoLauncher/Slider300x250\" data-config-widget-id=\"17779\"></div>\n",
       "</div>\n",
       "</div>\n",
       "<div class=\"RC-AD RC-AD-BOX-TOP\"></div>\n",
       "<div class=\"widget_slot init\"></div>\n",
       "<div class=\"RC-AD RC-AD-BOX-BOTTOM\"></div>\n",
       "<div class=\"widget_slot init\"></div>\n",
       "<div class=\"RC-AD RC-AD-BOX-BOTTOM-600\"></div>\n",
       "</div>\n",
       "</div><!-- end beta div -->\n",
       "</div><!-- end container div --><div class=\"footer-wrapper\">\n",
       "<div class=\"footer\">\n",
       "<div class=\"footer-logo\">\n",
       "<span class=\"site-tab\"></span>\n",
       "<img src=\"/asset/img/rcp-logo-footer.png\"/>\n",
       "</div>\n",
       "<div class=\"footer-social\">\n",
       "<div class=\"socialBar\" data-dialog=\"share\" data-style=\"site\"><div class=\"left toolset\"></div></div>\n",
       "</div>\n",
       "<div class=\"clear\"></div>\n",
       "<div class=\"footer-links\">\n",
       "<script src=\"/include/footer_links.js\" type=\"text/javascript\"></script>\n",
       "</div>\n",
       "<div class=\"footer-info\">\n",
       "<div class=\"info-links\">\n",
       "<script src=\"/include/footer_info_links.js\" type=\"text/javascript\"></script>\n",
       "</div>\n",
       "</div>\n",
       "<div class=\"mobile-footer\">\n",
       "<div class=\"mobile-copyright\">©2016 RealClearPolitics | <a class=\"view-desktop\" onclick=\"loadDesktop();\">Go to full site</a></div>\n",
       "</div>\n",
       "</div>\n",
       "</div>\n",
       "<script src=\"/include/internal.js?v=1\" type=\"text/javascript\"></script>\n",
       "<script src=\"/include/footer_includes_before_body.js?v=1\" type=\"text/javascript\"></script>\n",
       "<script>var isAdBlockActive = true;</script>\n",
       "<script src=\"/scripts/ads.js\"></script> <!--adblocker will not allow this file to run -->\n",
       "<script type=\"text/javascript\"> \n",
       "if (isAdBlockActive) { \n",
       "  console.log(\"The visitor is blocking ads\");  \n",
       "  checkIfAnalyticsLoaded();\n",
       "}  \n",
       "\n",
       "function checkIfAnalyticsLoaded() {\n",
       "  if (window._gat && window._gat._getTracker) {\n",
       "        console.log(\"GA loaded\");  \n",
       "        //Wrap event tracking call to prevent premature termination of this function.\n",
       "        try{\n",
       "            var cur_body_class = document.body.getAttribute('class').split(/\\s+/); \n",
       "            _gaq.push(['_trackEvent', 'AdBlocker', 'adblocker-blocked', 'section: '+cur_body_class[0]]);\n",
       "            //console.log('trackevent: '+data['ge_category']+' '+data['ge_action']+' '+data['ge_label']);\n",
       "        } catch(err) {}\n",
       "\n",
       "  } else {\n",
       "    //check in 500 ms\n",
       "    setTimeout('checkIfAnalyticsLoaded()', 500);\n",
       "  }\n",
       "}\n",
       "</script>\n",
       "</body>\n",
       "</html>"
      ]
     },
     "execution_count": 6,
     "metadata": {},
     "output_type": "execute_result"
    }
   ],
   "source": [
    "soup"
   ]
  },
  {
   "cell_type": "code",
   "execution_count": 7,
   "metadata": {
    "collapsed": false
   },
   "outputs": [],
   "source": [
    "tr = soup.find(id = \"polling-data-full\").find_all('tr')"
   ]
  },
  {
   "cell_type": "code",
   "execution_count": 32,
   "metadata": {
    "collapsed": false
   },
   "outputs": [
    {
     "name": "stdout",
     "output_type": "stream",
     "text": [
      "<tr class=\" isInRcpAvg\" data-id=\"110179\"><td class=\"noCenter\"><a class=\"normal_pollster_name\" href=\"http://www.cnn.com/2016/09/14/politics/cnn-orc-poll-florida-ohio-donald-trump-hillary-clinton/index.html\">CNN/ORC</a><a class=\"mobile_pollster_name\" href=\"http://www.cnn.com/2016/09/14/politics/cnn-orc-poll-florida-ohio-donald-trump-hillary-clinton/index.html\">CNN/ORC</a></td><td>9/7 - 9/12</td><td class=\"sample\">788 LV</td><td class=\"moe\">3.5</td><td>50</td><td>46</td><td class=\"spread\"><span class=\"rep\">Trump +4</span></td></tr>\n"
     ]
    }
   ],
   "source": [
    "print(tr[2])"
   ]
  },
  {
   "cell_type": "code",
   "execution_count": 9,
   "metadata": {
    "collapsed": false
   },
   "outputs": [
    {
     "name": "stdout",
     "output_type": "stream",
     "text": [
      "<tr class=\"alt isInRcpAvg\" data-id=\"109750\"><td class=\"noCenter\"><a class=\"normal_pollster_name\" href=\"http://www.realclearpolitics.com/docs/2016/Mason_Dixon_FL_Aug_2016.pdf\">Mason-Dixon*</a><a class=\"mobile_pollster_name\" href=\"http://www.realclearpolitics.com/docs/2016/Mason_Dixon_FL_Aug_2016.pdf\">Mason-Dixon*</a></td><td>8/22 - 8/24</td><td class=\"sample\">625 LV</td><td class=\"moe\">4.0</td><td>42</td><td>44</td><td class=\"spread\"><span class=\"dem\">Clinton +2</span></td></tr>\n"
     ]
    }
   ],
   "source": [
    "print(tr[7])"
   ]
  },
  {
   "cell_type": "code",
   "execution_count": 12,
   "metadata": {
    "collapsed": false
   },
   "outputs": [
    {
     "data": {
      "text/plain": [
       "'News 13/SurveyUSA'"
      ]
     },
     "execution_count": 12,
     "metadata": {},
     "output_type": "execute_result"
    }
   ],
   "source": [
    "tr[35].a.get_text()"
   ]
  },
  {
   "cell_type": "code",
   "execution_count": 35,
   "metadata": {
    "collapsed": false
   },
   "outputs": [
    {
     "name": "stdout",
     "output_type": "stream",
     "text": [
      "CNN/ORC\n",
      "CNN/ORCCNN/ORC\n",
      "JMC Analytics*\n",
      "JMC Analytics*JMC Analytics*\n",
      "CBS News/YouGov*\n",
      "CBS News/YouGov*CBS News/YouGov*\n",
      "Quinnipiac\n",
      "QuinnipiacQuinnipiac\n",
      "PPP (D)\n",
      "PPP (D)PPP (D)\n",
      "Mason-Dixon*\n",
      "Mason-Dixon*Mason-Dixon*\n",
      "Florida Atlantic University*\n",
      "Florida Atlantic University*Florida Atlantic University*\n",
      "FL Chamber\n",
      "FL ChamberFL Chamber\n",
      "Monmouth*\n",
      "Monmouth*Monmouth*\n",
      "CBS News/YouGov*\n",
      "CBS News/YouGov*CBS News/YouGov*\n",
      "FOX 13/Opinion Savvy*\n",
      "FOX 13/Opinion Savvy*FOX 13/Opinion Savvy*\n",
      "NBC/WSJ/Marist\n",
      "NBC/WSJ/MaristNBC/WSJ/Marist\n",
      "Quinnipiac\n",
      "QuinnipiacQuinnipiac\n",
      "Suffolk University\n",
      "Suffolk UniversitySuffolk University\n",
      "JMC Analytics*\n",
      "JMC Analytics*JMC Analytics*\n",
      "NBC/WSJ/Marist\n",
      "NBC/WSJ/MaristNBC/WSJ/Marist\n",
      "Quinnipiac\n",
      "QuinnipiacQuinnipiac\n",
      "Gravis*\n",
      "Gravis*Gravis*\n",
      "Bay News 9/SurveyUSA*\n",
      "Bay News 9/SurveyUSA*Bay News 9/SurveyUSA*\n",
      "CBS News/YouGov\n",
      "CBS News/YouGovCBS News/YouGov\n",
      "Quinnipiac\n",
      "QuinnipiacQuinnipiac\n",
      "PPP (D)\n",
      "PPP (D)PPP (D)\n",
      "Mason-Dixon*\n",
      "Mason-Dixon*Mason-Dixon*\n",
      "Gravis\n",
      "GravisGravis\n",
      "CBS News/YouGov\n",
      "CBS News/YouGovCBS News/YouGov\n",
      "Quinnipiac\n",
      "QuinnipiacQuinnipiac\n",
      "AIF (R)**\n",
      "AIF (R)**AIF (R)**\n",
      "NBC/WSJ/Marist\n",
      "NBC/WSJ/MaristNBC/WSJ/Marist\n",
      "News 13/SurveyUSA\n",
      "News 13/SurveyUSANews 13/SurveyUSA\n",
      "CNN/ORC\n",
      "CNN/ORCCNN/ORC\n",
      "PPP (D)\n",
      "PPP (D)PPP (D)\n",
      "Florida Atlantic University\n",
      "Florida Atlantic UniversityFlorida Atlantic University\n",
      "Florida Atlantic University\n",
      "Florida Atlantic UniversityFlorida Atlantic University\n",
      "News 13/SurveyUSA\n",
      "News 13/SurveyUSANews 13/SurveyUSA\n",
      "Quinnipiac\n",
      "QuinnipiacQuinnipiac\n",
      "FL Chamber\n",
      "FL ChamberFL Chamber\n",
      "PPP (D)\n",
      "PPP (D)PPP (D)\n",
      "Quinnipiac\n",
      "QuinnipiacQuinnipiac\n"
     ]
    }
   ],
   "source": [
    "for i in range(2,40):\n",
    "    print(tr[i].a.get_text())\n",
    "    print(tr[i].td.get_text())"
   ]
  },
  {
   "cell_type": "code",
   "execution_count": null,
   "metadata": {
    "collapsed": true
   },
   "outputs": [],
   "source": []
  },
  {
   "cell_type": "code",
   "execution_count": null,
   "metadata": {
    "collapsed": true
   },
   "outputs": [],
   "source": []
  },
  {
   "cell_type": "code",
   "execution_count": null,
   "metadata": {
    "collapsed": true
   },
   "outputs": [],
   "source": []
  },
  {
   "cell_type": "code",
   "execution_count": null,
   "metadata": {
    "collapsed": true
   },
   "outputs": [],
   "source": []
  },
  {
   "cell_type": "code",
   "execution_count": null,
   "metadata": {
    "collapsed": true
   },
   "outputs": [],
   "source": []
  },
  {
   "cell_type": "code",
   "execution_count": null,
   "metadata": {
    "collapsed": true
   },
   "outputs": [],
   "source": []
  },
  {
   "cell_type": "code",
   "execution_count": null,
   "metadata": {
    "collapsed": true
   },
   "outputs": [],
   "source": []
  },
  {
   "cell_type": "markdown",
   "metadata": {},
   "source": [
    "2) Parse the polling data into a useable Python \n",
    "   data structure (hint: look for <div id=\"polling-data-full\")), storing the poll numbers and dates"
   ]
  },
  {
   "cell_type": "code",
   "execution_count": null,
   "metadata": {
    "collapsed": true
   },
   "outputs": [],
   "source": []
  },
  {
   "cell_type": "markdown",
   "metadata": {},
   "source": [
    "3) Plot the data since the beginning of the year"
   ]
  },
  {
   "cell_type": "code",
   "execution_count": null,
   "metadata": {
    "collapsed": true
   },
   "outputs": [],
   "source": []
  },
  {
   "cell_type": "markdown",
   "metadata": {},
   "source": [
    "4) Use scipy.interpolate.UnivariateSpline to get a weighted spline fit of the data for both candidates.  Overplot the fits"
   ]
  },
  {
   "cell_type": "code",
   "execution_count": null,
   "metadata": {
    "collapsed": true
   },
   "outputs": [],
   "source": []
  },
  {
   "cell_type": "markdown",
   "metadata": {},
   "source": [
    "5) What was a date when Trump was ahead?"
   ]
  },
  {
   "cell_type": "code",
   "execution_count": null,
   "metadata": {
    "collapsed": true
   },
   "outputs": [],
   "source": []
  },
  {
   "cell_type": "markdown",
   "metadata": {},
   "source": [
    "If time, do the same for a red state and a blue state"
   ]
  },
  {
   "cell_type": "code",
   "execution_count": null,
   "metadata": {
    "collapsed": true
   },
   "outputs": [],
   "source": []
  }
 ],
 "metadata": {
  "anaconda-cloud": {},
  "kernelspec": {
   "display_name": "Python [ay250]",
   "language": "python",
   "name": "Python [ay250]"
  },
  "language_info": {
   "codemirror_mode": {
    "name": "ipython",
    "version": 3
   },
   "file_extension": ".py",
   "mimetype": "text/x-python",
   "name": "python",
   "nbconvert_exporter": "python",
   "pygments_lexer": "ipython3",
   "version": "3.5.2"
  }
 },
 "nbformat": 4,
 "nbformat_minor": 0
}
