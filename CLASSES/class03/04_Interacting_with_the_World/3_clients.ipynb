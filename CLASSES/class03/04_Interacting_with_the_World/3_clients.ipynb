{
 "cells": [
  {
   "cell_type": "markdown",
   "metadata": {},
   "source": [
    "# TCP Socket Client"
   ]
  },
  {
   "cell_type": "code",
   "execution_count": 1,
   "metadata": {
    "collapsed": false
   },
   "outputs": [
    {
     "name": "stdout",
     "output_type": "stream",
     "text": [
      "Server says: b\"b'Invalid command.'\"\n"
     ]
    }
   ],
   "source": [
    "import socket, sys\n",
    "s = socket.socket(socket.AF_INET, socket.SOCK_STREAM) \n",
    "host, port = \"\", 5100 # empty host string = localhost\n",
    "s.connect((host, port))\n",
    "cmd = b\"time\" # if making a command line script, use sys.argv[1]\n",
    "s.send(cmd) # send command\n",
    "data = s.recv(100) # read up to 100 bytes\n",
    "print(\"Server says:\", str(data).encode(\"UTF-8\"))\n",
    "s.close()"
   ]
  },
  {
   "cell_type": "code",
   "execution_count": 5,
   "metadata": {
    "collapsed": false
   },
   "outputs": [
    {
     "ename": "ConnectionRefusedError",
     "evalue": "[Errno 61] Connection refused",
     "output_type": "error",
     "traceback": [
      "\u001b[0;31m------------------------------------------------------------------\u001b[0m",
      "\u001b[0;31mConnectionRefusedError\u001b[0m           Traceback (most recent call last)",
      "\u001b[0;32m<ipython-input-5-b10f8e930cd9>\u001b[0m in \u001b[0;36m<module>\u001b[0;34m()\u001b[0m\n\u001b[1;32m      2\u001b[0m \u001b[0ms\u001b[0m \u001b[0;34m=\u001b[0m \u001b[0msocket\u001b[0m\u001b[0;34m.\u001b[0m\u001b[0msocket\u001b[0m\u001b[0;34m(\u001b[0m\u001b[0msocket\u001b[0m\u001b[0;34m.\u001b[0m\u001b[0mAF_INET\u001b[0m\u001b[0;34m,\u001b[0m \u001b[0msocket\u001b[0m\u001b[0;34m.\u001b[0m\u001b[0mSOCK_STREAM\u001b[0m\u001b[0;34m)\u001b[0m\u001b[0;34m\u001b[0m\u001b[0m\n\u001b[1;32m      3\u001b[0m \u001b[0mhost\u001b[0m\u001b[0;34m,\u001b[0m \u001b[0mport\u001b[0m \u001b[0;34m=\u001b[0m \u001b[0;34m\"\"\u001b[0m\u001b[0;34m,\u001b[0m \u001b[0;36m5002\u001b[0m \u001b[0;31m# empty host string = localhost\u001b[0m\u001b[0;34m\u001b[0m\u001b[0m\n\u001b[0;32m----> 4\u001b[0;31m \u001b[0ms\u001b[0m\u001b[0;34m.\u001b[0m\u001b[0mconnect\u001b[0m\u001b[0;34m(\u001b[0m\u001b[0;34m(\u001b[0m\u001b[0mhost\u001b[0m\u001b[0;34m,\u001b[0m \u001b[0mport\u001b[0m\u001b[0;34m)\u001b[0m\u001b[0;34m)\u001b[0m\u001b[0;34m\u001b[0m\u001b[0m\n\u001b[0m\u001b[1;32m      5\u001b[0m \u001b[0mcmd\u001b[0m \u001b[0;34m=\u001b[0m \u001b[0;34m\"time\"\u001b[0m \u001b[0;31m# if making a command line script, use sys.argv[1]\u001b[0m\u001b[0;34m\u001b[0m\u001b[0m\n\u001b[1;32m      6\u001b[0m \u001b[0ms\u001b[0m\u001b[0;34m.\u001b[0m\u001b[0msend\u001b[0m\u001b[0;34m(\u001b[0m\u001b[0mcmd\u001b[0m\u001b[0;34m)\u001b[0m \u001b[0;31m# send command\u001b[0m\u001b[0;34m\u001b[0m\u001b[0m\n",
      "\u001b[0;31mConnectionRefusedError\u001b[0m: [Errno 61] Connection refused"
     ]
    }
   ],
   "source": [
    "import socket, sys\n",
    "s = socket.socket(socket.AF_INET, socket.SOCK_STREAM) \n",
    "host, port = \"\", 5002 # empty host string = localhost\n",
    "s.connect((host, port))\n",
    "cmd = \"time\" # if making a command line script, use sys.argv[1]\n",
    "s.send(cmd) # send command\n",
    "data = s.recv(100) # read up to 100 bytes\n",
    "print(\"Server says:\", data)\n",
    "s.close()"
   ]
  },
  {
   "cell_type": "markdown",
   "metadata": {},
   "source": [
    "# XMLRPC Client"
   ]
  },
  {
   "cell_type": "code",
   "execution_count": 2,
   "metadata": {
    "collapsed": false
   },
   "outputs": [
    {
     "name": "stdout",
     "output_type": "stream",
     "text": [
      "Available methods from server:\n",
      "\taddition\n",
      "\tsubtraction\n",
      "\tsystem.listMethods\n",
      "\tsystem.methodHelp\n",
      "\tsystem.methodSignature\n",
      "\tsystem.multicall\n",
      "Result: -3\n",
      "Result: 5\n"
     ]
    }
   ],
   "source": [
    "import sys\n",
    "\n",
    "try:\n",
    "    from xmlrpc.client import ServerProxy\n",
    "except:\n",
    "    # Python 2.7\n",
    "    from xmlrpclib import ServerProxy\n",
    "\n",
    "host, port = \"\", 5022\n",
    "server = ServerProxy(\"http://%s:%d\" % (host, port))\n",
    "available_methods = server.system.listMethods()\n",
    "print(\"Available methods from server:\")\n",
    "for method in available_methods:\n",
    "    print(\"\\t\" + method)\n",
    "result = server.subtraction(1, 4)\n",
    "print(\"Result:\", result)\n",
    "result = server.addition(1, 4)\n",
    "print(\"Result:\", result)"
   ]
  },
  {
   "cell_type": "code",
   "execution_count": 3,
   "metadata": {
    "collapsed": false
   },
   "outputs": [
    {
     "name": "stdout",
     "output_type": "stream",
     "text": [
      "16.5\n"
     ]
    }
   ],
   "source": [
    "result = server.addition(12, 4.5)\n",
    "print(result)"
   ]
  },
  {
   "cell_type": "code",
   "execution_count": null,
   "metadata": {
    "collapsed": false
   },
   "outputs": [],
   "source": []
  }
 ],
 "metadata": {
  "anaconda-cloud": {},
  "kernelspec": {
   "display_name": "Python [ay250]",
   "language": "python",
   "name": "Python [ay250]"
  },
  "language_info": {
   "codemirror_mode": {
    "name": "ipython",
    "version": 3
   },
   "file_extension": ".py",
   "mimetype": "text/x-python",
   "name": "python",
   "nbconvert_exporter": "python",
   "pygments_lexer": "ipython3",
   "version": "3.5.2"
  }
 },
 "nbformat": 4,
 "nbformat_minor": 0
}
