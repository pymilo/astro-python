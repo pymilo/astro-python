{
 "cells": [
  {
   "cell_type": "markdown",
   "metadata": {},
   "source": [
    "<small>*Notebook auto-generated from [``altair/examples/json/stacked_area_normalize.json``](../../altair/examples/json/stacked_area_normalize.json)*</small>\n",
    "\n",
    "# Altair Example: Stacked Area Normalize\n",
    "\n",
    "--\n",
    "\n"
   ]
  },
  {
   "cell_type": "markdown",
   "metadata": {},
   "source": [
    "## Load Dataset\n",
    "The data comes in the form of a Pandas Dataframe:"
   ]
  },
  {
   "cell_type": "code",
   "execution_count": null,
   "metadata": {},
   "outputs": [],
   "source": [
    "from altair import load_dataset\n",
    "data = load_dataset(\"unemployment-across-industries\")\n",
    "data.head()"
   ]
  },
  {
   "cell_type": "markdown",
   "metadata": {},
   "source": [
    "## Define Altair Specification"
   ]
  },
  {
   "cell_type": "code",
   "execution_count": null,
   "metadata": {},
   "outputs": [],
   "source": [
    "from altair import *  # Import the altair API\n",
    "\n",
    "chart = Chart(data).mark_area(\n",
    "    stacked='normalize',\n",
    ").encode(\n",
    "    color=Color('series:N',\n",
    "        scale=Scale(\n",
    "            range='category20b',\n",
    "        ),\n",
    "    ),\n",
    "    x=X('date:T',\n",
    "        axis=Axis(\n",
    "            axisWidth=0.0,\n",
    "            format='%Y',\n",
    "            labelAngle=0.0,\n",
    "        ),\n",
    "        scale=Scale(\n",
    "            nice='month',\n",
    "        ),\n",
    "        timeUnit='yearmonth',\n",
    "    ),\n",
    "    y=Y('sum(count):Q',\n",
    "        axis=False,\n",
    "    ),\n",
    ").configure_cell(\n",
    "    height=200.0,\n",
    "    width=300.0,\n",
    ")"
   ]
  },
  {
   "cell_type": "markdown",
   "metadata": {},
   "source": [
    "IPython rich display will invoke Vega-Lite:"
   ]
  },
  {
   "cell_type": "code",
   "execution_count": null,
   "metadata": {},
   "outputs": [],
   "source": [
    "chart"
   ]
  },
  {
   "cell_type": "markdown",
   "metadata": {},
   "source": [
    "## Output Vega-Lite Specification"
   ]
  },
  {
   "cell_type": "markdown",
   "metadata": {},
   "source": [
    "Generate JSON dict, leaving data out:"
   ]
  },
  {
   "cell_type": "code",
   "execution_count": null,
   "metadata": {},
   "outputs": [],
   "source": [
    "chart.to_dict(data=False)"
   ]
  }
 ],
 "metadata": {
  "kernelspec": {
   "display_name": "Python 3",
   "env": {},
   "language": "python",
   "name": "python3"
  },
  "language": "python"
 },
 "nbformat": 4,
 "nbformat_minor": 0
}
