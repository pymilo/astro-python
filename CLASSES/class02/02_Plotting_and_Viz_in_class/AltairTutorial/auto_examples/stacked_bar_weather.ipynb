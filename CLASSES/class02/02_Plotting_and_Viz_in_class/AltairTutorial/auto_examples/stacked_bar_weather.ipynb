{
 "cells": [
  {
   "cell_type": "markdown",
   "metadata": {},
   "source": [
    "<small>*Notebook auto-generated from [``altair/examples/json/stacked_bar_weather.json``](../../altair/examples/json/stacked_bar_weather.json)*</small>\n",
    "\n",
    "# Altair Example: Stacked Bar Weather\n",
    "\n",
    "--\n",
    "\n"
   ]
  },
  {
   "cell_type": "markdown",
   "metadata": {},
   "source": [
    "## Load Dataset\n",
    "The data comes in the form of a Pandas Dataframe:"
   ]
  },
  {
   "cell_type": "code",
   "execution_count": null,
   "metadata": {},
   "outputs": [],
   "source": [
    "from altair import load_dataset\n",
    "data = load_dataset(\"seattle-weather\")\n",
    "data.head()"
   ]
  },
  {
   "cell_type": "markdown",
   "metadata": {},
   "source": [
    "## Define Altair Specification"
   ]
  },
  {
   "cell_type": "code",
   "execution_count": null,
   "metadata": {},
   "outputs": [],
   "source": [
    "from altair import *  # Import the altair API\n",
    "\n",
    "chart = Chart(data).mark_bar().encode(\n",
    "    color=Color('weather:N',\n",
    "        legend=Legend(\n",
    "            title='Weather type',\n",
    "        ),\n",
    "        scale=Scale(\n",
    "            domain=['sun', 'fog', 'drizzle', 'rain', 'snow'],\n",
    "            range=['#e7ba52', '#c7c7c7', '#aec7e8', '#1f77b4', '#9467bd'],\n",
    "        ),\n",
    "    ),\n",
    "    x=X('date:T',\n",
    "        axis=Axis(\n",
    "            title='Month of the year',\n",
    "        ),\n",
    "        timeUnit='month',\n",
    "    ),\n",
    "    y='count(*):Q',\n",
    ")"
   ]
  },
  {
   "cell_type": "markdown",
   "metadata": {},
   "source": [
    "IPython rich display will invoke Vega-Lite:"
   ]
  },
  {
   "cell_type": "code",
   "execution_count": null,
   "metadata": {},
   "outputs": [],
   "source": [
    "chart"
   ]
  },
  {
   "cell_type": "markdown",
   "metadata": {},
   "source": [
    "## Output Vega-Lite Specification"
   ]
  },
  {
   "cell_type": "markdown",
   "metadata": {},
   "source": [
    "Generate JSON dict, leaving data out:"
   ]
  },
  {
   "cell_type": "code",
   "execution_count": null,
   "metadata": {},
   "outputs": [],
   "source": [
    "chart.to_dict(data=False)"
   ]
  }
 ],
 "metadata": {
  "kernelspec": {
   "display_name": "Python 3",
   "env": {},
   "language": "python",
   "name": "python3"
  },
  "language": "python"
 },
 "nbformat": 4,
 "nbformat_minor": 0
}
