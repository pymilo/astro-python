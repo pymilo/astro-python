{
 "cells": [
  {
   "cell_type": "markdown",
   "metadata": {},
   "source": [
    "<small>*Notebook auto-generated from [``altair/examples/json/bar_grouped.json``](../../altair/examples/json/bar_grouped.json)*</small>\n",
    "\n",
    "# Altair Example: Bar Grouped\n",
    "\n",
    "--\n",
    "\n"
   ]
  },
  {
   "cell_type": "markdown",
   "metadata": {},
   "source": [
    "## Load Dataset\n",
    "The data comes in the form of a Pandas Dataframe:"
   ]
  },
  {
   "cell_type": "code",
   "execution_count": null,
   "metadata": {},
   "outputs": [],
   "source": [
    "from altair import load_dataset\n",
    "data = load_dataset(\"population\")\n",
    "data.head()"
   ]
  },
  {
   "cell_type": "markdown",
   "metadata": {},
   "source": [
    "## Define Altair Specification"
   ]
  },
  {
   "cell_type": "code",
   "execution_count": null,
   "metadata": {},
   "outputs": [],
   "source": [
    "from altair import *  # Import the altair API\n",
    "\n",
    "chart = Chart(data).mark_bar().encode(\n",
    "    color=Color('gender:N',\n",
    "        scale=Scale(\n",
    "            range=['#EA98D2', '#659CCA'],\n",
    "        ),\n",
    "    ),\n",
    "    column=Column('age:O',\n",
    "        axis=Axis(\n",
    "            axisWidth=1.0,\n",
    "            offset=-8.0,\n",
    "            orient='bottom',\n",
    "        ),\n",
    "        scale=Scale(\n",
    "            padding=4.0,\n",
    "        ),\n",
    "    ),\n",
    "    x=X('gender:N',\n",
    "        axis=False,\n",
    "        scale=Scale(\n",
    "            bandSize=6.0,\n",
    "        ),\n",
    "    ),\n",
    "    y=Y('sum(people):Q',\n",
    "        axis=Axis(\n",
    "            grid=False,\n",
    "            title='population',\n",
    "        ),\n",
    "    ),\n",
    ").transform_data(\n",
    "    calculate=[Formula(\n",
    "            expr='datum.sex == 2 ? \"Female\" : \"Male\"',\n",
    "            field='gender',\n",
    "        )],\n",
    "    filter='datum.year == 2000',\n",
    ").configure_facet_cell(\n",
    "    strokeWidth=0.0,\n",
    ")"
   ]
  },
  {
   "cell_type": "markdown",
   "metadata": {},
   "source": [
    "IPython rich display will invoke Vega-Lite:"
   ]
  },
  {
   "cell_type": "code",
   "execution_count": null,
   "metadata": {},
   "outputs": [],
   "source": [
    "chart"
   ]
  },
  {
   "cell_type": "markdown",
   "metadata": {},
   "source": [
    "## Output Vega-Lite Specification"
   ]
  },
  {
   "cell_type": "markdown",
   "metadata": {},
   "source": [
    "Generate JSON dict, leaving data out:"
   ]
  },
  {
   "cell_type": "code",
   "execution_count": null,
   "metadata": {},
   "outputs": [],
   "source": [
    "chart.to_dict(data=False)"
   ]
  }
 ],
 "metadata": {
  "kernelspec": {
   "display_name": "Python 3",
   "env": {},
   "language": "python",
   "name": "python3"
  },
  "language": "python"
 },
 "nbformat": 4,
 "nbformat_minor": 0
}
