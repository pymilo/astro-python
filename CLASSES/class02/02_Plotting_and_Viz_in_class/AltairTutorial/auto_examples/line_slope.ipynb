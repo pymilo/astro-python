{
 "cells": [
  {
   "cell_type": "markdown",
   "metadata": {},
   "source": [
    "<small>*Notebook auto-generated from [``altair/examples/json/line_slope.json``](../../altair/examples/json/line_slope.json)*</small>\n",
    "\n",
    "# Altair Example: Line Slope\n",
    "\n",
    "Slope graph showing the change in yield for different barley sites. It shows the error in the year labels for the Morris site.\n",
    "\n"
   ]
  },
  {
   "cell_type": "markdown",
   "metadata": {},
   "source": [
    "## Load Dataset\n",
    "The data comes in the form of a Pandas Dataframe:"
   ]
  },
  {
   "cell_type": "code",
   "execution_count": null,
   "metadata": {},
   "outputs": [],
   "source": [
    "from altair import load_dataset\n",
    "data = load_dataset(\"barley\")\n",
    "data.head()"
   ]
  },
  {
   "cell_type": "markdown",
   "metadata": {},
   "source": [
    "## Define Altair Specification"
   ]
  },
  {
   "cell_type": "code",
   "execution_count": null,
   "metadata": {},
   "outputs": [],
   "source": [
    "from altair import *  # Import the altair API\n",
    "\n",
    "chart = Chart(data).mark_line().encode(\n",
    "    color='site:N',\n",
    "    x=X('year:O',\n",
    "        scale=Scale(\n",
    "            bandSize=50.0,\n",
    "            padding=0.5,\n",
    "        ),\n",
    "    ),\n",
    "    y='median(yield):Q',\n",
    ")"
   ]
  },
  {
   "cell_type": "markdown",
   "metadata": {},
   "source": [
    "IPython rich display will invoke Vega-Lite:"
   ]
  },
  {
   "cell_type": "code",
   "execution_count": null,
   "metadata": {},
   "outputs": [],
   "source": [
    "chart"
   ]
  },
  {
   "cell_type": "markdown",
   "metadata": {},
   "source": [
    "## Output Vega-Lite Specification"
   ]
  },
  {
   "cell_type": "markdown",
   "metadata": {},
   "source": [
    "Generate JSON dict, leaving data out:"
   ]
  },
  {
   "cell_type": "code",
   "execution_count": null,
   "metadata": {},
   "outputs": [],
   "source": [
    "chart.to_dict(data=False)"
   ]
  }
 ],
 "metadata": {
  "kernelspec": {
   "display_name": "Python 3",
   "env": {},
   "language": "python",
   "name": "python3"
  },
  "language": "python"
 },
 "nbformat": 4,
 "nbformat_minor": 0
}
