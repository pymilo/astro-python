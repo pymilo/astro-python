{
 "cells": [
  {
   "cell_type": "markdown",
   "metadata": {},
   "source": [
    "<small>*Notebook auto-generated from [``altair/examples/json/bar_layered_transparent.json``](../../altair/examples/json/bar_layered_transparent.json)*</small>\n",
    "\n",
    "# Altair Example: Bar Layered Transparent\n",
    "\n",
    "A bar chart showing the US population distribution of age groups and gender in 2000.\n",
    "\n"
   ]
  },
  {
   "cell_type": "markdown",
   "metadata": {},
   "source": [
    "## Load Dataset\n",
    "The data comes in the form of a Pandas Dataframe:"
   ]
  },
  {
   "cell_type": "code",
   "execution_count": null,
   "metadata": {},
   "outputs": [],
   "source": [
    "from altair import load_dataset\n",
    "data = load_dataset(\"population\")\n",
    "data.head()"
   ]
  },
  {
   "cell_type": "markdown",
   "metadata": {},
   "source": [
    "## Define Altair Specification"
   ]
  },
  {
   "cell_type": "code",
   "execution_count": null,
   "metadata": {},
   "outputs": [],
   "source": [
    "from altair import *  # Import the altair API\n",
    "\n",
    "chart = Chart(data).mark_bar(\n",
    "    opacity=0.6,\n",
    "    stacked='none',\n",
    ").encode(\n",
    "    color=Color('gender:N',\n",
    "        scale=Scale(\n",
    "            range=['#e377c2', '#1f77b4'],\n",
    "        ),\n",
    "    ),\n",
    "    x=X('age:O',\n",
    "        scale=Scale(\n",
    "            bandSize=17.0,\n",
    "        ),\n",
    "    ),\n",
    "    y=Y('sum(people):Q',\n",
    "        axis=Axis(\n",
    "            title='population',\n",
    "        ),\n",
    "    ),\n",
    ").transform_data(\n",
    "    calculate=[Formula(\n",
    "            expr='datum.sex == 2 ? \"Female\" : \"Male\"',\n",
    "            field='gender',\n",
    "        )],\n",
    "    filter='datum.year == 2000',\n",
    ")"
   ]
  },
  {
   "cell_type": "markdown",
   "metadata": {},
   "source": [
    "IPython rich display will invoke Vega-Lite:"
   ]
  },
  {
   "cell_type": "code",
   "execution_count": null,
   "metadata": {},
   "outputs": [],
   "source": [
    "chart"
   ]
  },
  {
   "cell_type": "markdown",
   "metadata": {},
   "source": [
    "## Output Vega-Lite Specification"
   ]
  },
  {
   "cell_type": "markdown",
   "metadata": {},
   "source": [
    "Generate JSON dict, leaving data out:"
   ]
  },
  {
   "cell_type": "code",
   "execution_count": null,
   "metadata": {},
   "outputs": [],
   "source": [
    "chart.to_dict(data=False)"
   ]
  }
 ],
 "metadata": {
  "kernelspec": {
   "display_name": "Python 3",
   "env": {},
   "language": "python",
   "name": "python3"
  },
  "language": "python"
 },
 "nbformat": 4,
 "nbformat_minor": 0
}
