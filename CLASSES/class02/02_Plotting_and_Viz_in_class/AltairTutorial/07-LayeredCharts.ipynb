{
 "cells": [
  {
   "cell_type": "markdown",
   "metadata": {},
   "source": [
    "# Layered Charts"
   ]
  },
  {
   "cell_type": "markdown",
   "metadata": {},
   "source": [
    "A `LayeredChart` allows you to stack multiple individual charts on top of each other as layers. For example, this could be used to create a chart with both lines and points."
   ]
  },
  {
   "cell_type": "markdown",
   "metadata": {},
   "source": [
    "## Imports"
   ]
  },
  {
   "cell_type": "code",
   "execution_count": 1,
   "metadata": {
    "collapsed": false
   },
   "outputs": [],
   "source": [
    "from altair import *\n",
    "import pandas as pd\n",
    "import numpy as np"
   ]
  },
  {
   "cell_type": "markdown",
   "metadata": {},
   "source": [
    "## Data"
   ]
  },
  {
   "cell_type": "code",
   "execution_count": 2,
   "metadata": {
    "collapsed": true
   },
   "outputs": [],
   "source": [
    "data1 = pd.DataFrame({'x':np.random.rand(10), 'y':np.random.rand(10)})\n",
    "data2 = pd.DataFrame({'x':np.random.rand(10), 'y':np.random.rand(10)})"
   ]
  },
  {
   "cell_type": "code",
   "execution_count": 3,
   "metadata": {
    "collapsed": false
   },
   "outputs": [
    {
     "data": {
      "text/html": [
       "<div>\n",
       "<table border=\"1\" class=\"dataframe\">\n",
       "  <thead>\n",
       "    <tr style=\"text-align: right;\">\n",
       "      <th></th>\n",
       "      <th>x</th>\n",
       "      <th>y</th>\n",
       "    </tr>\n",
       "  </thead>\n",
       "  <tbody>\n",
       "    <tr>\n",
       "      <th>0</th>\n",
       "      <td>0.301007</td>\n",
       "      <td>0.153538</td>\n",
       "    </tr>\n",
       "    <tr>\n",
       "      <th>1</th>\n",
       "      <td>0.133490</td>\n",
       "      <td>0.736558</td>\n",
       "    </tr>\n",
       "    <tr>\n",
       "      <th>2</th>\n",
       "      <td>0.862688</td>\n",
       "      <td>0.020897</td>\n",
       "    </tr>\n",
       "    <tr>\n",
       "      <th>3</th>\n",
       "      <td>0.430648</td>\n",
       "      <td>0.305620</td>\n",
       "    </tr>\n",
       "    <tr>\n",
       "      <th>4</th>\n",
       "      <td>0.601145</td>\n",
       "      <td>0.264920</td>\n",
       "    </tr>\n",
       "  </tbody>\n",
       "</table>\n",
       "</div>"
      ],
      "text/plain": [
       "          x         y\n",
       "0  0.301007  0.153538\n",
       "1  0.133490  0.736558\n",
       "2  0.862688  0.020897\n",
       "3  0.430648  0.305620\n",
       "4  0.601145  0.264920"
      ]
     },
     "execution_count": 3,
     "metadata": {},
     "output_type": "execute_result"
    }
   ],
   "source": [
    "data1.head()"
   ]
  },
  {
   "cell_type": "markdown",
   "metadata": {},
   "source": [
    "## Layered charts"
   ]
  },
  {
   "cell_type": "markdown",
   "metadata": {},
   "source": [
    "If all layers will use the same data, you can create a `LayeredChart` with the data:"
   ]
  },
  {
   "cell_type": "code",
   "execution_count": 4,
   "metadata": {
    "collapsed": true
   },
   "outputs": [],
   "source": [
    "chart = LayeredChart(data1)"
   ]
  },
  {
   "cell_type": "markdown",
   "metadata": {},
   "source": [
    "Layers are then added to the chart by creating individual `Chart` instances (with marks and encoding) and adding them to the `LayeredChart` using the `+=` operator:"
   ]
  },
  {
   "cell_type": "code",
   "execution_count": 5,
   "metadata": {
    "collapsed": false
   },
   "outputs": [],
   "source": [
    "l1 = Chart().mark_line().encode(x='x:Q', y='y:Q')\n",
    "l2 = Chart().mark_point().encode(x='x:Q', y='y:Q')"
   ]
  },
  {
   "cell_type": "code",
   "execution_count": 6,
   "metadata": {
    "collapsed": true
   },
   "outputs": [],
   "source": [
    "chart += l1\n",
    "chart += l2"
   ]
  },
  {
   "cell_type": "markdown",
   "metadata": {},
   "source": [
    "The layers are stored as a list under the `layers` attribute:"
   ]
  },
  {
   "cell_type": "code",
   "execution_count": 7,
   "metadata": {
    "collapsed": false
   },
   "outputs": [
    {
     "data": {
      "text/plain": [
       "[<altair.api.Chart at 0x106531320>, <altair.api.Chart at 0x1065312e8>]"
      ]
     },
     "execution_count": 7,
     "metadata": {},
     "output_type": "execute_result"
    }
   ],
   "source": [
    "chart.layers"
   ]
  },
  {
   "cell_type": "markdown",
   "metadata": {},
   "source": [
    "Displaying the chart will automatically combine the different layers into a single chart, with the appropriate axes:"
   ]
  },
  {
   "cell_type": "code",
   "execution_count": 8,
   "metadata": {
    "collapsed": false
   },
   "outputs": [
    {
     "data": {
      "text/html": [
       "<div class=\"vega-embed\" id=\"a135e78d-af53-42c0-8e6a-30c41dde4853\"></div>\n",
       "\n",
       "<style>\n",
       ".vega-embed svg, .vega-embed canvas {\n",
       "  border: 1px dotted gray;\n",
       "}\n",
       "\n",
       ".vega-embed .vega-actions a {\n",
       "  margin-right: 6px;\n",
       "}\n",
       "</style>\n"
      ]
     },
     "metadata": {
      "jupyter-vega": "#a135e78d-af53-42c0-8e6a-30c41dde4853"
     },
     "output_type": "display_data"
    },
    {
     "data": {
      "application/javascript": [
       "var spec = {\"data\": {\"values\": [{\"x\": 0.3010066248403144, \"y\": 0.15353806035764694}, {\"x\": 0.13348963387217327, \"y\": 0.7365579706850932}, {\"x\": 0.8626879973279917, \"y\": 0.02089650810418109}, {\"x\": 0.43064750890110326, \"y\": 0.30561975186863144}, {\"x\": 0.6011452363378915, \"y\": 0.26492010500922736}, {\"x\": 0.9030710176564339, \"y\": 0.6004642994517722}, {\"x\": 0.14583560657633232, \"y\": 0.7567025051088284}, {\"x\": 0.3501248063962319, \"y\": 0.5158625481419538}, {\"x\": 0.8945410367191365, \"y\": 0.16281010811386376}, {\"x\": 0.9734154236162683, \"y\": 0.9969099227327162}]}, \"layers\": [{\"encoding\": {\"x\": {\"field\": \"x\", \"type\": \"quantitative\"}, \"y\": {\"field\": \"y\", \"type\": \"quantitative\"}}, \"mark\": \"line\"}, {\"encoding\": {\"x\": {\"field\": \"x\", \"type\": \"quantitative\"}, \"y\": {\"field\": \"y\", \"type\": \"quantitative\"}}, \"mark\": \"point\"}], \"config\": {\"cell\": {\"width\": 500, \"height\": 350}}};\n",
       "var selector = \"#a135e78d-af53-42c0-8e6a-30c41dde4853\";\n",
       "var type = \"vega-lite\";\n",
       "\n",
       "var output_area = this;\n",
       "require(['nbextensions/jupyter-vega/index'], function(vega) {\n",
       "  vega.render(selector, spec, type, output_area);\n",
       "}, function (err) {\n",
       "  if (err.requireType !== 'scripterror') {\n",
       "    throw(err);\n",
       "  }\n",
       "});\n"
      ]
     },
     "metadata": {
      "jupyter-vega": "#a135e78d-af53-42c0-8e6a-30c41dde4853"
     },
     "output_type": "display_data"
    },
    {
     "data": {
      "image/png": "[encoded data removed]"
     },
     "metadata": {
      "jupyter-vega": "#a135e78d-af53-42c0-8e6a-30c41dde4853"
     },
     "output_type": "display_data"
    }
   ],
   "source": [
    "chart"
   ]
  },
  {
   "cell_type": "markdown",
   "metadata": {},
   "source": [
    "If each chart has its own data, you can create individual `Chart` objects, each with their own data, and them simply add them together:"
   ]
  },
  {
   "cell_type": "code",
   "execution_count": 9,
   "metadata": {
    "collapsed": false
   },
   "outputs": [],
   "source": [
    "chart2 = Chart(data1).mark_line(color='#1f77b4').encode(x='x', y='y') + \\\n",
    "         Chart(data2).mark_point(color='#ff7f0e').encode(x='x', y='y')"
   ]
  },
  {
   "cell_type": "code",
   "execution_count": 10,
   "metadata": {
    "collapsed": false
   },
   "outputs": [
    {
     "data": {
      "text/plain": [
       "[<altair.api.Chart at 0x10653b2e8>, <altair.api.Chart at 0x10653b400>]"
      ]
     },
     "execution_count": 10,
     "metadata": {},
     "output_type": "execute_result"
    }
   ],
   "source": [
    "chart2.layers"
   ]
  },
  {
   "cell_type": "code",
   "execution_count": 11,
   "metadata": {
    "collapsed": false
   },
   "outputs": [
    {
     "data": {
      "text/html": [
       "<div class=\"vega-embed\" id=\"eecfe9cd-500d-4a84-8db2-1673b0f7b3c9\"></div>\n",
       "\n",
       "<style>\n",
       ".vega-embed svg, .vega-embed canvas {\n",
       "  border: 1px dotted gray;\n",
       "}\n",
       "\n",
       ".vega-embed .vega-actions a {\n",
       "  margin-right: 6px;\n",
       "}\n",
       "</style>\n"
      ]
     },
     "metadata": {
      "jupyter-vega": "#eecfe9cd-500d-4a84-8db2-1673b0f7b3c9"
     },
     "output_type": "display_data"
    },
    {
     "data": {
      "application/javascript": [
       "var spec = {\"layers\": [{\"encoding\": {\"x\": {\"field\": \"x\", \"type\": \"quantitative\"}, \"y\": {\"field\": \"y\", \"type\": \"quantitative\"}}, \"data\": {\"values\": [{\"x\": 0.3010066248403144, \"y\": 0.15353806035764694}, {\"x\": 0.13348963387217327, \"y\": 0.7365579706850932}, {\"x\": 0.8626879973279917, \"y\": 0.02089650810418109}, {\"x\": 0.43064750890110326, \"y\": 0.30561975186863144}, {\"x\": 0.6011452363378915, \"y\": 0.26492010500922736}, {\"x\": 0.9030710176564339, \"y\": 0.6004642994517722}, {\"x\": 0.14583560657633232, \"y\": 0.7567025051088284}, {\"x\": 0.3501248063962319, \"y\": 0.5158625481419538}, {\"x\": 0.8945410367191365, \"y\": 0.16281010811386376}, {\"x\": 0.9734154236162683, \"y\": 0.9969099227327162}]}, \"config\": {\"mark\": {\"color\": \"#1f77b4\"}}, \"mark\": \"line\"}, {\"encoding\": {\"x\": {\"field\": \"x\", \"type\": \"quantitative\"}, \"y\": {\"field\": \"y\", \"type\": \"quantitative\"}}, \"data\": {\"values\": [{\"x\": 0.43347103065543546, \"y\": 0.43235167847265765}, {\"x\": 0.40933129793423706, \"y\": 0.20919519310062407}, {\"x\": 0.11193492040781794, \"y\": 0.8627108211435789}, {\"x\": 0.06236938208367093, \"y\": 0.9666185435081933}, {\"x\": 0.0751660356801257, \"y\": 0.3004060922573438}, {\"x\": 0.42785259801577114, \"y\": 0.1532116785656653}, {\"x\": 0.8397763076153639, \"y\": 0.784090191819998}, {\"x\": 0.9382042448732695, \"y\": 0.7242141967126742}, {\"x\": 0.7476915799125687, \"y\": 0.8762883978837341}, {\"x\": 0.9479824128896823, \"y\": 0.41605785818463736}]}, \"config\": {\"mark\": {\"color\": \"#ff7f0e\"}}, \"mark\": \"point\"}], \"config\": {\"cell\": {\"width\": 500, \"height\": 350}}};\n",
       "var selector = \"#eecfe9cd-500d-4a84-8db2-1673b0f7b3c9\";\n",
       "var type = \"vega-lite\";\n",
       "\n",
       "var output_area = this;\n",
       "require(['nbextensions/jupyter-vega/index'], function(vega) {\n",
       "  vega.render(selector, spec, type, output_area);\n",
       "}, function (err) {\n",
       "  if (err.requireType !== 'scripterror') {\n",
       "    throw(err);\n",
       "  }\n",
       "});\n"
      ]
     },
     "metadata": {
      "jupyter-vega": "#eecfe9cd-500d-4a84-8db2-1673b0f7b3c9"
     },
     "output_type": "display_data"
    },
    {
     "data": {
      "image/png": "[encoded data removed]"
     },
     "metadata": {
      "jupyter-vega": "#eecfe9cd-500d-4a84-8db2-1673b0f7b3c9"
     },
     "output_type": "display_data"
    }
   ],
   "source": [
    "chart2"
   ]
  }
 ],
 "metadata": {
  "kernelspec": {
   "display_name": "Python 3",
   "language": "python",
   "name": "python3"
  },
  "language_info": {
   "codemirror_mode": {
    "name": "ipython",
    "version": 3
   },
   "file_extension": ".py",
   "mimetype": "text/x-python",
   "name": "python",
   "nbconvert_exporter": "python",
   "pygments_lexer": "ipython3",
   "version": "3.5.1"
  },
  "widgets": {
   "state": {},
   "version": "1.1.0"
  }
 },
 "nbformat": 4,
 "nbformat_minor": 1
}
