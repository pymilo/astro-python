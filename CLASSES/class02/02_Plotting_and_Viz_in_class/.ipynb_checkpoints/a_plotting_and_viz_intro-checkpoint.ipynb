{
 "cells": [
  {
   "cell_type": "markdown",
   "metadata": {},
   "source": [
    "# Plotting and Visualization\n",
    "Python Computing for Data Science (AY250; [github](https://github.com/profjsb/python-seminar))\n",
    "\n",
    "J. S. Bloom (2016)\n",
    "\n",
    "### A reminder:\n",
    "```bash\n",
    "# git clone https://github.com/profjsb/python-seminar\n",
    "cd python-seminar\n",
    "git pull\n",
    "```\n",
    "\n",
    "If you plan on going through the notebooks with me, I strongly suggest that you copy the .ipynb files, e.g.:\n",
    "```bash\n",
    "cp a_plotting_and_viz_intro.ipynb my_a_plotting_and_viz_intro.ipynb\n",
    "```\n",
    "this will help avoid merge conflicts later on."
   ]
  },
  {
   "cell_type": "code",
   "execution_count": 5,
   "metadata": {
    "collapsed": false
   },
   "outputs": [
    {
     "data": {
      "text/html": [
       "<style>\n",
       "\n",
       ".rendered_html\n",
       "{\n",
       "  color: #2C5494;\n",
       "  font-family: Ubuntu;\n",
       "  font-size: 140%;\n",
       "  line-height: 1.1;\n",
       "  margin: 0.5em 0;\n",
       "  }\n",
       "\n",
       ".talk_title\n",
       "{\n",
       "  color: #498AF3;\n",
       "  font-size: 250%;\n",
       "  font-weight:bold;\n",
       "  line-height: 1.2; \n",
       "  margin: 10px 50px 10px;\n",
       "  }\n",
       "\n",
       ".subtitle\n",
       "{\n",
       "  color: #386BBC;\n",
       "  font-size: 180%;\n",
       "  font-weight:bold;\n",
       "  line-height: 1.2; \n",
       "  margin: 20px 50px 20px;\n",
       "  }\n",
       "\n",
       ".slide-header, p.slide-header\n",
       "{\n",
       "  color: #498AF3;\n",
       "  font-size: 200%;\n",
       "  font-weight:bold;\n",
       "  margin: 0px 20px 10px;\n",
       "  page-break-before: always;\n",
       "  text-align: center;\n",
       "  }\n",
       "\n",
       ".rendered_html h1\n",
       "{\n",
       "  color: #498AF3;\n",
       "  line-height: 1.2; \n",
       "  margin: 0.15em 0em 0.5em;\n",
       "  page-break-before: always;\n",
       "  text-align: center;\n",
       "  }\n",
       "\n",
       "\n",
       ".rendered_html h2\n",
       "{ \n",
       "  color: #386BBC;\n",
       "  line-height: 1.2;\n",
       "  margin: 1.1em 0em 0.5em;\n",
       "  }\n",
       "\n",
       ".rendered_html h3\n",
       "{ \n",
       "  font-size: 100%;\n",
       "  line-height: 1.2;\n",
       "  margin: 1.1em 0em 0.5em;\n",
       "  }\n",
       "\n",
       ".rendered_html li\n",
       "{\n",
       "  line-height: 1.8;\n",
       "  }\n",
       "\n",
       ".input_prompt, .CodeMirror-lines, .output_area\n",
       "{\n",
       "  font-family: Consolas;\n",
       "  font-size: 120%;\n",
       "  }\n",
       "\n",
       ".gap-above\n",
       "{\n",
       "  padding-top: 200px;\n",
       "  }\n",
       "\n",
       ".gap01\n",
       "{\n",
       "  padding-top: 10px;\n",
       "  }\n",
       "\n",
       ".gap05\n",
       "{\n",
       "  padding-top: 50px;\n",
       "  }\n",
       "\n",
       ".gap1\n",
       "{\n",
       "  padding-top: 100px;\n",
       "  }\n",
       "\n",
       ".gap2\n",
       "{\n",
       "  padding-top: 200px;\n",
       "  }\n",
       "\n",
       ".gap3\n",
       "{\n",
       "  padding-top: 300px;\n",
       "  }\n",
       "\n",
       ".emph\n",
       "{\n",
       "  color: #386BBC;\n",
       "  }\n",
       "\n",
       ".warn\n",
       "{\n",
       "  color: red;\n",
       "  }\n",
       "\n",
       ".center\n",
       "{\n",
       "  text-align: center;\n",
       "  }\n",
       "\n",
       ".nb_link\n",
       "{\n",
       "    padding-bottom: 0.5em;\n",
       "}\n",
       "\n",
       "</style>\n"
      ],
      "text/plain": [
       "<IPython.core.display.HTML object>"
      ]
     },
     "metadata": {},
     "output_type": "display_data"
    }
   ],
   "source": [
    "%run talktools.py"
   ]
  },
  {
   "cell_type": "markdown",
   "metadata": {},
   "source": [
    "By now you know the basics of:\n",
    "\n",
    "- Numpy array creation and manipulation.\n",
    "- Display of data in numpy arrays: path towards interactive exploratory work.\n",
    "\n",
    "\n",
    "# Today's Plan\n",
    "\n",
    "\n",
    "1. Plotting and visualization: overview & motivation\n",
    "2. `Matplotlib` / `Seaborn`\n",
    "3. 3d rendering with `matplotlib` and `mayavi`\n",
    "4. Interactive with `matplotlib`, `widgets`, and `Bokeh`\n",
    "5. \"Big data\" exploration with `datashader`\n",
    "6. Collaborative with `Plot.ly`\n",
    "\n",
    "<img src=\"https://www.evernote.com/l/AUVM_nsHxwxMU4IwxVdaZlTaOxRad1hL-lAB/image.png\">\n",
    "Source: B. Grainger (PyData 2016) https://www.youtube.com/watch?v=aRxahWy-ul8\n",
    "[declarative: what should be done, imperative: how it should be done]\n",
    "\n",
    "Hopefully after this week you will:\n",
    "\n",
    "- Know how to make and polish figures to the point where they can go to a journal.\n",
    "- Understand matplotlib's internal model enough to:\n",
    "  - know where to look for knobs to fine-tune\n",
    "  - better understand the help and examples online\n",
    "  - use it as a development platform for complex visualization\n",
    "- Be able to build basic interactive viz (in the browser)\n"
   ]
  },
  {
   "cell_type": "markdown",
   "metadata": {},
   "source": [
    "# Plotting and visualization: overview & motivation\n",
    "\n",
    "Major uses of plotting and viz in (data) science workflows:\n",
    "\n",
    "  1. (Initial) **Understanding** - What's there? what's missing? What patterns are worth exploring? What more data do I need?\n",
    "  2. **Exploration** - deeper dive into the \"meaning\". Often cyclical/iterative.\n",
    "  3. **Presentation** - results, telling stories with data (and potentially allowing others to explore)\n",
    "      - different requirements for data science vs science"
   ]
  },
  {
   "cell_type": "markdown",
   "metadata": {},
   "source": [
    "## Always visualize your data!\n"
   ]
  },
  {
   "cell_type": "code",
   "execution_count": null,
   "metadata": {
    "collapsed": false
   },
   "outputs": [],
   "source": [
    "%matplotlib inline\n",
    "import matplotlib.pyplot as plt\n",
    "\n",
    "# If you're reading in an image\n",
    "# !conda install pillow -y\n",
    "#import matplotlib.image as mpimg\n",
    "#data = mpimg.imread(\"data/my_data_file.jpg\")\n",
    "\n",
    "# or read in a numpy array\n",
    "import numpy as np\n",
    "data = np.load(\"data/my_data_file.npy\")"
   ]
  },
  {
   "cell_type": "code",
   "execution_count": null,
   "metadata": {
    "collapsed": false
   },
   "outputs": [],
   "source": [
    "data.shape"
   ]
  },
  {
   "cell_type": "code",
   "execution_count": null,
   "metadata": {
    "collapsed": false
   },
   "outputs": [],
   "source": [
    "import pandas as pd\n",
    "df = pd.DataFrame(data[:,:,0])\n",
    "df.info()"
   ]
  },
  {
   "cell_type": "code",
   "execution_count": null,
   "metadata": {
    "collapsed": false
   },
   "outputs": [],
   "source": [
    "df.describe()"
   ]
  },
  {
   "cell_type": "code",
   "execution_count": null,
   "metadata": {
    "collapsed": false
   },
   "outputs": [],
   "source": [
    "df.tail()"
   ]
  },
  {
   "cell_type": "code",
   "execution_count": null,
   "metadata": {
    "collapsed": false
   },
   "outputs": [],
   "source": [
    "plt.imshow(image)\n",
    "plt.show()"
   ]
  },
  {
   "cell_type": "markdown",
   "metadata": {},
   "source": [
    "Looking at your data not just for images/arrays. Critical for point data too."
   ]
  },
  {
   "cell_type": "markdown",
   "metadata": {},
   "source": [
    "### Anscombe's Quartet\n",
    "\n",
    "<p><a href=\"https://commons.wikimedia.org/wiki/File:Anscombe%27s_quartet_3.svg#/media/File:Anscombe%27s_quartet_3.svg\"><img src=\"https://upload.wikimedia.org/wikipedia/commons/thumb/e/ec/Anscombe%27s_quartet_3.svg/1200px-Anscombe%27s_quartet_3.svg.png\" alt=\"Anscombe's quartet 3.svg\"></a><br>By <a href=\"//commons.wikimedia.org/wiki/File:Anscombe.svg\" title=\"File:Anscombe.svg\">Anscombe.svg</a>: <a href=\"//commons.wikimedia.org/wiki/User:Schutz\" title=\"User:Schutz\">Schutz</a>\n",
    "derivative work (label using subscripts): <a href=\"//commons.wikimedia.org/wiki/User:Avenue\" title=\"User:Avenue\">Avenue</a> (<a href=\"//commons.wikimedia.org/wiki/User_talk:Avenue\" title=\"User talk:Avenue\"><span class=\"signature-talk\">talk</span></a>) - <a href=\"//commons.wikimedia.org/wiki/File:Anscombe.svg\" title=\"File:Anscombe.svg\">Anscombe.svg</a>, <a href=\"http://creativecommons.org/licenses/by-sa/3.0\" title=\"Creative Commons Attribution-Share Alike 3.0\">CC BY-SA 3.0</a>, <a href=\"https://commons.wikimedia.org/w/index.php?curid=9838454\">https://commons.wikimedia.org/w/index.php?curid=9838454</a></p>\n",
    "\n",
    "<img src=\"https://www.evernote.com/l/AUX2p-SfsmVAyZk9cnT7OqaI55Ru3JOmlMkB/image.png\">\n",
    "\n",
    "https://en.wikipedia.org/wiki/Anscombe%27s_quartet"
   ]
  },
  {
   "cell_type": "code",
   "execution_count": 5,
   "metadata": {
    "collapsed": false,
    "scrolled": true
   },
   "outputs": [
    {
     "data": {
      "text/html": [
       "\n",
       "<video width=\"620\" controls>\n",
       "  <source src=\"https://pbs.twimg.com/tweet_video/CrIDuOhWYAAVzcM.mp4\" type=\"video/mp4\">\n",
       "</video>\n"
      ],
      "text/plain": [
       "<IPython.core.display.HTML object>"
      ]
     },
     "execution_count": 5,
     "metadata": {},
     "output_type": "execute_result"
    }
   ],
   "source": [
    "from IPython.display import HTML\n",
    "HTML(\"\"\"\n",
    "<video width=\"620\" controls>\n",
    "  <source src=\"https://pbs.twimg.com/tweet_video/CrIDuOhWYAAVzcM.mp4\" type=\"video/mp4\">\n",
    "</video>\n",
    "\"\"\")"
   ]
  },
  {
   "cell_type": "markdown",
   "metadata": {},
   "source": [
    "From https://twitter.com/JustinMatejka/status/770682771656368128\"\n",
    "Called ... Anscombosaurus"
   ]
  },
  {
   "cell_type": "markdown",
   "metadata": {},
   "source": [
    "## How you decide to show data is part of the story itself\n",
    "\n",
    "Some basic thoughts:\n",
    "\n",
    " 1. No more lines, colors, points than you need to tell the story\n",
    " 2. But, no removing data for no other reason that it doesn't tell your story\n",
    " 3. Figures for talks and publications should be (almost) self-describing. An expert in your field should get the point.\n",
    " 4. Figures are the centerpiece of your paper: most people will remember a visual better than they'll remember your abstract.\n",
    " 5. I usually build the figures first, then write the meaty sections, then the conclusions, then the abstract, then the title.\n",
    " \n",
    "\"Ten Simple Rules for Better Figures\":\n",
    "http://journals.plos.org/ploscompbiol/article?id=10.1371/journal.pcbi.1003833"
   ]
  },
  {
   "cell_type": "markdown",
   "metadata": {},
   "source": [
    "## Pie Charts: no.\n",
    "\n",
    "Only two exceptions where this is ok..."
   ]
  },
  {
   "cell_type": "markdown",
   "metadata": {},
   "source": [
    "<img src=\"http://i1.wp.com/flowingdata.com/wp-content/uploads/2008/09/Pie-I-have-Eaten.jpg\">"
   ]
  },
  {
   "cell_type": "markdown",
   "metadata": {},
   "source": [
    "<img src=\"https://i0.wp.com/flowingdata.com/wp-content/uploads/2014/12/Pie-Pyramid-e1417455667996.png\">"
   ]
  },
  {
   "cell_type": "markdown",
   "metadata": {},
   "source": [
    "## Bring on the box plots\n",
    "\n",
    "<img src=\"http://www.nature.com/nmeth/journal/v11/n2/images/nmeth.2813-F1.jpg\">\n",
    "\n",
    "Sample BoxPlotR plots. Top: Simple Tukey-style box plot. Bottom: Tukey-style box plot with notches, means (crosses), 83% confidence intervals (gray bars; representative of p=0.05 significance) and n values.\n",
    "\n",
    "http://blogs.nature.com/methagora/2014/01/bring-on-the-box-plots-boxplotr.html"
   ]
  },
  {
   "cell_type": "markdown",
   "metadata": {},
   "source": [
    "<img src=\"http://www.nature.com/nature/journal/v480/n7377/images/nature10646-f2.2.jpg\" width=\"60%\">\n",
    "\n",
    "**Progenitor system constraints in a Hertzsprung–Russell diagram.**  Li, Bloom, et al., Nature 480, 348–350 (15 December 2011)"
   ]
  },
  {
   "cell_type": "markdown",
   "metadata": {},
   "source": []
  }
 ],
 "metadata": {
  "anaconda-cloud": {},
  "kernelspec": {
   "display_name": "Python [ay250]",
   "language": "python",
   "name": "Python [ay250]"
  },
  "language_info": {
   "codemirror_mode": {
    "name": "ipython",
    "version": 3
   },
   "file_extension": ".py",
   "mimetype": "text/x-python",
   "name": "python",
   "nbconvert_exporter": "python",
   "pygments_lexer": "ipython3",
   "version": "3.5.2"
  }
 },
 "nbformat": 4,
 "nbformat_minor": 0
}
