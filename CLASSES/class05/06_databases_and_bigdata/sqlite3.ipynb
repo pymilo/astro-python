{
 "cells": [
  {
   "cell_type": "code",
   "execution_count": 1,
   "metadata": {
    "collapsed": false
   },
   "outputs": [
    {
     "data": {
      "text/html": [
       "<style>\n",
       "\n",
       ".rendered_html\n",
       "{\n",
       "  color: #2C5494;\n",
       "  font-family: Ubuntu;\n",
       "  font-size: 140%;\n",
       "  line-height: 1.1;\n",
       "  margin: 0.5em 0;\n",
       "  }\n",
       "\n",
       ".talk_title\n",
       "{\n",
       "  color: #498AF3;\n",
       "  font-size: 250%;\n",
       "  font-weight:bold;\n",
       "  line-height: 1.2; \n",
       "  margin: 10px 50px 10px;\n",
       "  }\n",
       "\n",
       ".subtitle\n",
       "{\n",
       "  color: #386BBC;\n",
       "  font-size: 180%;\n",
       "  font-weight:bold;\n",
       "  line-height: 1.2; \n",
       "  margin: 20px 50px 20px;\n",
       "  }\n",
       "\n",
       ".slide-header, p.slide-header\n",
       "{\n",
       "  color: #498AF3;\n",
       "  font-size: 200%;\n",
       "  font-weight:bold;\n",
       "  margin: 0px 20px 10px;\n",
       "  page-break-before: always;\n",
       "  text-align: center;\n",
       "  }\n",
       "\n",
       ".rendered_html h1\n",
       "{\n",
       "  color: #498AF3;\n",
       "  line-height: 1.2; \n",
       "  margin: 0.15em 0em 0.5em;\n",
       "  page-break-before: always;\n",
       "  text-align: center;\n",
       "  }\n",
       "\n",
       "\n",
       ".rendered_html h2\n",
       "{ \n",
       "  color: #386BBC;\n",
       "  line-height: 1.2;\n",
       "  margin: 1.1em 0em 0.5em;\n",
       "  }\n",
       "\n",
       ".rendered_html h3\n",
       "{ \n",
       "  font-size: 100%;\n",
       "  line-height: 1.2;\n",
       "  margin: 1.1em 0em 0.5em;\n",
       "  }\n",
       "\n",
       ".rendered_html li\n",
       "{\n",
       "  line-height: 1.8;\n",
       "  }\n",
       "\n",
       ".input_prompt, .CodeMirror-lines, .output_area\n",
       "{\n",
       "  font-family: Consolas;\n",
       "  font-size: 120%;\n",
       "  }\n",
       "\n",
       ".gap-above\n",
       "{\n",
       "  padding-top: 200px;\n",
       "  }\n",
       "\n",
       ".gap01\n",
       "{\n",
       "  padding-top: 10px;\n",
       "  }\n",
       "\n",
       ".gap05\n",
       "{\n",
       "  padding-top: 50px;\n",
       "  }\n",
       "\n",
       ".gap1\n",
       "{\n",
       "  padding-top: 100px;\n",
       "  }\n",
       "\n",
       ".gap2\n",
       "{\n",
       "  padding-top: 200px;\n",
       "  }\n",
       "\n",
       ".gap3\n",
       "{\n",
       "  padding-top: 300px;\n",
       "  }\n",
       "\n",
       ".emph\n",
       "{\n",
       "  color: #386BBC;\n",
       "  }\n",
       "\n",
       ".warn\n",
       "{\n",
       "  color: red;\n",
       "  }\n",
       "\n",
       ".center\n",
       "{\n",
       "  text-align: center;\n",
       "  }\n",
       "\n",
       ".nb_link\n",
       "{\n",
       "    padding-bottom: 0.5em;\n",
       "}\n",
       "\n",
       "</style>\n"
      ],
      "text/plain": [
       "<IPython.core.display.HTML object>"
      ]
     },
     "metadata": {},
     "output_type": "display_data"
    }
   ],
   "source": [
    "%run talktools.py"
   ]
  },
  {
   "cell_type": "markdown",
   "metadata": {},
   "source": [
    "# sqlite3 interface through Python\n",
    "UC Berkeley Python class (AY250; 2013-2016)\n",
    "\n",
    "First, we show simple database creation."
   ]
  },
  {
   "cell_type": "code",
   "execution_count": 2,
   "metadata": {
    "collapsed": false
   },
   "outputs": [
    {
     "ename": "OperationalError",
     "evalue": "table dan_aykroyd already exists",
     "output_type": "error",
     "traceback": [
      "\u001b[0;31m------------------------------------------------------------------\u001b[0m",
      "\u001b[0;31mOperationalError\u001b[0m                 Traceback (most recent call last)",
      "\u001b[0;32m<ipython-input-2-bb9a6247e6e1>\u001b[0m in \u001b[0;36m<module>\u001b[0;34m()\u001b[0m\n\u001b[1;32m      4\u001b[0m sql_cmd = \"\"\"CREATE TABLE dan_aykroyd (id INTEGER PRIMARY KEY AUTOINCREMENT,\n\u001b[1;32m      5\u001b[0m     skit_title TEXT, air_date DATE, season INT, ep INT, role TEXT)\"\"\"\n\u001b[0;32m----> 6\u001b[0;31m \u001b[0mcursor\u001b[0m\u001b[0;34m.\u001b[0m\u001b[0mexecute\u001b[0m\u001b[0;34m(\u001b[0m\u001b[0msql_cmd\u001b[0m\u001b[0;34m)\u001b[0m\u001b[0;34m\u001b[0m\u001b[0m\n\u001b[0m",
      "\u001b[0;31mOperationalError\u001b[0m: table dan_aykroyd already exists"
     ]
    }
   ],
   "source": [
    "import sqlite3\n",
    "connection = sqlite3.connect(\"/tmp/example.db\")\n",
    "cursor = connection.cursor()\n",
    "sql_cmd = \"\"\"CREATE TABLE dan_aykroyd (id INTEGER PRIMARY KEY AUTOINCREMENT,\n",
    "    skit_title TEXT, air_date DATE, season INT, ep INT, role TEXT)\"\"\"\n",
    "cursor.execute(sql_cmd)"
   ]
  },
  {
   "cell_type": "markdown",
   "metadata": {},
   "source": [
    "Then, we insert some data."
   ]
  },
  {
   "cell_type": "code",
   "execution_count": 3,
   "metadata": {
    "collapsed": false
   },
   "outputs": [],
   "source": [
    "skit_data = [\n",
    "    (\"Trojan Horse Home Security\", \"10/11/75\", 1, 1, \"Kenny Vorstrather\"), \n",
    "    (\"E. Buzz Miller's Animal Kingdom\", \"2/25/78\", 3, 12, \"E. Buzz Miller\"), \n",
    "    (\"The Coneheads at Home\", \"10/21/78\", 4, 3, \"Beldar Conehead\")]\n",
    "for role in skit_data:\n",
    "    sql_cmd = (\"INSERT INTO dan_aykroyd (skit_title, air_date, season, \" +     \n",
    "        \"ep, role) VALUES \" + str(role))\n",
    "    cursor.execute(sql_cmd)"
   ]
  },
  {
   "cell_type": "markdown",
   "metadata": {},
   "source": [
    "Lastly, we run a simple query on the database we just made."
   ]
  },
  {
   "cell_type": "code",
   "execution_count": 4,
   "metadata": {
    "collapsed": false
   },
   "outputs": [
    {
     "name": "stdout",
     "output_type": "stream",
     "text": [
      "(2, \"E. Buzz Miller's Animal Kingdom\", '2/25/78', 3, 12, 'E. Buzz Miller')\n",
      "(3, 'The Coneheads at Home', '10/21/78', 4, 3, 'Beldar Conehead')\n",
      "(5, \"E. Buzz Miller's Animal Kingdom\", '2/25/78', 3, 12, 'E. Buzz Miller')\n",
      "(6, 'The Coneheads at Home', '10/21/78', 4, 3, 'Beldar Conehead')\n"
     ]
    }
   ],
   "source": [
    "sql_cmd = \"SELECT * FROM dan_aykroyd WHERE air_date > '10/12/75'\"\n",
    "cursor.execute(sql_cmd)\n",
    "db_info = cursor.fetchall()\n",
    "for entry in db_info: \n",
    "    print(entry)\n",
    "connection.commit()\n",
    "connection.close()"
   ]
  },
  {
   "cell_type": "markdown",
   "metadata": {},
   "source": [
    "Create another table, enter data, run simple join on columns using both tables."
   ]
  },
  {
   "cell_type": "code",
   "execution_count": 6,
   "metadata": {
    "collapsed": false
   },
   "outputs": [
    {
     "ename": "OperationalError",
     "evalue": "table jane_curtin already exists",
     "output_type": "error",
     "traceback": [
      "\u001b[0;31m------------------------------------------------------------------\u001b[0m",
      "\u001b[0;31mOperationalError\u001b[0m                 Traceback (most recent call last)",
      "\u001b[0;32m<ipython-input-6-54c77b480b32>\u001b[0m in \u001b[0;36m<module>\u001b[0;34m()\u001b[0m\n\u001b[1;32m      4\u001b[0m     skit_title TEXT, air_date DATE, season INT, ep INT, role TEXT)\"\"\"\n\u001b[1;32m      5\u001b[0m \u001b[0;34m\u001b[0m\u001b[0m\n\u001b[0;32m----> 6\u001b[0;31m \u001b[0mcursor\u001b[0m\u001b[0;34m.\u001b[0m\u001b[0mexecute\u001b[0m\u001b[0;34m(\u001b[0m\u001b[0msql_cmd\u001b[0m\u001b[0;34m)\u001b[0m\u001b[0;34m\u001b[0m\u001b[0m\n\u001b[0m\u001b[1;32m      7\u001b[0m \u001b[0;34m\u001b[0m\u001b[0m\n\u001b[1;32m      8\u001b[0m skit_data = [\n",
      "\u001b[0;31mOperationalError\u001b[0m: table jane_curtin already exists"
     ]
    }
   ],
   "source": [
    "connection = sqlite3.connect(\"/tmp/example.db\")\n",
    "cursor = connection.cursor()\n",
    "sql_cmd = \"\"\"CREATE TABLE jane_curtin (id INTEGER PRIMARY KEY AUTOINCREMENT,\n",
    "    skit_title TEXT, air_date DATE, season INT, ep INT, role TEXT)\"\"\"\n",
    "\n",
    "cursor.execute(sql_cmd)\n",
    "\n",
    "skit_data = [\n",
    "    (\"Teen Talk\", \"7/24/76\", 1, 23, \"Jane\"), \n",
    "    (\"The Snakehandling O'Sheas\", \"9/25/76\", 2, 2, \"Jane O'Shea\"), \n",
    "    (\"The Coneheads at Home\", \"10/21/78\", 4, 3, \"Prymaat Conehead\")]\n",
    "\n",
    "for role in skit_data:\n",
    "    sql_cmd = (\"INSERT INTO jane_curtin (skit_title, air_date, season, \" +     \n",
    "        \"ep, role) VALUES \" + str(role))\n",
    "    cursor.execute(sql_cmd)\n",
    "\n",
    "    # Our query is to find which skits featured both Dan Aykroyd and Jane Curtin.\n",
    "sql_cmd = \"\"\"SELECT dan_aykroyd.skit_title, dan_aykroyd.air_date, \n",
    "    dan_aykroyd.season, dan_aykroyd.ep, dan_aykroyd.role, jane_curtin.role\n",
    "    FROM dan_aykroyd, jane_curtin WHERE \n",
    "    dan_aykroyd.skit_title = jane_curtin.skit_title AND \n",
    "    dan_aykroyd.air_date = jane_curtin.air_date\"\"\"\n",
    "cursor.execute(sql_cmd)\n",
    "db_info = cursor.fetchall()\n",
    "for entry in db_info: \n",
    "    print(entry)"
   ]
  },
  {
   "cell_type": "markdown",
   "metadata": {},
   "source": [
    "We can also run a left join."
   ]
  },
  {
   "cell_type": "code",
   "execution_count": 7,
   "metadata": {
    "collapsed": false
   },
   "outputs": [
    {
     "name": "stdout",
     "output_type": "stream",
     "text": [
      "('Trojan Horse Home Security', '10/11/75', 1, 1, 'Kenny Vorstrather', None)\n",
      "(\"E. Buzz Miller's Animal Kingdom\", '2/25/78', 3, 12, 'E. Buzz Miller', None)\n",
      "('The Coneheads at Home', '10/21/78', 4, 3, 'Beldar Conehead', 'Prymaat Conehead')\n",
      "('Trojan Horse Home Security', '10/11/75', 1, 1, 'Kenny Vorstrather', None)\n",
      "(\"E. Buzz Miller's Animal Kingdom\", '2/25/78', 3, 12, 'E. Buzz Miller', None)\n",
      "('The Coneheads at Home', '10/21/78', 4, 3, 'Beldar Conehead', 'Prymaat Conehead')\n"
     ]
    }
   ],
   "source": [
    "sql_cmd = \"\"\"SELECT dan_aykroyd.skit_title, dan_aykroyd.air_date, \n",
    "    dan_aykroyd.season, dan_aykroyd.ep, dan_aykroyd.role, jane_curtin.role\n",
    "    FROM dan_aykroyd LEFT JOIN jane_curtin ON \n",
    "    dan_aykroyd.skit_title = jane_curtin.skit_title AND \n",
    "    dan_aykroyd.air_date = jane_curtin.air_date\"\"\"\n",
    "cursor.execute(sql_cmd)\n",
    "db_info = cursor.fetchall()\n",
    "for entry in db_info: \n",
    "    print(entry)\n",
    "connection.commit()\n",
    "connection.close()"
   ]
  },
  {
   "cell_type": "markdown",
   "metadata": {},
   "source": [
    "# Example with Plotting\n",
    "Emphasis on data retrieval"
   ]
  },
  {
   "cell_type": "code",
   "execution_count": 9,
   "metadata": {
    "collapsed": true
   },
   "outputs": [],
   "source": [
    "%matplotlib inline\n",
    "import matplotlib.pyplot as plt\n",
    "import seaborn as sns\n",
    "sns.set_context(\"poster\")"
   ]
  },
  {
   "cell_type": "code",
   "execution_count": 10,
   "metadata": {
    "collapsed": false
   },
   "outputs": [],
   "source": [
    "import sqlite3, datetime\n",
    "from numpy import loadtxt, array\n",
    "\n",
    "try:\n",
    "    # For Python 3.0 and later\n",
    "    from urllib.request import urlopen\n",
    "except ImportError:\n",
    "    # Fall back to Python 2's urllib2\n",
    "    from urllib2 import urlopen\n",
    "    \n",
    "\n",
    "def get_stock_data(stock_symbol):\n",
    "       \n",
    "    response = urlopen(\"http://ichart.finance.yahoo.com/table.csv?s=\" + \n",
    "        stock_symbol)\n",
    "    \n",
    "    data = response.read()\n",
    "    response.close()\n",
    "    output = open(stock_symbol + \".txt\", \"w\")\n",
    "    output.write(data.decode())\n",
    "    output.close()\n",
    "    return loadtxt(stock_symbol + \".txt\", skiprows=1, delimiter=\",\", \n",
    "                   dtype='|S10, float, float, float, float, float, float')"
   ]
  },
  {
   "cell_type": "markdown",
   "metadata": {},
   "source": [
    "!curl -k http://ichart.finance.yahoo.com/table.csv?s=TEAM\n",
    "\n",
    "Example of data file:\n",
    "<code>\n",
    "Date,Open,High,Low,Close,Volume,Adj Close\n",
    "2012-03-02,544.24,546.80,542.52,545.18,15382800,545.18\n",
    "2012-03-01,548.17,548.21,538.77,544.47,24380200,544.47\n",
    "2012-02-29,541.56,547.61,535.70,542.44,33973800,542.44\n",
    "2012-02-28,527.96,535.41,525.85,535.41,21398000,535.41\n",
    "2012-02-27,521.31,528.50,516.28,525.76,19515700,525.76\n",
    "2012-02-24,519.67,522.90,518.64,522.41,14824000,522.41\n",
    "2012-02-23,515.08,517.83,509.50,516.39,20270400,516.39\n",
    "2012-02-22,513.08,515.49,509.07,513.04,17243800,513.04\n",
    "2012-02-21,506.88,514.85,504.12,514.85,21580400,514.85\n",
    ".\n",
    ".\n",
    ".\n",
    "</code>\n",
    "continues on until 2000-02-01"
   ]
  },
  {
   "cell_type": "markdown",
   "metadata": {},
   "source": [
    "Here we create a table, download the stock data, and populate the table with the data."
   ]
  },
  {
   "cell_type": "code",
   "execution_count": 13,
   "metadata": {
    "collapsed": false
   },
   "outputs": [],
   "source": [
    "connection = sqlite3.connect(\":memory:\")\n",
    "cursor = connection.cursor()\n",
    "sql_cmd = \"\"\"CREATE TABLE stocks (id INTEGER PRIMARY KEY AUTOINCREMENT,\n",
    "    symbol TEXT, day INT, open FLOAT, high FLOAT, low FLOAT, close FLOAT,\n",
    "    volume FLOAT, adj_close FLOAT)\"\"\"\n",
    "cursor.execute(sql_cmd)\n",
    "\n",
    "stock_symbols = [\"EC\",\"TSLA\",\"AAPL\",\"TWTR\",\"ZEN\",\"GOOG\"]\n",
    "ref_date = datetime.date(2000, 1, 1)\n",
    "\n",
    "for stock_symbol in stock_symbols:\n",
    "    data = get_stock_data(stock_symbol)\n",
    "    for row in data:\n",
    "        \n",
    "        year = int(row[0].split(b\"-\")[0])\n",
    "        month = int(row[0].split(b\"-\")[1])\n",
    "        day = int(row[0].split(b\"-\")[2])\n",
    "        \n",
    "        stock_date = datetime.date(year, month, day)\n",
    "        \n",
    "        sql_cmd = \"\"\"INSERT INTO stocks \n",
    "                  (symbol, day, open, high, low, close,volume, adj_close)\n",
    "                  VALUES ('{}',{},{})\"\"\".format(stock_symbol,\n",
    "                             (stock_date - ref_date).days,\n",
    "                             \",\".join([str(x) for x in row.tolist()[1:]]))\n",
    "        cursor.execute(sql_cmd)\n",
    "    connection.commit()"
   ]
  },
  {
   "cell_type": "markdown",
   "metadata": {},
   "source": [
    "We can plot from the table easily, using the query to select out only the data we want to visualize."
   ]
  },
  {
   "cell_type": "code",
   "execution_count": 14,
   "metadata": {
    "collapsed": false
   },
   "outputs": [
    {
     "data": {
      "text/plain": [
       "<matplotlib.text.Text at 0x117dfcda0>"
      ]
     },
     "execution_count": 14,
     "metadata": {},
     "output_type": "execute_result"
    },
    {
     "data": {
      "image/png": "[encoded data removed]",
      "text/plain": [
       "<matplotlib.figure.Figure at 0x117cbada0>"
      ]
     },
     "metadata": {},
     "output_type": "display_data"
    }
   ],
   "source": [
    "f, ax = plt.subplots(figsize=(10,7))\n",
    "\n",
    "for ss in stock_symbols:\n",
    "    sql_cmd = \"SELECT day, close FROM stocks WHERE symbol == '\" + ss + \"'\"\n",
    "    cursor.execute(sql_cmd)\n",
    "    db_info = array(cursor.fetchall())\n",
    "    ax.plot(db_info[:, 0], db_info[:, 1], label=ss)\n",
    "\n",
    "connection.close()\n",
    "\n",
    "ax.legend(loc=2)\n",
    "ax.set_xlabel(\"Days since 1/1/2000\")\n",
    "ax.set_ylabel(\"Stock Price ($)\")\n",
    "f.suptitle(\"Stock Performance\")"
   ]
  },
  {
   "cell_type": "code",
   "execution_count": null,
   "metadata": {
    "collapsed": false
   },
   "outputs": [],
   "source": []
  },
  {
   "cell_type": "code",
   "execution_count": null,
   "metadata": {
    "collapsed": true
   },
   "outputs": [],
   "source": []
  }
 ],
 "metadata": {
  "anaconda-cloud": {},
  "kernelspec": {
   "display_name": "Python [ay250]",
   "language": "python",
   "name": "Python [ay250]"
  },
  "language_info": {
   "codemirror_mode": {
    "name": "ipython",
    "version": 3
   },
   "file_extension": ".py",
   "mimetype": "text/x-python",
   "name": "python",
   "nbconvert_exporter": "python",
   "pygments_lexer": "ipython3",
   "version": "3.5.2"
  }
 },
 "nbformat": 4,
 "nbformat_minor": 0
}
