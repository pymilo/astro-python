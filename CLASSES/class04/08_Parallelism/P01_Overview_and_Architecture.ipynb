{
 "cells": [
  {
   "cell_type": "markdown",
   "metadata": {},
   "source": [
    "# Overview and getting started"
   ]
  },
  {
   "cell_type": "markdown",
   "metadata": {},
   "source": [
    "## Introduction\n",
    "\n",
    "IPython is a tool for interactive and exploratory computing.\n",
    "We have seen that IPython's kernel provides a mechanism for interactive\n",
    "*remote* computation, and we have extended this same mechanism for\n",
    "interactive remote *parallel* computation, simply by having multiple\n",
    "kernels."
   ]
  },
  {
   "cell_type": "code",
   "execution_count": 49,
   "metadata": {
    "collapsed": false
   },
   "outputs": [
    {
     "data": {
      "image/png": "[encoded data removed]",
      "text/plain": [
       "<IPython.core.display.Image object>"
      ]
     },
     "execution_count": 49,
     "metadata": {},
     "output_type": "execute_result"
    }
   ],
   "source": [
    "from IPython.core.display import *\n",
    "Image(filename=\"figs/wideView400.png\")"
   ]
  },
  {
   "cell_type": "markdown",
   "metadata": {},
   "source": [
    "## Architecture overview\n",
    "\n",
    "The IPython architecture consists of four components:\n",
    "\n",
    "-   The IPython engine\n",
    "-   The IPython hub\n",
    "-   The IPython schedulers\n",
    "-   The cluster client\n",
    "\n",
    "These components live in the `ipyparallel` package. You'll need to install via conda or pip."
   ]
  },
  {
   "cell_type": "markdown",
   "metadata": {},
   "source": [
    "### IPython engine\n",
    "\n",
    "The Engine is simply a remote Python namespace where your code is run,\n",
    "and is a modified version of the kernel used elsewhere in IPython."
   ]
  },
  {
   "cell_type": "markdown",
   "metadata": {},
   "source": [
    "### IPython controller\n",
    "\n",
    "The Schedulers and Hub together comprise the Controller, which provides\n",
    "a single connection point for your clients and engines.  Each Scheduler is a small GIL-less function in C provided\n",
    "by pyzmq (the Python load-balancing scheduler being an exception),\n",
    "which handle relaying of messages between clients and engines.\n",
    "\n",
    "The Hub can be viewed as an über-logger, which monitors all communication\n",
    "between clients and engines, and logs to a database (SQLite or MongoDB)\n",
    "for later retrieval.  The Hub is not involved in execution in any way,\n",
    "and a slow Hub cannot slow down submission of tasks."
   ]
  },
  {
   "cell_type": "markdown",
   "metadata": {},
   "source": [
    "#### Schedulers\n",
    "\n",
    "All actions that can be performed on the engine go through a Scheduler.\n",
    "While the engines themselves block when user code is run, the schedulers\n",
    "hide that from the user to provide a fully asynchronous interface to a\n",
    "set of engines.  "
   ]
  },
  {
   "cell_type": "markdown",
   "metadata": {},
   "source": [
    "## ØMQ and PyZMQ\n",
    "\n",
    "All of this is implemented with the lovely ØMQ messaging library,\n",
    "and pyzmq, the lightweight Python bindings, which allows very fast\n",
    "zero-copy communication of objects like numpy arrays."
   ]
  },
  {
   "cell_type": "markdown",
   "metadata": {},
   "source": [
    "## IPython client and views\n",
    "\n",
    "There is one primary object, the `Client`, for\n",
    "connecting to a cluster. For each execution model, there is a\n",
    "corresponding `View`, and you manipulate how your work should\n",
    "be assigned on the cluster by creating different views or\n",
    "manipulating attributes of views.\n",
    "\n",
    "The two basic views:\n",
    "\n",
    "-   The `DirectView` class for explicit addressing.\n",
    "-   The `LoadBalancedView` class for destination-agnostic\n",
    "    scheduling."
   ]
  },
  {
   "cell_type": "markdown",
   "metadata": {},
   "source": [
    "## Getting Started\n",
    "\n",
    "Your notebook config (e.g. `~/.jupyter/jupyter_notebook_config.json`) should look like this:\n",
    "```json\n",
    "{\n",
    "  \"NotebookApp\": {\n",
    "    \"nbserver_extensions\": {\n",
    "      \"jupyterlab\": false,\n",
    "      \"ipyparallel.nbextension\": true\n",
    "    }\n",
    "  }\n",
    "}\n",
    "```\n",
    "\n",
    "## Starting the IPython controller and engines\n",
    "\n",
    "To follow along with this tutorial, you will need to start the IPython\n",
    "controller and four IPython engines. The simplest way of doing this is\n",
    "to use the `ipcluster` command:\n",
    "\n",
    "    $ ipcluster start -n 4\n",
    "\n",
    "There isn't time to go into it here, but ipcluster can be used to start engines\n",
    "and the controller with various batch systems including:\n",
    "\n",
    "* SGE\n",
    "* PBS\n",
    "* LSF\n",
    "* MPI\n",
    "* SSH\n",
    "* WinHPC\n",
    "\n",
    "More information on starting and configuring the IPython cluster in \n",
    "[the ipyparallel docs](https://ipyparallel.readthedocs.io/en/latest/intro.html#examples).\n",
    "\n",
    "Once you have started the IPython controller and one or more engines,\n",
    "you are ready to use the engines to do something useful. \n",
    "\n",
    "To make sure everything is working correctly, let's do a very simple demo:"
   ]
  },
  {
   "cell_type": "code",
   "execution_count": null,
   "metadata": {
    "collapsed": false
   },
   "outputs": [],
   "source": [
    "import ipyparallel as ipp\n",
    "from ipyparallel import Client\n",
    "rc = Client()\n",
    "rc.block = True"
   ]
  },
  {
   "cell_type": "code",
   "execution_count": null,
   "metadata": {
    "collapsed": false
   },
   "outputs": [],
   "source": [
    "rc.ids"
   ]
  },
  {
   "cell_type": "code",
   "execution_count": null,
   "metadata": {
    "collapsed": false
   },
   "outputs": [],
   "source": [
    "def mul(a,b):\n",
    "    return a*b"
   ]
  },
  {
   "cell_type": "code",
   "execution_count": null,
   "metadata": {
    "collapsed": false
   },
   "outputs": [],
   "source": [
    "mul(5,6)"
   ]
  },
  {
   "cell_type": "markdown",
   "metadata": {},
   "source": [
    "What does it look like to call this function remotely?\n",
    "\n",
    "Just turn `f(*args, **kwargs)` into `view.apply(f, *args, **kwargs)`!"
   ]
  },
  {
   "cell_type": "code",
   "execution_count": null,
   "metadata": {
    "collapsed": false
   },
   "outputs": [],
   "source": [
    "rc[0].apply(mul, 5, 6)"
   ]
  },
  {
   "cell_type": "markdown",
   "metadata": {},
   "source": [
    "And the same thing in parallel?"
   ]
  },
  {
   "cell_type": "code",
   "execution_count": null,
   "metadata": {
    "collapsed": false
   },
   "outputs": [],
   "source": [
    "rc[:].apply(mul, 5, 6)"
   ]
  },
  {
   "cell_type": "markdown",
   "metadata": {},
   "source": [
    "In practice, we make this a 'direct view', which is a simple but very useful multiplexer:"
   ]
  },
  {
   "cell_type": "code",
   "execution_count": null,
   "metadata": {
    "collapsed": true
   },
   "outputs": [],
   "source": [
    "dview = rc[:]"
   ]
  },
  {
   "cell_type": "markdown",
   "metadata": {},
   "source": [
    "Python has a builtin map for calling a function with a variety of arguments"
   ]
  },
  {
   "cell_type": "code",
   "execution_count": null,
   "metadata": {
    "collapsed": false
   },
   "outputs": [],
   "source": [
    "list(map(mul, range(1,10), range(2,11)))"
   ]
  },
  {
   "cell_type": "markdown",
   "metadata": {},
   "source": [
    "So how do we do this in parallel?"
   ]
  },
  {
   "cell_type": "code",
   "execution_count": null,
   "metadata": {
    "collapsed": false
   },
   "outputs": [],
   "source": [
    "view = rc.load_balanced_view()\n",
    "list(view.map(mul, range(1,10), range(2,11)))"
   ]
  },
  {
   "cell_type": "markdown",
   "metadata": {},
   "source": [
    "## Asynchronous execution"
   ]
  },
  {
   "cell_type": "code",
   "execution_count": null,
   "metadata": {
    "collapsed": false
   },
   "outputs": [],
   "source": [
    "rc.block"
   ]
  },
  {
   "cell_type": "code",
   "execution_count": null,
   "metadata": {
    "collapsed": true
   },
   "outputs": [],
   "source": [
    "rc.block = False"
   ]
  },
  {
   "cell_type": "code",
   "execution_count": null,
   "metadata": {
    "collapsed": false
   },
   "outputs": [],
   "source": [
    "dview = rc[:]\n",
    "dview.apply(mul, 5, 6)"
   ]
  },
  {
   "cell_type": "code",
   "execution_count": null,
   "metadata": {
    "collapsed": false
   },
   "outputs": [],
   "source": [
    "_.get()"
   ]
  },
  {
   "cell_type": "code",
   "execution_count": null,
   "metadata": {
    "collapsed": false
   },
   "outputs": [],
   "source": [
    "__.r"
   ]
  },
  {
   "cell_type": "code",
   "execution_count": null,
   "metadata": {
    "collapsed": false
   },
   "outputs": [],
   "source": [
    "___.result()"
   ]
  },
  {
   "cell_type": "code",
   "execution_count": null,
   "metadata": {
    "collapsed": false
   },
   "outputs": [],
   "source": [
    "view = rc.load_balanced_view()\n",
    "view.map(mul, range(1,10), range(2,11))"
   ]
  },
  {
   "cell_type": "code",
   "execution_count": null,
   "metadata": {
    "collapsed": false
   },
   "outputs": [],
   "source": [
    "_.r"
   ]
  },
  {
   "cell_type": "markdown",
   "metadata": {},
   "source": [
    "### Launch Dask from IPyParallel"
   ]
  },
  {
   "cell_type": "code",
   "execution_count": null,
   "metadata": {
    "collapsed": false
   },
   "outputs": [],
   "source": [
    "from ipyparallel import Client\n",
    "c = Client()  # connect to IPyParallel cluster\n",
    "e = c.become_distributed()  # start dask on top of IPyParallel\n",
    "e"
   ]
  },
  {
   "cell_type": "code",
   "execution_count": null,
   "metadata": {
    "collapsed": false
   },
   "outputs": [],
   "source": [
    "futures = e.map(mul, range(1,10), range(2,11))"
   ]
  },
  {
   "cell_type": "code",
   "execution_count": null,
   "metadata": {
    "collapsed": false
   },
   "outputs": [],
   "source": [
    "[future.result() for future in futures]"
   ]
  },
  {
   "cell_type": "code",
   "execution_count": null,
   "metadata": {
    "collapsed": true
   },
   "outputs": [],
   "source": []
  }
 ],
 "metadata": {
  "kernelspec": {
   "display_name": "Python 3",
   "language": "python",
   "name": "python3"
  },
  "language_info": {
   "codemirror_mode": {
    "name": "ipython",
    "version": 3
   },
   "file_extension": ".py",
   "mimetype": "text/x-python",
   "name": "python",
   "nbconvert_exporter": "python",
   "pygments_lexer": "ipython3",
   "version": "3.5.2"
  }
 },
 "nbformat": 4,
 "nbformat_minor": 0
}
