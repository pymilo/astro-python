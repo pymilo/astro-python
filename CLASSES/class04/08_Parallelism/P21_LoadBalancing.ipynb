{
 "cells": [
  {
   "cell_type": "markdown",
   "metadata": {},
   "source": [
    "# Load-balancing with ipyparallel"
   ]
  },
  {
   "cell_type": "code",
   "execution_count": 1,
   "metadata": {
    "collapsed": false
   },
   "outputs": [],
   "source": [
    "import os,sys,time\n",
    "import numpy as np\n",
    "\n",
    "from __future__ import print_function\n",
    "from IPython.core.display import display\n",
    "from ipyparallel import Client\n",
    "\n",
    "rc = Client()\n",
    "dview = rc[:]\n"
   ]
  },
  {
   "cell_type": "markdown",
   "metadata": {},
   "source": [
    "Create a LoadBalancedView"
   ]
  },
  {
   "cell_type": "code",
   "execution_count": 2,
   "metadata": {
    "collapsed": false
   },
   "outputs": [
    {
     "data": {
      "text/plain": [
       "<LoadBalancedView None>"
      ]
     },
     "execution_count": 2,
     "metadata": {},
     "output_type": "execute_result"
    }
   ],
   "source": [
    "lview = rc.load_balanced_view()\n",
    "lview"
   ]
  },
  {
   "cell_type": "markdown",
   "metadata": {},
   "source": [
    "LoadBalancedViews behave very much like a DirectView on a single engine:\n",
    "\n",
    "Each call to `apply()` results in a single remote computation,\n",
    "and the result (or AsyncResult) of that call is returned directly,\n",
    "rather than in a list, as in the multi-engine DirectView."
   ]
  },
  {
   "cell_type": "code",
   "execution_count": 3,
   "metadata": {
    "collapsed": true
   },
   "outputs": [],
   "source": [
    "e0 = rc[0]"
   ]
  },
  {
   "cell_type": "code",
   "execution_count": 4,
   "metadata": {
    "collapsed": false
   },
   "outputs": [
    {
     "data": {
      "text/plain": [
       "18.386064851468049"
      ]
     },
     "execution_count": 4,
     "metadata": {},
     "output_type": "execute_result"
    }
   ],
   "source": [
    "from numpy.linalg import norm\n",
    "A = np.random.random(1024)\n",
    "\n",
    "e0.apply_sync(norm, A, 2)"
   ]
  },
  {
   "cell_type": "code",
   "execution_count": 5,
   "metadata": {
    "collapsed": false
   },
   "outputs": [
    {
     "data": {
      "text/plain": [
       "18.386064851468049"
      ]
     },
     "execution_count": 5,
     "metadata": {},
     "output_type": "execute_result"
    }
   ],
   "source": [
    "lview.apply_sync(norm, A, 2)"
   ]
  },
  {
   "cell_type": "markdown",
   "metadata": {},
   "source": [
    "However, unlike the DirectView of a single engine, you are letting the IPython Scheduler decide which engine should do the work:"
   ]
  },
  {
   "cell_type": "code",
   "execution_count": 6,
   "metadata": {
    "collapsed": false
   },
   "outputs": [
    {
     "data": {
      "text/plain": [
       "18094"
      ]
     },
     "execution_count": 6,
     "metadata": {},
     "output_type": "execute_result"
    }
   ],
   "source": [
    "e0.apply_sync(os.getpid)"
   ]
  },
  {
   "cell_type": "code",
   "execution_count": 7,
   "metadata": {
    "collapsed": false
   },
   "outputs": [
    {
     "name": "stdout",
     "output_type": "stream",
     "text": [
      "18095\n",
      "18093\n",
      "18094\n",
      "18092\n",
      "18095\n",
      "18093\n",
      "18094\n",
      "18092\n"
     ]
    }
   ],
   "source": [
    "for i in range(2*len(rc.ids)):\n",
    "    print(lview.apply_sync(os.getpid))"
   ]
  },
  {
   "cell_type": "markdown",
   "metadata": {},
   "source": [
    "# Map\n",
    "\n",
    "The LoadBalancedView also has a load-balanced version of the builtin `map()`"
   ]
  },
  {
   "cell_type": "code",
   "execution_count": 11,
   "metadata": {
    "collapsed": false
   },
   "outputs": [
    {
     "data": {
      "text/plain": [
       "True"
      ]
     },
     "execution_count": 11,
     "metadata": {},
     "output_type": "execute_result"
    }
   ],
   "source": [
    "lview.block = True\n",
    "\n",
    "serial_result   =       list(map(lambda x:x**10, range(32)))\n",
    "parallel_result = lview.map(lambda x:x**10, range(32))\n",
    "\n",
    "serial_result==parallel_result"
   ]
  },
  {
   "cell_type": "markdown",
   "metadata": {},
   "source": [
    "Just like `apply()`, you can use non-blocking map with `block=False` or `map_async`"
   ]
  },
  {
   "cell_type": "code",
   "execution_count": 12,
   "metadata": {
    "collapsed": true
   },
   "outputs": [],
   "source": [
    "amr = lview.map_async(lambda x:x**10, range(32))"
   ]
  },
  {
   "cell_type": "markdown",
   "metadata": {},
   "source": [
    "## Map results are iterable!\n",
    "\n",
    "AsyncResults with multiple results are actually iterable before their\n",
    "results arrive.\n",
    "\n",
    "This means that you can perform map/reduce operations on elements as\n",
    "they come in:"
   ]
  },
  {
   "cell_type": "code",
   "execution_count": 14,
   "metadata": {
    "collapsed": false
   },
   "outputs": [
    {
     "name": "stdout",
     "output_type": "stream",
     "text": [
      "[0, 1, 2, 3]\n",
      "0: 0.013\n",
      "1: 1.011\n",
      "2: 2.021\n",
      "3: 3.018\n"
     ]
    }
   ],
   "source": [
    "import ipyparallel as ipp\n",
    "\n",
    "# scatter 'id', so id=0,1,2 on engines 0,1,2\n",
    "dv = rc[:]\n",
    "dv.scatter('id', rc.ids, flatten=True)\n",
    "print(dv['id'])\n",
    "\n",
    "# create a Reference to `id`. This will be a different value on each engine\n",
    "ref = ipp.Reference('id')\n",
    "\n",
    "tic = time.time()\n",
    "ar = dv.apply(time.sleep, ref)\n",
    "for i,r in enumerate(ar):\n",
    "    print(\"%i: %.3f\"%(i, time.time()-tic))\n",
    "    sys.stdout.flush()"
   ]
  },
  {
   "cell_type": "markdown",
   "metadata": {},
   "source": [
    "Now we submit a bunch of tasks of increasing magnitude, and\n",
    "watch where they happen, iterating through the results as they come."
   ]
  },
  {
   "cell_type": "code",
   "execution_count": 15,
   "metadata": {
    "collapsed": false
   },
   "outputs": [
    {
     "name": "stdout",
     "output_type": "stream",
     "text": [
      "task 0 on engine 2: 0.000\n",
      "task 1 on engine 0: 0.001\n",
      "task 2 on engine 1: 0.001\n",
      "task 3 on engine 3: 0.002\n",
      "task 4 on engine 2: 0.002\n",
      "task 5 on engine 0: 0.003\n",
      "task 6 on engine 1: 0.003\n",
      "task 7 on engine 3: 0.004\n",
      "task 8 on engine 2: 0.004\n",
      "task 9 on engine 0: 0.005\n",
      "task 10 on engine 1: 0.006\n",
      "task 11 on engine 3: 0.007\n",
      "task 12 on engine 2: 0.007\n",
      "task 13 on engine 0: 0.008\n",
      "task 14 on engine 1: 0.008\n",
      "task 15 on engine 3: 0.009\n",
      "task 16 on engine 2: 0.010\n",
      "task 17 on engine 0: 0.011\n",
      "task 18 on engine 1: 0.012\n",
      "task 19 on engine 3: 0.015\n",
      "task 20 on engine 2: 0.016\n",
      "task 21 on engine 0: 0.017\n",
      "task 22 on engine 1: 0.017\n",
      "task 23 on engine 3: 0.018\n",
      "task 24 on engine 2: 0.019\n",
      "task 25 on engine 0: 0.020\n",
      "task 26 on engine 1: 0.022\n",
      "task 27 on engine 3: 0.023\n",
      "task 28 on engine 2: 0.024\n",
      "task 29 on engine 0: 0.024\n",
      "task 30 on engine 1: 0.025\n",
      "task 31 on engine 3: 0.026\n",
      "task 32 on engine 2: 0.027\n",
      "task 33 on engine 0: 0.028\n",
      "task 34 on engine 1: 0.029\n",
      "task 35 on engine 3: 0.030\n",
      "task 36 on engine 2: 0.031\n",
      "task 37 on engine 0: 0.031\n",
      "task 38 on engine 1: 0.032\n",
      "task 39 on engine 3: 0.033\n",
      "task 40 on engine 2: 0.033\n",
      "task 41 on engine 0: 0.034\n",
      "task 42 on engine 1: 0.035\n",
      "task 43 on engine 3: 0.036\n",
      "task 44 on engine 2: 0.038\n",
      "task 45 on engine 0: 0.039\n",
      "task 46 on engine 1: 0.040\n",
      "task 47 on engine 3: 0.041\n",
      "task 48 on engine 2: 0.041\n",
      "task 49 on engine 0: 0.042\n",
      "task 50 on engine 1: 0.043\n",
      "task 51 on engine 3: 0.043\n",
      "task 52 on engine 2: 0.045\n",
      "task 53 on engine 0: 0.046\n",
      "task 54 on engine 1: 0.047\n",
      "task 55 on engine 3: 0.047\n",
      "task 56 on engine 2: 0.048\n",
      "task 57 on engine 0: 0.049\n",
      "task 58 on engine 1: 0.050\n",
      "task 59 on engine 3: 0.050\n",
      "task 60 on engine 2: 0.051\n",
      "task 61 on engine 0: 0.051\n",
      "task 62 on engine 1: 0.052\n",
      "task 63 on engine 3: 0.052\n",
      "task 64 on engine 2: 0.053\n",
      "task 65 on engine 0: 0.054\n",
      "task 66 on engine 1: 0.054\n",
      "task 67 on engine 3: 0.055\n",
      "task 68 on engine 2: 0.056\n",
      "task 69 on engine 0: 0.056\n",
      "task 70 on engine 1: 0.057\n",
      "task 71 on engine 3: 0.057\n",
      "task 72 on engine 2: 0.058\n",
      "task 73 on engine 0: 0.059\n",
      "task 74 on engine 1: 0.059\n",
      "task 75 on engine 3: 0.060\n",
      "task 76 on engine 2: 0.061\n",
      "task 77 on engine 0: 0.061\n",
      "task 78 on engine 1: 0.062\n",
      "task 79 on engine 3: 0.062\n",
      "task 80 on engine 2: 0.063\n",
      "task 81 on engine 0: 0.063\n",
      "task 82 on engine 1: 0.064\n",
      "task 83 on engine 3: 0.064\n",
      "task 84 on engine 2: 0.065\n",
      "task 85 on engine 0: 0.066\n",
      "task 86 on engine 1: 0.066\n",
      "task 87 on engine 3: 0.067\n",
      "task 88 on engine 2: 0.067\n",
      "task 89 on engine 0: 0.070\n",
      "task 90 on engine 1: 0.071\n",
      "task 91 on engine 3: 0.072\n",
      "task 92 on engine 2: 0.072\n",
      "task 93 on engine 0: 0.073\n",
      "task 94 on engine 1: 0.074\n",
      "task 95 on engine 3: 0.074\n",
      "task 96 on engine 2: 0.075\n",
      "task 97 on engine 0: 0.075\n",
      "task 98 on engine 1: 0.076\n",
      "task 99 on engine 3: 0.077\n"
     ]
    }
   ],
   "source": [
    "def sleep_here(t):\n",
    "    \"\"\"sleep here for a time, return where it happened\"\"\"\n",
    "    import time\n",
    "    time.sleep(t)\n",
    "    return id\n",
    "\n",
    "amr = lview.map(sleep_here, [.01*t for t in range(100)])\n",
    "tic = time.time()\n",
    "for i,r in enumerate(amr):\n",
    "    print(\"task %i on engine %i: %.3f\" % (i, r, time.time()-tic))\n",
    "    sys.stdout.flush()"
   ]
  },
  {
   "cell_type": "markdown",
   "metadata": {},
   "source": [
    "Unlike `DirectView.map()`, which always results in one task per engine,\n",
    "LoadBalance map defaults to one task per *item* in the sequence.  This\n",
    "can be changed by specifying the `chunksize` keyword arg."
   ]
  },
  {
   "cell_type": "code",
   "execution_count": 16,
   "metadata": {
    "collapsed": false
   },
   "outputs": [
    {
     "name": "stdout",
     "output_type": "stream",
     "text": [
      "task 0 on engine 2: 0.000\n",
      "task 1 on engine 2: 0.001\n",
      "task 2 on engine 2: 0.001\n",
      "task 3 on engine 2: 0.002\n",
      "task 4 on engine 0: 0.002\n",
      "task 5 on engine 0: 0.003\n",
      "task 6 on engine 0: 0.003\n",
      "task 7 on engine 0: 0.004\n",
      "task 8 on engine 1: 0.005\n",
      "task 9 on engine 1: 0.006\n",
      "task 10 on engine 1: 0.006\n",
      "task 11 on engine 1: 0.007\n",
      "task 12 on engine 3: 0.007\n",
      "task 13 on engine 3: 0.008\n",
      "task 14 on engine 3: 0.009\n",
      "task 15 on engine 3: 0.009\n",
      "task 16 on engine 2: 0.010\n",
      "task 17 on engine 2: 0.010\n",
      "task 18 on engine 2: 0.010\n",
      "task 19 on engine 2: 0.011\n"
     ]
    }
   ],
   "source": [
    "amr = lview.map(sleep_here, [.01*t for t in range(20)], chunksize=4)\n",
    "tic = time.time()\n",
    "for i,r in enumerate(amr):\n",
    "    print(\"task %i on engine %i: %.3f\"%(i, r, time.time()-tic))\n",
    "    sys.stdout.flush()"
   ]
  },
  {
   "cell_type": "markdown",
   "metadata": {},
   "source": [
    "# Example\n",
    "\n",
    "## Parallelize nested loops\n",
    "\n",
    "Often we want to run a function with a variety of combinations of arguments.\n",
    "A useful skill is the ability to express a nested loop in terms of a map."
   ]
  },
  {
   "cell_type": "code",
   "execution_count": 17,
   "metadata": {
    "collapsed": false
   },
   "outputs": [
    {
     "data": {
      "text/plain": [
       "[6, 7, 8, 9, 12, 14, 16, 18, 18, 21, 24, 27]"
      ]
     },
     "execution_count": 17,
     "metadata": {},
     "output_type": "execute_result"
    }
   ],
   "source": [
    "def area(w,h):\n",
    "    return w*h\n",
    "\n",
    "\n",
    "widths = range(1,4)\n",
    "heights = range(6,10)\n",
    "\n",
    "areas = []\n",
    "for w in widths:\n",
    "    for h in heights:\n",
    "        areas.append(area(w,h))\n",
    "areas"
   ]
  },
  {
   "cell_type": "markdown",
   "metadata": {},
   "source": [
    "Hint: `itertools.product` and `zip` will be helpful."
   ]
  },
  {
   "cell_type": "code",
   "execution_count": 20,
   "metadata": {
    "collapsed": false
   },
   "outputs": [
    {
     "name": "stdout",
     "output_type": "stream",
     "text": [
      " widths (1, 1, 1, 1, 2, 2, 2, 2, 3, 3, 3, 3)\n",
      "heights (6, 7, 8, 9, 6, 7, 8, 9, 6, 7, 8, 9)\n"
     ]
    }
   ],
   "source": [
    "# %load soln/nestedloop.py\n",
    "# To parallelize every call with map, you just need to get a list for each argument.\n",
    "# You can use `itertools.product` + `zip` to get this:\n",
    "\n",
    "import itertools\n",
    "\n",
    "product = list(itertools.product(widths, heights))\n",
    "# [(1, 6), (1, 7), (2, 6), (2, 7), (3, 6), (3, 7)]\n",
    "\n",
    "# So we have a \"list of pairs\", \n",
    "# but what we really want is a single list for each argument, i.e. a \"pair of lists\".\n",
    "# This is exactly what the slightly weird `zip(*product)` syntax gets us:\n",
    "\n",
    "allwidths, allheights = zip(*itertools.product(widths, heights))\n",
    "\n",
    "print(\" widths\", allwidths)\n",
    "print(\"heights\", allheights)\n",
    "\n",
    "# Now we just map our function onto those two lists, to parallelize nested for loops:\n",
    "\n",
    "ar = lview.map_async(area, allwidths, allheights)\n"
   ]
  },
  {
   "cell_type": "code",
   "execution_count": 21,
   "metadata": {
    "collapsed": false
   },
   "outputs": [
    {
     "name": "stdout",
     "output_type": "stream",
     "text": [
      " widths (1, 1, 1, 1, 2, 2, 2, 2, 3, 3, 3, 3)\n",
      "heights (6, 7, 8, 9, 6, 7, 8, 9, 6, 7, 8, 9)\n"
     ]
    }
   ],
   "source": [
    "# To parallelize every call with map, you just need to get a list for each argument.\n",
    "# You can use `itertools.product` + `zip` to get this:\n",
    "\n",
    "\n",
    "import itertools\n",
    "\n",
    "product = list(itertools.product(widths, heights))\n",
    "# [(1, 6), (1, 7), (2, 6), (2, 7), (3, 6), (3, 7)]\n",
    "\n",
    "# So we have a \"list of pairs\", \n",
    "# but what we really want is a single list for each argument, i.e. a \"pair of lists\".\n",
    "# This is exactly what the slightly weird `zip(*product)` syntax gets us:\n",
    "\n",
    "allwidths, allheights = zip(*itertools.product(widths, heights))\n",
    "\n",
    "print(\" widths\", allwidths)\n",
    "print(\"heights\", allheights)\n",
    "\n",
    "# Now we just map our function onto those two lists, to parallelize nested for loops:\n",
    "\n",
    "ar = lview.map_async(area, allwidths, allheights)\n"
   ]
  },
  {
   "cell_type": "markdown",
   "metadata": {},
   "source": [
    "Validate the result:"
   ]
  },
  {
   "cell_type": "code",
   "execution_count": 22,
   "metadata": {
    "collapsed": false
   },
   "outputs": [
    {
     "data": {
      "text/plain": [
       "True"
      ]
     },
     "execution_count": 22,
     "metadata": {},
     "output_type": "execute_result"
    }
   ],
   "source": [
    "areas == ar.get()"
   ]
  },
  {
   "cell_type": "code",
   "execution_count": null,
   "metadata": {
    "collapsed": true
   },
   "outputs": [],
   "source": []
  }
 ],
 "metadata": {
  "kernelspec": {
   "display_name": "Python 3",
   "language": "python",
   "name": "python3"
  },
  "language_info": {
   "codemirror_mode": {
    "name": "ipython",
    "version": 3
   },
   "file_extension": ".py",
   "mimetype": "text/x-python",
   "name": "python",
   "nbconvert_exporter": "python",
   "pygments_lexer": "ipython3",
   "version": "3.5.2"
  }
 },
 "nbformat": 4,
 "nbformat_minor": 0
}
