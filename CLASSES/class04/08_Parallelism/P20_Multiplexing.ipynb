{
 "cells": [
  {
   "cell_type": "markdown",
   "metadata": {},
   "source": [
    "# DirectView as multiplexer"
   ]
  },
  {
   "cell_type": "code",
   "execution_count": 2,
   "metadata": {
    "collapsed": false
   },
   "outputs": [],
   "source": [
    "from IPython.display import display\n",
    "from ipyparallel import Client\n",
    "rc = Client()"
   ]
  },
  {
   "cell_type": "markdown",
   "metadata": {},
   "source": [
    "The DirectView can be readily understood as an Engine Multiplexer -\n",
    "it does the same thing on all of its engines.\n",
    "\n",
    "The only difference between running code on a single remote engine\n",
    "and running code in parallel is how many engines the DirectView is\n",
    "instructed to use.\n",
    "\n",
    "You can create DirectViews by index-access to the Client.  This creates\n",
    "a DirectView using the engines after passing the same index (or slice)\n",
    "to the `ids` list."
   ]
  },
  {
   "cell_type": "code",
   "execution_count": 3,
   "metadata": {
    "collapsed": true
   },
   "outputs": [],
   "source": [
    "e0 = rc[0]\n",
    "eall = rc[:]\n",
    "even = rc[::2]\n",
    "odd = rc[1::2]\n",
    "\n",
    "# this is the one we are going to use:\n",
    "dview = eall\n",
    "dview.block = True"
   ]
  },
  {
   "cell_type": "markdown",
   "metadata": {},
   "source": [
    "Now, the only difference from single-engine remote execution is that the code we run happens on all of the engines of a given view:"
   ]
  },
  {
   "cell_type": "code",
   "execution_count": 5,
   "metadata": {
    "collapsed": false
   },
   "outputs": [
    {
     "name": "stdout",
     "output_type": "stream",
     "text": [
      "<DirectView 0> 18094\n",
      "<DirectView [0, 1, 2, 3]> [18094, 18093, 18095, 18092]\n",
      "<DirectView [0, 2]> [18094, 18095]\n",
      "<DirectView [1, 3]> [18093, 18092]\n"
     ]
    }
   ],
   "source": [
    "import os\n",
    "for view in (e0, eall, even, odd):\n",
    "    print(view, view.apply_sync(os.getpid))"
   ]
  },
  {
   "cell_type": "markdown",
   "metadata": {},
   "source": [
    "The results of multiplexed execution is always a list of the length of the number of engines."
   ]
  },
  {
   "cell_type": "code",
   "execution_count": 6,
   "metadata": {
    "collapsed": false
   },
   "outputs": [
    {
     "data": {
      "text/plain": [
       "[5, 5, 5, 5]"
      ]
     },
     "execution_count": 6,
     "metadata": {},
     "output_type": "execute_result"
    }
   ],
   "source": [
    "dview['a'] = 5\n",
    "dview['a']"
   ]
  },
  {
   "cell_type": "markdown",
   "metadata": {},
   "source": [
    "# Scatter and Gather\n",
    "\n",
    "Lots of parallel computations involve partitioning data onto processes.  \n",
    "DirectViews have `scatter()` and `gather()` methods, to help with this.\n",
    "Pass any container or numpy array, and IPython will partition the object onto the engines wih `scatter`,\n",
    "or reconstruct the full object in the Client with `gather()`."
   ]
  },
  {
   "cell_type": "code",
   "execution_count": 8,
   "metadata": {
    "collapsed": false
   },
   "outputs": [
    {
     "name": "stdout",
     "output_type": "stream",
     "text": [
      "a in the engines: [array([0, 1, 2, 3]), array([4, 5, 6, 7]), array([ 8,  9, 10, 11]), array([12, 13, 14, 15])]\n",
      "a here: 4\n",
      "len of whole thing: 16\n",
      "[ 0  1  2  3  4  5  6  7  8  9 10 11 12 13 14 15]\n"
     ]
    }
   ],
   "source": [
    "import numpy as np\n",
    "dview.scatter('a',np.arange(16))\n",
    "a = len(dview['a'])\n",
    "\n",
    "print('a in the engines:',dview['a'])\n",
    "print('a here:', a)\n",
    "print('len of whole thing:', len(dview.gather('a')))\n",
    "print(dview.gather('a'))"
   ]
  },
  {
   "cell_type": "code",
   "execution_count": 9,
   "metadata": {
    "collapsed": false
   },
   "outputs": [
    {
     "data": {
      "text/plain": [
       "array([ 0,  1,  2,  3,  4,  5,  6,  7,  8,  9, 10, 11, 12, 13, 14, 15])"
      ]
     },
     "execution_count": 9,
     "metadata": {},
     "output_type": "execute_result"
    }
   ],
   "source": [
    "e0.block = True\n",
    "e0.scatter('a',np.arange(16))\n",
    "e0['a']"
   ]
  },
  {
   "cell_type": "code",
   "execution_count": 10,
   "metadata": {
    "collapsed": false
   },
   "outputs": [
    {
     "data": {
      "text/plain": [
       "array([ 0,  1,  2,  3,  4,  5,  6,  7,  8,  9, 10, 11, 12, 13, 14, 15,  4,\n",
       "        5,  6,  7,  8,  9, 10, 11, 12, 13, 14, 15])"
      ]
     },
     "execution_count": 10,
     "metadata": {},
     "output_type": "execute_result"
    }
   ],
   "source": [
    "dview.gather('a')"
   ]
  },
  {
   "cell_type": "code",
   "execution_count": 11,
   "metadata": {
    "collapsed": false
   },
   "outputs": [
    {
     "data": {
      "text/plain": [
       "[120, 22, 38, 54]"
      ]
     },
     "execution_count": 11,
     "metadata": {},
     "output_type": "execute_result"
    }
   ],
   "source": [
    "dview.execute(\"asum = sum(a)\")\n",
    "dview.gather('asum')"
   ]
  },
  {
   "cell_type": "markdown",
   "metadata": {},
   "source": [
    "The cell magic `%%px` is equivalent to calling `dview.execute()` on an entire cell, with a more convenient syntax:"
   ]
  },
  {
   "cell_type": "code",
   "execution_count": 12,
   "metadata": {
    "collapsed": false
   },
   "outputs": [],
   "source": [
    "%%px\n",
    "# This entire cell will be executed in all the engines as if we'd called\n",
    "# dview.execute(\"...\") with the contents below.\n",
    "asum2 = 2*sum(a)\n",
    "import numpy as np\n",
    "b = np.random.rand(4)"
   ]
  },
  {
   "cell_type": "markdown",
   "metadata": {},
   "source": [
    "We can now agther"
   ]
  },
  {
   "cell_type": "code",
   "execution_count": 13,
   "metadata": {
    "collapsed": false
   },
   "outputs": [
    {
     "name": "stdout",
     "output_type": "stream",
     "text": [
      "asum2:\n",
      " [240, 44, 76, 108]\n",
      "b    :\n",
      " [ 0.67769157  0.07856507  0.7548284   0.76355569  0.2633911   0.05192797\n",
      "  0.74228314  0.63888739  0.63031973  0.56405279  0.74885016  0.56197146\n",
      "  0.30082453  0.11919063  0.50652661  0.3188103 ]\n"
     ]
    }
   ],
   "source": [
    "print('asum2:\\n', dview.gather('asum2'))\n",
    "print('b    :\\n', dview.gather('b'))"
   ]
  },
  {
   "cell_type": "markdown",
   "metadata": {},
   "source": [
    "With gather and `%%px` we can conveniently break up computation across multiple engines, for example a set of data files that need processing:"
   ]
  },
  {
   "cell_type": "code",
   "execution_count": 14,
   "metadata": {
    "collapsed": false
   },
   "outputs": [
    {
     "data": {
      "text/plain": [
       "[['one.txt'], ['two.txt'], ['three.txt'], []]"
      ]
     },
     "execution_count": 14,
     "metadata": {},
     "output_type": "execute_result"
    }
   ],
   "source": [
    "files = ['one.txt', 'two.txt', 'three.txt']\n",
    "dview.scatter('files', files)\n",
    "dview['files']"
   ]
  },
  {
   "cell_type": "markdown",
   "metadata": {},
   "source": [
    "Note  how when  we run code with `%%px`, IPython automatically captures and summarizes print output for us from all engines:"
   ]
  },
  {
   "cell_type": "code",
   "execution_count": 16,
   "metadata": {
    "collapsed": false
   },
   "outputs": [
    {
     "name": "stdout",
     "output_type": "stream",
     "text": [
      "[stdout:0] filename: one.txt\n",
      "[stdout:1] filename: two.txt\n",
      "[stdout:2] filename: three.txt\n"
     ]
    }
   ],
   "source": [
    "%%px\n",
    "for file in files:\n",
    "    print('filename:', file)"
   ]
  },
  {
   "cell_type": "markdown",
   "metadata": {},
   "source": [
    "We can pass a 'flatten' keyword,\n",
    "to instruct engines that will only get one item of the list to\n",
    "get the actual item, rather than a one-element sublist:"
   ]
  },
  {
   "cell_type": "code",
   "execution_count": 17,
   "metadata": {
    "collapsed": false
   },
   "outputs": [
    {
     "data": {
      "text/plain": [
       "[[0], [1], [2], [3]]"
      ]
     },
     "execution_count": 17,
     "metadata": {},
     "output_type": "execute_result"
    }
   ],
   "source": [
    "dview.scatter('id',rc.ids)\n",
    "dview['id']"
   ]
  },
  {
   "cell_type": "code",
   "execution_count": 18,
   "metadata": {
    "collapsed": false
   },
   "outputs": [
    {
     "data": {
      "text/plain": [
       "[0, 1, 2, 3]"
      ]
     },
     "execution_count": 18,
     "metadata": {},
     "output_type": "execute_result"
    }
   ],
   "source": [
    "dview.scatter('id',rc.ids, flatten=True)\n",
    "dview['id']"
   ]
  },
  {
   "cell_type": "markdown",
   "metadata": {},
   "source": [
    "Scatter and gather also work with numpy arrays"
   ]
  },
  {
   "cell_type": "code",
   "execution_count": 19,
   "metadata": {
    "collapsed": false
   },
   "outputs": [
    {
     "data": {
      "text/plain": [
       "array([[9, 7, 6, 5],\n",
       "       [3, 3, 8, 7],\n",
       "       [9, 5, 2, 4],\n",
       "       [3, 9, 8, 3],\n",
       "       [8, 3, 7, 7],\n",
       "       [2, 9, 4, 8],\n",
       "       [7, 1, 1, 4],\n",
       "       [1, 3, 5, 5],\n",
       "       [1, 9, 7, 8],\n",
       "       [6, 1, 4, 7],\n",
       "       [5, 6, 4, 1],\n",
       "       [7, 2, 4, 2],\n",
       "       [8, 8, 9, 7],\n",
       "       [2, 9, 2, 9],\n",
       "       [8, 3, 9, 4],\n",
       "       [2, 6, 9, 9]])"
      ]
     },
     "metadata": {},
     "output_type": "display_data"
    },
    {
     "data": {
      "text/plain": [
       "array([[9, 4, 2, 8, 6, 5, 4, 4, 4, 7, 3, 9, 6, 9, 6, 5],\n",
       "       [6, 2, 6, 1, 9, 1, 2, 7, 1, 1, 7, 4, 5, 9, 3, 9],\n",
       "       [6, 7, 2, 4, 7, 8, 1, 3, 5, 7, 2, 8, 6, 6, 5, 8],\n",
       "       [7, 8, 2, 5, 2, 3, 4, 7, 5, 1, 2, 5, 3, 9, 5, 6]])"
      ]
     },
     "metadata": {},
     "output_type": "display_data"
    }
   ],
   "source": [
    "A = np.random.randint(1,10,(16,4))\n",
    "B = np.random.randint(1,10,(4,16))\n",
    "display(A)\n",
    "display(B)"
   ]
  },
  {
   "cell_type": "code",
   "execution_count": 20,
   "metadata": {
    "collapsed": false
   },
   "outputs": [
    {
     "data": {
      "text/plain": [
       "array([[9, 7, 6, 5],\n",
       "       [3, 3, 8, 7],\n",
       "       [9, 5, 2, 4],\n",
       "       [3, 9, 8, 3]])"
      ]
     },
     "metadata": {},
     "output_type": "display_data"
    },
    {
     "data": {
      "text/plain": [
       "array([[9, 4, 2, 8, 6, 5, 4, 4, 4, 7, 3, 9, 6, 9, 6, 5]])"
      ]
     },
     "metadata": {},
     "output_type": "display_data"
    }
   ],
   "source": [
    "dview.scatter('A', A)\n",
    "dview.scatter('B', B)\n",
    "display(e0['A'])\n",
    "display(e0['B'])"
   ]
  },
  {
   "cell_type": "markdown",
   "metadata": {},
   "source": [
    "# Example: Parallel Matrix Multiply\n",
    "\n",
    "With what we have seen so far, we can write our own (completely terrible!) parallel matrix multiply.\n",
    "\n",
    "* Remember - multiply rows of one by the columns of the other.\n",
    "* easiest implementation involves one each of: push, scatter, execute, gather"
   ]
  },
  {
   "cell_type": "code",
   "execution_count": 25,
   "metadata": {
    "collapsed": true
   },
   "outputs": [],
   "source": [
    "%load soln/matmul.py"
   ]
  },
  {
   "cell_type": "markdown",
   "metadata": {},
   "source": [
    "Let's run this, and validate the result against a local computation."
   ]
  },
  {
   "cell_type": "code",
   "execution_count": 26,
   "metadata": {
    "collapsed": false
   },
   "outputs": [
    {
     "data": {
      "text/plain": [
       "True"
      ]
     },
     "execution_count": 26,
     "metadata": {},
     "output_type": "execute_result"
    }
   ],
   "source": [
    "C_ref = A.dot(B)\n",
    "C1 = pdot(dview, A, B)\n",
    "# validation:\n",
    "(C1==C_ref).all()"
   ]
  },
  {
   "cell_type": "markdown",
   "metadata": {},
   "source": [
    "# Map\n",
    "\n",
    "DirectViews have a map method, which behaves just like the builtin map,\n",
    "but computed in parallel."
   ]
  },
  {
   "cell_type": "code",
   "execution_count": 27,
   "metadata": {
    "collapsed": false
   },
   "outputs": [
    {
     "data": {
      "text/plain": [
       "False"
      ]
     },
     "execution_count": 27,
     "metadata": {},
     "output_type": "execute_result"
    }
   ],
   "source": [
    "dview.block = True\n",
    "\n",
    "serial_result   =       map(lambda x:x**10, range(32))\n",
    "parallel_result = dview.map(lambda x:x**10, range(32))\n",
    "\n",
    "serial_result==parallel_result"
   ]
  },
  {
   "cell_type": "markdown",
   "metadata": {},
   "source": [
    "`DirectView.map` partitions the sequences onto each engine,\n",
    "and then calls `map` remotely.  The result is always a single\n",
    "IPython task per engine."
   ]
  },
  {
   "cell_type": "code",
   "execution_count": 28,
   "metadata": {
    "collapsed": false
   },
   "outputs": [
    {
     "data": {
      "text/plain": [
       "['f9d72f87-d53e-4cae-ae06-2c300faa962a',\n",
       " '67064a5f-5e22-4442-b2cb-79c2e4b874b9',\n",
       " 'a207f618-0736-43c2-8464-4be900acc34c',\n",
       " 'd36bcee7-0d25-48fb-8f4d-3f459df4633a']"
      ]
     },
     "execution_count": 28,
     "metadata": {},
     "output_type": "execute_result"
    }
   ],
   "source": [
    "amr = dview.map_async(lambda x:x**10, range(32))\n",
    "amr.msg_ids"
   ]
  },
  {
   "cell_type": "markdown",
   "metadata": {},
   "source": [
    "We can see this by splitting a larger input range, we still get the same number of message ids (one per task having been created):"
   ]
  },
  {
   "cell_type": "code",
   "execution_count": 29,
   "metadata": {
    "collapsed": false
   },
   "outputs": [
    {
     "data": {
      "text/plain": [
       "['ba62e62f-85d6-49b2-b3c5-61d9e300693b',\n",
       " '0aeb22a7-0a40-4630-9ee0-1ad5aabbd853',\n",
       " '7c4d4a46-9ccd-403c-b9dc-0ae72286c157',\n",
       " '3c1ed667-e534-408b-88d6-b45ee7d5ffc9']"
      ]
     },
     "execution_count": 29,
     "metadata": {},
     "output_type": "execute_result"
    }
   ],
   "source": [
    "amr = dview.map_async(lambda x:x**10, range(64))\n",
    "amr.msg_ids"
   ]
  },
  {
   "cell_type": "markdown",
   "metadata": {},
   "source": [
    "### Example: Pi via simple Monte Carlo\n",
    "\n",
    "![Monte Carlo Pi](http://docs.picloud.com/_images/basic_example_monte.png)"
   ]
  },
  {
   "cell_type": "code",
   "execution_count": 34,
   "metadata": {
    "collapsed": false
   },
   "outputs": [],
   "source": [
    "def sample_circle(n):\n",
    "    import numpy as np\n",
    "    m = 0\n",
    "    for i in range(int(n)):\n",
    "        p = np.random.rand(2)\n",
    "        if sum(p**2.) <= 1.:\n",
    "            m += 1\n",
    "    return m\n",
    "\n",
    "def brute_pi(n):\n",
    "    m = sample_circle(n)\n",
    "    return 4.* m/n\n",
    "\n",
    "def err(npi):\n",
    "    return 100*abs(np.pi-npi)/np.pi"
   ]
  },
  {
   "cell_type": "code",
   "execution_count": 35,
   "metadata": {
    "collapsed": false
   },
   "outputs": [],
   "source": [
    "n = 5e5"
   ]
  },
  {
   "cell_type": "code",
   "execution_count": 36,
   "metadata": {
    "collapsed": false
   },
   "outputs": [
    {
     "name": "stdout",
     "output_type": "stream",
     "text": [
      "CPU times: user 2.3 s, sys: 27.3 ms, total: 2.32 s\n",
      "Wall time: 2.37 s\n",
      "\n",
      "Error: 0.03%\n"
     ]
    }
   ],
   "source": [
    "%time bpi = brute_pi(n)\n",
    "print(\"\\nError: %.2f%%\" % err(bpi))"
   ]
  },
  {
   "cell_type": "markdown",
   "metadata": {},
   "source": [
    "**Your homework**\n",
    "\n",
    "Write a function `cluster_pi` that uses the cluster to run the computation in parallel (use `brute_pi` as inspiration)."
   ]
  },
  {
   "cell_type": "code",
   "execution_count": 40,
   "metadata": {
    "collapsed": false
   },
   "outputs": [
    {
     "name": "stdout",
     "output_type": "stream",
     "text": [
      "CPU times: user 13.1 ms, sys: 2.74 ms, total: 15.8 ms\n",
      "Wall time: 1.49 s\n"
     ]
    }
   ],
   "source": []
  },
  {
   "cell_type": "code",
   "execution_count": null,
   "metadata": {
    "collapsed": true
   },
   "outputs": [],
   "source": []
  }
 ],
 "metadata": {
  "kernelspec": {
   "display_name": "Python 3",
   "language": "python",
   "name": "python3"
  },
  "language_info": {
   "codemirror_mode": {
    "name": "ipython",
    "version": 3
   },
   "file_extension": ".py",
   "mimetype": "text/x-python",
   "name": "python",
   "nbconvert_exporter": "python",
   "pygments_lexer": "ipython3",
   "version": "3.5.2"
  }
 },
 "nbformat": 4,
 "nbformat_minor": 0
}
