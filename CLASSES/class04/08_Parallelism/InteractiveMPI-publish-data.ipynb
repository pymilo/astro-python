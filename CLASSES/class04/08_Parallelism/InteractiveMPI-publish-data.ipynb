{
 "metadata": {
  "name": ""
 },
 "nbformat": 3,
 "nbformat_minor": 0,
 "worksheets": [
  {
   "cells": [
    {
     "cell_type": "heading",
     "level": 1,
     "metadata": {},
     "source": [
      "Interactive visualization of MPI simulaitons"
     ]
    },
    {
     "cell_type": "markdown",
     "metadata": {},
     "source": [
      "In this example, which builds on our previous one of interactive MPI monitoring, we now demonstrate how to use the IPython data publication APIs."
     ]
    },
    {
     "cell_type": "heading",
     "level": 2,
     "metadata": {},
     "source": [
      "Load IPython support for working with MPI tasks"
     ]
    },
    {
     "cell_type": "markdown",
     "metadata": {},
     "source": [
      "If you have not done so yet, use [the cluster tab in the Dashboard](/#tab2) to start your `mpi` cluster, it should be OK to leave the number of engines field empty (IPython will auto-detect the number of cores on your machine), unless you want to limit the run to use less cores than available in total.  Once your MPI cluster is running, you can proceed with the rest of the code.\n",
      "\n",
      "We begin by creating a cluster client that gives us a local handle on the engines running in the (possibly remote) MPI cluster.  From the client we make a `view` object, which we set to use blocking mode by default as it is more convenient for interactive control.  Since the real computation will be done over MPI without IPython intervention, setting the default behavior to be blocking will have no significant performance impact.\n",
      "\n",
      "**Note:** if on first try the following cell gives you an error message, wait a few seconds and run it again. It's possible that the system is simply initializing all your MPI engines, which may take a bit of time to be completely ready if you hadn't used any MPI libraries recently and the disk cache is cold."
     ]
    },
    {
     "cell_type": "code",
     "collapsed": false,
     "input": [
      "from IPython.parallel import Client, error\n",
      "cluster = Client(profile=\"mpi\")\n",
      "view = cluster[:]\n",
      "view.block = True"
     ],
     "language": "python",
     "metadata": {},
     "outputs": [],
     "prompt_number": 1
    },
    {
     "cell_type": "markdown",
     "metadata": {},
     "source": [
      "Let's also load the plotting and numerical libraries so we have them ready for visualization later on."
     ]
    },
    {
     "cell_type": "code",
     "collapsed": false,
     "input": [
      "%pylab inline"
     ],
     "language": "python",
     "metadata": {},
     "outputs": [
      {
       "output_type": "stream",
       "stream": "stdout",
       "text": [
        "Populating the interactive namespace from numpy and matplotlib\n"
       ]
      }
     ],
     "prompt_number": 2
    },
    {
     "cell_type": "markdown",
     "metadata": {},
     "source": [
      "Now, we load the MPI libraries into the engine namespaces, and do a simple printing of their MPI rank information to verify that all nodes are operational and they match our cluster's real capacity.  \n",
      "\n",
      "Here, we are making use of IPython's special `%%px` cell magic, which marks the entire cell for parallel execution.  This means that the code below will not run in this notebook's kernel, but instead will be sent to *all* engines for execution there.  In this way, IPython makes it very natural to control your entire cluster from within the notebook environment:"
     ]
    },
    {
     "cell_type": "code",
     "collapsed": false,
     "input": [
      "%%px\n",
      "# MPI initialization, library imports and sanity checks on all engines\n",
      "from mpi4py import MPI\n",
      "# Load data publication API so engines can send data to notebook client\n",
      "from IPython.kernel.zmq.datapub import publish_data\n",
      "import numpy as np\n",
      "import time\n",
      "\n",
      "mpi = MPI.COMM_WORLD\n",
      "bcast = mpi.bcast\n",
      "barrier = mpi.barrier\n",
      "rank = mpi.rank\n",
      "print \"MPI rank: %i/%i\" % (mpi.rank,mpi.size)"
     ],
     "language": "python",
     "metadata": {},
     "outputs": [
      {
       "output_type": "stream",
       "stream": "stdout",
       "text": [
        "[stdout:0] MPI rank: 0/4\n",
        "[stdout:1] MPI rank: 1/4\n",
        "[stdout:2] MPI rank: 2/4\n",
        "[stdout:3] MPI rank: 3/4\n"
       ]
      }
     ],
     "prompt_number": 3
    },
    {
     "cell_type": "markdown",
     "metadata": {},
     "source": [
      "We write a utility that reorders a list according to the mpi ranks of the engines, since all gather operations will return data in engine id order, not in MPI rank order.  We'll need this later on when we want to reassemble in IPython data structures coming from all the engines: IPython will collect the data ordered by engine ID, but our code creates data structures based on MPI rank, so we need to map from one indexing scheme to the other.  This simple function does the job:"
     ]
    },
    {
     "cell_type": "code",
     "collapsed": false,
     "input": [
      "ranks = view['rank']\n",
      "engine_mpi = np.argsort(ranks)\n",
      "\n",
      "def mpi_order(seq):\n",
      "    \"\"\"Return elements of a sequence ordered by MPI rank.\n",
      "\n",
      "    The input sequence is assumed to be ordered by engine ID.\"\"\"\n",
      "    return [seq[x] for x in engine_mpi]"
     ],
     "language": "python",
     "metadata": {},
     "outputs": [],
     "prompt_number": 4
    },
    {
     "cell_type": "heading",
     "level": 2,
     "metadata": {},
     "source": [
      "MPI simulation example"
     ]
    },
    {
     "cell_type": "markdown",
     "metadata": {},
     "source": [
      "This is our 'simulation', a toy example that computes $\\sin(f(x^2+y^2))$ for a slowly increasing frequency $f$ over a gradually refined mesh.  In a real-world example, there typically is a 'simulate' method that, afer setting up initial parameters, runs the entire computation.  But having this simple example will be sufficient to see something that changes visually as the computation evolves and that is quick enough for us to test.\n",
      "\n",
      "And while simple, this example has a realistic decomposition of the spatial domain in one array per MPI node that requires care in reordering the data for visualization, as would be needed in a real-world application (unless your code accumulates data in the rank 0 node that you can grab directly)."
     ]
    },
    {
     "cell_type": "code",
     "collapsed": false,
     "input": [
      "%%px\n",
      "\n",
      "# Global flag in the namespace\n",
      "stop = False\n",
      "\n",
      "def simulation(nsteps=100, delay=0.1):\n",
      "    \"\"\"Toy simulation code, computes sin(f*(x**2+y**2)) for a slowly increasing f\n",
      "    over an increasingly fine mesh.\n",
      "\n",
      "    The purpose of this code is simply to illustrate the basic features of a typical\n",
      "    MPI code: spatial domain decomposition, a solution which is evolving in some \n",
      "    sense, and local per-node computation.  In this case the nodes only communicate when \n",
      "    gathering results for publication.\"\"\"\n",
      "    # Problem geometry\n",
      "    xmin, xmax = 0, np.pi\n",
      "    ymin, ymax = 0, 2*np.pi\n",
      "    dy = (ymax-ymin)/mpi.size\n",
      "\n",
      "    freqs = np.linspace(0.6, 1, nsteps)\n",
      "    for j in range(nsteps):\n",
      "        nx, ny = 2+j/4, 2+j/2/mpi.size\n",
      "        nyt = mpi.size*ny\n",
      "        Xax = np.linspace(xmin, xmax, nx)\n",
      "        Yax = np.linspace(ymin+rank*dy, ymin+(rank+1)*dy, ny, endpoint=rank==mpi.size)\n",
      "        X, Y = np.meshgrid(Xax, Yax)\n",
      "        f = freqs[j]\n",
      "        Z = np.cos(f*(X**2 + Y**2))\n",
      "        \n",
      "        # We are now going to publish data to the clients. We take advantage of fast\n",
      "        # MPI communications and gather the Z mesh at the rank 0 node in the Zcat variable:\n",
      "        Zcat = mpi.gather(Z, root=0)\n",
      "        if mpi.rank == 0:\n",
      "            # Then we use numpy's concatenation to construct a single numpy array with the\n",
      "            # full mesh that can be sent to the client for visualization:\n",
      "            Zcat = np.concatenate(Zcat)\n",
      "            # We now can send a dict with the variables we want the client to have access to:\n",
      "            publish_data(dict(Z=Zcat, nx=nx, nyt=nyt, j=j, nsteps=nsteps))\n",
      "            \n",
      "        # We add a small delay to simulate that a real-world computation\n",
      "        # would take much longer, and we ensure all nodes are synchronized\n",
      "        time.sleep(delay)\n",
      "        # The stop flag can be set remotely via IPython, allowing the simulation to be\n",
      "        # cleanly stopped from the outside\n",
      "        if stop:\n",
      "            break"
     ],
     "language": "python",
     "metadata": {},
     "outputs": [],
     "prompt_number": 5
    },
    {
     "cell_type": "heading",
     "level": 2,
     "metadata": {},
     "source": [
      "IPython tools to interactively monitor and plot the MPI results"
     ]
    },
    {
     "cell_type": "markdown",
     "metadata": {},
     "source": [
      "We now define a local (to this notebook) plotting function that fetches data from the engines' global namespace.  Once it has retrieved the current state of the relevant variables, it produces and returns a figure:"
     ]
    },
    {
     "cell_type": "code",
     "collapsed": false,
     "input": [
      "from IPython.display import clear_output\n",
      "\n",
      "def plot_current_results(ar, in_place=True):\n",
      "    \"\"\"Makes a blocking call to retrieve remote data and displays the solution mesh\n",
      "    as a contour plot.\n",
      "    \n",
      "    Parameters\n",
      "    ----------\n",
      "    ar : async result object\n",
      "\n",
      "    in_place : bool\n",
      "        By default it calls clear_output so that new plots replace old ones.  Set\n",
      "        to False to allow keeping of all previous outputs.\n",
      "    \"\"\"\n",
      "    # Read data from MPI rank 0 engine\n",
      "    data = ar.data[engine_mpi[0]]\n",
      "    \n",
      "    try:\n",
      "        nx, nyt, j, nsteps = [data[k] for k in ['nx', 'nyt', 'j', 'nsteps']]\n",
      "        Z = data['Z']\n",
      "    except KeyError:\n",
      "        # This can happen if we read from the engines so quickly that the data \n",
      "        # hasn't arrived yet.\n",
      "        fig, ax = plt.subplots()\n",
      "        ax.plot([])\n",
      "        ax.set_title(\"No data yet\")\n",
      "        display(fig)\n",
      "        return fig\n",
      "    else:\n",
      "    \n",
      "        fig, ax = plt.subplots()\n",
      "        ax.contourf(Z)\n",
      "        ax.set_title('Mesh: %i x %i, step %i/%i' % (nx, nyt, j+1, nsteps))\n",
      "        axis('off')\n",
      "        # We clear the notebook output before plotting this if in-place \n",
      "        # plot updating is requested\n",
      "        if in_place:\n",
      "            clear_output()\n",
      "        display(fig)\n",
      "        \n",
      "        return fig"
     ],
     "language": "python",
     "metadata": {},
     "outputs": [],
     "prompt_number": 6
    },
    {
     "cell_type": "markdown",
     "metadata": {},
     "source": [
      "Finally, this is a convenience wrapper around the plotting code so that we can interrupt monitoring at any point, and that will provide basic timing information:"
     ]
    },
    {
     "cell_type": "code",
     "collapsed": false,
     "input": [
      "def monitor_simulation(ar, refresh=5.0, plots_in_place=True):\n",
      "    \"\"\"Monitor the simulation progress and call plotting routine.\n",
      "\n",
      "    Supress KeyboardInterrupt exception if interrupted, ensure that the last \n",
      "    figure is always displayed and provide basic timing and simulation status.\n",
      "\n",
      "    Parameters\n",
      "    ----------\n",
      "    ar : async result object\n",
      "\n",
      "    refresh : float\n",
      "      Refresh interval between calls to retrieve and plot data.  The default\n",
      "      is 5s, adjust depending on the desired refresh rate, but be aware that \n",
      "      very short intervals will start having a significant impact.\n",
      "\n",
      "    plots_in_place : bool\n",
      "       If true, every new figure replaces the last one, producing a (slow)\n",
      "       animation effect in the notebook.  If false, all frames are plotted\n",
      "       in sequence and appended in the output area.\n",
      "    \"\"\"\n",
      "    import datetime as dt, time\n",
      "    \n",
      "    if ar.ready():\n",
      "        plot_current_results(ar, in_place=plots_in_place)\n",
      "        plt.close('all')\n",
      "        print 'Simulation has already finished, no monitoring to do.'\n",
      "        return\n",
      "    \n",
      "    t0 = dt.datetime.now()\n",
      "    fig = None\n",
      "    try:\n",
      "        while not ar.ready():\n",
      "            fig = plot_current_results(ar, in_place=plots_in_place)\n",
      "            plt.close('all') # prevent re-plot of old figures\n",
      "            time.sleep(refresh)\n",
      "    except (KeyboardInterrupt, error.TimeoutError):\n",
      "        msg = 'Monitoring interrupted, simulation is ongoing!'\n",
      "    else:\n",
      "        msg = 'Simulation completed!'\n",
      "    tmon = dt.datetime.now() - t0\n",
      "    if plots_in_place and fig is not None:\n",
      "        clear_output()\n",
      "        plt.close('all')\n",
      "        display(fig)\n",
      "    print msg\n",
      "    print 'Monitored for: %s.' % tmon"
     ],
     "language": "python",
     "metadata": {},
     "outputs": [],
     "prompt_number": 7
    },
    {
     "cell_type": "heading",
     "level": 2,
     "metadata": {},
     "source": [
      "Interactive monitoring in the client of the published data"
     ]
    },
    {
     "cell_type": "markdown",
     "metadata": {},
     "source": [
      "Now, we can monitor the published data. We submit the simulation for execution as an asynchronous task, and then monitor this task at any frequency we desire."
     ]
    },
    {
     "cell_type": "code",
     "collapsed": false,
     "input": [
      "# Create the local client that controls our IPython cluster with MPI support\n",
      "from IPython.parallel import Client\n",
      "cluster = Client(profile=\"mpi\")\n",
      "# We make a view that encompasses all the engines\n",
      "view = cluster[:]\n",
      "# And now we call on all available nodes our simulation routine,\n",
      "# as an asynchronous task\n",
      "nsteps = 10\n",
      "delay = 0.1\n",
      "ar = view.apply_async(lambda : simulation(nsteps, delay))"
     ],
     "language": "python",
     "metadata": {},
     "outputs": [],
     "prompt_number": 11
    },
    {
     "cell_type": "code",
     "collapsed": false,
     "input": [
      "monitor_simulation(ar, refresh=1)"
     ],
     "language": "python",
     "metadata": {},
     "outputs": [
      {
       "metadata": {},
       "output_type": "display_data",
       "png": "[encoded data removed]",
       "text": [
        "<matplotlib.figure.Figure at 0x471a3d0>"
       ]
      },
      {
       "output_type": "stream",
       "stream": "stdout",
       "text": [
        "Simulation has already finished, no monitoring to do.\n"
       ]
      }
     ],
     "prompt_number": 12
    },
    {
     "cell_type": "code",
     "collapsed": false,
     "input": [],
     "language": "python",
     "metadata": {},
     "outputs": []
    }
   ],
   "metadata": {}
  }
 ]
}